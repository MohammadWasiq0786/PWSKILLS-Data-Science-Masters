{
 "cells": [
  {
   "cell_type": "markdown",
   "id": "337b84d1-ca20-4fd0-aef5-fcf4183783af",
   "metadata": {},
   "source": [
    "![image](https://pwskills.com/images/PWSkills-main.png)\n",
    "\n",
    "# Data Science Masters\n",
    "\n",
    "## Day - 51\n",
    "## Date- 27 March 2023 \n",
    "## Linear Regression - II"
   ]
  },
  {
   "cell_type": "markdown",
   "id": "f1ca635f-794d-4794-abb7-5ca2b80f9fdc",
   "metadata": {},
   "source": [
    "# 1. $R^2$ Square & $R^2$ Adjusted Square\n",
    "\n",
    "# 2. MSE, MAE, RMSE"
   ]
  }
 ],
 "metadata": {
  "kernelspec": {
   "display_name": "Python 3 (ipykernel)",
   "language": "python",
   "name": "python3"
  },
  "language_info": {
   "codemirror_mode": {
    "name": "ipython",
    "version": 3
   },
   "file_extension": ".py",
   "mimetype": "text/x-python",
   "name": "python",
   "nbconvert_exporter": "python",
   "pygments_lexer": "ipython3",
   "version": "3.10.6"
  }
 },
 "nbformat": 4,
 "nbformat_minor": 5
}
