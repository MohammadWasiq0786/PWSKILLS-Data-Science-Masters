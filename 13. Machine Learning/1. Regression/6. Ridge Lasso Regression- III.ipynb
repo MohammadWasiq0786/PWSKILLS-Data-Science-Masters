{
 "cells": [
  {
   "cell_type": "markdown",
   "id": "53877828-2ceb-4de0-9010-5547cfdae793",
   "metadata": {},
   "source": [
    "![image](https://pwskills.com/images/PWSkills-main.png)\n",
    "\n",
    "# Data Science Masters\n",
    "\n",
    "## Day - 52\n",
    "## Date- 28 March 2023 \n",
    "## Regression - III\n",
    "\n",
    "# 1. Ridge Regression"
   ]
  },
  {
   "cell_type": "markdown",
   "id": "cd48eaf7-6446-4e71-b87b-ba9679f1d5e3",
   "metadata": {},
   "source": [
    "![image](https://pwskills.com/images/PWSkills-main.png)\n",
    "\n",
    "# Data Science Masters\n",
    "\n",
    "## Day - 53\n",
    "## Date- 29 March 2023 \n",
    "## Regression - IV\n",
    "\n",
    "# 1. LASSO Regression"
   ]
  }
 ],
 "metadata": {
  "kernelspec": {
   "display_name": "Python 3 (ipykernel)",
   "language": "python",
   "name": "python3"
  },
  "language_info": {
   "codemirror_mode": {
    "name": "ipython",
    "version": 3
   },
   "file_extension": ".py",
   "mimetype": "text/x-python",
   "name": "python",
   "nbconvert_exporter": "python",
   "pygments_lexer": "ipython3",
   "version": "3.10.6"
  }
 },
 "nbformat": 4,
 "nbformat_minor": 5
}
