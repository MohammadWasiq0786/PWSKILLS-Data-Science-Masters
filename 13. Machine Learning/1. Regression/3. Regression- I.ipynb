{
 "cells": [
  {
   "cell_type": "markdown",
   "id": "3efdc725-626e-4954-a54e-dd492c0ef4ef",
   "metadata": {},
   "source": [
    "![image](https://pwskills.com/images/PWSkills-main.png)\n",
    "\n",
    "# Data Science Masters\n",
    "\n",
    "## Day - 50\n",
    "## Date- 26 March 2023 \n",
    "## Linear Regression - I"
   ]
  },
  {
   "cell_type": "markdown",
   "id": "da4a0846-1e40-4f30-82d9-905baa4923c9",
   "metadata": {},
   "source": [
    "# 1. Simple Linear Regression\n",
    "\n",
    "# 2. Multiple Linear Regression\n",
    "\n",
    "# 3. Polynomial Regression"
   ]
  }
 ],
 "metadata": {
  "kernelspec": {
   "display_name": "Python 3 (ipykernel)",
   "language": "python",
   "name": "python3"
  },
  "language_info": {
   "codemirror_mode": {
    "name": "ipython",
    "version": 3
   },
   "file_extension": ".py",
   "mimetype": "text/x-python",
   "name": "python",
   "nbconvert_exporter": "python",
   "pygments_lexer": "ipython3",
   "version": "3.10.6"
  }
 },
 "nbformat": 4,
 "nbformat_minor": 5
}
