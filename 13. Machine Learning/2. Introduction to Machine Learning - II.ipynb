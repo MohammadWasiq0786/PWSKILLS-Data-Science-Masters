{
 "cells": [
  {
   "cell_type": "markdown",
   "id": "fe8bffb1-0418-4749-935e-b2151f5d033a",
   "metadata": {},
   "source": [
    "![image](https://pwskills.com/images/PWSkills-main.png)\n",
    "\n",
    "# Data Science Masters\n",
    "\n",
    "## Day - 41\n",
    "## Date- 16 March 2023 \n",
    "## Introduction to Machine Learning - II"
   ]
  },
  {
   "cell_type": "markdown",
   "id": "62f5b197-9f89-43fe-8fb7-6275dd2a0fd6",
   "metadata": {},
   "source": [
    "# 1. Overfitting, Underfitting, Bias Variance\n",
    "\n",
    "## 1.1 Model Performance\n",
    "**High Accuracy**\n",
    "\n",
    "## 1.2 Overfitting\n",
    "**Books** $\\rightarrow$ **Train** $\\rightarrow$ **Model is Trained** $\\rightarrow$ **High Accuracy** $\\rightarrow$ $95\\%$\n",
    "\n",
    "**Exam** $\\rightarrow$ **Test** $\\rightarrow$ **Model is Tested** $\\rightarrow$ **Low Accuracy** $\\rightarrow$ $60\\%$\n",
    "\n",
    "$\\bf{\\text{Overfitting ---> Low Bias, High Variance}}$\n",
    "\n",
    "## 1.3 Underfitting\n",
    "**Train** $\\rightarrow$ **Low Accuracy** $\\rightarrow$ $55\\%$\n",
    "\n",
    "**Test** $\\rightarrow$ **Low Accuracy** $\\rightarrow$ $50\\%$\n",
    "\n",
    "$\\bf{\\text{Underfitting ---> High Bias, High Variance}}$\n",
    "\n",
    "## 1.4 Generalized Model\n",
    "**Train** $\\rightarrow$ **High Accuracy**\n",
    "\n",
    "**Test** $\\rightarrow$ **High Accuracy**\n",
    "\n",
    "$\\bf{\\text{Low Bias, Low Variance}}$\n",
    "\n",
    "![img](https://sebastianraschka.com/images/blog/2016/model-evaluation-selection-part2/visual_bias_variance.png)\n",
    "\n",
    "![bvt](https://th.bing.com/th/id/R.f29d1c91dfcff7a0d7a23e2d79461213?rik=7k%2bFEjWVurBIKA&pid=ImgRaw&r=0)"
   ]
  }
 ],
 "metadata": {
  "kernelspec": {
   "display_name": "Python 3 (ipykernel)",
   "language": "python",
   "name": "python3"
  },
  "language_info": {
   "codemirror_mode": {
    "name": "ipython",
    "version": 3
   },
   "file_extension": ".py",
   "mimetype": "text/x-python",
   "name": "python",
   "nbconvert_exporter": "python",
   "pygments_lexer": "ipython3",
   "version": "3.10.6"
  }
 },
 "nbformat": 4,
 "nbformat_minor": 5
}
