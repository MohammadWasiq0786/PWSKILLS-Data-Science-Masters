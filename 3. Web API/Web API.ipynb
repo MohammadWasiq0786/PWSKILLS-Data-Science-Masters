{
 "cells": [
  {
   "cell_type": "markdown",
   "id": "3a4955f6-e244-4376-993b-5e9fd99d7d59",
   "metadata": {},
   "source": [
    "![image](https://pwskills.com/images/PWSkills-main.png)\n",
    "\n",
    "# Data Science Masters\n",
    "\n",
    "## Day - 18\n",
    "## Date- 18 February 2023 \n",
    "## Web API"
   ]
  },
  {
   "cell_type": "markdown",
   "id": "59711cb6-7da4-4e75-bc0a-fa72cf6e75d3",
   "metadata": {},
   "source": [
    "# 1. Restful Services\n",
    "\n",
    "RESTful services, also known as RESTful APIs, are web services that follow the REST architectural style REST stands for Representational State Transfer, which is a set of principles for building web services that use HTTP (Hypertext Transfer Protocol) as the communication protocol.\n",
    "\n",
    "RESTful services are based on the following principles:\n",
    "\n",
    "## 1.1 Client-Server Architecture\n",
    "The client and server are separated, allowing them to evolve independently.\n",
    "\n",
    "## 1.2 Stateless\n",
    "Each request sent to the server contains all the information needed to complete the request. The server does not maintain any client context between requests.\n",
    "\n",
    "## 1.3 Cacheable\n",
    "Responses from the server can be cached to improve performance.\n",
    "\n",
    "## 1.4 Uniform Interface\n",
    "RESTful services use a uniform interface consisting of resources, HTTP verbs (GET, POST, PUT, DELETE). and hypermedia links.\n",
    "\n",
    "## 1.5 Layered System\n",
    "RESTful services can be composed of multiple layers, allowing for scalability, flexibility, and security."
   ]
  }
 ],
 "metadata": {
  "kernelspec": {
   "display_name": "Python 3 (ipykernel)",
   "language": "python",
   "name": "python3"
  },
  "language_info": {
   "codemirror_mode": {
    "name": "ipython",
    "version": 3
   },
   "file_extension": ".py",
   "mimetype": "text/x-python",
   "name": "python",
   "nbconvert_exporter": "python",
   "pygments_lexer": "ipython3",
   "version": "3.10.6"
  }
 },
 "nbformat": 4,
 "nbformat_minor": 5
}
