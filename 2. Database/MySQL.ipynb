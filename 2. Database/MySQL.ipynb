{
 "cells": [
  {
   "cell_type": "markdown",
   "id": "9685ab45-d2ba-4ae8-b21f-aa6f4725b9b7",
   "metadata": {},
   "source": [
    "![image](https://pwskills.com/images/PWSkills-main.png)\n",
    "\n",
    "# Data Science Masters\n",
    "\n",
    "## Day - 16\n",
    "## Date- 16 February 2023 \n",
    "## MySQL"
   ]
  },
  {
   "cell_type": "markdown",
   "id": "603bc301-2543-4622-b825-e4a8b3c7d671",
   "metadata": {},
   "source": [
    "# 1. Create Database\n",
    "```python\n",
    "import mysql.connector\n",
    "mydb = mysql.connector.connect(\n",
    "  host=\"localhost\",\n",
    "  user=\"abc\",\n",
    "  password=\"password\"\n",
    ")\n",
    "mycursor = mydb.cursor()\n",
    "mycursor.execute(\"CREATE DATABASE if not exists test2\")\n",
    "mydb.close()\n",
    "```"
   ]
  },
  {
   "cell_type": "markdown",
   "id": "e9ef8b68-1b83-4afc-b16c-ff6d163b880f",
   "metadata": {},
   "source": [
    "# 2. Create Table\n",
    "```python\n",
    "import mysql.connector\n",
    "mydb = mysql.connector.connect(\n",
    "  host=\"localhost\",\n",
    "  user=\"abc\",\n",
    "  password=\"password\"\n",
    ")\n",
    "mycursor = mydb.cursor()\n",
    "mycursor.execute(\"CREATE TABLE if not exists  test2.test_table(c1 INT , c2 VARCHAR(50) , c3 FLOAT , c4 INT , c5 VARCHAR(30))\")\n",
    "mydb.close()\n",
    "```"
   ]
  },
  {
   "cell_type": "markdown",
   "id": "bd93b89a-47f5-47f4-a23c-4e58f1bb2a28",
   "metadata": {},
   "source": [
    "# 3. Create Table\n",
    "```python\n",
    "import mysql.connector\n",
    "mydb = mysql.connector.connect(\n",
    "  host=\"localhost\",\n",
    "  user=\"abc\",\n",
    "  password=\"password\"\n",
    ")\n",
    "mycursor = mydb.cursor()\n",
    "mycursor.execute(\"insert into test2.test_table values(123 , 'sudh' , 234.45,234 ,'kumar')\")\n",
    "mycursor.execute(\"insert into test2.test_table values(123 , 'sudh' , 234.45,234 ,'kumar')\")\n",
    "mycursor.execute(\"insert into test2.test_table values(123 , 'sudh' , 234.45,234 ,'kumar')\")\n",
    "mycursor.execute(\"insert into test2.test_table values(123 , 'sudh' , 234.45,234 ,'kumar')\")\n",
    "mycursor.execute(\"insert into test2.test_table values(123 , 'sudh' , 234.45,234 ,'kumar')\")\n",
    "mycursor.execute(\"insert into test2.test_table values(123 , 'sudh' , 234.45,234 ,'kumar')\")\n",
    "mycursor.execute(\"insert into test2.test_table values(123 , 'sudh' , 234.45,234 ,'kumar')\")\n",
    "mycursor.execute(\"insert into test2.test_table values(123 , 'sudh' , 234.45,234 ,'kumar')\")\n",
    "mycursor.execute(\"insert into test2.test_table values(123 , 'sudh' , 234.45,234 ,'kumar')\")\n",
    "mycursor.execute(\"insert into test2.test_table values(123 , 'sudh' , 234.45,234 ,'kumar')\")\n",
    "mycursor.execute(\"insert into test2.test_table values(123 , 'sudh' , 234.45,234 ,'kumar')\")\n",
    "mycursor.execute(\"insert into test2.test_table values(123 , 'sudh' , 234.45,234 ,'kumar')\")\n",
    "mycursor.execute(\"insert into test2.test_table values(123 , 'sudh' , 234.45,234 ,'kumar')\")\n",
    "mycursor.execute(\"insert into test2.test_table values(123 , 'sudh' , 234.45,234 ,'kumar')\")\n",
    "mydb.commit()\n",
    "mydb.close()\n",
    "```"
   ]
  },
  {
   "cell_type": "markdown",
   "id": "f382b2f5-b79f-4986-898c-24ad5052a780",
   "metadata": {},
   "source": [
    "# 4. Query\n",
    "```python\n",
    "import mysql.connector\n",
    "mydb = mysql.connector.connect(\n",
    "  host=\"localhost\",\n",
    "  user=\"abc\",\n",
    "  password=\"password\"\n",
    ")\n",
    "mycursor = mydb.cursor()\n",
    "#mycursor.execute(\"select * from test2.test_table\")\n",
    "mycursor.execute(\"select c1 , c5 from test2.test_table\")\n",
    "for i in mycursor.fetchall() : \n",
    "    print(i)\n",
    "\n",
    "mydb.close()\n",
    "```"
   ]
  }
 ],
 "metadata": {
  "kernelspec": {
   "display_name": "Python 3 (ipykernel)",
   "language": "python",
   "name": "python3"
  },
  "language_info": {
   "codemirror_mode": {
    "name": "ipython",
    "version": 3
   },
   "file_extension": ".py",
   "mimetype": "text/x-python",
   "name": "python",
   "nbconvert_exporter": "python",
   "pygments_lexer": "ipython3",
   "version": "3.10.6"
  }
 },
 "nbformat": 4,
 "nbformat_minor": 5
}
