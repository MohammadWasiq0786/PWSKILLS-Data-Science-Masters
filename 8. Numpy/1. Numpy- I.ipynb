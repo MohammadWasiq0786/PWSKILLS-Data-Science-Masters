{
 "cells": [
  {
   "cell_type": "markdown",
   "id": "3b0525cd-8e4d-4f80-bafb-e9d574c2a1eb",
   "metadata": {},
   "source": [
    "![image](https://pwskills.com/images/PWSkills-main.png)\n",
    "\n",
    "# Data Science Masters\n",
    "\n",
    "## Day - 26\n",
    "## Date- 26 February 2023 \n",
    "## Numpy - I"
   ]
  },
  {
   "cell_type": "code",
   "execution_count": 1,
   "id": "bb5f01f5-4f36-4e90-a4f1-24b7d3889725",
   "metadata": {},
   "outputs": [],
   "source": [
    "import numpy as np"
   ]
  },
  {
   "cell_type": "code",
   "execution_count": 2,
   "id": "f634285d-a871-49b9-b766-76d57a6f378a",
   "metadata": {},
   "outputs": [],
   "source": [
    "l= [1, 2, 3, 4]"
   ]
  },
  {
   "cell_type": "code",
   "execution_count": 3,
   "id": "6857265b-0124-4fec-aee0-74c0b0c105f7",
   "metadata": {},
   "outputs": [],
   "source": [
    "ar= np.array(l)"
   ]
  },
  {
   "cell_type": "code",
   "execution_count": 4,
   "id": "7402cc20-1cc2-4433-9fef-ed47f71e85b0",
   "metadata": {},
   "outputs": [
    {
     "data": {
      "text/plain": [
       "array([1, 2, 3, 4])"
      ]
     },
     "execution_count": 4,
     "metadata": {},
     "output_type": "execute_result"
    }
   ],
   "source": [
    "ar"
   ]
  },
  {
   "cell_type": "code",
   "execution_count": 5,
   "id": "18a6c69f-24e3-4614-88c3-5c5bfe62bbfc",
   "metadata": {},
   "outputs": [
    {
     "data": {
      "text/plain": [
       "numpy.ndarray"
      ]
     },
     "execution_count": 5,
     "metadata": {},
     "output_type": "execute_result"
    }
   ],
   "source": [
    "type(ar)"
   ]
  },
  {
   "cell_type": "code",
   "execution_count": 6,
   "id": "0b30a3c2-efd8-4f59-bc12-88eb44dee98e",
   "metadata": {},
   "outputs": [
    {
     "data": {
      "text/plain": [
       "array([[1, 2],\n",
       "       [3, 4]])"
      ]
     },
     "execution_count": 6,
     "metadata": {},
     "output_type": "execute_result"
    }
   ],
   "source": [
    "np.array([[1,2], [3,4]])"
   ]
  },
  {
   "cell_type": "code",
   "execution_count": 7,
   "id": "79e702b8-dbc6-4548-80d0-734c8579de9e",
   "metadata": {},
   "outputs": [
    {
     "data": {
      "text/plain": [
       "array([1, 2, 3, 4])"
      ]
     },
     "execution_count": 7,
     "metadata": {},
     "output_type": "execute_result"
    }
   ],
   "source": [
    "np.asarray(l)"
   ]
  },
  {
   "cell_type": "code",
   "execution_count": 8,
   "id": "3915cb9b-f264-4495-a9c4-c25d18f64c60",
   "metadata": {},
   "outputs": [],
   "source": [
    "a= [2, 3, 4]"
   ]
  },
  {
   "cell_type": "code",
   "execution_count": 9,
   "id": "31b88237-5e24-4154-9c64-916c0a9fd6c0",
   "metadata": {},
   "outputs": [
    {
     "data": {
      "text/plain": [
       "array([2, 3, 4])"
      ]
     },
     "execution_count": 9,
     "metadata": {},
     "output_type": "execute_result"
    }
   ],
   "source": [
    "np.asanyarray(a)"
   ]
  },
  {
   "cell_type": "code",
   "execution_count": 10,
   "id": "b6cddc4f-d960-4925-a553-623b0a8ff541",
   "metadata": {},
   "outputs": [],
   "source": [
    "b= np.matrix(l)"
   ]
  },
  {
   "cell_type": "code",
   "execution_count": 11,
   "id": "7c9464fb-06a8-4c16-aebe-761f96979974",
   "metadata": {},
   "outputs": [
    {
     "data": {
      "text/plain": [
       "matrix([[1, 2, 3, 4]])"
      ]
     },
     "execution_count": 11,
     "metadata": {},
     "output_type": "execute_result"
    }
   ],
   "source": [
    "b"
   ]
  },
  {
   "cell_type": "code",
   "execution_count": 12,
   "id": "51cedef8-ff07-48cd-a1eb-35ac18f991c7",
   "metadata": {},
   "outputs": [
    {
     "data": {
      "text/plain": [
       "matrix([[1, 2, 3, 4]])"
      ]
     },
     "execution_count": 12,
     "metadata": {},
     "output_type": "execute_result"
    }
   ],
   "source": [
    "np.asanyarray(b)"
   ]
  },
  {
   "cell_type": "code",
   "execution_count": 13,
   "id": "ad27ec1e-c010-4bb8-a278-6125a81fb91c",
   "metadata": {},
   "outputs": [],
   "source": [
    "a = np.array(l)"
   ]
  },
  {
   "cell_type": "code",
   "execution_count": 14,
   "id": "3db65dc5-fa99-4f0a-89d7-1f6eaf775b05",
   "metadata": {},
   "outputs": [
    {
     "data": {
      "text/plain": [
       "array([1, 2, 3, 4])"
      ]
     },
     "execution_count": 14,
     "metadata": {},
     "output_type": "execute_result"
    }
   ],
   "source": [
    "a"
   ]
  },
  {
   "cell_type": "code",
   "execution_count": 15,
   "id": "ff3d2a1d-b052-4db3-99d6-a3501a75d027",
   "metadata": {},
   "outputs": [],
   "source": [
    "c= a  "
   ]
  },
  {
   "cell_type": "code",
   "execution_count": 16,
   "id": "642648bb-33b0-4c5d-a0bc-b1784a6a5771",
   "metadata": {},
   "outputs": [
    {
     "data": {
      "text/plain": [
       "array([1, 2, 3, 4])"
      ]
     },
     "execution_count": 16,
     "metadata": {},
     "output_type": "execute_result"
    }
   ],
   "source": [
    "c"
   ]
  },
  {
   "cell_type": "code",
   "execution_count": 17,
   "id": "2dee9b26-17af-4401-bf74-a48888d973c8",
   "metadata": {},
   "outputs": [
    {
     "data": {
      "text/plain": [
       "array([1, 2, 3, 4])"
      ]
     },
     "execution_count": 17,
     "metadata": {},
     "output_type": "execute_result"
    }
   ],
   "source": [
    "a"
   ]
  },
  {
   "cell_type": "code",
   "execution_count": 18,
   "id": "dd679803-09e1-453a-b908-590fe870373a",
   "metadata": {},
   "outputs": [],
   "source": [
    "c[0]= 100"
   ]
  },
  {
   "cell_type": "code",
   "execution_count": 19,
   "id": "d0cd8ae4-1236-44d5-8b46-2adbecfaa10e",
   "metadata": {},
   "outputs": [
    {
     "data": {
      "text/plain": [
       "array([100,   2,   3,   4])"
      ]
     },
     "execution_count": 19,
     "metadata": {},
     "output_type": "execute_result"
    }
   ],
   "source": [
    "c"
   ]
  },
  {
   "cell_type": "code",
   "execution_count": 20,
   "id": "97a614a1-8294-4fdc-b987-11f7da36d097",
   "metadata": {},
   "outputs": [
    {
     "data": {
      "text/plain": [
       "array([100,   2,   3,   4])"
      ]
     },
     "execution_count": 20,
     "metadata": {},
     "output_type": "execute_result"
    }
   ],
   "source": [
    "a"
   ]
  },
  {
   "cell_type": "code",
   "execution_count": 21,
   "id": "6017d819-96e2-4627-aa03-92899e0683d1",
   "metadata": {},
   "outputs": [],
   "source": [
    "d= np.copy(a)"
   ]
  },
  {
   "cell_type": "code",
   "execution_count": 22,
   "id": "a13b8fe3-a407-416d-841f-713485253d3a",
   "metadata": {},
   "outputs": [
    {
     "data": {
      "text/plain": [
       "array([100,   2,   3,   4])"
      ]
     },
     "execution_count": 22,
     "metadata": {},
     "output_type": "execute_result"
    }
   ],
   "source": [
    "d"
   ]
  },
  {
   "cell_type": "code",
   "execution_count": 23,
   "id": "74102a9e-8530-4897-a8c4-7a71920d90c6",
   "metadata": {},
   "outputs": [
    {
     "data": {
      "text/plain": [
       "array([100,   2,   3,   4])"
      ]
     },
     "execution_count": 23,
     "metadata": {},
     "output_type": "execute_result"
    }
   ],
   "source": [
    "a"
   ]
  },
  {
   "cell_type": "code",
   "execution_count": 24,
   "id": "a38ddfd1-82f7-4b34-94aa-99aa36206e4e",
   "metadata": {},
   "outputs": [],
   "source": [
    "a[1]= 400"
   ]
  },
  {
   "cell_type": "code",
   "execution_count": 25,
   "id": "7d685d0f-ee2f-4e31-9380-401958edf2cd",
   "metadata": {},
   "outputs": [
    {
     "data": {
      "text/plain": [
       "array([100, 400,   3,   4])"
      ]
     },
     "execution_count": 25,
     "metadata": {},
     "output_type": "execute_result"
    }
   ],
   "source": [
    "a"
   ]
  },
  {
   "cell_type": "code",
   "execution_count": 26,
   "id": "1ac4a42b-0d23-4406-ab20-fd96f2851abe",
   "metadata": {},
   "outputs": [
    {
     "data": {
      "text/plain": [
       "array([100,   2,   3,   4])"
      ]
     },
     "execution_count": 26,
     "metadata": {},
     "output_type": "execute_result"
    }
   ],
   "source": [
    "d"
   ]
  },
  {
   "cell_type": "code",
   "execution_count": 27,
   "id": "ecb07af1-ae2b-4e17-85d0-11260b35f4c1",
   "metadata": {},
   "outputs": [
    {
     "data": {
      "text/plain": [
       "array([[ True, False, False],\n",
       "       [False,  True, False],\n",
       "       [False, False,  True]])"
      ]
     },
     "execution_count": 27,
     "metadata": {},
     "output_type": "execute_result"
    }
   ],
   "source": [
    "np.fromfunction(lambda i, j : i==j , (3,3))"
   ]
  },
  {
   "cell_type": "code",
   "execution_count": 28,
   "id": "3ddba112-515e-406e-bb4a-30630a81e8a9",
   "metadata": {},
   "outputs": [
    {
     "data": {
      "text/plain": [
       "array([[0., 0., 0.],\n",
       "       [0., 1., 2.],\n",
       "       [0., 2., 4.]])"
      ]
     },
     "execution_count": 28,
     "metadata": {},
     "output_type": "execute_result"
    }
   ],
   "source": [
    "np.fromfunction(lambda i, j : i*j , (3,3))"
   ]
  },
  {
   "cell_type": "code",
   "execution_count": 29,
   "id": "f7920ace-5c90-45a6-9e84-0de6c0c2fee8",
   "metadata": {},
   "outputs": [],
   "source": [
    "iterable = (i*i for i in range(5))"
   ]
  },
  {
   "cell_type": "code",
   "execution_count": 30,
   "id": "2625a660-2f8d-4620-8e3c-59dc58137077",
   "metadata": {},
   "outputs": [
    {
     "data": {
      "text/plain": [
       "array([ 0.,  1.,  4.,  9., 16.])"
      ]
     },
     "execution_count": 30,
     "metadata": {},
     "output_type": "execute_result"
    }
   ],
   "source": [
    "np.fromiter(iterable,float)"
   ]
  },
  {
   "cell_type": "code",
   "execution_count": 31,
   "id": "c2478390-df95-48b1-a255-9fdc9a65b24b",
   "metadata": {},
   "outputs": [
    {
     "data": {
      "text/plain": [
       "array([234., 234.])"
      ]
     },
     "execution_count": 31,
     "metadata": {},
     "output_type": "execute_result"
    }
   ],
   "source": [
    "np.fromstring('234 234' , sep= ' ')"
   ]
  },
  {
   "cell_type": "code",
   "execution_count": 32,
   "id": "fbf7e044-35f2-4279-88f1-0c72e4922a72",
   "metadata": {},
   "outputs": [
    {
     "data": {
      "text/plain": [
       "array([4., 5.])"
      ]
     },
     "execution_count": 32,
     "metadata": {},
     "output_type": "execute_result"
    }
   ],
   "source": [
    "np.fromstring('4,5' , sep= ',')"
   ]
  },
  {
   "cell_type": "markdown",
   "id": "28bf545a-254c-42be-92ac-dfc733b5f437",
   "metadata": {},
   "source": [
    "## Numpy - Data Types."
   ]
  },
  {
   "cell_type": "code",
   "execution_count": 33,
   "id": "2413012c-1feb-49fd-88d5-ba14dd5fab8d",
   "metadata": {},
   "outputs": [],
   "source": [
    "l= [2, 3, 4, 5, 6]"
   ]
  },
  {
   "cell_type": "code",
   "execution_count": 34,
   "id": "bf598728-6398-4991-baa6-18a0b34b48f6",
   "metadata": {},
   "outputs": [],
   "source": [
    "ar= np.array(l)"
   ]
  },
  {
   "cell_type": "code",
   "execution_count": 35,
   "id": "57fe1427-583e-48ca-adc8-c8beb5641931",
   "metadata": {},
   "outputs": [
    {
     "data": {
      "text/plain": [
       "array([2, 3, 4, 5, 6])"
      ]
     },
     "execution_count": 35,
     "metadata": {},
     "output_type": "execute_result"
    }
   ],
   "source": [
    "ar"
   ]
  },
  {
   "cell_type": "code",
   "execution_count": 36,
   "id": "aa9b5aa2-6c7a-4805-9130-b75a6456991c",
   "metadata": {},
   "outputs": [
    {
     "data": {
      "text/plain": [
       "1"
      ]
     },
     "execution_count": 36,
     "metadata": {},
     "output_type": "execute_result"
    }
   ],
   "source": [
    "ar.ndim"
   ]
  },
  {
   "cell_type": "code",
   "execution_count": 37,
   "id": "b2e28e1a-69f2-49c2-9390-1d99f735b26d",
   "metadata": {},
   "outputs": [],
   "source": [
    "ar2= np.array([[1,2,3,4], [2,3,4,5]])"
   ]
  },
  {
   "cell_type": "code",
   "execution_count": 38,
   "id": "546a23ff-27a7-4cb5-bef8-c431d8505e6d",
   "metadata": {},
   "outputs": [
    {
     "data": {
      "text/plain": [
       "array([[1, 2, 3, 4],\n",
       "       [2, 3, 4, 5]])"
      ]
     },
     "execution_count": 38,
     "metadata": {},
     "output_type": "execute_result"
    }
   ],
   "source": [
    "ar2"
   ]
  },
  {
   "cell_type": "code",
   "execution_count": 39,
   "id": "a69d96c2-7345-483e-9063-127bbdab0a37",
   "metadata": {},
   "outputs": [
    {
     "data": {
      "text/plain": [
       "2"
      ]
     },
     "execution_count": 39,
     "metadata": {},
     "output_type": "execute_result"
    }
   ],
   "source": [
    "ar2.ndim"
   ]
  },
  {
   "cell_type": "code",
   "execution_count": 40,
   "id": "fda20167-4f95-42f9-8846-8c2f0726287c",
   "metadata": {},
   "outputs": [
    {
     "data": {
      "text/plain": [
       "5"
      ]
     },
     "execution_count": 40,
     "metadata": {},
     "output_type": "execute_result"
    }
   ],
   "source": [
    "ar.size"
   ]
  },
  {
   "cell_type": "code",
   "execution_count": 41,
   "id": "fd802008-0428-48b2-b3b4-bff11f059298",
   "metadata": {},
   "outputs": [
    {
     "data": {
      "text/plain": [
       "8"
      ]
     },
     "execution_count": 41,
     "metadata": {},
     "output_type": "execute_result"
    }
   ],
   "source": [
    "ar2.size"
   ]
  },
  {
   "cell_type": "code",
   "execution_count": 42,
   "id": "04aae56c-ed8c-4538-85c8-d8ecf2f5d940",
   "metadata": {},
   "outputs": [
    {
     "data": {
      "text/plain": [
       "array([2, 3, 4, 5, 6])"
      ]
     },
     "execution_count": 42,
     "metadata": {},
     "output_type": "execute_result"
    }
   ],
   "source": [
    "ar"
   ]
  },
  {
   "cell_type": "code",
   "execution_count": 43,
   "id": "aebe1f2a-f153-4d9d-b09e-04f41ecbf987",
   "metadata": {},
   "outputs": [
    {
     "data": {
      "text/plain": [
       "array([[1, 2, 3, 4],\n",
       "       [2, 3, 4, 5]])"
      ]
     },
     "execution_count": 43,
     "metadata": {},
     "output_type": "execute_result"
    }
   ],
   "source": [
    "ar2"
   ]
  },
  {
   "cell_type": "code",
   "execution_count": 44,
   "id": "6c9e6eb4-7044-4c70-9847-c7de69c71881",
   "metadata": {},
   "outputs": [
    {
     "data": {
      "text/plain": [
       "(5,)"
      ]
     },
     "execution_count": 44,
     "metadata": {},
     "output_type": "execute_result"
    }
   ],
   "source": [
    "ar.shape"
   ]
  },
  {
   "cell_type": "code",
   "execution_count": 45,
   "id": "467ad9d2-e87e-4ba5-8701-2687fad85555",
   "metadata": {},
   "outputs": [
    {
     "data": {
      "text/plain": [
       "(2, 4)"
      ]
     },
     "execution_count": 45,
     "metadata": {},
     "output_type": "execute_result"
    }
   ],
   "source": [
    "ar2.shape"
   ]
  },
  {
   "cell_type": "code",
   "execution_count": 46,
   "id": "297867d1-f7c6-499b-b504-6efd5a225ebb",
   "metadata": {},
   "outputs": [
    {
     "data": {
      "text/plain": [
       "dtype('int64')"
      ]
     },
     "execution_count": 46,
     "metadata": {},
     "output_type": "execute_result"
    }
   ],
   "source": [
    "ar.dtype"
   ]
  },
  {
   "cell_type": "code",
   "execution_count": 47,
   "id": "69408639-5c50-42c1-b860-1bd7d07ad121",
   "metadata": {},
   "outputs": [
    {
     "data": {
      "text/plain": [
       "dtype('int64')"
      ]
     },
     "execution_count": 47,
     "metadata": {},
     "output_type": "execute_result"
    }
   ],
   "source": [
    "ar2.dtype\n"
   ]
  },
  {
   "cell_type": "code",
   "execution_count": 48,
   "id": "f854481b-8b0b-4f23-8485-51996e72962b",
   "metadata": {},
   "outputs": [],
   "source": [
    "ar22= np.array([(1.4,45,45) , (23,45,66)])"
   ]
  },
  {
   "cell_type": "code",
   "execution_count": 49,
   "id": "d7974c33-ad51-4a3f-8b73-566af19d49b7",
   "metadata": {},
   "outputs": [
    {
     "data": {
      "text/plain": [
       "array([[ 1.4, 45. , 45. ],\n",
       "       [23. , 45. , 66. ]])"
      ]
     },
     "execution_count": 49,
     "metadata": {},
     "output_type": "execute_result"
    }
   ],
   "source": [
    "ar22"
   ]
  },
  {
   "cell_type": "code",
   "execution_count": 50,
   "id": "70214aa5-6876-4f7d-85be-5dbd4485c514",
   "metadata": {},
   "outputs": [
    {
     "data": {
      "text/plain": [
       "dtype('float64')"
      ]
     },
     "execution_count": 50,
     "metadata": {},
     "output_type": "execute_result"
    }
   ],
   "source": [
    "ar22.dtype"
   ]
  },
  {
   "cell_type": "code",
   "execution_count": 51,
   "id": "374d8f0f-ea8e-42a6-85d8-aa477cfdc3ba",
   "metadata": {},
   "outputs": [
    {
     "data": {
      "text/plain": [
       "[0, 1, 2, 3, 4]"
      ]
     },
     "execution_count": 51,
     "metadata": {},
     "output_type": "execute_result"
    }
   ],
   "source": [
    "list(range(5))"
   ]
  },
  {
   "cell_type": "code",
   "execution_count": 52,
   "id": "e490c758-c9a1-46a6-b23a-e3b54f155fe9",
   "metadata": {},
   "outputs": [
    {
     "ename": "TypeError",
     "evalue": "'float' object cannot be interpreted as an integer",
     "output_type": "error",
     "traceback": [
      "\u001b[0;31m---------------------------------------------------------------------------\u001b[0m",
      "\u001b[0;31mTypeError\u001b[0m                                 Traceback (most recent call last)",
      "Cell \u001b[0;32mIn [52], line 1\u001b[0m\n\u001b[0;32m----> 1\u001b[0m \u001b[38;5;28mlist\u001b[39m(\u001b[38;5;28;43mrange\u001b[39;49m\u001b[43m(\u001b[49m\u001b[38;5;241;43m0.1\u001b[39;49m\u001b[43m \u001b[49m\u001b[43m,\u001b[49m\u001b[38;5;241;43m5\u001b[39;49m\u001b[43m)\u001b[49m)\n",
      "\u001b[0;31mTypeError\u001b[0m: 'float' object cannot be interpreted as an integer"
     ]
    }
   ],
   "source": [
    "list(range(0.1 ,5))"
   ]
  },
  {
   "cell_type": "code",
   "execution_count": 53,
   "id": "05eba3b5-9bc9-4e65-a96a-bbd458c50253",
   "metadata": {},
   "outputs": [
    {
     "data": {
      "text/plain": [
       "array([2.3, 3.3, 4.3, 5.3])"
      ]
     },
     "execution_count": 53,
     "metadata": {},
     "output_type": "execute_result"
    }
   ],
   "source": [
    "np.arange(2.3,5.6)"
   ]
  },
  {
   "cell_type": "code",
   "execution_count": 54,
   "id": "9920f6ad-81d1-476a-912a-f970e844f12a",
   "metadata": {},
   "outputs": [
    {
     "data": {
      "text/plain": [
       "[2.3,\n",
       " 2.5999999999999996,\n",
       " 2.8999999999999995,\n",
       " 3.1999999999999993,\n",
       " 3.499999999999999,\n",
       " 3.799999999999999,\n",
       " 4.099999999999999,\n",
       " 4.399999999999999,\n",
       " 4.699999999999998,\n",
       " 4.999999999999998,\n",
       " 5.299999999999998]"
      ]
     },
     "execution_count": 54,
     "metadata": {},
     "output_type": "execute_result"
    }
   ],
   "source": [
    "list(np.arange(2.3,5.6,.3))"
   ]
  },
  {
   "cell_type": "code",
   "execution_count": 55,
   "id": "69fd7045-e1f9-4832-80f3-5428d4c6f507",
   "metadata": {},
   "outputs": [
    {
     "data": {
      "text/plain": [
       "array([1.        , 1.44444444, 1.88888889, 2.33333333, 2.77777778,\n",
       "       3.22222222, 3.66666667, 4.11111111, 4.55555556, 5.        ])"
      ]
     },
     "execution_count": 55,
     "metadata": {},
     "output_type": "execute_result"
    }
   ],
   "source": [
    "np.linspace(1,5,10)"
   ]
  },
  {
   "cell_type": "code",
   "execution_count": 56,
   "id": "9840e771-f84c-43a4-bc1e-c948bd5545f7",
   "metadata": {},
   "outputs": [
    {
     "data": {
      "text/plain": [
       "array([0., 0., 0., 0., 0.])"
      ]
     },
     "execution_count": 56,
     "metadata": {},
     "output_type": "execute_result"
    }
   ],
   "source": [
    "np.zeros(5)"
   ]
  },
  {
   "cell_type": "code",
   "execution_count": 57,
   "id": "664e6162-ef45-4957-81e5-df238ff4a02d",
   "metadata": {},
   "outputs": [
    {
     "data": {
      "text/plain": [
       "array([[0., 0., 0., 0.],\n",
       "       [0., 0., 0., 0.],\n",
       "       [0., 0., 0., 0.]])"
      ]
     },
     "execution_count": 57,
     "metadata": {},
     "output_type": "execute_result"
    }
   ],
   "source": [
    "np.zeros((3,4))"
   ]
  },
  {
   "cell_type": "code",
   "execution_count": 58,
   "id": "8bccecd9-e2bd-45df-9a23-282ba8140ea9",
   "metadata": {},
   "outputs": [
    {
     "data": {
      "text/plain": [
       "array([[[0., 0.],\n",
       "        [0., 0.],\n",
       "        [0., 0.],\n",
       "        [0., 0.]],\n",
       "\n",
       "       [[0., 0.],\n",
       "        [0., 0.],\n",
       "        [0., 0.],\n",
       "        [0., 0.]],\n",
       "\n",
       "       [[0., 0.],\n",
       "        [0., 0.],\n",
       "        [0., 0.],\n",
       "        [0., 0.]]])"
      ]
     },
     "execution_count": 58,
     "metadata": {},
     "output_type": "execute_result"
    }
   ],
   "source": [
    "np.zeros((3,4,2))"
   ]
  },
  {
   "cell_type": "code",
   "execution_count": 59,
   "id": "8c7ec3ec-414b-4b38-9335-29b4f222bdc7",
   "metadata": {},
   "outputs": [],
   "source": [
    "ar4 = np.zeros((3,4,2,3))"
   ]
  },
  {
   "cell_type": "code",
   "execution_count": 60,
   "id": "186260c6-2a16-4489-a608-655340fddc73",
   "metadata": {},
   "outputs": [
    {
     "data": {
      "text/plain": [
       "4"
      ]
     },
     "execution_count": 60,
     "metadata": {},
     "output_type": "execute_result"
    }
   ],
   "source": [
    "ar4.ndim\n"
   ]
  },
  {
   "cell_type": "code",
   "execution_count": 61,
   "id": "5012dc58-c2bb-4ccf-b454-329c3c1cdcd3",
   "metadata": {},
   "outputs": [
    {
     "data": {
      "text/plain": [
       "array([[[[0., 0., 0.],\n",
       "         [0., 0., 0.]],\n",
       "\n",
       "        [[0., 0., 0.],\n",
       "         [0., 0., 0.]],\n",
       "\n",
       "        [[0., 0., 0.],\n",
       "         [0., 0., 0.]],\n",
       "\n",
       "        [[0., 0., 0.],\n",
       "         [0., 0., 0.]]],\n",
       "\n",
       "\n",
       "       [[[0., 0., 0.],\n",
       "         [0., 0., 0.]],\n",
       "\n",
       "        [[0., 0., 0.],\n",
       "         [0., 0., 0.]],\n",
       "\n",
       "        [[0., 0., 0.],\n",
       "         [0., 0., 0.]],\n",
       "\n",
       "        [[0., 0., 0.],\n",
       "         [0., 0., 0.]]],\n",
       "\n",
       "\n",
       "       [[[0., 0., 0.],\n",
       "         [0., 0., 0.]],\n",
       "\n",
       "        [[0., 0., 0.],\n",
       "         [0., 0., 0.]],\n",
       "\n",
       "        [[0., 0., 0.],\n",
       "         [0., 0., 0.]],\n",
       "\n",
       "        [[0., 0., 0.],\n",
       "         [0., 0., 0.]]]])"
      ]
     },
     "execution_count": 61,
     "metadata": {},
     "output_type": "execute_result"
    }
   ],
   "source": [
    "ar4"
   ]
  },
  {
   "cell_type": "code",
   "execution_count": 62,
   "id": "31e0cd68-cf95-4d5e-b9ab-d0ace97bc3c7",
   "metadata": {},
   "outputs": [
    {
     "data": {
      "text/plain": [
       "array([1., 1., 1., 1.])"
      ]
     },
     "execution_count": 62,
     "metadata": {},
     "output_type": "execute_result"
    }
   ],
   "source": [
    "np.ones(4)"
   ]
  },
  {
   "cell_type": "code",
   "execution_count": 63,
   "id": "b741630a-5c7b-48d4-9964-abd706bcb1ac",
   "metadata": {},
   "outputs": [
    {
     "data": {
      "text/plain": [
       "array([[1., 1., 1.],\n",
       "       [1., 1., 1.]])"
      ]
     },
     "execution_count": 63,
     "metadata": {},
     "output_type": "execute_result"
    }
   ],
   "source": [
    "np.ones((2, 3))"
   ]
  },
  {
   "cell_type": "code",
   "execution_count": 64,
   "id": "3bce7a48-5228-4d73-af2d-bea6912fe0f7",
   "metadata": {},
   "outputs": [],
   "source": [
    "on= np.ones((2, 3, 2))"
   ]
  },
  {
   "cell_type": "code",
   "execution_count": 65,
   "id": "2f752447-cfed-44b9-b77e-08c29d2b1ab3",
   "metadata": {},
   "outputs": [
    {
     "data": {
      "text/plain": [
       "array([[[6., 6.],\n",
       "        [6., 6.],\n",
       "        [6., 6.]],\n",
       "\n",
       "       [[6., 6.],\n",
       "        [6., 6.],\n",
       "        [6., 6.]]])"
      ]
     },
     "execution_count": 65,
     "metadata": {},
     "output_type": "execute_result"
    }
   ],
   "source": [
    "on + 5"
   ]
  },
  {
   "cell_type": "code",
   "execution_count": 66,
   "id": "5a06e023-b4be-42bb-b3b5-fcf134ee14e7",
   "metadata": {},
   "outputs": [
    {
     "data": {
      "text/plain": [
       "array([[[4., 4.],\n",
       "        [4., 4.],\n",
       "        [4., 4.]],\n",
       "\n",
       "       [[4., 4.],\n",
       "        [4., 4.],\n",
       "        [4., 4.]]])"
      ]
     },
     "execution_count": 66,
     "metadata": {},
     "output_type": "execute_result"
    }
   ],
   "source": [
    "on *4\n"
   ]
  },
  {
   "cell_type": "code",
   "execution_count": 67,
   "id": "9d09ebdb-af46-4b2d-b830-65dade59a6d7",
   "metadata": {},
   "outputs": [
    {
     "data": {
      "text/plain": [
       "array([[0., 0., 0., 1., 1., 1.],\n",
       "       [2., 2., 2., 0., 1., 2.],\n",
       "       [0., 1., 2., 0., 1., 2.]])"
      ]
     },
     "execution_count": 67,
     "metadata": {},
     "output_type": "execute_result"
    }
   ],
   "source": [
    "np.empty((3, 6))"
   ]
  },
  {
   "cell_type": "code",
   "execution_count": 68,
   "id": "d96a21e9-9536-48c2-abb1-8baf5122e228",
   "metadata": {},
   "outputs": [
    {
     "data": {
      "text/plain": [
       "array([[1., 0., 0., 0.],\n",
       "       [0., 1., 0., 0.],\n",
       "       [0., 0., 1., 0.],\n",
       "       [0., 0., 0., 1.]])"
      ]
     },
     "execution_count": 68,
     "metadata": {},
     "output_type": "execute_result"
    }
   ],
   "source": [
    "np.eye(4)"
   ]
  },
  {
   "cell_type": "code",
   "execution_count": 69,
   "id": "e47af07d-7951-4606-a1a3-1f41c0a07199",
   "metadata": {},
   "outputs": [
    {
     "data": {
      "text/plain": [
       "array([2.        , 2.10526316, 2.21052632, 2.31578947, 2.42105263,\n",
       "       2.52631579, 2.63157895, 2.73684211, 2.84210526, 2.94736842,\n",
       "       3.05263158, 3.15789474, 3.26315789, 3.36842105, 3.47368421,\n",
       "       3.57894737, 3.68421053, 3.78947368, 3.89473684, 4.        ])"
      ]
     },
     "execution_count": 69,
     "metadata": {},
     "output_type": "execute_result"
    }
   ],
   "source": [
    "np.linspace(2, 4, 20)"
   ]
  },
  {
   "cell_type": "code",
   "execution_count": 70,
   "id": "4d88d65f-7dd4-4873-932b-7b820ec6df59",
   "metadata": {},
   "outputs": [
    {
     "data": {
      "text/plain": [
       "array([ 4.        ,  5.0396842 ,  6.34960421,  8.        , 10.0793684 ,\n",
       "       12.69920842, 16.        , 20.1587368 , 25.39841683, 32.        ])"
      ]
     },
     "execution_count": 70,
     "metadata": {},
     "output_type": "execute_result"
    }
   ],
   "source": [
    "np.logspace(2, 5, 10, base= 2)"
   ]
  },
  {
   "cell_type": "code",
   "execution_count": 71,
   "id": "aee8101d-4b08-41f6-89c6-bc73c8c54e3a",
   "metadata": {},
   "outputs": [],
   "source": [
    "arr = np.random.randn(3, 4)"
   ]
  },
  {
   "cell_type": "code",
   "execution_count": 72,
   "id": "6d92bb61-b5ca-4b70-90a8-cdeaf08bbaf1",
   "metadata": {},
   "outputs": [],
   "source": [
    "import pandas as pd "
   ]
  },
  {
   "cell_type": "code",
   "execution_count": 73,
   "id": "dbcf4067-1e75-4c0a-b422-1e0f795cad3f",
   "metadata": {},
   "outputs": [
    {
     "data": {
      "text/html": [
       "<div>\n",
       "<style scoped>\n",
       "    .dataframe tbody tr th:only-of-type {\n",
       "        vertical-align: middle;\n",
       "    }\n",
       "\n",
       "    .dataframe tbody tr th {\n",
       "        vertical-align: top;\n",
       "    }\n",
       "\n",
       "    .dataframe thead th {\n",
       "        text-align: right;\n",
       "    }\n",
       "</style>\n",
       "<table border=\"1\" class=\"dataframe\">\n",
       "  <thead>\n",
       "    <tr style=\"text-align: right;\">\n",
       "      <th></th>\n",
       "      <th>0</th>\n",
       "      <th>1</th>\n",
       "      <th>2</th>\n",
       "      <th>3</th>\n",
       "    </tr>\n",
       "  </thead>\n",
       "  <tbody>\n",
       "    <tr>\n",
       "      <th>0</th>\n",
       "      <td>-0.431046</td>\n",
       "      <td>1.172821</td>\n",
       "      <td>1.293044</td>\n",
       "      <td>0.963238</td>\n",
       "    </tr>\n",
       "    <tr>\n",
       "      <th>1</th>\n",
       "      <td>-1.666450</td>\n",
       "      <td>0.124789</td>\n",
       "      <td>1.306670</td>\n",
       "      <td>1.793698</td>\n",
       "    </tr>\n",
       "    <tr>\n",
       "      <th>2</th>\n",
       "      <td>-2.175002</td>\n",
       "      <td>-0.312968</td>\n",
       "      <td>-0.817195</td>\n",
       "      <td>-0.960724</td>\n",
       "    </tr>\n",
       "  </tbody>\n",
       "</table>\n",
       "</div>"
      ],
      "text/plain": [
       "          0         1         2         3\n",
       "0 -0.431046  1.172821  1.293044  0.963238\n",
       "1 -1.666450  0.124789  1.306670  1.793698\n",
       "2 -2.175002 -0.312968 -0.817195 -0.960724"
      ]
     },
     "execution_count": 73,
     "metadata": {},
     "output_type": "execute_result"
    }
   ],
   "source": [
    "pd.DataFrame(arr)"
   ]
  },
  {
   "cell_type": "code",
   "execution_count": 74,
   "id": "af7b32b9-31fd-4b93-aa83-cb929c8f99c2",
   "metadata": {},
   "outputs": [
    {
     "data": {
      "text/plain": [
       "array([[0.81972142, 0.3521492 , 0.97302122, 0.84543185],\n",
       "       [0.24383044, 0.42353264, 0.73645579, 0.62110192],\n",
       "       [0.24621002, 0.90489389, 0.7310567 , 0.26094415]])"
      ]
     },
     "execution_count": 74,
     "metadata": {},
     "output_type": "execute_result"
    }
   ],
   "source": [
    "np.random.rand(3, 4)"
   ]
  },
  {
   "cell_type": "code",
   "execution_count": 75,
   "id": "941e27b3-b9ef-4224-8bdc-7a9afe4dcc00",
   "metadata": {},
   "outputs": [],
   "source": [
    "pd.DataFrame(np.random.randint(1, 110, (300, 400))).to_csv('test.csv')"
   ]
  },
  {
   "cell_type": "code",
   "execution_count": 76,
   "id": "dfa812c4-8c83-40ef-9f2e-15a48862a9e8",
   "metadata": {},
   "outputs": [],
   "source": [
    "arr= np.random.rand(3, 4)"
   ]
  },
  {
   "cell_type": "code",
   "execution_count": 77,
   "id": "924094e5-5b37-470e-b24e-1c1d1ca58ebc",
   "metadata": {},
   "outputs": [
    {
     "data": {
      "text/plain": [
       "array([[0.57362641, 0.44911488, 0.87384372, 0.02698534],\n",
       "       [0.42729951, 0.94778279, 0.17786741, 0.55444866],\n",
       "       [0.22477664, 0.67255129, 0.24179251, 0.54416123]])"
      ]
     },
     "execution_count": 77,
     "metadata": {},
     "output_type": "execute_result"
    }
   ],
   "source": [
    "arr"
   ]
  },
  {
   "cell_type": "code",
   "execution_count": 78,
   "id": "443822b9-b252-4be8-a3f7-590d97616a29",
   "metadata": {},
   "outputs": [
    {
     "data": {
      "text/plain": [
       "array([[0.57362641, 0.44911488],\n",
       "       [0.87384372, 0.02698534],\n",
       "       [0.42729951, 0.94778279],\n",
       "       [0.17786741, 0.55444866],\n",
       "       [0.22477664, 0.67255129],\n",
       "       [0.24179251, 0.54416123]])"
      ]
     },
     "execution_count": 78,
     "metadata": {},
     "output_type": "execute_result"
    }
   ],
   "source": [
    "arr.reshape(6, -1)"
   ]
  },
  {
   "cell_type": "code",
   "execution_count": 79,
   "id": "683660de-3236-44a2-acec-28734e94677d",
   "metadata": {},
   "outputs": [],
   "source": [
    "arr1= arr.reshape(6, -134353553435)"
   ]
  },
  {
   "cell_type": "code",
   "execution_count": 80,
   "id": "4d6919b5-9369-4052-be18-895148800908",
   "metadata": {},
   "outputs": [
    {
     "data": {
      "text/plain": [
       "array([[0.57362641, 0.44911488],\n",
       "       [0.87384372, 0.02698534],\n",
       "       [0.42729951, 0.94778279],\n",
       "       [0.17786741, 0.55444866],\n",
       "       [0.22477664, 0.67255129],\n",
       "       [0.24179251, 0.54416123]])"
      ]
     },
     "execution_count": 80,
     "metadata": {},
     "output_type": "execute_result"
    }
   ],
   "source": [
    "arr1"
   ]
  },
  {
   "cell_type": "code",
   "execution_count": 81,
   "id": "c789b201-52a4-4263-865c-fd088910e367",
   "metadata": {},
   "outputs": [
    {
     "data": {
      "text/plain": [
       "0.02698534495963012"
      ]
     },
     "execution_count": 81,
     "metadata": {},
     "output_type": "execute_result"
    }
   ],
   "source": [
    "arr1[1][1]"
   ]
  },
  {
   "cell_type": "code",
   "execution_count": 82,
   "id": "071194b0-b65f-4bed-8317-e692032c3316",
   "metadata": {},
   "outputs": [
    {
     "data": {
      "text/plain": [
       "array([0.94778279, 0.55444866, 0.67255129])"
      ]
     },
     "execution_count": 82,
     "metadata": {},
     "output_type": "execute_result"
    }
   ],
   "source": [
    "arr1[2:5,1]"
   ]
  },
  {
   "cell_type": "code",
   "execution_count": 83,
   "id": "a56fc792-c12a-409f-85bb-b997ec848ee7",
   "metadata": {},
   "outputs": [],
   "source": [
    "arr= np.random.randint(1,100 , (5,5))"
   ]
  },
  {
   "cell_type": "code",
   "execution_count": 84,
   "id": "a0f7dd58-668d-48e4-9ba4-4986909abfc0",
   "metadata": {},
   "outputs": [
    {
     "data": {
      "text/plain": [
       "array([[83, 28, 47, 46, 85],\n",
       "       [11, 34, 30, 12, 32],\n",
       "       [43, 96, 31, 91,  4],\n",
       "       [98, 23, 96, 63, 10],\n",
       "       [74, 20, 94, 99, 32]])"
      ]
     },
     "execution_count": 84,
     "metadata": {},
     "output_type": "execute_result"
    }
   ],
   "source": [
    "arr"
   ]
  },
  {
   "cell_type": "code",
   "execution_count": 85,
   "id": "7aad19ec-6d3f-480d-aa0c-df4ca1291733",
   "metadata": {},
   "outputs": [
    {
     "data": {
      "text/plain": [
       "array([83, 85, 96, 91, 98, 96, 63, 74, 94, 99])"
      ]
     },
     "execution_count": 85,
     "metadata": {},
     "output_type": "execute_result"
    }
   ],
   "source": [
    "arr[arr>50]"
   ]
  },
  {
   "cell_type": "code",
   "execution_count": 86,
   "id": "1b02ca52-b1b3-4fa8-bd93-3717816e7591",
   "metadata": {},
   "outputs": [
    {
     "data": {
      "text/plain": [
       "array([[83, 28, 47, 46, 85],\n",
       "       [11, 34, 30, 12, 32],\n",
       "       [43, 96, 31, 91,  4],\n",
       "       [98, 23, 96, 63, 10],\n",
       "       [74, 20, 94, 99, 32]])"
      ]
     },
     "execution_count": 86,
     "metadata": {},
     "output_type": "execute_result"
    }
   ],
   "source": [
    "arr"
   ]
  },
  {
   "cell_type": "code",
   "execution_count": 87,
   "id": "041505cb-20f5-447c-b058-0d62f2f472e7",
   "metadata": {},
   "outputs": [
    {
     "data": {
      "text/plain": [
       "array([[96, 31],\n",
       "       [23, 96]])"
      ]
     },
     "execution_count": 87,
     "metadata": {},
     "output_type": "execute_result"
    }
   ],
   "source": [
    "arr[2:4 , [1,2]]"
   ]
  },
  {
   "cell_type": "code",
   "execution_count": 88,
   "id": "d3541d0c-c152-4cff-8a3f-a94a14be769a",
   "metadata": {},
   "outputs": [],
   "source": [
    "arr[0][0] = 5000"
   ]
  },
  {
   "cell_type": "code",
   "execution_count": 89,
   "id": "655696e2-9f75-4fbc-9dda-79c5a934a1a7",
   "metadata": {},
   "outputs": [
    {
     "data": {
      "text/plain": [
       "array([[5000,   28,   47,   46,   85],\n",
       "       [  11,   34,   30,   12,   32],\n",
       "       [  43,   96,   31,   91,    4],\n",
       "       [  98,   23,   96,   63,   10],\n",
       "       [  74,   20,   94,   99,   32]])"
      ]
     },
     "execution_count": 89,
     "metadata": {},
     "output_type": "execute_result"
    }
   ],
   "source": [
    "arr"
   ]
  },
  {
   "cell_type": "code",
   "execution_count": 90,
   "id": "c9b54bc7-a24f-428a-963e-22d7f06de522",
   "metadata": {},
   "outputs": [],
   "source": [
    "arr1 = np.random.randint(1, 3, (3,3))\n",
    "arr2 = np.random.randint(1, 3, (3,3))"
   ]
  },
  {
   "cell_type": "code",
   "execution_count": 91,
   "id": "9abc3bd0-459c-4d26-be84-786959e4f220",
   "metadata": {},
   "outputs": [
    {
     "data": {
      "text/plain": [
       "array([[2, 1, 2],\n",
       "       [2, 1, 1],\n",
       "       [1, 2, 1]])"
      ]
     },
     "execution_count": 91,
     "metadata": {},
     "output_type": "execute_result"
    }
   ],
   "source": [
    "arr1"
   ]
  },
  {
   "cell_type": "code",
   "execution_count": 92,
   "id": "42603651-479b-442e-8768-229cb3309e5c",
   "metadata": {},
   "outputs": [
    {
     "data": {
      "text/plain": [
       "array([[1, 1, 1],\n",
       "       [1, 2, 2],\n",
       "       [1, 2, 1]])"
      ]
     },
     "execution_count": 92,
     "metadata": {},
     "output_type": "execute_result"
    }
   ],
   "source": [
    "arr2\n"
   ]
  },
  {
   "cell_type": "code",
   "execution_count": 93,
   "id": "b3fc7365-7c4d-42e8-bf94-9ba5b1983cb7",
   "metadata": {},
   "outputs": [
    {
     "data": {
      "text/plain": [
       "array([[3, 2, 3],\n",
       "       [3, 3, 3],\n",
       "       [2, 4, 2]])"
      ]
     },
     "execution_count": 93,
     "metadata": {},
     "output_type": "execute_result"
    }
   ],
   "source": [
    "arr1+arr2"
   ]
  },
  {
   "cell_type": "code",
   "execution_count": 94,
   "id": "84f07dc1-0f29-46a9-bdd8-695d7060ebe9",
   "metadata": {},
   "outputs": [
    {
     "data": {
      "text/plain": [
       "array([[ 1,  0,  1],\n",
       "       [ 1, -1, -1],\n",
       "       [ 0,  0,  0]])"
      ]
     },
     "execution_count": 94,
     "metadata": {},
     "output_type": "execute_result"
    }
   ],
   "source": [
    "arr1-arr2"
   ]
  },
  {
   "cell_type": "code",
   "execution_count": 95,
   "id": "49a34c34-2fcc-45c8-a1c9-6ebe6e993dca",
   "metadata": {},
   "outputs": [
    {
     "data": {
      "text/plain": [
       "array([[2. , 1. , 2. ],\n",
       "       [2. , 0.5, 0.5],\n",
       "       [1. , 1. , 1. ]])"
      ]
     },
     "execution_count": 95,
     "metadata": {},
     "output_type": "execute_result"
    }
   ],
   "source": [
    "arr1/arr2"
   ]
  },
  {
   "cell_type": "code",
   "execution_count": 96,
   "id": "0ed674d1-a1f3-45f2-bd44-c4e9bb2fd458",
   "metadata": {},
   "outputs": [
    {
     "data": {
      "text/plain": [
       "array([[2, 1, 2],\n",
       "       [2, 2, 2],\n",
       "       [1, 4, 1]])"
      ]
     },
     "execution_count": 96,
     "metadata": {},
     "output_type": "execute_result"
    }
   ],
   "source": [
    "arr1 * arr2"
   ]
  },
  {
   "cell_type": "code",
   "execution_count": 97,
   "id": "e1e9fa53-7a19-4941-9f42-70012fdaf9b5",
   "metadata": {},
   "outputs": [
    {
     "data": {
      "text/plain": [
       "array([[2, 1, 2],\n",
       "       [2, 1, 1],\n",
       "       [1, 2, 1]])"
      ]
     },
     "execution_count": 97,
     "metadata": {},
     "output_type": "execute_result"
    }
   ],
   "source": [
    "arr1"
   ]
  },
  {
   "cell_type": "code",
   "execution_count": 98,
   "id": "80becb6c-b940-4ff3-bd8d-39d1209905bf",
   "metadata": {},
   "outputs": [
    {
     "data": {
      "text/plain": [
       "array([[1, 1, 1],\n",
       "       [1, 2, 2],\n",
       "       [1, 2, 1]])"
      ]
     },
     "execution_count": 98,
     "metadata": {},
     "output_type": "execute_result"
    }
   ],
   "source": [
    "arr2"
   ]
  },
  {
   "cell_type": "code",
   "execution_count": 99,
   "id": "c6f5a6ab-db3a-4517-836f-86cc61f12c32",
   "metadata": {},
   "outputs": [
    {
     "data": {
      "text/plain": [
       "array([[5, 8, 6],\n",
       "       [4, 6, 5],\n",
       "       [4, 7, 6]])"
      ]
     },
     "execution_count": 99,
     "metadata": {},
     "output_type": "execute_result"
    }
   ],
   "source": [
    "arr1@arr2"
   ]
  },
  {
   "cell_type": "code",
   "execution_count": 100,
   "id": "0187979b-c3aa-4993-9811-cba5a0997765",
   "metadata": {},
   "outputs": [
    {
     "name": "stderr",
     "output_type": "stream",
     "text": [
      "/tmp/ipykernel_172/1510032488.py:1: RuntimeWarning: divide by zero encountered in divide\n",
      "  arr1/0\n"
     ]
    },
    {
     "data": {
      "text/plain": [
       "array([[inf, inf, inf],\n",
       "       [inf, inf, inf],\n",
       "       [inf, inf, inf]])"
      ]
     },
     "execution_count": 100,
     "metadata": {},
     "output_type": "execute_result"
    }
   ],
   "source": [
    "arr1/0"
   ]
  },
  {
   "cell_type": "code",
   "execution_count": 101,
   "id": "8a089e96-7b2d-4bcd-bcb3-e9476a91a8a3",
   "metadata": {},
   "outputs": [
    {
     "data": {
      "text/plain": [
       "array([[102, 101, 102],\n",
       "       [102, 101, 101],\n",
       "       [101, 102, 101]])"
      ]
     },
     "execution_count": 101,
     "metadata": {},
     "output_type": "execute_result"
    }
   ],
   "source": [
    "arr1 +100"
   ]
  },
  {
   "cell_type": "code",
   "execution_count": 102,
   "id": "d8f20089-ae42-4a3b-be56-d040ad68ad6d",
   "metadata": {},
   "outputs": [
    {
     "data": {
      "text/plain": [
       "array([[4, 1, 4],\n",
       "       [4, 1, 1],\n",
       "       [1, 4, 1]])"
      ]
     },
     "execution_count": 102,
     "metadata": {},
     "output_type": "execute_result"
    }
   ],
   "source": [
    "arr1**2"
   ]
  },
  {
   "cell_type": "markdown",
   "id": "62023cab-bca8-4729-9d59-5d49dd7ce16c",
   "metadata": {},
   "source": [
    "## Numpy – Broadcasting."
   ]
  },
  {
   "cell_type": "code",
   "execution_count": 103,
   "id": "578eed9d-f5fb-4484-8fd3-3496760bbf7e",
   "metadata": {},
   "outputs": [],
   "source": [
    "arr=np.zeros((4, 4))"
   ]
  },
  {
   "cell_type": "code",
   "execution_count": 104,
   "id": "74344e7d-dee9-4bb0-a32e-be2d3a87275f",
   "metadata": {},
   "outputs": [
    {
     "data": {
      "text/plain": [
       "array([[0., 0., 0., 0.],\n",
       "       [0., 0., 0., 0.],\n",
       "       [0., 0., 0., 0.],\n",
       "       [0., 0., 0., 0.]])"
      ]
     },
     "execution_count": 104,
     "metadata": {},
     "output_type": "execute_result"
    }
   ],
   "source": [
    "arr"
   ]
  },
  {
   "cell_type": "code",
   "execution_count": 105,
   "id": "04141898-8d4c-4762-8db5-be03144c425b",
   "metadata": {},
   "outputs": [],
   "source": [
    "row= np.array([1,2,3,4])"
   ]
  },
  {
   "cell_type": "code",
   "execution_count": 106,
   "id": "79f7cd0d-f475-4b00-9b66-453961437308",
   "metadata": {},
   "outputs": [
    {
     "data": {
      "text/plain": [
       "(4,)"
      ]
     },
     "execution_count": 106,
     "metadata": {},
     "output_type": "execute_result"
    }
   ],
   "source": [
    "row.shape"
   ]
  },
  {
   "cell_type": "code",
   "execution_count": 107,
   "id": "d13ca14f-64e6-46b3-9561-9cbf0c1ec17b",
   "metadata": {},
   "outputs": [
    {
     "data": {
      "text/plain": [
       "array([[1., 2., 3., 4.],\n",
       "       [1., 2., 3., 4.],\n",
       "       [1., 2., 3., 4.],\n",
       "       [1., 2., 3., 4.]])"
      ]
     },
     "execution_count": 107,
     "metadata": {},
     "output_type": "execute_result"
    }
   ],
   "source": [
    "arr + row"
   ]
  },
  {
   "cell_type": "code",
   "execution_count": 108,
   "id": "0c4b72e2-64c8-4659-a65a-34544818e145",
   "metadata": {},
   "outputs": [
    {
     "data": {
      "text/plain": [
       "array([1, 2, 3, 4])"
      ]
     },
     "execution_count": 108,
     "metadata": {},
     "output_type": "execute_result"
    }
   ],
   "source": [
    "row.T"
   ]
  },
  {
   "cell_type": "code",
   "execution_count": 109,
   "id": "2426c44c-356f-469e-bffc-228861927a38",
   "metadata": {},
   "outputs": [],
   "source": [
    "col= np.array([[1, 2, 3, 4]])"
   ]
  },
  {
   "cell_type": "code",
   "execution_count": 110,
   "id": "9a5521e6-8934-48f9-b1ac-c46a95785b6d",
   "metadata": {},
   "outputs": [
    {
     "data": {
      "text/plain": [
       "array([[1., 1., 1., 1.],\n",
       "       [2., 2., 2., 2.],\n",
       "       [3., 3., 3., 3.],\n",
       "       [4., 4., 4., 4.]])"
      ]
     },
     "execution_count": 110,
     "metadata": {},
     "output_type": "execute_result"
    }
   ],
   "source": [
    "col.T + arr"
   ]
  },
  {
   "cell_type": "code",
   "execution_count": 111,
   "id": "cda4baa8-72fc-4bb4-9294-eb48cb58c4ba",
   "metadata": {},
   "outputs": [
    {
     "data": {
      "text/plain": [
       "array([[1, 2, 3, 4]])"
      ]
     },
     "execution_count": 111,
     "metadata": {},
     "output_type": "execute_result"
    }
   ],
   "source": [
    "col"
   ]
  },
  {
   "cell_type": "code",
   "execution_count": 112,
   "id": "91b60593-5434-4928-a375-72f5eb65a639",
   "metadata": {},
   "outputs": [
    {
     "data": {
      "text/plain": [
       "array([[0., 0., 0., 0.],\n",
       "       [0., 0., 0., 0.],\n",
       "       [0., 0., 0., 0.],\n",
       "       [0., 0., 0., 0.]])"
      ]
     },
     "execution_count": 112,
     "metadata": {},
     "output_type": "execute_result"
    }
   ],
   "source": [
    "arr"
   ]
  },
  {
   "cell_type": "code",
   "execution_count": 113,
   "id": "e68aec4e-63a2-46fa-b9e8-912183489fc7",
   "metadata": {},
   "outputs": [],
   "source": [
    "arr1 = np.random.randint(1, 4, (3, 4))"
   ]
  },
  {
   "cell_type": "code",
   "execution_count": 114,
   "id": "8d628304-70c6-4034-bc1c-c64130b9eae6",
   "metadata": {},
   "outputs": [
    {
     "data": {
      "text/plain": [
       "array([[3, 1, 3, 1],\n",
       "       [3, 3, 2, 2],\n",
       "       [3, 1, 3, 2]])"
      ]
     },
     "execution_count": 114,
     "metadata": {},
     "output_type": "execute_result"
    }
   ],
   "source": [
    "arr1"
   ]
  },
  {
   "cell_type": "code",
   "execution_count": 115,
   "id": "0b3dc448-a57f-4e7d-8e8a-e6318a6330d3",
   "metadata": {},
   "outputs": [
    {
     "data": {
      "text/plain": [
       "array([[1.73205081, 1.        , 1.73205081, 1.        ],\n",
       "       [1.73205081, 1.73205081, 1.41421356, 1.41421356],\n",
       "       [1.73205081, 1.        , 1.73205081, 1.41421356]])"
      ]
     },
     "execution_count": 115,
     "metadata": {},
     "output_type": "execute_result"
    }
   ],
   "source": [
    "np.sqrt(arr1)"
   ]
  },
  {
   "cell_type": "code",
   "execution_count": 116,
   "id": "67746c9a-49b1-4446-94e2-0f1c7de8a9fa",
   "metadata": {},
   "outputs": [
    {
     "data": {
      "text/plain": [
       "array([[20.08553692,  2.71828183, 20.08553692,  2.71828183],\n",
       "       [20.08553692, 20.08553692,  7.3890561 ,  7.3890561 ],\n",
       "       [20.08553692,  2.71828183, 20.08553692,  7.3890561 ]])"
      ]
     },
     "execution_count": 116,
     "metadata": {},
     "output_type": "execute_result"
    }
   ],
   "source": [
    "np.exp(arr1)"
   ]
  },
  {
   "cell_type": "code",
   "execution_count": 117,
   "id": "e7023b99-dd77-45ba-b34b-39a0676d7086",
   "metadata": {},
   "outputs": [
    {
     "data": {
      "text/plain": [
       "array([[0.47712125, 0.        , 0.47712125, 0.        ],\n",
       "       [0.47712125, 0.47712125, 0.30103   , 0.30103   ],\n",
       "       [0.47712125, 0.        , 0.47712125, 0.30103   ]])"
      ]
     },
     "execution_count": 117,
     "metadata": {},
     "output_type": "execute_result"
    }
   ],
   "source": [
    "np.log10(arr1)"
   ]
  }
 ],
 "metadata": {
  "kernelspec": {
   "display_name": "Python 3 (ipykernel)",
   "language": "python",
   "name": "python3"
  },
  "language_info": {
   "codemirror_mode": {
    "name": "ipython",
    "version": 3
   },
   "file_extension": ".py",
   "mimetype": "text/x-python",
   "name": "python",
   "nbconvert_exporter": "python",
   "pygments_lexer": "ipython3",
   "version": "3.10.6"
  }
 },
 "nbformat": 4,
 "nbformat_minor": 5
}
