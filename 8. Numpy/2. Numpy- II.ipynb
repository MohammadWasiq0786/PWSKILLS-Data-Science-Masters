{
 "cells": [
  {
   "cell_type": "markdown",
   "id": "42a1af1a-6ee3-494d-8524-463909fcef9a",
   "metadata": {},
   "source": [
    "![image](https://pwskills.com/images/PWSkills-main.png)\n",
    "\n",
    "# Data Science Masters\n",
    "\n",
    "## Day - 26\n",
    "## Date- 26 February 2023 \n",
    "## Numpy - II"
   ]
  },
  {
   "cell_type": "markdown",
   "id": "518a99f8-c7e5-43f9-b1e8-8d4217d229b1",
   "metadata": {},
   "source": [
    "## Numpy - Array Manipulation."
   ]
  },
  {
   "cell_type": "code",
   "execution_count": 1,
   "id": "dba4df9f-2c20-4ce4-a433-ef64cad090d0",
   "metadata": {},
   "outputs": [],
   "source": [
    "import numpy as np"
   ]
  },
  {
   "cell_type": "code",
   "execution_count": 2,
   "id": "5632259c-dc2a-4f2a-9b61-7f383ea33a1b",
   "metadata": {},
   "outputs": [],
   "source": [
    "arr = np.random.randint(1, 10, (3,4))"
   ]
  },
  {
   "cell_type": "code",
   "execution_count": 3,
   "id": "eee2bbe4-55eb-41ec-9fad-e56bc005a6b3",
   "metadata": {},
   "outputs": [
    {
     "data": {
      "text/plain": [
       "array([[1, 5, 4, 3],\n",
       "       [2, 5, 9, 9],\n",
       "       [4, 7, 7, 5]])"
      ]
     },
     "execution_count": 3,
     "metadata": {},
     "output_type": "execute_result"
    }
   ],
   "source": [
    "arr"
   ]
  },
  {
   "cell_type": "code",
   "execution_count": 4,
   "id": "d55d33e1-985f-4070-97d2-8eacf70b2ff8",
   "metadata": {},
   "outputs": [
    {
     "data": {
      "text/plain": [
       "array([[1, 5],\n",
       "       [4, 3],\n",
       "       [2, 5],\n",
       "       [9, 9],\n",
       "       [4, 7],\n",
       "       [7, 5]])"
      ]
     },
     "execution_count": 4,
     "metadata": {},
     "output_type": "execute_result"
    }
   ],
   "source": [
    "arr.reshape(6, 2)"
   ]
  },
  {
   "cell_type": "code",
   "execution_count": 5,
   "id": "09cb23cc-8b83-467b-827d-dfbfa8b634c3",
   "metadata": {},
   "outputs": [
    {
     "data": {
      "text/plain": [
       "array([[1, 5, 4, 3, 2, 5],\n",
       "       [9, 9, 4, 7, 7, 5]])"
      ]
     },
     "execution_count": 5,
     "metadata": {},
     "output_type": "execute_result"
    }
   ],
   "source": [
    "arr.reshape(2, 6)"
   ]
  },
  {
   "cell_type": "code",
   "execution_count": 6,
   "id": "77eac4b6-d3c2-4a93-8c2f-bb711417539b",
   "metadata": {},
   "outputs": [
    {
     "data": {
      "text/plain": [
       "array([[1, 5, 4, 3, 2, 5],\n",
       "       [9, 9, 4, 7, 7, 5]])"
      ]
     },
     "execution_count": 6,
     "metadata": {},
     "output_type": "execute_result"
    }
   ],
   "source": [
    "arr.reshape(2, -242342)"
   ]
  },
  {
   "cell_type": "code",
   "execution_count": 7,
   "id": "43be7e8d-cc68-4191-baad-4bf94af48189",
   "metadata": {},
   "outputs": [
    {
     "data": {
      "text/plain": [
       "array([[1, 2, 4],\n",
       "       [5, 5, 7],\n",
       "       [4, 9, 7],\n",
       "       [3, 9, 5]])"
      ]
     },
     "execution_count": 7,
     "metadata": {},
     "output_type": "execute_result"
    }
   ],
   "source": [
    "arr.T"
   ]
  },
  {
   "cell_type": "code",
   "execution_count": 8,
   "id": "9c1b0a47-41c2-4f36-8750-9603ba7a3a15",
   "metadata": {},
   "outputs": [
    {
     "data": {
      "text/plain": [
       "array([[1, 5, 4, 3],\n",
       "       [2, 5, 9, 9],\n",
       "       [4, 7, 7, 5]])"
      ]
     },
     "execution_count": 8,
     "metadata": {},
     "output_type": "execute_result"
    }
   ],
   "source": [
    "arr"
   ]
  },
  {
   "cell_type": "code",
   "execution_count": 9,
   "id": "2fd29656-e8be-431a-af9c-7dbaf4e39571",
   "metadata": {},
   "outputs": [
    {
     "data": {
      "text/plain": [
       "array([1, 5, 4, 3, 2, 5, 9, 9, 4, 7, 7, 5])"
      ]
     },
     "execution_count": 9,
     "metadata": {},
     "output_type": "execute_result"
    }
   ],
   "source": [
    "arr.flatten()"
   ]
  },
  {
   "cell_type": "code",
   "execution_count": 10,
   "id": "6f7862fc-ec30-47dc-bce8-b5101301205c",
   "metadata": {},
   "outputs": [],
   "source": [
    "arr1= np.array([1, 2, 3, 3, 4])"
   ]
  },
  {
   "cell_type": "code",
   "execution_count": 11,
   "id": "15357b1f-eff7-4453-89e8-3948f925c481",
   "metadata": {},
   "outputs": [
    {
     "data": {
      "text/plain": [
       "1"
      ]
     },
     "execution_count": 11,
     "metadata": {},
     "output_type": "execute_result"
    }
   ],
   "source": [
    "arr1.ndim"
   ]
  },
  {
   "cell_type": "code",
   "execution_count": 12,
   "id": "828fbacd-05dd-4ec7-9a9f-be474c13eff5",
   "metadata": {},
   "outputs": [
    {
     "data": {
      "text/plain": [
       "array([[1],\n",
       "       [2],\n",
       "       [3],\n",
       "       [3],\n",
       "       [4]])"
      ]
     },
     "execution_count": 12,
     "metadata": {},
     "output_type": "execute_result"
    }
   ],
   "source": [
    "np.expand_dims(arr1, axis=1)"
   ]
  },
  {
   "cell_type": "code",
   "execution_count": 13,
   "id": "581f2a02-7a94-46cf-ad50-89256379696e",
   "metadata": {},
   "outputs": [
    {
     "data": {
      "text/plain": [
       "array([[1, 2, 3, 3, 4]])"
      ]
     },
     "execution_count": 13,
     "metadata": {},
     "output_type": "execute_result"
    }
   ],
   "source": [
    "np.expand_dims(arr1, axis=0)"
   ]
  },
  {
   "cell_type": "code",
   "execution_count": 14,
   "id": "c5da4146-1911-4cb2-aed2-3adcb693bb51",
   "metadata": {},
   "outputs": [
    {
     "data": {
      "text/plain": [
       "array([[1, 5, 4, 3],\n",
       "       [2, 5, 9, 9],\n",
       "       [4, 7, 7, 5]])"
      ]
     },
     "execution_count": 14,
     "metadata": {},
     "output_type": "execute_result"
    }
   ],
   "source": [
    "arr"
   ]
  },
  {
   "cell_type": "code",
   "execution_count": 15,
   "id": "cb422a7e-f8c2-4df6-b7e0-56dc63a7c116",
   "metadata": {},
   "outputs": [
    {
     "data": {
      "text/plain": [
       "array([[1, 5, 4, 3],\n",
       "       [2, 5, 9, 9],\n",
       "       [4, 7, 7, 5]])"
      ]
     },
     "execution_count": 15,
     "metadata": {},
     "output_type": "execute_result"
    }
   ],
   "source": [
    "np.squeeze(arr)"
   ]
  },
  {
   "cell_type": "code",
   "execution_count": 16,
   "id": "482a100e-261c-4a52-b7af-fc34c9dc8487",
   "metadata": {},
   "outputs": [],
   "source": [
    "data = np.array([[1], [2], [3]])"
   ]
  },
  {
   "cell_type": "code",
   "execution_count": 17,
   "id": "2e0329cd-c448-499f-a364-f4fbd2653fa8",
   "metadata": {},
   "outputs": [
    {
     "data": {
      "text/plain": [
       "array([[1],\n",
       "       [2],\n",
       "       [3]])"
      ]
     },
     "execution_count": 17,
     "metadata": {},
     "output_type": "execute_result"
    }
   ],
   "source": [
    "data"
   ]
  },
  {
   "cell_type": "code",
   "execution_count": 18,
   "id": "927de255-bce2-4de3-9814-46ec3c7a4ef1",
   "metadata": {},
   "outputs": [
    {
     "data": {
      "text/plain": [
       "array([1, 2, 3])"
      ]
     },
     "execution_count": 18,
     "metadata": {},
     "output_type": "execute_result"
    }
   ],
   "source": [
    "np.squeeze(data)"
   ]
  },
  {
   "cell_type": "code",
   "execution_count": 19,
   "id": "25033fa3-39c5-4f5b-a18e-822fa164aff2",
   "metadata": {},
   "outputs": [
    {
     "data": {
      "text/plain": [
       "array([1, 2, 3, 3, 4])"
      ]
     },
     "execution_count": 19,
     "metadata": {},
     "output_type": "execute_result"
    }
   ],
   "source": [
    "arr1"
   ]
  },
  {
   "cell_type": "code",
   "execution_count": 20,
   "id": "791c67b7-bafc-489f-8ff9-b27ace034515",
   "metadata": {},
   "outputs": [
    {
     "data": {
      "text/plain": [
       "array([1, 1, 1, 2, 2, 2, 3, 3, 3, 3, 3, 3, 4, 4, 4])"
      ]
     },
     "execution_count": 20,
     "metadata": {},
     "output_type": "execute_result"
    }
   ],
   "source": [
    "np.repeat(arr1, 3)"
   ]
  },
  {
   "cell_type": "code",
   "execution_count": 21,
   "id": "4ed5803c-fcb2-4112-83dc-e4a7cf80051f",
   "metadata": {},
   "outputs": [
    {
     "data": {
      "text/plain": [
       "array([3, 3, 4, 1, 2])"
      ]
     },
     "execution_count": 21,
     "metadata": {},
     "output_type": "execute_result"
    }
   ],
   "source": [
    "np.roll(arr1 , 3)"
   ]
  },
  {
   "cell_type": "code",
   "execution_count": 22,
   "id": "06c351b0-3b5e-45aa-adcb-0b6f527f1ad4",
   "metadata": {},
   "outputs": [
    {
     "data": {
      "text/plain": [
       "array([1, 2, 3, 3, 4])"
      ]
     },
     "execution_count": 22,
     "metadata": {},
     "output_type": "execute_result"
    }
   ],
   "source": [
    "arr1"
   ]
  },
  {
   "cell_type": "code",
   "execution_count": 23,
   "id": "9da0c1eb-9542-4359-8c82-1ae43e0d8d70",
   "metadata": {},
   "outputs": [
    {
     "data": {
      "text/plain": [
       "array([[1, 0, 0, 0, 0],\n",
       "       [0, 2, 0, 0, 0],\n",
       "       [0, 0, 3, 0, 0],\n",
       "       [0, 0, 0, 3, 0],\n",
       "       [0, 0, 0, 0, 4]])"
      ]
     },
     "execution_count": 23,
     "metadata": {},
     "output_type": "execute_result"
    }
   ],
   "source": [
    "np.diag(arr1)"
   ]
  },
  {
   "cell_type": "markdown",
   "id": "dc5926be-a815-4ad0-bf6b-72c727ebcae0",
   "metadata": {},
   "source": [
    "## Numpy - Binary Operators."
   ]
  },
  {
   "cell_type": "code",
   "execution_count": 24,
   "id": "4743e781-a032-4b5c-97f9-6790a1475387",
   "metadata": {},
   "outputs": [],
   "source": [
    "arr1 = np.random.randint(1, 10, (3,4))"
   ]
  },
  {
   "cell_type": "code",
   "execution_count": 25,
   "id": "0de34a3b-bb40-438d-8bdd-a50567fd0802",
   "metadata": {},
   "outputs": [],
   "source": [
    "arr2 = np.random.randint(1, 10, (3,4))"
   ]
  },
  {
   "cell_type": "code",
   "execution_count": 26,
   "id": "f365ba96-128e-4d6d-939d-ead1d78b2218",
   "metadata": {},
   "outputs": [
    {
     "data": {
      "text/plain": [
       "array([[4, 5, 4, 3],\n",
       "       [2, 9, 1, 6],\n",
       "       [8, 7, 9, 2]])"
      ]
     },
     "execution_count": 26,
     "metadata": {},
     "output_type": "execute_result"
    }
   ],
   "source": [
    "arr1"
   ]
  },
  {
   "cell_type": "code",
   "execution_count": 27,
   "id": "bb34436b-4a9d-4eaa-909c-507052b60928",
   "metadata": {},
   "outputs": [
    {
     "data": {
      "text/plain": [
       "array([[1, 5, 9, 1],\n",
       "       [6, 3, 8, 5],\n",
       "       [1, 6, 3, 9]])"
      ]
     },
     "execution_count": 27,
     "metadata": {},
     "output_type": "execute_result"
    }
   ],
   "source": [
    "arr2"
   ]
  },
  {
   "cell_type": "code",
   "execution_count": 28,
   "id": "2aaa971a-c8b8-4389-bcce-e5ac95233df2",
   "metadata": {},
   "outputs": [
    {
     "data": {
      "text/plain": [
       "array([[ 5, 10, 13,  4],\n",
       "       [ 8, 12,  9, 11],\n",
       "       [ 9, 13, 12, 11]])"
      ]
     },
     "execution_count": 28,
     "metadata": {},
     "output_type": "execute_result"
    }
   ],
   "source": [
    "arr1+arr2"
   ]
  },
  {
   "cell_type": "code",
   "execution_count": 29,
   "id": "64bf4340-0f54-4c1b-92a4-25258f707440",
   "metadata": {},
   "outputs": [
    {
     "data": {
      "text/plain": [
       "array([[ 4, 25, 36,  3],\n",
       "       [12, 27,  8, 30],\n",
       "       [ 8, 42, 27, 18]])"
      ]
     },
     "execution_count": 29,
     "metadata": {},
     "output_type": "execute_result"
    }
   ],
   "source": [
    "arr1*arr2"
   ]
  },
  {
   "cell_type": "code",
   "execution_count": 30,
   "id": "9cada9db-d70b-4fc7-a799-113eea5feffc",
   "metadata": {},
   "outputs": [
    {
     "data": {
      "text/plain": [
       "array([[4.        , 1.        , 0.44444444, 3.        ],\n",
       "       [0.33333333, 3.        , 0.125     , 1.2       ],\n",
       "       [8.        , 1.16666667, 3.        , 0.22222222]])"
      ]
     },
     "execution_count": 30,
     "metadata": {},
     "output_type": "execute_result"
    }
   ],
   "source": [
    "arr1/arr2"
   ]
  },
  {
   "cell_type": "code",
   "execution_count": 31,
   "id": "7aa1aa01-9430-49a6-8512-a1c4659f3239",
   "metadata": {},
   "outputs": [
    {
     "data": {
      "text/plain": [
       "array([[ 3,  0, -5,  2],\n",
       "       [-4,  6, -7,  1],\n",
       "       [ 7,  1,  6, -7]])"
      ]
     },
     "execution_count": 31,
     "metadata": {},
     "output_type": "execute_result"
    }
   ],
   "source": [
    "arr1-arr2"
   ]
  },
  {
   "cell_type": "code",
   "execution_count": 32,
   "id": "ae169e7d-614c-4413-9dc0-4e8c4f549b65",
   "metadata": {},
   "outputs": [
    {
     "data": {
      "text/plain": [
       "array([[0, 0, 4, 0],\n",
       "       [2, 0, 1, 1],\n",
       "       [0, 1, 0, 2]])"
      ]
     },
     "execution_count": 32,
     "metadata": {},
     "output_type": "execute_result"
    }
   ],
   "source": [
    "arr1%arr2"
   ]
  },
  {
   "cell_type": "code",
   "execution_count": 33,
   "id": "de5cdebb-db94-4214-abee-e700ada41404",
   "metadata": {},
   "outputs": [
    {
     "data": {
      "text/plain": [
       "array([[     4,   3125, 262144,      3],\n",
       "       [    64,    729,      1,   7776],\n",
       "       [     8, 117649,    729,    512]])"
      ]
     },
     "execution_count": 33,
     "metadata": {},
     "output_type": "execute_result"
    }
   ],
   "source": [
    "arr1 ** arr2"
   ]
  },
  {
   "cell_type": "code",
   "execution_count": 34,
   "id": "ba653204-07f5-48da-a72f-f509378710eb",
   "metadata": {},
   "outputs": [
    {
     "data": {
      "text/plain": [
       "array([[0, 5, 0, 1],\n",
       "       [2, 1, 0, 4],\n",
       "       [0, 6, 1, 0]])"
      ]
     },
     "execution_count": 34,
     "metadata": {},
     "output_type": "execute_result"
    }
   ],
   "source": [
    "arr1 & arr2"
   ]
  },
  {
   "cell_type": "code",
   "execution_count": 35,
   "id": "ad37e291-4287-4b68-9ab6-601fc32b4956",
   "metadata": {},
   "outputs": [
    {
     "data": {
      "text/plain": [
       "array([[4, 5, 4, 3],\n",
       "       [2, 9, 1, 6],\n",
       "       [8, 7, 9, 2]])"
      ]
     },
     "execution_count": 35,
     "metadata": {},
     "output_type": "execute_result"
    }
   ],
   "source": [
    "arr1"
   ]
  },
  {
   "cell_type": "code",
   "execution_count": 36,
   "id": "485c49a1-042f-4b25-b9c4-f8700428940f",
   "metadata": {},
   "outputs": [
    {
     "data": {
      "text/plain": [
       "array([[1, 5, 9, 1],\n",
       "       [6, 3, 8, 5],\n",
       "       [1, 6, 3, 9]])"
      ]
     },
     "execution_count": 36,
     "metadata": {},
     "output_type": "execute_result"
    }
   ],
   "source": [
    "arr2"
   ]
  },
  {
   "cell_type": "code",
   "execution_count": 37,
   "id": "89b215f8-56fd-4120-bea1-7f7f9d0a38b9",
   "metadata": {},
   "outputs": [
    {
     "data": {
      "text/plain": [
       "array([[ -5,  -6,  -5,  -4],\n",
       "       [ -3, -10,  -2,  -7],\n",
       "       [ -9,  -8, -10,  -3]])"
      ]
     },
     "execution_count": 37,
     "metadata": {},
     "output_type": "execute_result"
    }
   ],
   "source": [
    "~arr1"
   ]
  },
  {
   "cell_type": "code",
   "execution_count": 38,
   "id": "7e510c77-ee13-4d69-9471-44299248149c",
   "metadata": {},
   "outputs": [
    {
     "data": {
      "text/plain": [
       "array([[ 5,  5, 13,  3],\n",
       "       [ 6, 11,  9,  7],\n",
       "       [ 9,  7, 11, 11]])"
      ]
     },
     "execution_count": 38,
     "metadata": {},
     "output_type": "execute_result"
    }
   ],
   "source": [
    "arr1|arr2"
   ]
  },
  {
   "cell_type": "code",
   "execution_count": 39,
   "id": "10a1f04d-2d64-4354-8f7a-089f70f21ab8",
   "metadata": {},
   "outputs": [
    {
     "data": {
      "text/plain": [
       "array([[ True, False, False,  True],\n",
       "       [False,  True, False,  True],\n",
       "       [ True,  True,  True, False]])"
      ]
     },
     "execution_count": 39,
     "metadata": {},
     "output_type": "execute_result"
    }
   ],
   "source": [
    "arr1>arr2"
   ]
  },
  {
   "cell_type": "markdown",
   "id": "ebe8f8db-0783-4afd-abc3-02196a1eab8d",
   "metadata": {},
   "source": [
    "## Numpy - String Functions."
   ]
  },
  {
   "cell_type": "code",
   "execution_count": 40,
   "id": "311e0074-51cc-4ce0-935e-995426b974da",
   "metadata": {},
   "outputs": [],
   "source": [
    "arr= np.array(['Mohammad', \"Wasiq\"])"
   ]
  },
  {
   "cell_type": "code",
   "execution_count": 41,
   "id": "7a85b714-022c-4604-9f81-b0810abc39b7",
   "metadata": {},
   "outputs": [
    {
     "data": {
      "text/plain": [
       "array(['Mohammad', 'Wasiq'], dtype='<U8')"
      ]
     },
     "execution_count": 41,
     "metadata": {},
     "output_type": "execute_result"
    }
   ],
   "source": [
    "arr"
   ]
  },
  {
   "cell_type": "code",
   "execution_count": 42,
   "id": "2920b441-c446-4d67-a92e-f17047b01881",
   "metadata": {},
   "outputs": [
    {
     "data": {
      "text/plain": [
       "array(['MOHAMMAD', 'WASIQ'], dtype='<U8')"
      ]
     },
     "execution_count": 42,
     "metadata": {},
     "output_type": "execute_result"
    }
   ],
   "source": [
    "np.char.upper(arr)"
   ]
  },
  {
   "cell_type": "code",
   "execution_count": 43,
   "id": "3643e8c8-1ef6-438b-9944-a66d408f58f7",
   "metadata": {},
   "outputs": [
    {
     "data": {
      "text/plain": [
       "array(['Mohammad', 'Wasiq'], dtype='<U8')"
      ]
     },
     "execution_count": 43,
     "metadata": {},
     "output_type": "execute_result"
    }
   ],
   "source": [
    "np.char.title(arr)"
   ]
  },
  {
   "cell_type": "code",
   "execution_count": 44,
   "id": "15e4a766-26e6-4635-a820-af64a00accd7",
   "metadata": {},
   "outputs": [
    {
     "data": {
      "text/plain": [
       "array(['Mohammad', 'Wasiq'], dtype='<U8')"
      ]
     },
     "execution_count": 44,
     "metadata": {},
     "output_type": "execute_result"
    }
   ],
   "source": [
    "np.char.capitalize(arr)"
   ]
  },
  {
   "cell_type": "markdown",
   "id": "285cdca8-368a-421a-93d3-e3da880914ec",
   "metadata": {},
   "source": [
    "## Numpy - Mathematical Functions."
   ]
  },
  {
   "cell_type": "code",
   "execution_count": 45,
   "id": "96bd5e25-ba4c-4f1f-89b9-e5fe6e8c6ae8",
   "metadata": {},
   "outputs": [
    {
     "data": {
      "text/plain": [
       "array([[4, 5, 4, 3],\n",
       "       [2, 9, 1, 6],\n",
       "       [8, 7, 9, 2]])"
      ]
     },
     "execution_count": 45,
     "metadata": {},
     "output_type": "execute_result"
    }
   ],
   "source": [
    "arr1"
   ]
  },
  {
   "cell_type": "code",
   "execution_count": 46,
   "id": "0a1777e8-0b03-4fd8-9424-3dc1541eef3f",
   "metadata": {},
   "outputs": [
    {
     "data": {
      "text/plain": [
       "array([[-0.7568025 , -0.95892427, -0.7568025 ,  0.14112001],\n",
       "       [ 0.90929743,  0.41211849,  0.84147098, -0.2794155 ],\n",
       "       [ 0.98935825,  0.6569866 ,  0.41211849,  0.90929743]])"
      ]
     },
     "execution_count": 46,
     "metadata": {},
     "output_type": "execute_result"
    }
   ],
   "source": [
    "np.sin(arr1)"
   ]
  },
  {
   "cell_type": "code",
   "execution_count": 47,
   "id": "64c4b08b-6a26-41a9-851b-6c9656904bad",
   "metadata": {},
   "outputs": [
    {
     "data": {
      "text/plain": [
       "array([[-0.65364362,  0.28366219, -0.65364362, -0.9899925 ],\n",
       "       [-0.41614684, -0.91113026,  0.54030231,  0.96017029],\n",
       "       [-0.14550003,  0.75390225, -0.91113026, -0.41614684]])"
      ]
     },
     "execution_count": 47,
     "metadata": {},
     "output_type": "execute_result"
    }
   ],
   "source": [
    "np.cos(arr1)"
   ]
  },
  {
   "cell_type": "code",
   "execution_count": 48,
   "id": "70e50bc7-d0d2-4900-a442-9dcd0caf2186",
   "metadata": {},
   "outputs": [
    {
     "data": {
      "text/plain": [
       "array([[ 1.15782128, -3.38051501,  1.15782128, -0.14254654],\n",
       "       [-2.18503986, -0.45231566,  1.55740772, -0.29100619],\n",
       "       [-6.79971146,  0.87144798, -0.45231566, -2.18503986]])"
      ]
     },
     "execution_count": 48,
     "metadata": {},
     "output_type": "execute_result"
    }
   ],
   "source": [
    "np.tan(arr1)"
   ]
  },
  {
   "cell_type": "code",
   "execution_count": 49,
   "id": "f6b6ac01-ca6a-4fce-b51c-6f95fb528c31",
   "metadata": {},
   "outputs": [
    {
     "data": {
      "text/plain": [
       "array([[0.9993293 , 0.9999092 , 0.9993293 , 0.99505475],\n",
       "       [0.96402758, 0.99999997, 0.76159416, 0.99998771],\n",
       "       [0.99999977, 0.99999834, 0.99999997, 0.96402758]])"
      ]
     },
     "execution_count": 49,
     "metadata": {},
     "output_type": "execute_result"
    }
   ],
   "source": [
    "np.tanh(arr1)"
   ]
  },
  {
   "cell_type": "code",
   "execution_count": 50,
   "id": "20f6a349-a0e1-463e-990c-b243f053b25f",
   "metadata": {},
   "outputs": [
    {
     "data": {
      "text/plain": [
       "array([[0.60205999, 0.69897   , 0.60205999, 0.47712125],\n",
       "       [0.30103   , 0.95424251, 0.        , 0.77815125],\n",
       "       [0.90308999, 0.84509804, 0.95424251, 0.30103   ]])"
      ]
     },
     "execution_count": 50,
     "metadata": {},
     "output_type": "execute_result"
    }
   ],
   "source": [
    "np.log10(arr1)"
   ]
  },
  {
   "cell_type": "code",
   "execution_count": 51,
   "id": "dea1ff7b-1373-462f-95ca-e04cedb7216a",
   "metadata": {},
   "outputs": [
    {
     "data": {
      "text/plain": [
       "array([[5.45981500e+01, 1.48413159e+02, 5.45981500e+01, 2.00855369e+01],\n",
       "       [7.38905610e+00, 8.10308393e+03, 2.71828183e+00, 4.03428793e+02],\n",
       "       [2.98095799e+03, 1.09663316e+03, 8.10308393e+03, 7.38905610e+00]])"
      ]
     },
     "execution_count": 51,
     "metadata": {},
     "output_type": "execute_result"
    }
   ],
   "source": [
    "np.exp(arr1)"
   ]
  },
  {
   "cell_type": "code",
   "execution_count": 52,
   "id": "d4d635ec-b87c-47bd-a5e7-77a9b992c075",
   "metadata": {},
   "outputs": [
    {
     "data": {
      "text/plain": [
       "array([[2.        , 2.23606798, 2.        , 1.73205081],\n",
       "       [1.41421356, 3.        , 1.        , 2.44948974],\n",
       "       [2.82842712, 2.64575131, 3.        , 1.41421356]])"
      ]
     },
     "execution_count": 52,
     "metadata": {},
     "output_type": "execute_result"
    }
   ],
   "source": [
    "np.sqrt(arr1)"
   ]
  },
  {
   "cell_type": "code",
   "execution_count": 53,
   "id": "26fc3c49-dfc4-4282-ad9e-3e219f5d2888",
   "metadata": {},
   "outputs": [
    {
     "data": {
      "text/plain": [
       "array([[16, 25, 16,  9],\n",
       "       [ 4, 81,  1, 36],\n",
       "       [64, 49, 81,  4]])"
      ]
     },
     "execution_count": 53,
     "metadata": {},
     "output_type": "execute_result"
    }
   ],
   "source": [
    "np.power(arr1,2)"
   ]
  },
  {
   "cell_type": "code",
   "execution_count": 54,
   "id": "7854a41f-3a4d-48b2-8356-a1eff2c1f49c",
   "metadata": {},
   "outputs": [
    {
     "data": {
      "text/plain": [
       "5.0"
      ]
     },
     "execution_count": 54,
     "metadata": {},
     "output_type": "execute_result"
    }
   ],
   "source": [
    "np.mean(arr1)"
   ]
  },
  {
   "cell_type": "code",
   "execution_count": 55,
   "id": "47964225-57df-46ed-abb4-f09d0554b774",
   "metadata": {},
   "outputs": [
    {
     "data": {
      "text/plain": [
       "4.5"
      ]
     },
     "execution_count": 55,
     "metadata": {},
     "output_type": "execute_result"
    }
   ],
   "source": [
    "np.median(arr1)"
   ]
  },
  {
   "cell_type": "code",
   "execution_count": 56,
   "id": "ef6a5b39-9466-4a1e-a0b1-3d0bde8d9314",
   "metadata": {},
   "outputs": [
    {
     "data": {
      "text/plain": [
       "2.6770630673681683"
      ]
     },
     "execution_count": 56,
     "metadata": {},
     "output_type": "execute_result"
    }
   ],
   "source": [
    "np.std(arr1)"
   ]
  },
  {
   "cell_type": "code",
   "execution_count": 57,
   "id": "9fb70efd-6272-484f-9fd8-d578198e8832",
   "metadata": {},
   "outputs": [
    {
     "data": {
      "text/plain": [
       "7.166666666666667"
      ]
     },
     "execution_count": 57,
     "metadata": {},
     "output_type": "execute_result"
    }
   ],
   "source": [
    "np.var(arr1)"
   ]
  },
  {
   "cell_type": "code",
   "execution_count": 58,
   "id": "d8835b5e-0b5b-4e2e-826c-47fdf357266a",
   "metadata": {},
   "outputs": [
    {
     "data": {
      "text/plain": [
       "1"
      ]
     },
     "execution_count": 58,
     "metadata": {},
     "output_type": "execute_result"
    }
   ],
   "source": [
    "np.min(arr1)"
   ]
  },
  {
   "cell_type": "code",
   "execution_count": 59,
   "id": "6648b623-f9f1-4fb9-9596-41bf22c32635",
   "metadata": {},
   "outputs": [
    {
     "data": {
      "text/plain": [
       "9"
      ]
     },
     "execution_count": 59,
     "metadata": {},
     "output_type": "execute_result"
    }
   ],
   "source": [
    "np.max(arr1)"
   ]
  }
 ],
 "metadata": {
  "kernelspec": {
   "display_name": "Python 3 (ipykernel)",
   "language": "python",
   "name": "python3"
  },
  "language_info": {
   "codemirror_mode": {
    "name": "ipython",
    "version": 3
   },
   "file_extension": ".py",
   "mimetype": "text/x-python",
   "name": "python",
   "nbconvert_exporter": "python",
   "pygments_lexer": "ipython3",
   "version": "3.10.6"
  }
 },
 "nbformat": 4,
 "nbformat_minor": 5
}
