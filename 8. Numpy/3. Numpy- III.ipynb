{
 "cells": [
  {
   "cell_type": "markdown",
   "id": "905a5a0c-812e-4e2f-a64c-61b95ed356b5",
   "metadata": {},
   "source": [
    "![image](https://pwskills.com/images/PWSkills-main.png)\n",
    "\n",
    "# Data Science Masters\n",
    "\n",
    "## Day - 26\n",
    "## Date- 26 February 2023 \n",
    "## Numpy - III"
   ]
  },
  {
   "cell_type": "markdown",
   "id": "a15af8ec-de2b-4905-9e55-452f2e2b79d3",
   "metadata": {},
   "source": [
    "## Sort, Search & Counting Functions."
   ]
  },
  {
   "cell_type": "code",
   "execution_count": 1,
   "id": "edc9e295-4992-447d-b0fe-6c825ab0c251",
   "metadata": {},
   "outputs": [],
   "source": [
    "import numpy as np"
   ]
  },
  {
   "cell_type": "code",
   "execution_count": 2,
   "id": "3df26a48-811b-4090-86eb-091ceab11c87",
   "metadata": {},
   "outputs": [],
   "source": [
    "arr = np.array([4, 3, 4, 5, 6, 72, 3, 3, 455, 5, 6, 6])"
   ]
  },
  {
   "cell_type": "code",
   "execution_count": 3,
   "id": "c7b1dd61-4388-43d2-a15d-3227b5899bc8",
   "metadata": {},
   "outputs": [
    {
     "data": {
      "text/plain": [
       "array([  4,   3,   4,   5,   6,  72,   3,   3, 455,   5,   6,   6])"
      ]
     },
     "execution_count": 3,
     "metadata": {},
     "output_type": "execute_result"
    }
   ],
   "source": [
    "arr"
   ]
  },
  {
   "cell_type": "code",
   "execution_count": 4,
   "id": "764a8750-a87e-441f-a6de-69bbaaf7437d",
   "metadata": {},
   "outputs": [
    {
     "data": {
      "text/plain": [
       "array([  3,   3,   3,   4,   4,   5,   5,   6,   6,   6,  72, 455])"
      ]
     },
     "execution_count": 4,
     "metadata": {},
     "output_type": "execute_result"
    }
   ],
   "source": [
    "np.sort(arr)"
   ]
  },
  {
   "cell_type": "code",
   "execution_count": 5,
   "id": "2d152f34-07b4-4980-8904-af171ec8d221",
   "metadata": {},
   "outputs": [
    {
     "data": {
      "text/plain": [
       "12"
      ]
     },
     "execution_count": 5,
     "metadata": {},
     "output_type": "execute_result"
    }
   ],
   "source": [
    "np.searchsorted(arr, 34)"
   ]
  },
  {
   "cell_type": "code",
   "execution_count": 6,
   "id": "a417523f-74f0-4c73-8ee1-087157761742",
   "metadata": {},
   "outputs": [],
   "source": [
    "arr1 = np.array([0, 345, 454, 0, 0, 0, 0, 0])"
   ]
  },
  {
   "cell_type": "code",
   "execution_count": 7,
   "id": "a5bef365-16dd-48cf-9138-3179de26d81b",
   "metadata": {},
   "outputs": [
    {
     "data": {
      "text/plain": [
       "2"
      ]
     },
     "execution_count": 7,
     "metadata": {},
     "output_type": "execute_result"
    }
   ],
   "source": [
    "np.count_nonzero(arr1)"
   ]
  },
  {
   "cell_type": "code",
   "execution_count": 8,
   "id": "e66e1c37-2e86-4210-8e45-2399943cd78a",
   "metadata": {},
   "outputs": [
    {
     "data": {
      "text/plain": [
       "array([  4,   3,   4,   5,   6,  72,   3,   3, 455,   5,   6,   6])"
      ]
     },
     "execution_count": 8,
     "metadata": {},
     "output_type": "execute_result"
    }
   ],
   "source": [
    "arr"
   ]
  },
  {
   "cell_type": "code",
   "execution_count": 9,
   "id": "8704a004-f9ad-49fb-8007-ea0d844c834d",
   "metadata": {},
   "outputs": [
    {
     "data": {
      "text/plain": [
       "(array([5, 8]),)"
      ]
     },
     "execution_count": 9,
     "metadata": {},
     "output_type": "execute_result"
    }
   ],
   "source": [
    "np.where(arr > 6)"
   ]
  },
  {
   "cell_type": "code",
   "execution_count": 10,
   "id": "f3839e16-8b08-4e54-9621-35085e38689c",
   "metadata": {},
   "outputs": [
    {
     "data": {
      "text/plain": [
       "array([  4,   4,   5,   6,  72, 455,   5,   6,   6])"
      ]
     },
     "execution_count": 10,
     "metadata": {},
     "output_type": "execute_result"
    }
   ],
   "source": [
    "np.extract(arr>3 , arr)"
   ]
  },
  {
   "cell_type": "markdown",
   "id": "87af4bea-2116-4ced-b2fe-bc17e38c4c41",
   "metadata": {},
   "source": [
    "## Numpy - Byte Swapping."
   ]
  },
  {
   "cell_type": "code",
   "execution_count": 11,
   "id": "34ade5f2-16d6-4416-8e55-a174283eaf93",
   "metadata": {},
   "outputs": [
    {
     "data": {
      "text/plain": [
       "array([  4,   3,   4,   5,   6,  72,   3,   3, 455,   5,   6,   6])"
      ]
     },
     "execution_count": 11,
     "metadata": {},
     "output_type": "execute_result"
    }
   ],
   "source": [
    "arr"
   ]
  },
  {
   "cell_type": "code",
   "execution_count": 12,
   "id": "80e0692d-74d1-49d1-b262-6567a73dc04a",
   "metadata": {},
   "outputs": [
    {
     "data": {
      "text/plain": [
       "array([  288230376151711744,   216172782113783808,   288230376151711744,\n",
       "         360287970189639680,   432345564227567616,  5188146770730811392,\n",
       "         216172782113783808,   216172782113783808, -4107001385185181696,\n",
       "         360287970189639680,   432345564227567616,   432345564227567616])"
      ]
     },
     "execution_count": 12,
     "metadata": {},
     "output_type": "execute_result"
    }
   ],
   "source": [
    "arr.byteswap()"
   ]
  },
  {
   "cell_type": "markdown",
   "id": "900af579-b13f-4084-921b-ad6096cb0022",
   "metadata": {},
   "source": [
    "## Numpy - Copies & Views"
   ]
  },
  {
   "cell_type": "code",
   "execution_count": 13,
   "id": "fccc4556-dcf9-41a7-b110-a4d327f5fbc3",
   "metadata": {},
   "outputs": [
    {
     "data": {
      "text/plain": [
       "array([  4,   3,   4,   5,   6,  72,   3,   3, 455,   5,   6,   6])"
      ]
     },
     "execution_count": 13,
     "metadata": {},
     "output_type": "execute_result"
    }
   ],
   "source": [
    "arr"
   ]
  },
  {
   "cell_type": "code",
   "execution_count": 14,
   "id": "5fe66ca0-4b5d-4fd3-bbcc-57c6aea85808",
   "metadata": {},
   "outputs": [],
   "source": [
    "a = np.copy(arr)"
   ]
  },
  {
   "cell_type": "code",
   "execution_count": 15,
   "id": "6ac732eb-5e60-4742-99a4-dd65c87a8e1b",
   "metadata": {},
   "outputs": [],
   "source": [
    "b = arr.view()"
   ]
  },
  {
   "cell_type": "code",
   "execution_count": 16,
   "id": "f4e717f2-fa54-4047-bc90-b680a17703d1",
   "metadata": {},
   "outputs": [],
   "source": [
    "b = arr"
   ]
  },
  {
   "cell_type": "code",
   "execution_count": 17,
   "id": "bdce87eb-fb9d-4777-ab05-908c919e978c",
   "metadata": {},
   "outputs": [
    {
     "data": {
      "text/plain": [
       "array([  4,   3,   4,   5,   6,  72,   3,   3, 455,   5,   6,   6])"
      ]
     },
     "execution_count": 17,
     "metadata": {},
     "output_type": "execute_result"
    }
   ],
   "source": [
    "b"
   ]
  },
  {
   "cell_type": "code",
   "execution_count": 18,
   "id": "a0a1131d-09c1-45a0-818d-e43956c13a6c",
   "metadata": {},
   "outputs": [
    {
     "data": {
      "text/plain": [
       "array([  4,   3,   4,   5,   6,  72,   3,   3, 455,   5,   6,   6])"
      ]
     },
     "execution_count": 18,
     "metadata": {},
     "output_type": "execute_result"
    }
   ],
   "source": [
    "arr"
   ]
  },
  {
   "cell_type": "code",
   "execution_count": 19,
   "id": "43725e09-8ba4-42c6-90a5-405c8778c3df",
   "metadata": {},
   "outputs": [],
   "source": [
    "b[0] = 67"
   ]
  },
  {
   "cell_type": "code",
   "execution_count": 20,
   "id": "4b44653a-dea3-493a-bcf8-fa2b081e9ba4",
   "metadata": {},
   "outputs": [
    {
     "data": {
      "text/plain": [
       "array([ 67,   3,   4,   5,   6,  72,   3,   3, 455,   5,   6,   6])"
      ]
     },
     "execution_count": 20,
     "metadata": {},
     "output_type": "execute_result"
    }
   ],
   "source": [
    "b"
   ]
  },
  {
   "cell_type": "code",
   "execution_count": 21,
   "id": "7215c2ca-3944-4c52-a0b8-cd8de6b5a7d5",
   "metadata": {},
   "outputs": [
    {
     "data": {
      "text/plain": [
       "array([ 67,   3,   4,   5,   6,  72,   3,   3, 455,   5,   6,   6])"
      ]
     },
     "execution_count": 21,
     "metadata": {},
     "output_type": "execute_result"
    }
   ],
   "source": [
    "arr"
   ]
  },
  {
   "cell_type": "markdown",
   "id": "dc305ec7-278b-4954-a56b-689c624ac9da",
   "metadata": {},
   "source": [
    "## Numpy - Matrix Library"
   ]
  },
  {
   "cell_type": "code",
   "execution_count": 22,
   "id": "c88de0e4-8e91-4c17-9c2c-b03799c45452",
   "metadata": {},
   "outputs": [],
   "source": [
    "import numpy.matlib as nm"
   ]
  },
  {
   "cell_type": "code",
   "execution_count": 23,
   "id": "b1fd0920-6849-4e30-97c4-a8d663a6c248",
   "metadata": {},
   "outputs": [
    {
     "data": {
      "text/plain": [
       "matrix([[0., 0., 0., 0., 0.]])"
      ]
     },
     "execution_count": 23,
     "metadata": {},
     "output_type": "execute_result"
    }
   ],
   "source": [
    "nm.zeros(5)"
   ]
  },
  {
   "cell_type": "code",
   "execution_count": 24,
   "id": "02ea015d-707b-401f-a298-6f47b111f893",
   "metadata": {},
   "outputs": [
    {
     "data": {
      "text/plain": [
       "matrix([[1., 1., 1., 1.],\n",
       "        [1., 1., 1., 1.],\n",
       "        [1., 1., 1., 1.]])"
      ]
     },
     "execution_count": 24,
     "metadata": {},
     "output_type": "execute_result"
    }
   ],
   "source": [
    "nm.ones((3, 4))"
   ]
  },
  {
   "cell_type": "code",
   "execution_count": 25,
   "id": "19d2adbf-e996-4f0d-b3dc-28d3d5849514",
   "metadata": {},
   "outputs": [
    {
     "data": {
      "text/plain": [
       "matrix([[1., 0., 0., 0., 0.],\n",
       "        [0., 1., 0., 0., 0.],\n",
       "        [0., 0., 1., 0., 0.],\n",
       "        [0., 0., 0., 1., 0.],\n",
       "        [0., 0., 0., 0., 1.]])"
      ]
     },
     "execution_count": 25,
     "metadata": {},
     "output_type": "execute_result"
    }
   ],
   "source": [
    "nm.eye(5)"
   ]
  },
  {
   "cell_type": "markdown",
   "id": "26b63ac3-b493-4d78-b061-3ca5a7b3004d",
   "metadata": {},
   "source": [
    "## Numpy - Linear Algebra"
   ]
  },
  {
   "cell_type": "code",
   "execution_count": 26,
   "id": "51c3cada-96bf-4b5f-b937-a4782dc8d48a",
   "metadata": {},
   "outputs": [],
   "source": [
    "arr1 = np.random.randint([[2,3] , [4,5]])"
   ]
  },
  {
   "cell_type": "code",
   "execution_count": 27,
   "id": "a160ada2-614c-4afb-b736-0774c90a99d9",
   "metadata": {},
   "outputs": [],
   "source": [
    "arr2 = np.random.randint([[5,3] , [2,5]])"
   ]
  },
  {
   "cell_type": "code",
   "execution_count": 28,
   "id": "18112620-e2a8-4e9a-884b-db6298f457a7",
   "metadata": {},
   "outputs": [
    {
     "ename": "TypeError",
     "evalue": "dot() missing 2 required positional arguments: 'a' and 'b'",
     "output_type": "error",
     "traceback": [
      "\u001b[0;31m---------------------------------------------------------------------------\u001b[0m",
      "\u001b[0;31mTypeError\u001b[0m                                 Traceback (most recent call last)",
      "Cell \u001b[0;32mIn [28], line 1\u001b[0m\n\u001b[0;32m----> 1\u001b[0m \u001b[43mnp\u001b[49m\u001b[38;5;241;43m.\u001b[39;49m\u001b[43mdot\u001b[49m\u001b[43m(\u001b[49m\u001b[43m)\u001b[49m\n",
      "File \u001b[0;32m<__array_function__ internals>:179\u001b[0m, in \u001b[0;36mdot\u001b[0;34m(*args, **kwargs)\u001b[0m\n",
      "\u001b[0;31mTypeError\u001b[0m: dot() missing 2 required positional arguments: 'a' and 'b'"
     ]
    }
   ],
   "source": [
    "np.dot()"
   ]
  }
 ],
 "metadata": {
  "kernelspec": {
   "display_name": "Python 3 (ipykernel)",
   "language": "python",
   "name": "python3"
  },
  "language_info": {
   "codemirror_mode": {
    "name": "ipython",
    "version": 3
   },
   "file_extension": ".py",
   "mimetype": "text/x-python",
   "name": "python",
   "nbconvert_exporter": "python",
   "pygments_lexer": "ipython3",
   "version": "3.10.6"
  }
 },
 "nbformat": 4,
 "nbformat_minor": 5
}
