{
 "cells": [
  {
   "cell_type": "markdown",
   "id": "f13d4033-f6f6-4eb5-bb66-1952549590c0",
   "metadata": {},
   "source": [
    "![image](https://pwskills.com/images/PWSkills-main.png)\n",
    "\n",
    "# Data Science Masters\n",
    "\n",
    "## Day - 45\n",
    "## Date- 20 March 2023 \n",
    "## Feature Engineering- III"
   ]
  },
  {
   "cell_type": "markdown",
   "id": "ccc4e800-2505-4649-89a5-96fed8aee630",
   "metadata": {},
   "source": [
    "# 1. Data Encoding\n",
    "Data encoding plays an important role in machine learning because machine learning algorithms typically require data to be in a numerical format. This is because mathematical operations can be performed on numerical data, making it easier for the algorithm to process and make predictions.\n",
    "\n",
    "There are several techniques for encoding data for use in machine learning:\n",
    "\n",
    "## 1.1 One-Hot Encoding\n",
    "Nomianal encoding is a technique used to transform categorical variables that have no intrinsic ordering into numericcal values that can be used in Machine Learning models. One common method for nominal encoding is one-hot encoding, which createss a binary vector for each category in the variable.\n",
    "\n",
    "**Disadvantage:**\n",
    "1. Sparse Matrix [Overfitting]\n",
    "2. 1000 features [1000 Categories]\n",
    "\n",
    "## 1.2 Label Encoding\n",
    "This technique is also used for categorical data, but instead of creating a binary vector for each category, each category is assigned a unique integer label.\n",
    "\n",
    "## 1.3 Binary Encoding\n",
    "This technique is used to encode categorical data with a large number of categories. Each category is assigned a unique binary code, which is then used to represent the category.\n",
    "\n",
    "## 1.4 Scaling and Normalization\n",
    "This technique is used for continuous numerical data to ensure that all features are on a similar scale. This can help to improve the performance of some machine learning algorithms.\n",
    "\n",
    "## 1.5 Word Embedding\n",
    "This technique is used for text data, where words are encoded as vectors in a high-dimensional space. The vectors capture the semantic meaning of the words, allowing the machine learning algorithm to understand the relationships between them."
   ]
  }
 ],
 "metadata": {
  "kernelspec": {
   "display_name": "Python 3 (ipykernel)",
   "language": "python",
   "name": "python3"
  },
  "language_info": {
   "codemirror_mode": {
    "name": "ipython",
    "version": 3
   },
   "file_extension": ".py",
   "mimetype": "text/x-python",
   "name": "python",
   "nbconvert_exporter": "python",
   "pygments_lexer": "ipython3",
   "version": "3.10.6"
  }
 },
 "nbformat": 4,
 "nbformat_minor": 5
}
