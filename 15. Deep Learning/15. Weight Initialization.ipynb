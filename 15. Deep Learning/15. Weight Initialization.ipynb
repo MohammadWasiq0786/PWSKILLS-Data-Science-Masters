{
 "cells": [
  {
   "cell_type": "markdown",
   "id": "9917f4f6",
   "metadata": {},
   "source": [
    "![image](https://pwskills.com/images/PWSkills-main.png)\n",
    "\n",
    "# Data Science Masters\n",
    "\n",
    "## Day - 120\n",
    "## Date- 5 June 2023 \n",
    "## Deep Learning - XV\n",
    "\n",
    "### Weight Initialization"
   ]
  },
  {
   "cell_type": "markdown",
   "id": "616d8c22",
   "metadata": {},
   "source": [
    "# Weight Initialization\n",
    "\n",
    "### Table of Contents\n",
    "\n",
    "- Zero weight initialization \n",
    "- Random initialization\n",
    "---\n",
    "### Why do we need weight initialization techniques\n",
    "\n",
    "- The primary aim of weight initialization techniques in neural networks is to avoid issues such as exploding or vanishing gradients during forward propagation. These problems can lead to excessively large or small loss gradients, which may impede the network's ability to converge to an optimal solution. By selecting appropriate weight initialization methods, we can ensure that the network converges to the desired level of performance in the shortest possible time using gradient descent optimization. If the weights are not initialized properly, it may become impossible to achieve convergence to a minimum using gradient descent.\n",
    "\n",
    "### Zero weight initialization\n",
    "\n",
    "- When all the weights in a neural network are initialized to zero, the derivative with respect to the loss function is the same for every weight in the network's weight matrix. As a result, all the weights take on the same value in subsequent iterations, making the hidden layers symmetric. This process continues for all the iterations, resulting in a neural network that is no better than a linear model. It is important to note that setting biases to zero does not cause any issues since non-zero weights break the symmetry, and even if the bias is zero, the values in each neuron will still be different.\n",
    "\n",
    "### Random initialization\n",
    "\n",
    "- Random weight initialization is a technique used to initialize the weights of neural network connections with random values in a specific range. The idea behind this technique is to break the symmetry of weights and prevent vanishing or exploding gradients during the training process.\n",
    "\n",
    "The most commonly used method for random weight initialization is to generate weights from a normal distribution with a mean of 0 and a standard deviation of 1. This means that the weights are randomly initialized with values centred around 0 and spread out within a certain range.\n",
    "\n",
    "However, this method can result in weights that are too small or too large, which can slow down the learning process or cause numerical instability. Therefore, a more commonly used approach is to scale the randomly generated weights by a factor that depends on the number of input and output connections for each neuron.\n",
    "\n",
    "### Weight initialization for sigmoid and tanh\n",
    "\n",
    "1) **Xavier Glorot weight initialization**\n",
    "2) **Normalized Xavier Glorot weight initialization**\n",
    "### Xavier Glorot weight initialization\n",
    "\n",
    "- Xavier weight initialization, also known as Glorot initialization, is a technique for initializing the weights of a neural network. The objective of this technique is to prevent the vanishing or exploding gradient problem during the training of the network. The idea behind Xavier weight initialization is to set the initial weights in such a way that the variance of the outputs of each neuron is the same as the variance of its inputs. This ensures that the gradients do not vanish or explode as they propagate through the network during backpropagation.\n",
    "\n",
    "- The formula for Xavier weight initialization for a layer with n inputs and m outputs is:\n",
    "\n",
    "```python\n",
    "W = np.random.randn(n, m) * np.sqrt(1/n)\n",
    "```\n",
    "\n",
    "- where W is the weight matrix for the layer, np.random.randn(n, m) generates a matrix of random numbers with a normal distribution, and np.sqrt(1/n) scales the random numbers to ensure that the variance of the outputs of each neuron is the same as the variance of its inputs.\n",
    "\n",
    "- Here, the factor 1/n is used because we want the variance of the outputs to be proportional to the number of inputs. This ensures that the variance of the gradients with respect to the inputs is roughly the same for each layer, which helps prevent the gradients from vanishing or exploding.\n",
    "\n",
    "- Let's consider an example to understand Xavier weight initialization better. Suppose we have a neural network with an input layer of size 1000, a hidden layer of size 500, and an output layer of size 10. We can initialize the weights of the hidden layer using Xavier weight initialization as follows:\n",
    "\n",
    "```python\n",
    "W1 = np.random.randn(1000, 500) * np.sqrt(1/1000)\n",
    "W2 = np.random.randn(500, 10) * np.sqrt(1/500)\n",
    "```\n",
    "\n",
    "- Here, W1 is the weight matrix for the hidden layer with 1000 inputs and 500 outputs, and W2 is the weight matrix for the output layer with 500 inputs and 10 outputs. The np.sqrt(1/n) term ensures that the variance of the outputs of each neuron is the same as the variance of its inputs.\n",
    "\n",
    "- By using Xavier weight initialization, we can ensure that the network trains faster and achieves better accuracy compared to random weight initialization or zero weight initialization.\n",
    "\n",
    "### Normalized Xavier Glorot weight initialization\n",
    "\n",
    "Normalized Xavier weight initialization is a variation of the Xavier weight initialization technique that is designed to work better with activation functions that have a range that is not centred around 0. This technique takes into account the scale of the activation function and normalizes the weight initialization accordingly.\n",
    "\n",
    "In the normalized Xavier initialization, the variance of the weights is still defined as $\\frac{1}{n_{in}}$, where $n_{in}$ is the number of neurons in the input layer. However, the weights are then scaled by a factor of $\\sqrt{\\frac{2}{n_{in}+n_{out}}}$, where $n_{out}$ is the number of neurons in the output layer.\n",
    "\n",
    "The derivation of this formula is similar to that of the Xavier initialization, but takes into account the non-zero mean of the activation function. The goal is to initialize the weights such that the inputs to each activation function have approximately zero mean and unit variance, regardless of the specific activation function being used.\n",
    "\n",
    "### Weight Initialization for ReLU\n",
    "\n",
    "#### He Weight Initialization\n",
    "\n",
    "- He Weight Initialization is a weight initialization technique used in neural networks. It is an improvement over the Xavier initialization method and is commonly used in deep neural networks that use the ReLU activation function.\n",
    "\n",
    "- The basic idea behind He initialization is to initialize the weights of each neuron in the network with random values drawn from a Gaussian distribution with a mean of 0 and a standard deviation of sqrt(2/n), where n is the number of inputs to the neuron.\n",
    "\n",
    "- The formula for He initialization is given as:\n",
    "\n",
    "W ~ N(0, sqrt(2/n))\n",
    "\n",
    "Where,\n",
    "W - weight matrix\n",
    "N - normal distribution\n",
    "0 - mean\n",
    "sqrt(2/n) - standard deviation\n",
    "\n",
    "- The factor of sqrt(2/n) in the standard deviation helps to maintain a balance between the variance of the activations and the variance of the gradients in the network, preventing vanishing or exploding gradients.\n",
    "\n",
    "- He initialization is effective for networks that use the ReLU activation function, as it helps to address the problem of vanishing gradients that can occur when using a small initial weight range with ReLU.\n",
    "\n",
    "### Table for choosing weight initialization technique based on the Activation function\n",
    "\n",
    "|Authors| Initialization |Activation function |\n",
    "|--|--|--|\n",
    "|Xavier Glorot and yoshna benjio| Glorot| tanh,sigmoid,softmax|\n",
    "|kaiming He | He | Relu and its variants|"
   ]
  }
 ],
 "metadata": {
  "kernelspec": {
   "display_name": "Python 3 (ipykernel)",
   "language": "python",
   "name": "python3"
  },
  "language_info": {
   "codemirror_mode": {
    "name": "ipython",
    "version": 3
   },
   "file_extension": ".py",
   "mimetype": "text/x-python",
   "name": "python",
   "nbconvert_exporter": "python",
   "pygments_lexer": "ipython3",
   "version": "3.9.12"
  },
  "latex_envs": {
   "LaTeX_envs_menu_present": true,
   "autoclose": false,
   "autocomplete": true,
   "bibliofile": "biblio.bib",
   "cite_by": "apalike",
   "current_citInitial": 1,
   "eqLabelWithNumbers": true,
   "eqNumInitial": 1,
   "hotkeys": {
    "equation": "Ctrl-E",
    "itemize": "Ctrl-I"
   },
   "labels_anchors": false,
   "latex_user_defs": false,
   "report_style_numbering": false,
   "user_envs_cfg": false
  },
  "nbTranslate": {
   "displayLangs": [
    "*"
   ],
   "hotkey": "alt-t",
   "langInMainMenu": true,
   "sourceLang": "en",
   "targetLang": "fr",
   "useGoogleTranslate": true
  },
  "toc": {
   "base_numbering": 1,
   "nav_menu": {},
   "number_sections": true,
   "sideBar": true,
   "skip_h1_title": false,
   "title_cell": "Table of Contents",
   "title_sidebar": "Contents",
   "toc_cell": false,
   "toc_position": {},
   "toc_section_display": true,
   "toc_window_display": false
  },
  "varInspector": {
   "cols": {
    "lenName": 16,
    "lenType": 16,
    "lenVar": 40
   },
   "kernels_config": {
    "python": {
     "delete_cmd_postfix": "",
     "delete_cmd_prefix": "del ",
     "library": "var_list.py",
     "varRefreshCmd": "print(var_dic_list())"
    },
    "r": {
     "delete_cmd_postfix": ") ",
     "delete_cmd_prefix": "rm(",
     "library": "var_list.r",
     "varRefreshCmd": "cat(var_dic_list()) "
    }
   },
   "types_to_exclude": [
    "module",
    "function",
    "builtin_function_or_method",
    "instance",
    "_Feature"
   ],
   "window_display": false
  }
 },
 "nbformat": 4,
 "nbformat_minor": 5
}
