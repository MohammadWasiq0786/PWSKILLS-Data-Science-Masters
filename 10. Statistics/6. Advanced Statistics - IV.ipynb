{
 "cells": [
  {
   "cell_type": "markdown",
   "id": "d8da02b3-f7b9-482d-ade8-ddedff718455",
   "metadata": {},
   "source": [
    "![image](https://pwskills.com/images/PWSkills-main.png)\n",
    "\n",
    "# Data Science Masters\n",
    "\n",
    "## Day - 36\n",
    "## Date- 11 March 2023 \n",
    "## Advanced Statistics - IV"
   ]
  },
  {
   "cell_type": "markdown",
   "id": "b5005647-4961-4125-b278-627a47b25433",
   "metadata": {},
   "source": [
    "# 1. `When To Use t test v z test`"
   ]
  },
  {
   "cell_type": "markdown",
   "id": "1007ae7c-002e-4e13-bdd4-95694cfad0c8",
   "metadata": {},
   "source": [
    "# 2. `Types 1 & Type 2 Errors`\n",
    "**Reality:** Null Hypothesis is True or Null Hypothesis is False.\n",
    "\n",
    "**Decision:** Null Hypothesis is True or Null Hypothesis is False.\n",
    "\n",
    "1. **Outcome 1:** We reject the NUll Hypothesis when in reality it is False $\\rightarrow$ **Good**.\n",
    "\n",
    "2. **Outcome 2:** We reject the Null Hypothesis when in reality it is True $\\rightarrow$ **Type 1 Error**\n",
    "\n",
    "3. **Outcome 3:** We retain the Null Hypothesis, when in reality it is False $\\rightarrow$ **Type 2 Error**\n",
    "\n",
    "4. **Outcome 4:** We retain the Null Hypothesis, when in reality it is True $\\rightarrow$ **Good**"
   ]
  },
  {
   "cell_type": "markdown",
   "id": "7f2d5385-4078-401f-9bed-80dcab62cb38",
   "metadata": {},
   "source": [
    "# 3. `Bayes Theorem`\n",
    "Bayesian statistics is an approach to data analysis and parameter estimation based on **Bayes' Theorem**.\n",
    "\n",
    "## 3.1 Baye's Theorem\n",
    "\n",
    "**Probability**\n",
    "\n",
    "1. **Independent Events**\n",
    "2. **Dependent Events**\n",
    "\n",
    "### 3.1.1 Independent Events\n",
    "$$Pr(A \\cap B)= Pr(A)* Pr(B)$$\n",
    "\n",
    "### 3.1.3 Dependent Events\n",
    "$$Pr(A \\cap B)= Pr(A)* Pr(A/B)$$\n",
    "\n",
    "## 3.2 Bayes' Theorem\n",
    "\n",
    "$$Pr(B/A)= \\frac{Pr(B)* Pr(A/B)}{Pr(A)}$$\n",
    "\n",
    "$$Pr(A/B)= \\frac{Pr(A)* Pr(B/A)}{Pr(B)}$$\n",
    "\n",
    "$$Pr(y/x_1, x_2, x_3)= \\frac{Pr(y)* Pr(x_1, x_2, x_3/y)}{Pr(x_1, x_2, x_3)}$$"
   ]
  },
  {
   "cell_type": "markdown",
   "id": "6fd166cc-eda6-40e4-8c71-86636f7f521b",
   "metadata": {},
   "source": [
    "# 4. `Confidence Interval`\n",
    "\n",
    "![ci](https://th.bing.com/th/id/R.41c5cf61949fc70b41033c4c48af99ca?rik=457CKRlvh57Y9Q&pid=ImgRaw&r=0)\n",
    "\n",
    "## 4.1 Point Estimate\n",
    "A value of any statistics that estimates the value of an unknown population parameter is called Point Estimate.\n",
    "\n",
    "$$\\bar{x}(2.95) \\rightarrow \\mu(3)$$\n",
    "\n",
    "## 4.2 Confidence Interval\n",
    "We construct a confidence interval to help estimate what the actual value of the unknown population mean is.\n",
    "\n",
    "$$\\text{Point Estimate} \\pm \\text{Margin of Error}$$\n",
    "\n",
    "$$\\bar{x} \\pm Z_{\\alpha/2} \\frac{\\sigma}{\\sqrt{n}}$$"
   ]
  }
 ],
 "metadata": {
  "kernelspec": {
   "display_name": "Python 3 (ipykernel)",
   "language": "python",
   "name": "python3"
  },
  "language_info": {
   "codemirror_mode": {
    "name": "ipython",
    "version": 3
   },
   "file_extension": ".py",
   "mimetype": "text/x-python",
   "name": "python",
   "nbconvert_exporter": "python",
   "pygments_lexer": "ipython3",
   "version": "3.10.6"
  }
 },
 "nbformat": 4,
 "nbformat_minor": 5
}
