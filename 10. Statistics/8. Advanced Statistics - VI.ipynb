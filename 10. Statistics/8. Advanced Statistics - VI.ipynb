{
 "cells": [
  {
   "cell_type": "markdown",
   "id": "1b7f080f-f8a7-438a-9f1e-1b3df7fb1f4d",
   "metadata": {},
   "source": [
    "![image](https://pwskills.com/images/PWSkills-main.png)\n",
    "\n",
    "# Data Science Masters\n",
    "\n",
    "## Day - 38\n",
    "## Date- 13 March 2023 \n",
    "## Advanced Statistics - VI"
   ]
  },
  {
   "cell_type": "markdown",
   "id": "ea149206-320e-4210-b32d-94ae20a30fa6",
   "metadata": {},
   "source": [
    "# 1. `F Distribution`\n",
    "In probability theory and statistics, the F distribution or F-ratio, also known as Snedecor's F distribution or the Fisher-Snedecor elbtribution (after Ronald Fisher and George W. Snedecor) is a continuous probability distribution that arises frequently as the null distribution of a test statistics, most notably in the analysis of variance (ANOVA) and other F-tests.\n",
    "\n",
    "![f](https://imsmwu.github.io/MRDA2019/_book/fdistributions.png)\n",
    "\n",
    "**Parameters:** $d_1, d_2>0$ degree of freedom\n",
    "\n",
    "**Support:** $x \\in(0, +\\infty)$\n",
    "\n",
    "$$f(x ; d_1, d_2)= \\frac{\\sqrt{\\frac{\\left(d_1 x\\right)^{d_1} d_2^{d_2}}{\\left(d_1 x+d_2\\right)^{d_1+d_2}}}}{x \\mathrm{B}\\left(\\frac{d_1}{2}, \\frac{d_2}{2}\\right)}$$\n",
    "\n",
    "$$B(m, n)= \\frac{(m-1)!(n-1)!}{(m+n-1)}= \\frac{m+n}{mn} \\Big/{{m+n} \\choose m}$$\n",
    "\n",
    "The F distribution with $d_1$ and $d_2$ degree of freedom is the distribution of \n",
    "$$\\chi= \\frac{S_1/d_1}{S_2/d_2}$$\n",
    "\n",
    "$S_1$= $S_2$= Independent random variable\n",
    "<br> $d_1$= degree of freedom for $S_1$\n",
    "<br> $d_2$= degree of freedom for $S_2$"
   ]
  },
  {
   "cell_type": "markdown",
   "id": "ead2d53f-a7c6-4e88-a696-5b68fb9eb8ee",
   "metadata": {},
   "source": [
    "# 2. `F test`"
   ]
  },
  {
   "cell_type": "code",
   "execution_count": 1,
   "id": "3906344d-ca06-4393-89fe-4f16f2a63414",
   "metadata": {},
   "outputs": [],
   "source": [
    "# Evidence to say that the two population variances are not equal.\n",
    "\n",
    "worker1= [18, 19, 22, 25, 27, 28, 41, 45, 51, 55]\n",
    "worker2= [14, 15, 15, 17, 18, 22, 25, 25, 27, 34]"
   ]
  },
  {
   "cell_type": "code",
   "execution_count": 2,
   "id": "9af4e31f-3ee6-4d7e-ad66-db45d2a9ce8e",
   "metadata": {},
   "outputs": [],
   "source": [
    "# Calaculating Ftest\n",
    "import numpy as np\n",
    "f_test= np.var(worker1)/np.var(worker2)"
   ]
  },
  {
   "cell_type": "code",
   "execution_count": 3,
   "id": "31517bb8-5493-4098-a4e8-38b3e264d511",
   "metadata": {},
   "outputs": [
    {
     "data": {
      "text/plain": [
       "4.387122002085506"
      ]
     },
     "execution_count": 3,
     "metadata": {},
     "output_type": "execute_result"
    }
   ],
   "source": [
    "f_test"
   ]
  },
  {
   "cell_type": "code",
   "execution_count": 4,
   "id": "c77e5a84-bc78-497d-b970-01e5a303661f",
   "metadata": {},
   "outputs": [],
   "source": [
    "# Degree OF freedom\n",
    "df1= len(worker1)-1\n",
    "df2= len(worker2)-1\n",
    "\n",
    "signifance_value= 0.05"
   ]
  },
  {
   "cell_type": "code",
   "execution_count": 5,
   "id": "3f4abda7-203a-4abd-893f-7ea771ae81db",
   "metadata": {},
   "outputs": [],
   "source": [
    "import scipy.stats as stat"
   ]
  },
  {
   "cell_type": "code",
   "execution_count": 6,
   "id": "5f622656-0e73-4011-a162-ecf88d8d8e84",
   "metadata": {},
   "outputs": [],
   "source": [
    "critical_value= stat.f.ppf(q=1-signifance_value,dfn=df1,dfd=df2)"
   ]
  },
  {
   "cell_type": "code",
   "execution_count": 7,
   "id": "a398d664-29d5-450b-ab38-f07293d0ca63",
   "metadata": {},
   "outputs": [
    {
     "data": {
      "text/plain": [
       "3.178893104458269"
      ]
     },
     "execution_count": 7,
     "metadata": {},
     "output_type": "execute_result"
    }
   ],
   "source": [
    "critical_value"
   ]
  },
  {
   "cell_type": "code",
   "execution_count": 8,
   "id": "3399c68b-d922-4513-af34-156572df665f",
   "metadata": {},
   "outputs": [
    {
     "name": "stdout",
     "output_type": "stream",
     "text": [
      "Reject the Null Hypothesis\n"
     ]
    }
   ],
   "source": [
    "if f_test>critical_value:\n",
    "    print(\"Reject the Null Hypothesis\")\n",
    "else:\n",
    "    print(\"We fail to Reject the Null Hypothesis\")"
   ]
  }
 ],
 "metadata": {
  "kernelspec": {
   "display_name": "Python 3 (ipykernel)",
   "language": "python",
   "name": "python3"
  },
  "language_info": {
   "codemirror_mode": {
    "name": "ipython",
    "version": 3
   },
   "file_extension": ".py",
   "mimetype": "text/x-python",
   "name": "python",
   "nbconvert_exporter": "python",
   "pygments_lexer": "ipython3",
   "version": "3.10.6"
  }
 },
 "nbformat": 4,
 "nbformat_minor": 5
}
