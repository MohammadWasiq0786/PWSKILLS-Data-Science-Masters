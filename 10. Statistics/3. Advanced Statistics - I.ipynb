{
 "cells": [
  {
   "cell_type": "markdown",
   "id": "92257c6d-cc60-467b-acd2-66e214e2eeb9",
   "metadata": {},
   "source": [
    "![image](https://pwskills.com/images/PWSkills-main.png)\n",
    "\n",
    "# Data Science Masters\n",
    "\n",
    "## Day - 33\n",
    "## Date- 8 March 2023 \n",
    "## Advanced Statistics - I"
   ]
  },
  {
   "cell_type": "markdown",
   "id": "ed13ac8a-0782-4cf8-b1a0-48f75277bdae",
   "metadata": {},
   "source": [
    "# 1. `Probability`\n",
    "\n",
    "## 1.1 Probability Density Function (pdf)\n",
    "\n",
    "### 1.1.1 Continuous PD\n",
    "![pdf](https://th.bing.com/th/id/R.bab202ab67d19161e7f70ce8a1403af5?rik=2vnl61RG8e5J9Q&pid=ImgRaw&r=0)\n",
    "\n",
    "## 1.2 Probability Mass Function (pmf)\n",
    "$Variable \\rightarrow \\text{Discrete Random Variable}$\n",
    "\n",
    "![pmf](https://www.researchgate.net/publication/341251626/figure/download/fig1/AS:888943960653824@1588952164228/Probability-mass-function-for-exact-distribution-for-the-difference-of-two-population.ppm)\n",
    "\n",
    "## 1.3 Cumulative Distribution Function (cdf)\n",
    "![cdf](https://www.allaboutcircuits.com/uploads/articles/the-cumulative-distribution-function-and-probabilities-in-normally-distributed-data-rk-aac-image2.jpg)"
   ]
  },
  {
   "cell_type": "markdown",
   "id": "85f354d8-cafd-4774-9b66-8f4cedb09dce",
   "metadata": {},
   "source": [
    "# 2. `PDF` & `PMF`\n",
    "\n",
    "## 2.1 Probability Density Function (PDF)\n",
    "\n",
    "## 2.2 Probability Mass Function (PMF)\n",
    "\n",
    "## 2.3 Cumulative Distribution Function (CDF)"
   ]
  },
  {
   "cell_type": "markdown",
   "id": "94f363f7-8714-46e7-aaa3-177c99522a98",
   "metadata": {},
   "source": [
    "# 3. `Types of Probability Distribution`\n",
    "\n",
    "## 3.1 Normal/Gaussian Distribution\n",
    "\n",
    "## 3.2 Bernoulli Distribution\n",
    "\n",
    "## 3.3 Binomial Distribution\n",
    "\n",
    "## 3.4 Uniform Distribution\n",
    "\n",
    "## 3.5 Poisson Distribution\n",
    "\n",
    "## 3.6 Log Normal Distribution"
   ]
  },
  {
   "cell_type": "markdown",
   "id": "fd67837a-7e20-4992-9f54-42f33ef83b6e",
   "metadata": {},
   "source": [
    "#  4. `Bernoulli Distribution`\n",
    "In probability theory and statistics, the **Bernoulli Distribution**, named after Swiss mathematician **Jocab Bernoulli**, is the discrete probability distribution of a random variable which takes the value *1 with probability p and the value 0 with probability q= 1-p*. Less formally, it can be throught of as a model for the set of possible outcomes of any single experiment that asks a yes-no question.\n",
    "\n",
    "* Discrete Random Variable (pmf)\n",
    "* Outcomes are Binary\n",
    "\n",
    "**Parameters:**\n",
    "* $0 \\leq p \\leq 1$\n",
    "* $q= 1-p$\n",
    "* $x= \\{0, 1\\} \\rightarrow 2$\n",
    "\n",
    "**PMF:**\n",
    "$$F(x)=p^x \\times (1-p)^{1-k}, \\quad k \\in \\{0, 1\\}$$\n",
    "\n",
    "**Mean:**\n",
    "$$E(x)= p$$\n",
    "\n",
    "**Median:**\n",
    "\n",
    "$$\n",
    "Median= \n",
    "\\begin{cases}\n",
    "0, & if\\, p<1/2\\\\\n",
    "[0, 1]& if\\, p=1/2\\\\\n",
    "1. & if\\, p>1/2\n",
    "\\end{cases}\n",
    "$$\n",
    "\n",
    "**Variance:**\n",
    "$$Var(x)= p(1-p)$$"
   ]
  },
  {
   "cell_type": "markdown",
   "id": "04ffe733-37be-45c6-9da6-09fa6bf54941",
   "metadata": {},
   "source": [
    "#  5. `Binomial Distribution`\n",
    "In probability theory and statistics, the binomial distribution with parameters n and p is the discrete probability distribution of the number of successes in a sequence of n independent experiments, each asking a yes-no question, and each *with its own Boolean-valued outcome: success (with probability p) or failure q-1-p*. A single success/failure experiment is also called a Bernoulli trial or Bernoulli experiment, and *a sequence of outcomes is called a Bernoulli process; for a single trial, i.e., n = 1, the binomial distribution is a Bernoulli distribution*. The binomial distribution is the basis for the popular binomial test of statistical significance.\n",
    "\n",
    "**Notation:** $B(n, p)$\n",
    "\n",
    "**Parameter:**\n",
    "* $n \\in \\{0, 1, 2, 3,....\\} \\rightarrow \\text{no. of trials}$\n",
    "* $p \\in [0, 1] \\rightarrow \\text{success probability for each trail}$\n",
    "* $q= 1-p$\n",
    "\n",
    "**PMF:**\n",
    "$$F(x, n, p)= {n \\choose x} p^x (1-p)^{n-k}, \\quad \\text{for k= 1, 2, 3, ...., n}$$\n",
    "\n",
    "where,\n",
    "<br> ${n \\choose x}= \\frac{n!}{x! (n-k)!}$\n",
    "\n",
    "**Mean:** \n",
    "$$E(x)= np$$\n",
    "\n",
    "**Variance:**\n",
    "$$Var(x)= npq$$"
   ]
  },
  {
   "cell_type": "markdown",
   "id": "91e16efc-643a-4355-9afc-e0f1c450924b",
   "metadata": {},
   "source": [
    "# 6. `Poisson Distribution`\n",
    "* Discrete Random Variable (pmf)\n",
    "* Describe the number of events occuring in a fixed time interval.\n",
    "\n",
    "**Ex:** No. of people visiting hospital every hour.\n",
    "<br> No. of people visiting banks every hour.\n",
    "\n",
    "**PMF:**\n",
    "$$F(x)= \\frac{e^{\\lambda} \\lambda^x}{x!}$$\n",
    "\n",
    "**Mean:**\n",
    "$$E(x)= \\lambda$$\n",
    "\n",
    "**Variance:**\n",
    "$$Var(x)= \\lambda$$\n",
    "\n",
    "where,  $\\lambda$ is the expected no. of events to occur at every time interval.\n"
   ]
  },
  {
   "cell_type": "markdown",
   "id": "336810b4-1327-40c0-86e2-7f78826e6b16",
   "metadata": {},
   "source": [
    "# 7. `Normal/Gaussian Distribution`\n",
    "In statistics, a normal/gaussian distribution is a type of continuous probability distribution for a real-valued random  variable.\n",
    "\n",
    "![normal](https://www.investopedia.com/thmb/SOMxRnJqCFiqd_nD4RY8OQqHuKo=/6250x3959/filters:no_upscale():max_bytes(150000):strip_icc()/LognormalandNormalDistribution1-7ffee664ca9444a4b2c85c2eac982a0d.png)\n",
    "\n",
    "**Notation:** $N(\\mu, \\sigma^2)$\n",
    "\n",
    "**Parameters**\n",
    "<br> $\\mu \\in R= Mean$\n",
    "<br> $\\sigma^2 \\in R>0= Variance$\n",
    "<br> $x \\in R$\n",
    "\n",
    "**PDF**\n",
    "$$f(x)= \\frac{1}{\\sigma \\sqrt{2\\pi}} e^{\\frac{1}{2}\\Big(\\frac{x- \\mu}{\\sigma}\\Big)^2}$$\n",
    "\n",
    "**Mean of Normal Distribution:**\n",
    "\n",
    "* **Mean=** $\\mu$= **Average**\n",
    "* **Variance=** $\\sigma^2$\n",
    "* **Std=** $\\sigma= \\sqrt{Var}$\n",
    "\n",
    "**Empirical Rule of Normal Distribution:**\n",
    "\n",
    "![img](https://lh3.googleusercontent.com/proxy/brWm3juak3JWbcxNeRV6BZ5mqgC-fWw6_eT1Qpynvxxy47LNZjP4ryA6kn9-KeKpze18s1BcolExjjIZBLy_QTZjSK9lqhykbUy7QPmAF1vzzatBj56s2NYfcOimWO8Vue_lPxQJVmPWF9fBX0gTqwlazuSGpgXF3qJuG_OIkEe7yZbRz4y3RmKF7b_Oxuo-KSSpUTmutGATjARFfbA=w1200-h630-p-k-no-nu)\n",
    "\n",
    "**Probability:**\n",
    "* $Pr(\\mu- \\sigma \\le x \\le \\mu+ \\sigma) \\approx 68\\%$\n",
    "* $Pr(\\mu- 2\\sigma \\le x \\le \\mu+ 2\\sigma) \\approx 95\\%$\n",
    "* $Pr(\\mu- 3\\sigma \\le x \\le \\mu+ 3\\sigma) \\approx 99.7\\%$\n",
    "\n",
    "**Ex:** \n",
    "1. Weight of the student in the class.\n",
    "2. Height of the student in the class.\n",
    "3. IRIS dataset \\{Sepal Lenght\\}"
   ]
  },
  {
   "cell_type": "code",
   "execution_count": null,
   "id": "fd370e63-6c60-4328-80d0-def3d856a2ee",
   "metadata": {},
   "outputs": [],
   "source": []
  }
 ],
 "metadata": {
  "kernelspec": {
   "display_name": "Python 3 (ipykernel)",
   "language": "python",
   "name": "python3"
  },
  "language_info": {
   "codemirror_mode": {
    "name": "ipython",
    "version": 3
   },
   "file_extension": ".py",
   "mimetype": "text/x-python",
   "name": "python",
   "nbconvert_exporter": "python",
   "pygments_lexer": "ipython3",
   "version": "3.10.6"
  }
 },
 "nbformat": 4,
 "nbformat_minor": 5
}
