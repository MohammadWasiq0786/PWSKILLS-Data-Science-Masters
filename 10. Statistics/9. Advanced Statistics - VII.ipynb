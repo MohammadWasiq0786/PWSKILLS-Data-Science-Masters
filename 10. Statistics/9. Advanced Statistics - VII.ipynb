{
 "cells": [
  {
   "cell_type": "markdown",
   "id": "910fb6e5-9afc-4ff5-ba4a-beab1932da68",
   "metadata": {},
   "source": [
    "![image](https://pwskills.com/images/PWSkills-main.png)\n",
    "\n",
    "# Data Science Masters\n",
    "\n",
    "## Day - 39\n",
    "## Date- 14 March 2023 \n",
    "## Advanced Statistics - VII"
   ]
  },
  {
   "cell_type": "markdown",
   "id": "b3a37b35-77d4-4a97-8a00-f050d6e57819",
   "metadata": {},
   "source": [
    "# 1. `Analysis of Variance` (ANOVA)\n",
    "ANOVA is a statistical method used to compare the means of 2 or more group.\n",
    "\n",
    "## 1.1 ANOVA\n",
    "\n",
    "### 1.1.1 Factors (Variables)\n",
    "\n",
    "### 1.1.2 Levels"
   ]
  },
  {
   "cell_type": "markdown",
   "id": "911cd231-67ae-4e6b-b245-304bca3aa5fc",
   "metadata": {},
   "source": [
    "# 2. `Assumptions of ANOVA`\n",
    "1. Normality of sampling distribution of means.\n",
    "<br> The distribution of square mean is normaly distributed.\n",
    "2. Absence of Outliers.\n",
    "<br> Outlying score need to be removed from dataset.\n",
    "3. Homogenity of variance.\n",
    "<br> Each one of the population has same variance.\n",
    "<br> $\\sigma_1^2= \\sigma_2^2= \\sigma_3^2$\n",
    "<br> Population variance in different levels of each independent variable are equal.\n",
    "4. Sample are independent and random."
   ]
  },
  {
   "cell_type": "markdown",
   "id": "77e5158e-f66a-4afa-b9ad-e5891b112732",
   "metadata": {},
   "source": [
    "# 3. `Types of ANOVA`\n",
    "\n",
    "## 3.1 One Way ANOVA\n",
    "One factor with atleast 2 levels, these levels are independent.\n",
    "\n",
    "## 3.2 Repeated Measures ANOVA\n",
    "One factor with atleast 2 levels, levels are dependent.\n",
    "\n",
    "## 3.3 Facrorial ANOVA\n",
    "Two or more factors (each of which with atleast 2 levels), levels can be either independent and dependent."
   ]
  },
  {
   "cell_type": "markdown",
   "id": "eec71d95-072b-49d3-92fa-bfefcb69c694",
   "metadata": {},
   "source": [
    "# 4. `Partitioning Of Variance In The Anova Hypothesis testing`\n",
    "\n",
    "## 4.1 Hypothesis Testing in ANOVA\n",
    "**Null Hypothesis** $(H_0)$ : $\\mu_1= \\mu_2= \\cdots= \\mu_k$\n",
    "\n",
    "**Alternate Hypothesis** $(H_1)$ : $\\mu_1 \\neq \\mu_2 \\neq \\cdots \\neq \\mu_k$\n",
    "\n",
    "## 4.1 Test Statistics\n",
    "$$F= \\frac{\\text{Variance between Samples}}{\\text{Variance within Samples}}$$"
   ]
  }
 ],
 "metadata": {
  "kernelspec": {
   "display_name": "Python 3 (ipykernel)",
   "language": "python",
   "name": "python3"
  },
  "language_info": {
   "codemirror_mode": {
    "name": "ipython",
    "version": 3
   },
   "file_extension": ".py",
   "mimetype": "text/x-python",
   "name": "python",
   "nbconvert_exporter": "python",
   "pygments_lexer": "ipython3",
   "version": "3.10.6"
  }
 },
 "nbformat": 4,
 "nbformat_minor": 5
}
