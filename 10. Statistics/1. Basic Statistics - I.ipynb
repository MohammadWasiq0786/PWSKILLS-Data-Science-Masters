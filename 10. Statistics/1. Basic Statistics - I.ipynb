{
 "cells": [
  {
   "cell_type": "markdown",
   "id": "0ad5332c-f38d-4553-8229-b5c8322c890d",
   "metadata": {},
   "source": [
    "![image](https://pwskills.com/images/PWSkills-main.png)\n",
    "\n",
    "# Data Science Masters\n",
    "\n",
    "## Day - 31\n",
    "## Date- 6 March 2023 \n",
    "## Basic Statistics - I"
   ]
  },
  {
   "cell_type": "markdown",
   "id": "aa7cbc61-23e0-4e07-9b32-92d2db3858d9",
   "metadata": {},
   "source": [
    "# 1. **`Introduction to Statistics`**\n",
    "\n",
    "## 1.1 Statistics\n",
    "**Statistics is the science of collecting, organizing, and analyzing data.**\n",
    "\n",
    "### 1.1.1 Data\n",
    "**Facts or Pieces of information**\n",
    "\n",
    "**Ex-:** Height of students in classroom.\n",
    "\n",
    "## 1.2 Types of Statistics\n",
    "\n",
    "### 1.2.1 Descriptive Statistics\n",
    "It consists of organizing and summarizing data.\n",
    "1. Measure of Central Tendency [Mean, Median, Mode]\n",
    "2. Measure of Dispersion [Variance, Standard Deviation]\n",
    "3. Different type of distribution of data.\n",
    "\n",
    "**Ex-:** Histogram,, pdf, cdf, pmf, etc.\n",
    "\n",
    "### 1.2.2 Inferential Statistics\n",
    "It consists of using data you have measured to form conclusion.\n",
    "\n",
    "$$Sample \\Rightarrow Population$$\n",
    "\n",
    "1. z- Test\n",
    "2. t- Test\n",
    "3. $\\chi^2$ Test\n",
    "\n",
    "**Example:** Lets say there are 20 statistics classes at your college and you have collected the height of students in the class.\n",
    "\n",
    "Height of records= [175, 180, 140, 140, 135, 160, 153, 190] in cm.\n",
    "\n",
    "**Descriptive Question:** What is the height of the entire classroom.\n",
    "\n",
    "$$\\text{Avg. Height}= \\frac{175+ 180+ 140+ 140+ 135+ 160+ 153+ 190}{8}$$\n",
    "\n",
    "**Inferential Question:** Are the height of the sample students in classroom similar to what you expert in the entire college.\n",
    "\n",
    "**Population and Sample Data**\n",
    "\n",
    "**Population:** The group you are interested in studying.\n",
    "\n",
    "**Sample:** A subset of population."
   ]
  },
  {
   "cell_type": "markdown",
   "id": "b791dc8e-710a-4685-b091-aed589247ebc",
   "metadata": {},
   "source": [
    "# 2. `Types of Data`\n",
    "There are two types of data\n",
    "\n",
    "## 2.1 Quantitation Data\n",
    "There are two types of Quantitation Data\n",
    "\n",
    "### 2.1.1 Discrete [Whole Number]\n",
    "**Ex:** No. of bank account, No. of children in a family, etc.\n",
    "\n",
    "### 2.1.2 Continuous [Any Number]\n",
    "**Ex:** Weight, Height, Temperature, Speed, etc.\n",
    "\n",
    "## 2.2 Qualitative Data/ Categorical Data\n",
    "There are two types of Qualitative Data\n",
    "\n",
    "### 2.2.1 Nominal Data\n",
    "**Ex:** Gender, Blood Group, Pincode, etc.\n",
    "\n",
    "### 2.2.2 Ordinal Data\n",
    "**Ex:** Customer Feedback [Good,Bad, Better]"
   ]
  },
  {
   "cell_type": "markdown",
   "id": "9da04ec7-fbc3-4425-b8b2-96acc28a0810",
   "metadata": {
    "tags": []
   },
   "source": [
    "# 3 `Level of Measurement`\n",
    "\n",
    "## 3.1 Nominal Scale Data\n",
    "* Qualitative/Categorical Data\n",
    "* *Ex-:* Name, Gender, Colors, etc.\n",
    "* Order does not matter.\n",
    "\n",
    "## 3.2 Ordinal Scale Data\n",
    "* Ranking is important.\n",
    "* Order matter.\n",
    "* Difference can not be measured,\n",
    "\n",
    "## 3.3 Interval Scale Data\n",
    "* The order matter.\n",
    "* Difference can be measured.\n",
    "* Ratio can not be measured.\n",
    "* No `0` starting point.\n",
    "\n",
    "## 3.4 Ratio Scale Data\n",
    "* The order Data\n",
    "* Difference are measurable (including ratio).\n",
    "* Cantains a `0` starting point.\n",
    "\n",
    "**Example:** \n",
    "1. Lenght of differnt rivers in the world.\n",
    "2. Favorite food based on Gender.\n",
    "3. Marital status.\n",
    "4. IQ measurement."
   ]
  }
 ],
 "metadata": {
  "kernelspec": {
   "display_name": "Python 3 (ipykernel)",
   "language": "python",
   "name": "python3"
  },
  "language_info": {
   "codemirror_mode": {
    "name": "ipython",
    "version": 3
   },
   "file_extension": ".py",
   "mimetype": "text/x-python",
   "name": "python",
   "nbconvert_exporter": "python",
   "pygments_lexer": "ipython3",
   "version": "3.10.6"
  }
 },
 "nbformat": 4,
 "nbformat_minor": 5
}
