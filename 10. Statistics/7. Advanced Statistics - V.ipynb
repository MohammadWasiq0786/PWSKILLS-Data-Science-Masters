{
 "cells": [
  {
   "cell_type": "markdown",
   "id": "29fccd03-d1bb-41f4-ae5f-81bf2222b1de",
   "metadata": {},
   "source": [
    "![image](https://pwskills.com/images/PWSkills-main.png)\n",
    "\n",
    "# Data Science Masters\n",
    "\n",
    "## Day - 37\n",
    "## Date- 12 March 2023 \n",
    "## Advanced Statistics - V"
   ]
  },
  {
   "cell_type": "markdown",
   "id": "baad56e2-be22-4b96-bc12-c7fefe71c3cd",
   "metadata": {},
   "source": [
    "# 1. $\\chi^2$ Test\n",
    "The $\\chi^2$ tset for Goodness of fit test claims that about population proportion. {categorical variables}\n",
    "\n",
    "It is a non-parametric test that is performed on categorical [ordinal, normal] data."
   ]
  },
  {
   "cell_type": "markdown",
   "id": "8e08a8ce-41e7-42ed-b2b8-87e5ad32a9d7",
   "metadata": {},
   "source": [
    "# 2. $\\chi^2$ Square For Goodness Of Fit\n",
    "In 2010 census of the city, the weight of the individuals in a city were found to be the following:\n",
    "\n",
    "| <50kg | 50 - 75 | >75 |\n",
    "|-------|---------|-----|\n",
    "| 20%   | 30%     | 50% |\n",
    "\n",
    "In 2020, weight of n=500 individuals were sampled. Below are the results.\n",
    "\n",
    "| <50kg | 50 - 75 | >75 |\n",
    "|-------|---------|-----|\n",
    "| 140   | 160     | 200 |\n",
    "\n",
    "Using $\\alpha= 0.05$, would you conclude the population difference of weights has charged in the last 10 years?\n",
    "\n",
    "**Ans:**\n"
   ]
  },
  {
   "cell_type": "markdown",
   "id": "f3553804-8ef1-4be3-bf48-d7beb30f45bb",
   "metadata": {},
   "source": [
    "# 3. $\\chi^2$ Test"
   ]
  },
  {
   "cell_type": "code",
   "execution_count": 1,
   "id": "34419233-8e31-4d45-9257-5800253a6955",
   "metadata": {},
   "outputs": [],
   "source": [
    "import scipy.stats as stat\n",
    "import numpy as np"
   ]
  },
  {
   "cell_type": "code",
   "execution_count": 2,
   "id": "63222050-2593-4590-afa8-9ff199686ec0",
   "metadata": {},
   "outputs": [],
   "source": [
    "# No of hours student study in a weekly basis daily\n",
    "# Monday, Tuesday, Wednesday, Thursday, Friday, Saturday, Sunday\n",
    "expected_data= [8,6,7,9,6,9,7]\n",
    "observed_data= [7,8,6,9,9,6,7]"
   ]
  },
  {
   "cell_type": "code",
   "execution_count": 3,
   "id": "c525c709-0c64-4918-99c0-bc57bc0117e0",
   "metadata": {},
   "outputs": [
    {
     "data": {
      "text/plain": [
       "(52, 52)"
      ]
     },
     "execution_count": 3,
     "metadata": {},
     "output_type": "execute_result"
    }
   ],
   "source": [
    "sum(expected_data sum(observed_data)"
   ]
  },
  {
   "cell_type": "code",
   "execution_count": 4,
   "id": "4a7f2019-b2ef-4cb7-8d42-f326f2f9f0c7",
   "metadata": {},
   "outputs": [],
   "source": [
    "# Chi-Square Goodness Of Fit Test\n",
    "\n",
    "chisquare_test_statistic, p_value= stat.chisquare(observed_data, expected_data)"
   ]
  },
  {
   "cell_type": "code",
   "execution_count": 5,
   "id": "6e73c399-5d98-4e6e-8bb8-b32594b35ac9",
   "metadata": {},
   "outputs": [
    {
     "data": {
      "text/plain": [
       "(3.4345238095238093, 0.7526596580922865)"
      ]
     },
     "execution_count": 5,
     "metadata": {},
     "output_type": "execute_result"
    }
   ],
   "source": [
    "chisquare_test_statistic, p_value"
   ]
  },
  {
   "cell_type": "code",
   "execution_count": 6,
   "id": "65567473-e634-4292-826a-06704a53696f",
   "metadata": {},
   "outputs": [
    {
     "name": "stdout",
     "output_type": "stream",
     "text": [
      "6\n"
     ]
    }
   ],
   "source": [
    "# find the critical value\n",
    "\n",
    "significane_value= 0.05\n",
    "dof= len(expected_data)-1\n",
    "\n",
    "print(dof)\n",
    "\n",
    "critical_value= stat.chi2.ppf(1-significane_value, dof)"
   ]
  },
  {
   "cell_type": "code",
   "execution_count": 7,
   "id": "c58dc825-aa17-49a8-a364-21f7a5498d06",
   "metadata": {},
   "outputs": [
    {
     "data": {
      "text/plain": [
       "12.591587243743977"
      ]
     },
     "execution_count": 7,
     "metadata": {},
     "output_type": "execute_result"
    }
   ],
   "source": [
    "critical_value"
   ]
  },
  {
   "cell_type": "code",
   "execution_count": 8,
   "id": "5cfe7e75-410d-4b8f-b047-b98fd51f4a20",
   "metadata": {},
   "outputs": [
    {
     "name": "stdout",
     "output_type": "stream",
     "text": [
      "Accept the null hypothesis\n"
     ]
    }
   ],
   "source": [
    "if chisquare_test_statistic > critical_value:\n",
    "    print(\"Reject the null hypothesis\")\n",
    "else:\n",
    "    print(\"Accept the null hypothesis\")"
   ]
  }
 ],
 "metadata": {
  "kernelspec": {
   "display_name": "Python 3 (ipykernel)",
   "language": "python",
   "name": "python3"
  },
  "language_info": {
   "codemirror_mode": {
    "name": "ipython",
    "version": 3
   },
   "file_extension": ".py",
   "mimetype": "text/x-python",
   "name": "python",
   "nbconvert_exporter": "python",
   "pygments_lexer": "ipython3",
   "version": "3.10.6"
  }
 },
 "nbformat": 4,
 "nbformat_minor": 5
}
