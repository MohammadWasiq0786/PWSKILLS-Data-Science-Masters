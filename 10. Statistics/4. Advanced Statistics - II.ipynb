{
 "cells": [
  {
   "cell_type": "markdown",
   "id": "ad62de58-398b-43b4-ba61-b89bdb6643de",
   "metadata": {},
   "source": [
    "![image](https://pwskills.com/images/PWSkills-main.png)\n",
    "\n",
    "# Data Science Masters\n",
    "\n",
    "## Day - 34\n",
    "## Date- 9 March 2023 \n",
    "## Advanced Statistics - II"
   ]
  },
  {
   "cell_type": "markdown",
   "id": "e315c1ce-187e-43cd-9053-10091e2be557",
   "metadata": {},
   "source": [
    "# 1. `Uniform Distribution`\n",
    "\n",
    "## 1.1 Continuous Uniform Distribution (pdf)\n",
    "In probability theory and statistics, the continuous uniform distribution or rectangular distribution is a family of symmetric probability distributions. The distribution describes an experiment where there is an arbitrary outcome that lies between certain bounds. *The bounds are defined by the parameters, a and b, which are the minimum and maximum values.*\n",
    "\n",
    "![uniform](https://th.bing.com/th/id/R.984bac3abada071c7b22b16c5e2e7ca2?rik=LLEKJ1pFl8vkNA&pid=ImgRaw&r=0)\n",
    "\n",
    "**Notation:** $U(a, b)$\n",
    "\n",
    "**Parameter:** $-\\infty <a <b <\\infty$\n",
    "\n",
    "$$\n",
    "pdf=\n",
    "\\begin{cases}\n",
    "\\frac{1}{b-a}, & for\\,\\, x \\in [a, b]\\\\\n",
    "0, & otherwise\n",
    "\\end{cases}\n",
    "$$\n",
    "\n",
    "$$\n",
    "cdf=\n",
    "\\begin{cases}\n",
    "0, & for\\,\\, x<a\\\\\n",
    "\\frac{x-a}{b-a} & for\\,\\, x \\in [a, b]\\\\\n",
    "1 & for\\,\\, x>b\n",
    "\\end{cases}\n",
    "$$\n",
    "\n",
    "**Mean=** $\\frac{1}{2}(a+b)$\n",
    "\n",
    "**Median=** $\\frac{1}{2}(a+b)$\n",
    "\n",
    "**Variance=** $\\frac{1}{12} (b-a)^2$\n",
    "\n",
    "**Ex:** The number of candle sold daily at a shop is uniformly distributed with a maximum of 40 and a minimumm of 10.\n",
    "<br> i. Probability of daily sales to fall between 15 and 30?\n",
    "\n",
    "**Answer:** \n",
    "<br> $Pr(15 \\le x \\le 30)= (X_2- x_1)*\\frac{1}{b-a}$\n",
    "<br> $= 15*\\frac{1}{30}$\n",
    "<br> $= 0.5$\n",
    "\n",
    "$Pr(x \\ge 20)= (40-20)*\\frac{1}{30}$\n",
    "<br> $= 0.66= 66\\%$\n",
    "\n",
    "## 1.2 Discrete Uniform Distribution (pmf)\n",
    "In probability theory and statistics, the discrete uniform distribution or symmatric distribution where in a finite number of values are equally likely to be observed, everyone of n values has equal probability 1/n. *Another way of saying \"discrete uniform distribution\" would be \"a known, finite number of outcomes equally likely to happen\".*\n",
    "\n",
    "![img](https://www.vrcbuzz.com/wp-content/uploads/2020/04/discrete-uniform-dist-pmf.png)\n",
    "\n",
    "**Notation:** $U(a, b)$\n",
    "\n",
    "**Parameters:** $a, b$ with $b \\le a$\n",
    "\n",
    "**PMF:** $\\frac{1}{n}$\n",
    "\n",
    "**Mean:** $\\frac{a+b}{2}$\n",
    "\n",
    "**Median:** $\\frac{a+b}{2}$"
   ]
  },
  {
   "cell_type": "markdown",
   "id": "0fa024ab-ef3f-48f4-a25e-756e995df00c",
   "metadata": {},
   "source": [
    "# 2. `Standard Normal Distribution & Z-Score`\n",
    "\n",
    "## 2.1 Z-Test"
   ]
  },
  {
   "cell_type": "markdown",
   "id": "9aca29d6-cb01-40f3-a31e-9e9b2c242e12",
   "metadata": {},
   "source": [
    "# 3. `Central Limit Theory` (CLT)\n",
    "The central limit theorem says that *the sampling distribution of the mean will alwasys be normally distributed, as long as the sample size is larger enough.* Regardless of whether the population has a Normal, Poisson, Binomial, or any other distribution, the sampling distribution of the mean will be normal."
   ]
  }
 ],
 "metadata": {
  "kernelspec": {
   "display_name": "Python 3 (ipykernel)",
   "language": "python",
   "name": "python3"
  },
  "language_info": {
   "codemirror_mode": {
    "name": "ipython",
    "version": 3
   },
   "file_extension": ".py",
   "mimetype": "text/x-python",
   "name": "python",
   "nbconvert_exporter": "python",
   "pygments_lexer": "ipython3",
   "version": "3.10.6"
  }
 },
 "nbformat": 4,
 "nbformat_minor": 5
}
