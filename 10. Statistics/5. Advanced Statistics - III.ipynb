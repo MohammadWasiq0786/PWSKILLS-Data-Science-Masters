{
 "cells": [
  {
   "cell_type": "markdown",
   "id": "908ed4a0-6af6-4875-b72c-40f801057c97",
   "metadata": {},
   "source": [
    "![image](https://pwskills.com/images/PWSkills-main.png)\n",
    "\n",
    "# Data Science Masters\n",
    "\n",
    "## Day - 35\n",
    "## Date- 10 March 2023 \n",
    "## Advanced Statistics - III"
   ]
  },
  {
   "cell_type": "markdown",
   "id": "4a9d5b80-f9fb-44d6-9c7e-a124da621a51",
   "metadata": {},
   "source": [
    "# 1. `Estimate`\n",
    "## 1.1 Estimate\n",
    "It is an observed numerical value used to estimate an unknoen population parameter.\n",
    "\n",
    "### 1.1.1 Point Estimate\n",
    "Single numerical value used to estimate the unknown population parameter.\n",
    "\n",
    "Sample mean is a point estimate of a population mean.\n",
    "\n",
    "$$\\bar{x}\\xrightarrow{\\text{Point Estimate}} \\mu$$\n",
    "\n",
    "### 1.1.2 Interval Estimate\n",
    "Range of values used to estimate the unknown population parameters.\n",
    "\n",
    "**Interval estimates of population parameters are called Confidence Intervals**"
   ]
  },
  {
   "cell_type": "markdown",
   "id": "12896135-3424-4ca2-afd0-d70f7be8e8da",
   "metadata": {},
   "source": [
    "# 2. `Hypothesis Testing`\n",
    "\n",
    "## 2.1 Hypothesis Testing Mechanism\n",
    "\n",
    "### 2.1.1 Null Hypothesis $(H_0)$\n",
    "The assumption you are beginning with.\n",
    "\n",
    "### 2.1.2 Alternative Hypoyhesis $(H_1)$\n",
    "Opposite of Null Hypothesis."
   ]
  },
  {
   "cell_type": "markdown",
   "id": "acbc4ee8-c101-4f1c-a6b2-0ab5ad0e9c35",
   "metadata": {},
   "source": [
    "# 3. `P-value`\n",
    "The p-value is a number, calculated from a statistical test, that describe *how likely you are to have found a particular set of observations if the null hypothesis were true.* P-value are used in hypothesis testing to help decide whether to reject the null hypothesis."
   ]
  },
  {
   "cell_type": "markdown",
   "id": "0feb8293-afe4-4ce7-bcf5-8e439dc509fd",
   "metadata": {},
   "source": [
    "# 4. `Z-Test`"
   ]
  },
  {
   "cell_type": "markdown",
   "id": "8de49c71-3bf7-4a59-bb2d-d9ec514c82e0",
   "metadata": {},
   "source": [
    "# 5.  `t- distribution`\n",
    "\n",
    "## 5.1 Student t distribution\n",
    "Statistical analysis using z-score we need populationn standard deviation $(\\sigma)$.\n",
    "\n",
    "$$z= \\frac{\\bar{x}- \\mu}{\\sigma/\\sqrt{n}}$$\n",
    "\n",
    "$$t= \\frac{\\bar{x}- \\mu}{s/\\sqrt{n}}$$\n",
    "\n",
    "where, $s$ is"
   ]
  }
 ],
 "metadata": {
  "kernelspec": {
   "display_name": "Python 3 (ipykernel)",
   "language": "python",
   "name": "python3"
  },
  "language_info": {
   "codemirror_mode": {
    "name": "ipython",
    "version": 3
   },
   "file_extension": ".py",
   "mimetype": "text/x-python",
   "name": "python",
   "nbconvert_exporter": "python",
   "pygments_lexer": "ipython3",
   "version": "3.10.6"
  }
 },
 "nbformat": 4,
 "nbformat_minor": 5
}
