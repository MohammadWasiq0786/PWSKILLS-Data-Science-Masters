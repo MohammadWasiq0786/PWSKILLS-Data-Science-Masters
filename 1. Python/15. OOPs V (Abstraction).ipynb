{
 "cells": [
  {
   "cell_type": "markdown",
   "id": "2a17726b-d74f-471c-b942-7d4e440716a4",
   "metadata": {},
   "source": [
    "![image](https://pwskills.com/images/PWSkills-main.png)\n",
    "\n",
    "# Data Science Masters\n",
    "\n",
    "## Day - 9\n",
    "## Date- 8 February 2023 \n",
    "## OOPs Part - V (Abstraction)\n",
    "\n",
    "# OOPs stands for **`Object Oriented Programming  System`**"
   ]
  },
  {
   "cell_type": "code",
   "execution_count": 1,
   "id": "96a1bf88-f65c-4bef-9384-27434473169b",
   "metadata": {},
   "outputs": [],
   "source": [
    "import abc\n",
    "\n",
    "class pwskills:\n",
    "    \n",
    "    @abc.abstractmethod\n",
    "    def students_details(self):\n",
    "        pass\n",
    "    \n",
    "    @abc.abstractmethod\n",
    "    def students_assignment(self):\n",
    "        pass\n",
    "    \n",
    "    @abc.abstractmethod\n",
    "    def students_marks(self):\n",
    "        pass"
   ]
  },
  {
   "cell_type": "code",
   "execution_count": 5,
   "id": "6c32b127-a7c6-4b8c-8f26-1147d2995c8d",
   "metadata": {},
   "outputs": [],
   "source": [
    "class student_details(pwskills):\n",
    "    \n",
    "    def student_details(self):\n",
    "        return \"This is the method for taking students details\"\n",
    "    \n",
    "    def students_assignment(self):\n",
    "        return \"This is the method for assignment details for a particular student\""
   ]
  },
  {
   "cell_type": "code",
   "execution_count": 7,
   "id": "18857d19-5c44-44a3-9d90-1f6fcde1cf27",
   "metadata": {},
   "outputs": [],
   "source": [
    "class data_science_maters(pwskills):\n",
    "    \n",
    "    def student_details(self):\n",
    "        return \"This will return a student details for Data Science Masters\"\n",
    "    \n",
    "    def students_assignment(self):\n",
    "        return \"This will give you a student assignment detailed for Data Science Masters\""
   ]
  },
  {
   "cell_type": "code",
   "execution_count": 8,
   "id": "acb42a2d-4384-4772-8f97-08b700bc94ca",
   "metadata": {},
   "outputs": [
    {
     "data": {
      "text/plain": [
       "'This will return a student details for Data Science Masters'"
      ]
     },
     "execution_count": 8,
     "metadata": {},
     "output_type": "execute_result"
    }
   ],
   "source": [
    "dsm= data_science_maters()\n",
    "dsm.student_details()"
   ]
  },
  {
   "cell_type": "code",
   "execution_count": 9,
   "id": "7a3f8526-0b6c-4375-b754-5b454f9277ea",
   "metadata": {},
   "outputs": [
    {
     "data": {
      "text/plain": [
       "'This is the method for taking students details'"
      ]
     },
     "execution_count": 9,
     "metadata": {},
     "output_type": "execute_result"
    }
   ],
   "source": [
    "sd= student_details()\n",
    "sd.student_details()"
   ]
  }
 ],
 "metadata": {
  "kernelspec": {
   "display_name": "Python 3 (ipykernel)",
   "language": "python",
   "name": "python3"
  },
  "language_info": {
   "codemirror_mode": {
    "name": "ipython",
    "version": 3
   },
   "file_extension": ".py",
   "mimetype": "text/x-python",
   "name": "python",
   "nbconvert_exporter": "python",
   "pygments_lexer": "ipython3",
   "version": "3.10.6"
  }
 },
 "nbformat": 4,
 "nbformat_minor": 5
}
