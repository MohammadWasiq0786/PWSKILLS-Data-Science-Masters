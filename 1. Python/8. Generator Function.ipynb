{
 "cells": [
  {
   "cell_type": "markdown",
   "id": "10cd7af6-fd86-4e2f-845a-c380a0c7c4af",
   "metadata": {},
   "source": [
    "![image](https://pwskills.com/images/PWSkills-main.png)"
   ]
  },
  {
   "cell_type": "markdown",
   "id": "9a13f2cc-ac26-4eb1-94df-e5335aac98b0",
   "metadata": {
    "tags": []
   },
   "source": [
    "# Data Science Masters\n",
    "\n",
    "## Day - 7\n",
    "## Date- 4 February 2023 \n",
    "## Generator Function"
   ]
  },
  {
   "cell_type": "code",
   "execution_count": 1,
   "id": "bac0dbd6-b976-482e-8694-699ba334d46a",
   "metadata": {},
   "outputs": [
    {
     "data": {
      "text/plain": [
       "range(0, 10)"
      ]
     },
     "execution_count": 1,
     "metadata": {},
     "output_type": "execute_result"
    }
   ],
   "source": [
    "range(10)"
   ]
  },
  {
   "cell_type": "code",
   "execution_count": 4,
   "id": "2e414f53-4a7a-4122-afee-d7f335c42f6a",
   "metadata": {},
   "outputs": [
    {
     "name": "stdout",
     "output_type": "stream",
     "text": [
      "0 1 2 3 4 5 6 7 8 9 "
     ]
    }
   ],
   "source": [
    "for i in range(10):\n",
    "    print(i, end= \" \")"
   ]
  },
  {
   "cell_type": "code",
   "execution_count": 5,
   "id": "f37f5032-35ca-49bf-8478-0e9b7c8b308a",
   "metadata": {},
   "outputs": [],
   "source": [
    "def test_fib(n):\n",
    "    a, b= 0, 1\n",
    "    for i in range(n):\n",
    "        yield a\n",
    "        a, b = b, a+b"
   ]
  },
  {
   "cell_type": "code",
   "execution_count": 6,
   "id": "af57acdf-4842-46b8-ae4b-db373c17316a",
   "metadata": {},
   "outputs": [
    {
     "data": {
      "text/plain": [
       "<generator object test_fib at 0x7f89b83acd60>"
      ]
     },
     "execution_count": 6,
     "metadata": {},
     "output_type": "execute_result"
    }
   ],
   "source": [
    "test_fib(10)"
   ]
  },
  {
   "cell_type": "code",
   "execution_count": 7,
   "id": "688d6edc-e86c-4713-a4d4-d87a185c141a",
   "metadata": {},
   "outputs": [
    {
     "name": "stdout",
     "output_type": "stream",
     "text": [
      "0 1 1 2 3 5 8 13 21 34 "
     ]
    }
   ],
   "source": [
    "for i in test_fib(10):\n",
    "    print(i, end= \" \")"
   ]
  },
  {
   "cell_type": "code",
   "execution_count": 8,
   "id": "2e9a02ec-8edf-4cf3-ad8a-f72b4cd59e70",
   "metadata": {},
   "outputs": [],
   "source": [
    "def test_fib1():\n",
    "    a, b= 0, 1\n",
    "    while True:\n",
    "        yield a\n",
    "        a, b = b, a+b"
   ]
  },
  {
   "cell_type": "code",
   "execution_count": 9,
   "id": "027ce8da-3c0b-4797-8646-f484e5178f76",
   "metadata": {},
   "outputs": [
    {
     "name": "stdout",
     "output_type": "stream",
     "text": [
      "0 1 1 2 3 5 8 13 21 34 "
     ]
    }
   ],
   "source": [
    "fib= test_fib1()\n",
    "\n",
    "for i in range(10):\n",
    "    print(next(fib), end= \" \")"
   ]
  },
  {
   "cell_type": "code",
   "execution_count": 10,
   "id": "cce53f59-c897-4b69-856a-b0f6bbeca710",
   "metadata": {},
   "outputs": [
    {
     "name": "stdout",
     "output_type": "stream",
     "text": [
      "w\n",
      "a\n",
      "s\n",
      "i\n",
      "q\n"
     ]
    }
   ],
   "source": [
    "s= \"wasiq\"\n",
    "\n",
    "for i in s:\n",
    "    print(i)"
   ]
  },
  {
   "cell_type": "code",
   "execution_count": 11,
   "id": "fe1b4183-82ea-4fc7-8bc7-746c5e7180d1",
   "metadata": {},
   "outputs": [
    {
     "ename": "TypeError",
     "evalue": "'str' object is not an iterator",
     "output_type": "error",
     "traceback": [
      "\u001b[0;31m---------------------------------------------------------------------------\u001b[0m",
      "\u001b[0;31mTypeError\u001b[0m                                 Traceback (most recent call last)",
      "Cell \u001b[0;32mIn [11], line 1\u001b[0m\n\u001b[0;32m----> 1\u001b[0m \u001b[38;5;28;43mnext\u001b[39;49m\u001b[43m(\u001b[49m\u001b[43ms\u001b[49m\u001b[43m)\u001b[49m\n",
      "\u001b[0;31mTypeError\u001b[0m: 'str' object is not an iterator"
     ]
    }
   ],
   "source": [
    "next(s)"
   ]
  },
  {
   "cell_type": "markdown",
   "id": "e2c3d30b-e20b-4775-ac7d-786f85b658e5",
   "metadata": {},
   "source": [
    "![image](https://pwskills.com/images/PWSkills-main.png)"
   ]
  },
  {
   "cell_type": "code",
   "execution_count": 12,
   "id": "36ae4f4c-375b-4e5a-ad95-a21e17608861",
   "metadata": {},
   "outputs": [],
   "source": [
    "s1= iter(s)"
   ]
  },
  {
   "cell_type": "code",
   "execution_count": 13,
   "id": "520ad58b-73e6-43f4-bcf3-a57a6d38fce5",
   "metadata": {},
   "outputs": [
    {
     "data": {
      "text/plain": [
       "'w'"
      ]
     },
     "execution_count": 13,
     "metadata": {},
     "output_type": "execute_result"
    }
   ],
   "source": [
    "next(s1)"
   ]
  },
  {
   "cell_type": "code",
   "execution_count": 14,
   "id": "26921ea5-ab07-48d5-808b-2eb80a46020e",
   "metadata": {},
   "outputs": [
    {
     "data": {
      "text/plain": [
       "'a'"
      ]
     },
     "execution_count": 14,
     "metadata": {},
     "output_type": "execute_result"
    }
   ],
   "source": [
    "next(s1)"
   ]
  },
  {
   "cell_type": "code",
   "execution_count": 15,
   "id": "1e4e6a52-cfb3-47dd-9039-51c3dff05e5d",
   "metadata": {},
   "outputs": [
    {
     "data": {
      "text/plain": [
       "'s'"
      ]
     },
     "execution_count": 15,
     "metadata": {},
     "output_type": "execute_result"
    }
   ],
   "source": [
    "next(s1)"
   ]
  },
  {
   "cell_type": "code",
   "execution_count": 16,
   "id": "53d6f947-7ad6-446e-bb1b-4817c53232b8",
   "metadata": {},
   "outputs": [
    {
     "data": {
      "text/plain": [
       "'i'"
      ]
     },
     "execution_count": 16,
     "metadata": {},
     "output_type": "execute_result"
    }
   ],
   "source": [
    "next(s1)"
   ]
  },
  {
   "cell_type": "code",
   "execution_count": 17,
   "id": "ca176b88-1ae8-4f0a-bf41-7d58611396b6",
   "metadata": {},
   "outputs": [
    {
     "data": {
      "text/plain": [
       "'q'"
      ]
     },
     "execution_count": 17,
     "metadata": {},
     "output_type": "execute_result"
    }
   ],
   "source": [
    "next(s1)"
   ]
  },
  {
   "cell_type": "code",
   "execution_count": 18,
   "id": "724f5fa4-d874-4203-85db-b2834369ed98",
   "metadata": {},
   "outputs": [
    {
     "ename": "StopIteration",
     "evalue": "",
     "output_type": "error",
     "traceback": [
      "\u001b[0;31m---------------------------------------------------------------------------\u001b[0m",
      "\u001b[0;31mStopIteration\u001b[0m                             Traceback (most recent call last)",
      "Cell \u001b[0;32mIn [18], line 1\u001b[0m\n\u001b[0;32m----> 1\u001b[0m \u001b[38;5;28;43mnext\u001b[39;49m\u001b[43m(\u001b[49m\u001b[43ms1\u001b[49m\u001b[43m)\u001b[49m\n",
      "\u001b[0;31mStopIteration\u001b[0m: "
     ]
    }
   ],
   "source": [
    "next(s1)"
   ]
  },
  {
   "cell_type": "code",
   "execution_count": 19,
   "id": "a44a3804-f2ec-40d6-a9cf-470bfa3b8d7f",
   "metadata": {},
   "outputs": [],
   "source": [
    "def test_fib2():\n",
    "    a, b= 0, 1\n",
    "    while True:\n",
    "        yield a\n",
    "        a, b = b, a+b"
   ]
  },
  {
   "cell_type": "code",
   "execution_count": 20,
   "id": "531f28ad-94d9-4aa9-bfa2-789edb6ec3af",
   "metadata": {},
   "outputs": [
    {
     "data": {
      "text/plain": [
       "generator"
      ]
     },
     "execution_count": 20,
     "metadata": {},
     "output_type": "execute_result"
    }
   ],
   "source": [
    "fib1= test_fib2()\n",
    "type(fib1)"
   ]
  },
  {
   "cell_type": "code",
   "execution_count": 22,
   "id": "5298557a-9f27-4d18-aa61-d2bddeae16bb",
   "metadata": {},
   "outputs": [
    {
     "name": "stdout",
     "output_type": "stream",
     "text": [
      "0 1 1 2 3 5 8 13 21 34 "
     ]
    }
   ],
   "source": [
    "for i in range(10):\n",
    "    print(next(fib1), end= \" \")"
   ]
  },
  {
   "cell_type": "code",
   "execution_count": 23,
   "id": "e619afdc-cf94-4205-a10c-76048a84ff94",
   "metadata": {},
   "outputs": [],
   "source": [
    "def count_test(n):\n",
    "    count = 1\n",
    "    while count < n:\n",
    "        yield count\n",
    "        count= count + 1"
   ]
  },
  {
   "cell_type": "code",
   "execution_count": 24,
   "id": "3eee12e7-097e-43d1-bba6-948595acf580",
   "metadata": {},
   "outputs": [
    {
     "name": "stdout",
     "output_type": "stream",
     "text": [
      "1\n",
      "2\n",
      "3\n",
      "4\n"
     ]
    }
   ],
   "source": [
    "c= count_test(5)\n",
    "\n",
    "for i in c:\n",
    "    print(i)"
   ]
  },
  {
   "cell_type": "code",
   "execution_count": 25,
   "id": "0eab6f85-8b14-4c21-add4-4fc0c64d5741",
   "metadata": {},
   "outputs": [
    {
     "data": {
      "text/plain": [
       "generator"
      ]
     },
     "execution_count": 25,
     "metadata": {},
     "output_type": "execute_result"
    }
   ],
   "source": [
    "type(c)"
   ]
  }
 ],
 "metadata": {
  "kernelspec": {
   "display_name": "Python 3 (ipykernel)",
   "language": "python",
   "name": "python3"
  },
  "language_info": {
   "codemirror_mode": {
    "name": "ipython",
    "version": 3
   },
   "file_extension": ".py",
   "mimetype": "text/x-python",
   "name": "python",
   "nbconvert_exporter": "python",
   "pygments_lexer": "ipython3",
   "version": "3.10.6"
  }
 },
 "nbformat": 4,
 "nbformat_minor": 5
}
