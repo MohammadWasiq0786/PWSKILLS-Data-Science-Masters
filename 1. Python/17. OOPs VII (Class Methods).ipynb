{
 "cells": [
  {
   "cell_type": "markdown",
   "id": "70791652-8f56-4f9a-8789-fafc915ac40a",
   "metadata": {},
   "source": [
    "![image](https://pwskills.com/images/PWSkills-main.png)\n",
    "\n",
    "# Data Science Masters\n",
    "\n",
    "## Day - 10\n",
    "## Date- 10 February 2023 \n",
    "## OOPs Part - VII (Class Methods)\n",
    "\n",
    "# OOPs stands for **`Object Oriented Programming  System`**"
   ]
  },
  {
   "cell_type": "code",
   "execution_count": 1,
   "id": "4ab2ca48-fbb1-468f-8ceb-523649b99347",
   "metadata": {},
   "outputs": [],
   "source": [
    "class pwskills : \n",
    "    \n",
    "    def __init__(self , name , email) :\n",
    "        \n",
    "        self.name = name \n",
    "        self.email = email\n",
    "        \n",
    "    def students_details(self):\n",
    "        print(self.name , self.email)"
   ]
  },
  {
   "cell_type": "code",
   "execution_count": 2,
   "id": "92ebdd98-35b4-47bc-bf65-57d6e306c7ad",
   "metadata": {},
   "outputs": [],
   "source": [
    "pw = pwskills(\"wasiq\", \"wasiq@gmail.com\")"
   ]
  },
  {
   "cell_type": "code",
   "execution_count": 3,
   "id": "a0e5066a-bdf6-44fb-ba5a-bfc3d90d470b",
   "metadata": {},
   "outputs": [
    {
     "data": {
      "text/plain": [
       "'wasiq'"
      ]
     },
     "execution_count": 3,
     "metadata": {},
     "output_type": "execute_result"
    }
   ],
   "source": [
    "pw.name"
   ]
  },
  {
   "cell_type": "code",
   "execution_count": 4,
   "id": "6fce3807-0546-4ac3-9262-969fd3d21ea9",
   "metadata": {},
   "outputs": [
    {
     "data": {
      "text/plain": [
       "'wasiq@gmail.com'"
      ]
     },
     "execution_count": 4,
     "metadata": {},
     "output_type": "execute_result"
    }
   ],
   "source": [
    "pw.email"
   ]
  },
  {
   "cell_type": "code",
   "execution_count": 5,
   "id": "e56afc41-a5ab-41f2-aa1d-f61adeee65d9",
   "metadata": {},
   "outputs": [
    {
     "name": "stdout",
     "output_type": "stream",
     "text": [
      "wasiq wasiq@gmail.com\n"
     ]
    }
   ],
   "source": [
    "pw.students_details()"
   ]
  },
  {
   "cell_type": "code",
   "execution_count": 6,
   "id": "631b8b3d-7a59-4b54-99c2-c3a906cdbaf8",
   "metadata": {},
   "outputs": [],
   "source": [
    "class pwskills1 : \n",
    "    \n",
    "    def __init__(self , name , email) :\n",
    "        \n",
    "        self.name = name \n",
    "        self.email = email\n",
    "    \n",
    "    @classmethod\n",
    "    def details(cls, name, email ):\n",
    "        return cls(name, email)\n",
    "        \n",
    "    def students_details(self):\n",
    "        print(self.name, self.email)"
   ]
  },
  {
   "cell_type": "code",
   "execution_count": 7,
   "id": "20b63656-8740-4eec-be1a-6259910a089d",
   "metadata": {},
   "outputs": [],
   "source": [
    "pw1 = pwskills1.details(\"wasiq\" , \"wasiq@gmail.com\")"
   ]
  },
  {
   "cell_type": "code",
   "execution_count": 8,
   "id": "f0e83dc8-f7d6-47db-8840-fe7f8d276f3e",
   "metadata": {},
   "outputs": [
    {
     "data": {
      "text/plain": [
       "'wasiq'"
      ]
     },
     "execution_count": 8,
     "metadata": {},
     "output_type": "execute_result"
    }
   ],
   "source": [
    "pw1.name"
   ]
  },
  {
   "cell_type": "code",
   "execution_count": 9,
   "id": "c1af36bd-f745-43cc-a348-6a00af1ef57f",
   "metadata": {},
   "outputs": [
    {
     "data": {
      "text/plain": [
       "'wasiq@gmail.com'"
      ]
     },
     "execution_count": 9,
     "metadata": {},
     "output_type": "execute_result"
    }
   ],
   "source": [
    "pw1.email"
   ]
  },
  {
   "cell_type": "code",
   "execution_count": 10,
   "id": "38e2f535-cbe4-43ed-b234-8e7cd327c662",
   "metadata": {},
   "outputs": [
    {
     "name": "stdout",
     "output_type": "stream",
     "text": [
      "wasiq wasiq@gmail.com\n"
     ]
    }
   ],
   "source": [
    "pw1.students_details()"
   ]
  },
  {
   "cell_type": "code",
   "execution_count": 11,
   "id": "8d41e6bd-19ae-42a7-b841-b29e9ce65907",
   "metadata": {},
   "outputs": [],
   "source": [
    "class pwskills2 : \n",
    "    \n",
    "    mobile_num = 912342424\n",
    "    \n",
    "    def __init__(self , name , email) :\n",
    "        \n",
    "        self.name = name \n",
    "        self.email = email\n",
    "    \n",
    "    @classmethod\n",
    "    def change_number(cls, mobile):\n",
    "        pwskills2.mobile_num = mobile\n",
    "    \n",
    "    @classmethod\n",
    "    def details(cls, name, email ):\n",
    "        return cls(name, email)\n",
    "        \n",
    "    def students_details(self):\n",
    "        print(self.name, self.email, pwskills2.mobile_num)"
   ]
  },
  {
   "cell_type": "code",
   "execution_count": 12,
   "id": "325c7c58-51fe-4166-8b32-103bad1a45d1",
   "metadata": {},
   "outputs": [],
   "source": [
    "pw = pwskills2.details(\"zainul\" , \"zainul@gmail.com\")"
   ]
  },
  {
   "cell_type": "code",
   "execution_count": 13,
   "id": "aee18cbe-821b-4731-82f9-20498296bace",
   "metadata": {},
   "outputs": [
    {
     "name": "stdout",
     "output_type": "stream",
     "text": [
      "zainul zainul@gmail.com 912342424\n"
     ]
    }
   ],
   "source": [
    "pw.students_details()"
   ]
  },
  {
   "cell_type": "code",
   "execution_count": 14,
   "id": "65bf16ae-ff09-45a3-9fcc-f01208954fd0",
   "metadata": {},
   "outputs": [],
   "source": [
    "pw_obj = pwskills2(\"turk\" , \"turk@gmail.com\")"
   ]
  },
  {
   "cell_type": "code",
   "execution_count": 15,
   "id": "3d44d2f8-892d-44b1-96ab-6a7f12a5d646",
   "metadata": {},
   "outputs": [
    {
     "name": "stdout",
     "output_type": "stream",
     "text": [
      "turk turk@gmail.com 912342424\n"
     ]
    }
   ],
   "source": [
    "pw_obj.students_details()"
   ]
  },
  {
   "cell_type": "code",
   "execution_count": 16,
   "id": "866aeee5-6690-442a-a1c2-9682f024aba9",
   "metadata": {},
   "outputs": [],
   "source": [
    "pwskills2.change_number(924324234)"
   ]
  },
  {
   "cell_type": "code",
   "execution_count": 17,
   "id": "c0d03e98-4f6b-4d8a-9a18-33e558afcf08",
   "metadata": {},
   "outputs": [
    {
     "data": {
      "text/plain": [
       "924324234"
      ]
     },
     "execution_count": 17,
     "metadata": {},
     "output_type": "execute_result"
    }
   ],
   "source": [
    "pwskills2.mobile_num"
   ]
  },
  {
   "cell_type": "code",
   "execution_count": 18,
   "id": "5a472e37-a4e2-4252-a740-8f88a99126a1",
   "metadata": {},
   "outputs": [],
   "source": [
    "class pwskills3 : \n",
    "    \n",
    "    mobile_num = 912342424\n",
    "    \n",
    "    def __init__(self , name , email) :\n",
    "        \n",
    "        self.name = name \n",
    "        self.email = email\n",
    "    \n",
    "    @classmethod\n",
    "    def change_number(cls, mobile):\n",
    "        pwskills2.mobile_num = mobile\n",
    "    \n",
    "    @classmethod\n",
    "    def details(cls, name, email ):\n",
    "        return cls(name, email)\n",
    "        \n",
    "    def students_details(self):\n",
    "        print(self.name, self.email, pwskills2.mobile_num)"
   ]
  },
  {
   "cell_type": "code",
   "execution_count": 19,
   "id": "35013e7b-c90d-4730-a859-85c651895571",
   "metadata": {},
   "outputs": [],
   "source": [
    "def course_details(cls, course_name) : \n",
    "    print(\"course name is \", course_name)"
   ]
  },
  {
   "cell_type": "code",
   "execution_count": 20,
   "id": "0e28937c-7d30-4990-8e3a-6d7f9e41461f",
   "metadata": {},
   "outputs": [],
   "source": [
    "pwskills3.course_details = classmethod(course_details)"
   ]
  },
  {
   "cell_type": "code",
   "execution_count": 21,
   "id": "907079b1-2194-46f5-a6ea-2e058eaf991b",
   "metadata": {},
   "outputs": [
    {
     "name": "stdout",
     "output_type": "stream",
     "text": [
      "course name is  Data Science Masters \n"
     ]
    }
   ],
   "source": [
    "pwskills3.course_details(\"Data Science Masters \")"
   ]
  },
  {
   "cell_type": "code",
   "execution_count": 22,
   "id": "1692af40-d0cf-477b-97e6-da4ac120aa9d",
   "metadata": {},
   "outputs": [],
   "source": [
    "def mentor(cls , list_of_mentor) : \n",
    "    print(list_of_mentor)"
   ]
  },
  {
   "cell_type": "code",
   "execution_count": 23,
   "id": "eb42111e-999a-4805-8993-92ae991f3151",
   "metadata": {},
   "outputs": [],
   "source": [
    "pwskills3.mentor = classmethod(mentor)"
   ]
  },
  {
   "cell_type": "code",
   "execution_count": 24,
   "id": "dd695deb-8a24-43cd-869d-5a128b98f10d",
   "metadata": {},
   "outputs": [
    {
     "name": "stdout",
     "output_type": "stream",
     "text": [
      "['Wasiq ', 'Zainul']\n"
     ]
    }
   ],
   "source": [
    "pwskills3.mentor([\"Wasiq \" , \"Zainul\"])"
   ]
  },
  {
   "cell_type": "code",
   "execution_count": 25,
   "id": "aa06ccad-c97e-47af-ae20-ce39f77c9c33",
   "metadata": {},
   "outputs": [],
   "source": [
    "class pwskills4 : \n",
    "    \n",
    "    mobile_num = 912342424\n",
    "    \n",
    "    def __init__(self , name , email) :\n",
    "        \n",
    "        self.name = name \n",
    "        self.email = email\n",
    "    \n",
    "    @classmethod\n",
    "    def change_number(cls, mobile):\n",
    "        pwskills2.mobile_num = mobile\n",
    "    \n",
    "    @classmethod\n",
    "    def details(cls, name, email ):\n",
    "        return cls(name, email)\n",
    "        \n",
    "    def students_details(self):\n",
    "        print(self.name, self.email, pwskills2.mobile_num)"
   ]
  },
  {
   "cell_type": "code",
   "execution_count": 26,
   "id": "a3ad557a-51af-47b8-b125-6fcb78c3f6b3",
   "metadata": {},
   "outputs": [],
   "source": [
    "del pwskills4.change_number"
   ]
  },
  {
   "cell_type": "code",
   "execution_count": 27,
   "id": "414b0d35-48fd-4b62-876d-156a4314eb8a",
   "metadata": {},
   "outputs": [],
   "source": [
    "delattr(pwskills4, \"details\" )"
   ]
  },
  {
   "cell_type": "code",
   "execution_count": 28,
   "id": "8d9cab92-8457-4ef8-83df-e9306e80ddbf",
   "metadata": {},
   "outputs": [],
   "source": [
    "delattr(pwskills4, \"students_details\")"
   ]
  },
  {
   "cell_type": "code",
   "execution_count": 29,
   "id": "495d55d7-c3b4-42d9-a168-fb82ee839dcb",
   "metadata": {},
   "outputs": [],
   "source": [
    "delattr(pwskills4, \"mobile_num\")"
   ]
  },
  {
   "cell_type": "code",
   "execution_count": 30,
   "id": "d0b711c1-6ac7-4b27-8b93-3ae6e12991c8",
   "metadata": {},
   "outputs": [
    {
     "ename": "SyntaxError",
     "evalue": "invalid syntax (3969922017.py, line 1)",
     "output_type": "error",
     "traceback": [
      "\u001b[0;36m  Cell \u001b[0;32mIn [30], line 1\u001b[0;36m\u001b[0m\n\u001b[0;31m    pwskills4.\u001b[0m\n\u001b[0m              ^\u001b[0m\n\u001b[0;31mSyntaxError\u001b[0m\u001b[0;31m:\u001b[0m invalid syntax\n"
     ]
    }
   ],
   "source": [
    "pwskills4."
   ]
  },
  {
   "cell_type": "code",
   "execution_count": 31,
   "id": "c5df9dc2-80ea-4ba4-bd45-b9c1b4a75455",
   "metadata": {},
   "outputs": [
    {
     "ename": "AttributeError",
     "evalue": "type object 'pwskills4' has no attribute 'change_number'",
     "output_type": "error",
     "traceback": [
      "\u001b[0;31m---------------------------------------------------------------------------\u001b[0m",
      "\u001b[0;31mAttributeError\u001b[0m                            Traceback (most recent call last)",
      "Cell \u001b[0;32mIn [31], line 1\u001b[0m\n\u001b[0;32m----> 1\u001b[0m \u001b[43mpwskills4\u001b[49m\u001b[38;5;241;43m.\u001b[39;49m\u001b[43mchange_number\u001b[49m(\u001b[38;5;241m345345453\u001b[39m)\n",
      "\u001b[0;31mAttributeError\u001b[0m: type object 'pwskills4' has no attribute 'change_number'"
     ]
    }
   ],
   "source": [
    "pwskills4.change_number(345345453)"
   ]
  }
 ],
 "metadata": {
  "kernelspec": {
   "display_name": "Python 3 (ipykernel)",
   "language": "python",
   "name": "python3"
  },
  "language_info": {
   "codemirror_mode": {
    "name": "ipython",
    "version": 3
   },
   "file_extension": ".py",
   "mimetype": "text/x-python",
   "name": "python",
   "nbconvert_exporter": "python",
   "pygments_lexer": "ipython3",
   "version": "3.10.6"
  }
 },
 "nbformat": 4,
 "nbformat_minor": 5
}
