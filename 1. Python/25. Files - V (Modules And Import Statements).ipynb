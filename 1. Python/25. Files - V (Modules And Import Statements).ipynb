{
 "cells": [
  {
   "cell_type": "markdown",
   "id": "81c4f0c8-1bd7-42b5-ad1b-35ad213d2c74",
   "metadata": {},
   "source": [
    "![image](https://pwskills.com/images/PWSkills-main.png)\n",
    "\n",
    "# Data Science Masters\n",
    "\n",
    "## Day - 11\n",
    "## Date- 11 February 2023 \n",
    "## Files Part - V (Modules & Import Statements)"
   ]
  },
  {
   "cell_type": "markdown",
   "id": "9f81e766-6c9a-4b71-8b55-30a3f22c9d31",
   "metadata": {},
   "source": [
    "**Create a folder `pwskills`**\n",
    "\n",
    "**In `pwskills` create two another folders `course` and `payment`**\n",
    "\n",
    "**In `course` folder create a file `course_details.py` and write the following code**\n",
    "```python\n",
    "import os ,sys\n",
    "from os.path import dirname , join , abspath\n",
    "\n",
    "sys.path.insert(0, abspath(join(dirname(__file__),'..')))\n",
    "\n",
    "\n",
    "def course():\n",
    "    print(\"this is my course details\")\n",
    "```\n",
    "\n",
    "**In `payment` folder create a file `payments_details.py` and write the following code**\n",
    "```python\n",
    "import os ,sys\n",
    "from os.path import dirname , join , abspath\n",
    "\n",
    "sys.path.insert(0, abspath(join(dirname(__file__),'..')))\n",
    "\n",
    "from course import course_details\n",
    "\n",
    "def payment():\n",
    "    print(\"this is my payment details\")\n",
    "\n",
    "course_details.course()\n",
    "```"
   ]
  }
 ],
 "metadata": {
  "kernelspec": {
   "display_name": "Python 3 (ipykernel)",
   "language": "python",
   "name": "python3"
  },
  "language_info": {
   "codemirror_mode": {
    "name": "ipython",
    "version": 3
   },
   "file_extension": ".py",
   "mimetype": "text/x-python",
   "name": "python",
   "nbconvert_exporter": "python",
   "pygments_lexer": "ipython3",
   "version": "3.10.6"
  }
 },
 "nbformat": 4,
 "nbformat_minor": 5
}
