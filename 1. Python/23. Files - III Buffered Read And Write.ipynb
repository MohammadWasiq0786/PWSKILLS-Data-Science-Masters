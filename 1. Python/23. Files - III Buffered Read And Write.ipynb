{
 "cells": [
  {
   "cell_type": "markdown",
   "id": "f26cbdaa-fae5-486b-a9c5-21fa1f9b9dd1",
   "metadata": {},
   "source": [
    "![image](https://pwskills.com/images/PWSkills-main.png)\n",
    "\n",
    "# Data Science Masters\n",
    "\n",
    "## Day - 11\n",
    "## Date- 11 February 2023 \n",
    "## Files Part - III (Buffered Read And Write Other File Methods)"
   ]
  },
  {
   "cell_type": "code",
   "execution_count": 1,
   "id": "8a700197-7d9c-49e3-a1de-f5ded7b3e153",
   "metadata": {},
   "outputs": [],
   "source": [
    "import io"
   ]
  },
  {
   "cell_type": "code",
   "execution_count": 2,
   "id": "beee261f-e132-4b3b-bd4e-d80acfe27a49",
   "metadata": {},
   "outputs": [],
   "source": [
    "with open(\"test1.txt\" ,\"wb\") as f :\n",
    "    file = io.BufferedWriter(f)\n",
    "    \n",
    "    file.write(b\"Data Science Masters course is highly curated and uniquely designed according to the latest industry standards. This program instills students the skills essential to knowledge discovery efforts to identify standard, novel, and truly differentiated solutions and decision-making, including skills in managing, querying, analyzing, visualizing, and extracting meaning from extremely large data sets. This trending program provides students with the statistical, mathematical and computational skills needed to meet the large-scale data science challenges of today's professional world. You will learn all the stack required to work in data science industry including cloud infrastructure and real-time industry projects. This course will be taught in Hindi language.\\n\")\n",
    "    file.write(b\"this is my second  line\\n\")\n",
    "    file.flush()"
   ]
  },
  {
   "cell_type": "code",
   "execution_count": 3,
   "id": "e51e9962-e506-4906-b269-be151bb57ba7",
   "metadata": {},
   "outputs": [
    {
     "name": "stdout",
     "output_type": "stream",
     "text": [
      "b\"Data Science Masters course is highly curated and uniquely designed according to the latest industry standards. This program instills students the skills essential to knowledge discovery efforts to identify standard, novel, and truly differentiated solutions and decision-making, including skills in managing, querying, analyzing, visualizing, and extracting meaning from extremely large data sets. This trending program provides students with the statistical, mathematical and computational skills needed to meet the large-scale data science challenges of today's professional world. You will learn all the stack required to work in data science industry including cloud infrastructure and real-time industry projects. This course will be taught in Hindi language.\\nthis is my second  line\\n\"\n"
     ]
    }
   ],
   "source": [
    "with open(\"test1.txt\" , \"rb\") as f :\n",
    "    \n",
    "    file = io.BufferedReader(f)\n",
    "    data = file.read(1000)\n",
    "    print(data)"
   ]
  },
  {
   "cell_type": "code",
   "execution_count": null,
   "id": "936b4943-f4f1-435e-ba20-afad24fb1b90",
   "metadata": {},
   "outputs": [],
   "source": []
  }
 ],
 "metadata": {
  "kernelspec": {
   "display_name": "Python 3 (ipykernel)",
   "language": "python",
   "name": "python3"
  },
  "language_info": {
   "codemirror_mode": {
    "name": "ipython",
    "version": 3
   },
   "file_extension": ".py",
   "mimetype": "text/x-python",
   "name": "python",
   "nbconvert_exporter": "python",
   "pygments_lexer": "ipython3",
   "version": "3.10.6"
  }
 },
 "nbformat": 4,
 "nbformat_minor": 5
}
