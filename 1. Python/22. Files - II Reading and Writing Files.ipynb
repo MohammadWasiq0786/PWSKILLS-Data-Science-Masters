{
 "cells": [
  {
   "cell_type": "markdown",
   "id": "9955dc67-4feb-4c25-88db-d42407cd3877",
   "metadata": {},
   "source": [
    "![image](https://pwskills.com/images/PWSkills-main.png)\n",
    "\n",
    "# Data Science Masters\n",
    "\n",
    "## Day - 11\n",
    "## Date- 11 February 2023 \n",
    "## Files Part - II (Reading & Writing Files)"
   ]
  },
  {
   "cell_type": "code",
   "execution_count": 1,
   "id": "993cb0c1-7f1c-46c8-936b-41ec2403c992",
   "metadata": {},
   "outputs": [],
   "source": [
    "data= {\n",
    "    \"name\": \"Wasiq\",\n",
    "    \"mail_id\" : \"wasiq@gmail.com\",\n",
    "    \"phone number\" : 9933294484,\n",
    "    \"subject\" : [\"Data Science\", \"Big Data\", \"Data Analytics\"]\n",
    "\n",
    "}"
   ]
  },
  {
   "cell_type": "code",
   "execution_count": 2,
   "id": "0e6ab23e-ae2f-490c-ae03-c56f00b2be34",
   "metadata": {},
   "outputs": [],
   "source": [
    "import json"
   ]
  },
  {
   "cell_type": "code",
   "execution_count": 3,
   "id": "b1343d59-e898-44ba-9604-d81d8607d45f",
   "metadata": {},
   "outputs": [],
   "source": [
    "with open(\"data.json\", 'w') as f:\n",
    "    json.dump(data, f)"
   ]
  },
  {
   "cell_type": "code",
   "execution_count": 4,
   "id": "a9b3eff0-18ba-4f14-a486-ff058f8fd6ce",
   "metadata": {},
   "outputs": [],
   "source": [
    "with open(\"data.json\", 'r') as f:\n",
    "    data1= json.load(f)"
   ]
  },
  {
   "cell_type": "code",
   "execution_count": 5,
   "id": "9122109b-dd48-42b4-9eb3-c415ca7dd5d5",
   "metadata": {},
   "outputs": [
    {
     "data": {
      "text/plain": [
       "{'name': 'Wasiq',\n",
       " 'mail_id': 'wasiq@gmail.com',\n",
       " 'phone number': 9933294484,\n",
       " 'subject': ['Data Science', 'Big Data', 'Data Analytics']}"
      ]
     },
     "execution_count": 5,
     "metadata": {},
     "output_type": "execute_result"
    }
   ],
   "source": [
    "data1"
   ]
  },
  {
   "cell_type": "code",
   "execution_count": 6,
   "id": "49dcc613-3af9-4ca8-838e-4412d8f65cb4",
   "metadata": {},
   "outputs": [
    {
     "data": {
      "text/plain": [
       "['Data Science', 'Big Data', 'Data Analytics']"
      ]
     },
     "execution_count": 6,
     "metadata": {},
     "output_type": "execute_result"
    }
   ],
   "source": [
    "data['subject']"
   ]
  },
  {
   "cell_type": "code",
   "execution_count": 7,
   "id": "654c6f35-4d85-4bae-8dee-eb4aefd638dc",
   "metadata": {},
   "outputs": [
    {
     "data": {
      "text/plain": [
       "'Data Science'"
      ]
     },
     "execution_count": 7,
     "metadata": {},
     "output_type": "execute_result"
    }
   ],
   "source": [
    "data['subject'][0]"
   ]
  },
  {
   "cell_type": "code",
   "execution_count": 8,
   "id": "143b71b9-662c-48d0-984e-a79f39f26855",
   "metadata": {},
   "outputs": [],
   "source": [
    "import csv"
   ]
  },
  {
   "cell_type": "code",
   "execution_count": 9,
   "id": "c4a49901-b5f1-4d9b-93d8-df45c5341d15",
   "metadata": {},
   "outputs": [],
   "source": [
    "data= [[\"name\", \"email_id\", \"phone_number\"],\n",
    "       [\"Wasiq\", \"wasiq@gmail.com\", 973939324],\n",
    "       [\"Zainul\", \"zainul@gmial.com\", 9383133]\n",
    "]"
   ]
  },
  {
   "cell_type": "code",
   "execution_count": 10,
   "id": "ce598424-d9cc-4341-926e-c8aaf0ea6145",
   "metadata": {},
   "outputs": [],
   "source": [
    "with open(\"data.csv\", 'w') as f:\n",
    "    writer= csv.writer(f)\n",
    "    \n",
    "    for i in data:\n",
    "        writer.writerow(i)"
   ]
  },
  {
   "cell_type": "code",
   "execution_count": 11,
   "id": "45169ea7-3e54-441c-9821-a362936a014a",
   "metadata": {},
   "outputs": [
    {
     "name": "stdout",
     "output_type": "stream",
     "text": [
      "['name', 'email_id', 'phone_number']\n",
      "['Wasiq', 'wasiq@gmail.com', '973939324']\n",
      "['Zainul', 'zainul@gmial.com', '9383133']\n"
     ]
    }
   ],
   "source": [
    "with open(\"data.csv\", 'r') as f:\n",
    "    read_data= csv.reader(f)\n",
    "    \n",
    "    for i in read_data:\n",
    "        print(i)"
   ]
  },
  {
   "cell_type": "code",
   "execution_count": 13,
   "id": "1fecb41e-8196-466f-8f80-44ca0508de95",
   "metadata": {},
   "outputs": [],
   "source": [
    "with open(\"test2.bin\", 'wb') as f:\n",
    "    f.write(b\"\\x01\\x03\\x03\")"
   ]
  },
  {
   "cell_type": "code",
   "execution_count": 14,
   "id": "1ed1de22-3bc2-41b4-9ceb-ae073d4e4835",
   "metadata": {},
   "outputs": [
    {
     "name": "stdout",
     "output_type": "stream",
     "text": [
      "b'\\x01\\x03\\x03'\n"
     ]
    }
   ],
   "source": [
    "with open(\"test2.bin\", 'rb') as f:\n",
    "    print(f.read())"
   ]
  }
 ],
 "metadata": {
  "kernelspec": {
   "display_name": "Python 3 (ipykernel)",
   "language": "python",
   "name": "python3"
  },
  "language_info": {
   "codemirror_mode": {
    "name": "ipython",
    "version": 3
   },
   "file_extension": ".py",
   "mimetype": "text/x-python",
   "name": "python",
   "nbconvert_exporter": "python",
   "pygments_lexer": "ipython3",
   "version": "3.10.6"
  }
 },
 "nbformat": 4,
 "nbformat_minor": 5
}
