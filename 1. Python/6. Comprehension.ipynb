{
 "cells": [
  {
   "cell_type": "markdown",
   "id": "17398796-fe36-4dd7-8f4b-9e972b4ab120",
   "metadata": {},
   "source": [
    "![image](https://pwskills.com/images/PWSkills-main.png)"
   ]
  },
  {
   "cell_type": "markdown",
   "id": "0a016cec-04ee-45b8-9e24-60b261bd4e1e",
   "metadata": {},
   "source": [
    "# Data Science Masters\n",
    "\n",
    "## Day - 6\n",
    "## Date- 3 February 2023 \n",
    "## Comprehension"
   ]
  },
  {
   "cell_type": "code",
   "execution_count": 1,
   "id": "8343b80c-6f00-4662-a23e-91cfd6702e78",
   "metadata": {},
   "outputs": [],
   "source": [
    "l = [1,2,3,4,45,5]\n",
    "l1 = []\n",
    "for i in l :\n",
    "    l1.append(i**2)"
   ]
  },
  {
   "cell_type": "code",
   "execution_count": 2,
   "id": "1032035c-f417-4929-b276-a7875c3e01e1",
   "metadata": {},
   "outputs": [
    {
     "data": {
      "text/plain": [
       "[1, 4, 9, 16, 2025, 25]"
      ]
     },
     "execution_count": 2,
     "metadata": {},
     "output_type": "execute_result"
    }
   ],
   "source": [
    "l1"
   ]
  },
  {
   "cell_type": "code",
   "execution_count": 3,
   "id": "5577d011-4bc4-4eee-b06f-a9cd6d941885",
   "metadata": {},
   "outputs": [
    {
     "data": {
      "text/plain": [
       "[1, 2, 3, 4, 45, 5]"
      ]
     },
     "execution_count": 3,
     "metadata": {},
     "output_type": "execute_result"
    }
   ],
   "source": [
    "l"
   ]
  },
  {
   "cell_type": "code",
   "execution_count": 4,
   "id": "e6d92c0d-cd9d-40cb-bddf-12f2a00b2804",
   "metadata": {},
   "outputs": [
    {
     "data": {
      "text/plain": [
       "[1, 4, 9, 16, 2025, 25]"
      ]
     },
     "execution_count": 4,
     "metadata": {},
     "output_type": "execute_result"
    }
   ],
   "source": [
    "[i**2 for i in l]"
   ]
  },
  {
   "cell_type": "code",
   "execution_count": 5,
   "id": "967dc6d9-f7b5-486b-aae2-1b751e669c5c",
   "metadata": {},
   "outputs": [
    {
     "data": {
      "text/plain": [
       "[2, 4]"
      ]
     },
     "execution_count": 5,
     "metadata": {},
     "output_type": "execute_result"
    }
   ],
   "source": [
    "[i for i in l if i % 2 ==0]"
   ]
  },
  {
   "cell_type": "code",
   "execution_count": 6,
   "id": "41a120bf-dfaa-489c-9b76-7f733ecb6dc6",
   "metadata": {},
   "outputs": [],
   "source": [
    "l1 = [\"wasiq\" , \"pwskills\" , \"amu\" , \"data science masters\"]"
   ]
  },
  {
   "cell_type": "code",
   "execution_count": 7,
   "id": "ff77bd12-dda9-4e4a-969a-687fbf4f1a51",
   "metadata": {},
   "outputs": [
    {
     "data": {
      "text/plain": [
       "['WASIQ', 'PWSKILLS', 'AMU', 'DATA SCIENCE MASTERS']"
      ]
     },
     "execution_count": 7,
     "metadata": {},
     "output_type": "execute_result"
    }
   ],
   "source": [
    "[i.upper() for i in l1]"
   ]
  },
  {
   "cell_type": "code",
   "execution_count": 8,
   "id": "b127cd62-1dff-4aa6-9a64-c2baf3e72505",
   "metadata": {},
   "outputs": [
    {
     "data": {
      "text/plain": [
       "[1, 2, 3, 4, 45, 5]"
      ]
     },
     "execution_count": 8,
     "metadata": {},
     "output_type": "execute_result"
    }
   ],
   "source": [
    "l"
   ]
  },
  {
   "cell_type": "code",
   "execution_count": 9,
   "id": "36dc6abe-3099-470e-a262-ef6899b5ec1a",
   "metadata": {},
   "outputs": [
    {
     "data": {
      "text/plain": [
       "[1, 4, 9, 16, 2025, 25]"
      ]
     },
     "execution_count": 9,
     "metadata": {},
     "output_type": "execute_result"
    }
   ],
   "source": [
    "list(i**2 for i in l)"
   ]
  },
  {
   "cell_type": "code",
   "execution_count": 10,
   "id": "f278b182-5238-4adb-a0ca-7538c4cddd89",
   "metadata": {},
   "outputs": [],
   "source": [
    "d = {\"key1\" :1 , \"key2\" :2 , \"key3\":3 ,\"key4\" :4}"
   ]
  },
  {
   "cell_type": "code",
   "execution_count": 11,
   "id": "926911c9-db9f-4f33-a55a-2ce3b9c28a49",
   "metadata": {},
   "outputs": [
    {
     "data": {
      "text/plain": [
       "{'key1': 1, 'key2': 4, 'key3': 9, 'key4': 16}"
      ]
     },
     "execution_count": 11,
     "metadata": {},
     "output_type": "execute_result"
    }
   ],
   "source": [
    "{k:v**2 for k , v in d.items()}"
   ]
  },
  {
   "cell_type": "code",
   "execution_count": 12,
   "id": "c549a63f-bc31-47f2-8cd0-92676a4bc64e",
   "metadata": {},
   "outputs": [
    {
     "data": {
      "text/plain": [
       "dict_items([('key1', 1), ('key2', 2), ('key3', 3), ('key4', 4)])"
      ]
     },
     "execution_count": 12,
     "metadata": {},
     "output_type": "execute_result"
    }
   ],
   "source": [
    "d.items()"
   ]
  },
  {
   "cell_type": "code",
   "execution_count": 13,
   "id": "909b3337-1af5-427c-8f64-93a09c2c47ff",
   "metadata": {},
   "outputs": [
    {
     "data": {
      "text/plain": [
       "{'key1': 1, 'key2': 2, 'key3': 3, 'key4': 4}"
      ]
     },
     "execution_count": 13,
     "metadata": {},
     "output_type": "execute_result"
    }
   ],
   "source": [
    "d"
   ]
  },
  {
   "cell_type": "code",
   "execution_count": 14,
   "id": "ae3d5baa-040c-4b54-831e-6dbc875fa622",
   "metadata": {},
   "outputs": [
    {
     "data": {
      "text/plain": [
       "{'key2': 2, 'key3': 3, 'key4': 4}"
      ]
     },
     "execution_count": 14,
     "metadata": {},
     "output_type": "execute_result"
    }
   ],
   "source": [
    "{k : v for k , v in d.items() if v > 1 }"
   ]
  }
 ],
 "metadata": {
  "kernelspec": {
   "display_name": "Python 3 (ipykernel)",
   "language": "python",
   "name": "python3"
  },
  "language_info": {
   "codemirror_mode": {
    "name": "ipython",
    "version": 3
   },
   "file_extension": ".py",
   "mimetype": "text/x-python",
   "name": "python",
   "nbconvert_exporter": "python",
   "pygments_lexer": "ipython3",
   "version": "3.10.6"
  }
 },
 "nbformat": 4,
 "nbformat_minor": 5
}
