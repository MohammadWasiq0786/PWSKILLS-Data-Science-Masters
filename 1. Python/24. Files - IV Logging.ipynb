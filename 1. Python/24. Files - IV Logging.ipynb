{
 "cells": [
  {
   "cell_type": "markdown",
   "id": "20f23e80-af87-46e5-8537-731633afef84",
   "metadata": {},
   "source": [
    "![image](https://pwskills.com/images/PWSkills-main.png)\n",
    "\n",
    "# Data Science Masters\n",
    "\n",
    "## Day - 11\n",
    "## Date- 11 February 2023 \n",
    "## Files Part - IV (Logging)"
   ]
  },
  {
   "cell_type": "code",
   "execution_count": 1,
   "id": "5d6430c1-0c9f-4190-a9ac-50c12a49347f",
   "metadata": {},
   "outputs": [
    {
     "name": "stdout",
     "output_type": "stream",
     "text": [
      "This is my print()\n"
     ]
    }
   ],
   "source": [
    "print(\"This is my print()\")"
   ]
  },
  {
   "cell_type": "code",
   "execution_count": 2,
   "id": "2ea50f8c-ff1c-45a1-b8b2-1abddf9d2f4e",
   "metadata": {},
   "outputs": [],
   "source": [
    "import logging"
   ]
  },
  {
   "cell_type": "code",
   "execution_count": 3,
   "id": "c2345a54-e4c5-4208-a2e6-7b3729b2f3bd",
   "metadata": {},
   "outputs": [],
   "source": [
    "logging.basicConfig(filename = \"test.log\" ,level = logging.INFO)"
   ]
  },
  {
   "cell_type": "code",
   "execution_count": 4,
   "id": "b66a9a08-ea3f-46bd-89f6-309abc66cf6a",
   "metadata": {},
   "outputs": [],
   "source": [
    "logging.info(\"log this line of executation\" )"
   ]
  },
  {
   "cell_type": "code",
   "execution_count": 5,
   "id": "27ce5ebd-23b1-4518-ae76-1c3066820c9a",
   "metadata": {},
   "outputs": [],
   "source": [
    "logging.info(\"this is my print\")"
   ]
  },
  {
   "cell_type": "code",
   "execution_count": 6,
   "id": "6c11c094-e3c3-4bbb-9b51-b4a705df4830",
   "metadata": {},
   "outputs": [],
   "source": [
    "logging.debug(\"this is my msg\")"
   ]
  },
  {
   "cell_type": "code",
   "execution_count": 7,
   "id": "ea44d0fb-60f9-4e51-9829-6a3ea6774c4d",
   "metadata": {},
   "outputs": [],
   "source": [
    "logging.warning(\"this is my warning msg\")"
   ]
  },
  {
   "cell_type": "code",
   "execution_count": 8,
   "id": "46330208-827c-4ec9-8c30-15caa112cf61",
   "metadata": {},
   "outputs": [],
   "source": [
    "logging.error(\"this is my error\")"
   ]
  },
  {
   "cell_type": "code",
   "execution_count": 9,
   "id": "11b7fe71-78f5-4e0a-97a7-43b6064c7e7a",
   "metadata": {},
   "outputs": [],
   "source": [
    "logging.critical(\"this is my critical msg\")"
   ]
  },
  {
   "cell_type": "code",
   "execution_count": 10,
   "id": "836139ea-4f26-4973-a906-3b4a00757472",
   "metadata": {},
   "outputs": [],
   "source": [
    "logging.shutdown()"
   ]
  },
  {
   "cell_type": "markdown",
   "id": "a16c7f56-de2f-4585-b6ca-6b3c4ac87955",
   "metadata": {},
   "source": [
    "1. **NOTSET**\n",
    "2. **DEBUG**\n",
    "3. **INFO**\n",
    "4. **WARNING**\n",
    "5. **ERROR**\n",
    "6. **CRITICAL**"
   ]
  },
  {
   "cell_type": "code",
   "execution_count": 11,
   "id": "cd3e07e0-7108-4a04-84bb-758435c6f2ad",
   "metadata": {},
   "outputs": [],
   "source": [
    "import logging"
   ]
  },
  {
   "cell_type": "code",
   "execution_count": 12,
   "id": "8d3cbe8f-5d2d-4813-9848-54cb459fd036",
   "metadata": {},
   "outputs": [],
   "source": [
    "logging.basicConfig(filename = \"test1.log\" , level =logging.DEBUG , format = '%(asctime)s %(message)s' )"
   ]
  },
  {
   "cell_type": "code",
   "execution_count": 13,
   "id": "90e54379-f921-49fb-b59c-888083ada94b",
   "metadata": {},
   "outputs": [],
   "source": [
    "logging.info(\"this is my info logging \" )\n",
    "logging.error(\"this is my error msg\" )\n",
    "logging.critical(\"this is my critical\")"
   ]
  },
  {
   "cell_type": "code",
   "execution_count": 14,
   "id": "622f02d0-bc7b-4d21-ae03-2f1a073e2d17",
   "metadata": {},
   "outputs": [],
   "source": [
    "logging.shutdown()"
   ]
  },
  {
   "cell_type": "code",
   "execution_count": 15,
   "id": "b7ea6073-dc9b-4b75-9a85-4e1d6ed3d46d",
   "metadata": {},
   "outputs": [],
   "source": [
    "logging.basicConfig(filename = \"test2.log\" , level = logging.DEBUG , format = '%(asctime)s %(name)s %(levelname)s  %(message)s')"
   ]
  },
  {
   "cell_type": "code",
   "execution_count": 16,
   "id": "6dc17717-9916-486c-95d5-178c83d98510",
   "metadata": {},
   "outputs": [],
   "source": [
    "logging.info(\"this is my info logging \" )\n",
    "logging.error(\"this is my error msg\" )\n",
    "logging.critical(\"this is my critical\")"
   ]
  },
  {
   "cell_type": "code",
   "execution_count": 18,
   "id": "96196443-b6fc-4bfc-a515-9ee0919400cb",
   "metadata": {},
   "outputs": [],
   "source": [
    "l = [1,2,3,34,4,[2,3,4] , \"Wasiq\" , \"Zainul\"]"
   ]
  },
  {
   "cell_type": "code",
   "execution_count": 19,
   "id": "1796585b-037f-4f2b-856a-cd7ab2ac0ee2",
   "metadata": {},
   "outputs": [],
   "source": [
    "l1_int = []\n",
    "l2_str = []\n",
    "for i in l :\n",
    "    logging.info(\"We are iterating throuhg our list and our local var is {}\".format(l ))\n",
    "    if type(i ) == list :\n",
    "        logging.info(\"I am inside if statement and i am trying to check list type\" + str(i))\n",
    "        for j in i :\n",
    "            logging.info(\"I am in anothe for loop for list inside list element \"+ str(j))\n",
    "            if type(j) == int :\n",
    "                logging.info(\"I am inside if statement\")\n",
    "                l1_int.append(j)\n",
    "    elif type(i) == int :\n",
    "        l1_int.append(i)\n",
    "    else :\n",
    "        if type(i) == str : \n",
    "            l2_str.append(i)\n",
    "logging.info(\"My final result for int is {l1} and str is {l2}\".format(l1 =l1_int , l2 = l2_str ))"
   ]
  },
  {
   "cell_type": "code",
   "execution_count": 20,
   "id": "1f2428a7-5901-43c5-a432-6a8b4ae50779",
   "metadata": {},
   "outputs": [
    {
     "data": {
      "text/plain": [
       "[1, 2, 3, 34, 4, 2, 3, 4]"
      ]
     },
     "execution_count": 20,
     "metadata": {},
     "output_type": "execute_result"
    }
   ],
   "source": [
    "l1_int"
   ]
  },
  {
   "cell_type": "code",
   "execution_count": 21,
   "id": "f4f625d1-30fc-41ff-9707-383d1023124d",
   "metadata": {},
   "outputs": [
    {
     "data": {
      "text/plain": [
       "['Wasiq', 'Zainul']"
      ]
     },
     "execution_count": 21,
     "metadata": {},
     "output_type": "execute_result"
    }
   ],
   "source": [
    "l2_str"
   ]
  }
 ],
 "metadata": {
  "kernelspec": {
   "display_name": "Python 3 (ipykernel)",
   "language": "python",
   "name": "python3"
  },
  "language_info": {
   "codemirror_mode": {
    "name": "ipython",
    "version": 3
   },
   "file_extension": ".py",
   "mimetype": "text/x-python",
   "name": "python",
   "nbconvert_exporter": "python",
   "pygments_lexer": "ipython3",
   "version": "3.10.6"
  }
 },
 "nbformat": 4,
 "nbformat_minor": 5
}
