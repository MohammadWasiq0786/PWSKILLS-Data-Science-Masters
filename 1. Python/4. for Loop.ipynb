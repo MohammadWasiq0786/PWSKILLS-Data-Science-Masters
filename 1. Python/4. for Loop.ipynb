{
 "cells": [
  {
   "cell_type": "markdown",
   "id": "aa6b5246-aa47-4207-b1ac-26ce98f67538",
   "metadata": {},
   "source": [
    "![image](https://pwskills.com/images/PWSkills-main.png)"
   ]
  },
  {
   "cell_type": "markdown",
   "id": "8c8603b1-1d16-469a-a7b8-6a32fd0f2674",
   "metadata": {},
   "source": [
    "# Data Science Masters\n",
    "\n",
    "## Day - 4\n",
    "## Date- 1 February 2023 \n",
    "## for Loops Part - I"
   ]
  },
  {
   "cell_type": "markdown",
   "id": "9a99cfb3-10a4-4b7b-bfaf-f314237dbfd2",
   "metadata": {},
   "source": [
    "# 1. for "
   ]
  },
  {
   "cell_type": "code",
   "execution_count": 1,
   "id": "c43b9419-d61a-4978-9208-a86d3bbd8853",
   "metadata": {},
   "outputs": [],
   "source": [
    "l= [1,2,3,4,5,6,7,8]"
   ]
  },
  {
   "cell_type": "code",
   "execution_count": 2,
   "id": "802642b1-b081-4eb7-8c7d-7fe92bece3be",
   "metadata": {},
   "outputs": [
    {
     "name": "stdout",
     "output_type": "stream",
     "text": [
      "1\n",
      "2\n",
      "3\n",
      "4\n",
      "5\n",
      "6\n",
      "7\n",
      "8\n"
     ]
    }
   ],
   "source": [
    "for i in l:\n",
    "    print(i)"
   ]
  },
  {
   "cell_type": "code",
   "execution_count": 3,
   "id": "5dce79d9-942c-48a3-96ce-cc81b3241e81",
   "metadata": {},
   "outputs": [
    {
     "name": "stdout",
     "output_type": "stream",
     "text": [
      "2\n",
      "3\n",
      "4\n",
      "5\n",
      "6\n",
      "7\n",
      "8\n",
      "9\n"
     ]
    }
   ],
   "source": [
    "for i in l:\n",
    "    print(i+1)"
   ]
  },
  {
   "cell_type": "code",
   "execution_count": 4,
   "id": "eb037808-ae9e-4268-a438-2f42b6971673",
   "metadata": {},
   "outputs": [
    {
     "name": "stdout",
     "output_type": "stream",
     "text": [
      "[1, 2, 3, 4, 5, 6, 7, 8]\n",
      "[1, 2, 3, 4, 5, 6, 7, 8]\n",
      "[1, 2, 3, 4, 5, 6, 7, 8]\n",
      "[1, 2, 3, 4, 5, 6, 7, 8]\n",
      "[1, 2, 3, 4, 5, 6, 7, 8]\n",
      "[1, 2, 3, 4, 5, 6, 7, 8]\n",
      "[1, 2, 3, 4, 5, 6, 7, 8]\n",
      "[1, 2, 3, 4, 5, 6, 7, 8]\n"
     ]
    }
   ],
   "source": [
    "for i in l:\n",
    "    print(l)"
   ]
  },
  {
   "cell_type": "code",
   "execution_count": 9,
   "id": "6c711100-241b-488d-9521-a5492deedad3",
   "metadata": {},
   "outputs": [],
   "source": [
    "l1= []\n",
    "for i in l:\n",
    "    l1.append(i+1)"
   ]
  },
  {
   "cell_type": "code",
   "execution_count": 10,
   "id": "4e5a7722-e759-490c-af5f-7068034f9a1b",
   "metadata": {},
   "outputs": [
    {
     "data": {
      "text/plain": [
       "[2, 3, 4, 5, 6, 7, 8, 9]"
      ]
     },
     "execution_count": 10,
     "metadata": {},
     "output_type": "execute_result"
    }
   ],
   "source": [
    "l1"
   ]
  },
  {
   "cell_type": "code",
   "execution_count": 12,
   "id": "850337fe-9528-4b39-b490-953f4d8dbe59",
   "metadata": {},
   "outputs": [],
   "source": [
    "l= [\"wasiq\", \"zainul\", \"pwskills\", \"course\"]"
   ]
  },
  {
   "cell_type": "code",
   "execution_count": 13,
   "id": "4a5dbecb-5351-45be-a567-4f3aea77bf4f",
   "metadata": {},
   "outputs": [],
   "source": [
    "l1= []\n",
    "for i in l:\n",
    "    l1.append(i.upper())"
   ]
  },
  {
   "cell_type": "code",
   "execution_count": 14,
   "id": "ff1a7e6f-b9ec-42a2-9395-cd3a1de32c07",
   "metadata": {},
   "outputs": [
    {
     "data": {
      "text/plain": [
       "['WASIQ', 'ZAINUL', 'PWSKILLS', 'COURSE']"
      ]
     },
     "execution_count": 14,
     "metadata": {},
     "output_type": "execute_result"
    }
   ],
   "source": [
    "l1"
   ]
  },
  {
   "cell_type": "code",
   "execution_count": 15,
   "id": "801ffe29-609a-4076-8e07-5073a0cd55d1",
   "metadata": {},
   "outputs": [],
   "source": [
    "l= [1, 2, 3, 4, 4, \"wasiq\", 324, 34.456, \"abc\"]"
   ]
  },
  {
   "cell_type": "code",
   "execution_count": 16,
   "id": "e7830f24-06c8-4e94-89c8-06a80d47cf06",
   "metadata": {},
   "outputs": [],
   "source": [
    "l1_num= []\n",
    "l2_str= []\n",
    "\n",
    "for i in l:\n",
    "    if type(i) == int or type(i) == float:\n",
    "        l1_num.append(i)\n",
    "    else:\n",
    "        l2_str.append(i)"
   ]
  },
  {
   "cell_type": "code",
   "execution_count": 18,
   "id": "41342925-3b17-4572-8ceb-966cb3852a7d",
   "metadata": {},
   "outputs": [
    {
     "data": {
      "text/plain": [
       "[1, 2, 3, 4, 4, 324, 34.456]"
      ]
     },
     "execution_count": 18,
     "metadata": {},
     "output_type": "execute_result"
    }
   ],
   "source": [
    "l1_num"
   ]
  },
  {
   "cell_type": "code",
   "execution_count": 19,
   "id": "184e04e7-1e61-4a65-9d65-08f72eb9f4c0",
   "metadata": {},
   "outputs": [
    {
     "data": {
      "text/plain": [
       "['wasiq', 'abc']"
      ]
     },
     "execution_count": 19,
     "metadata": {},
     "output_type": "execute_result"
    }
   ],
   "source": [
    "l2_str"
   ]
  },
  {
   "cell_type": "markdown",
   "id": "2d18e340-318a-4353-a927-b68440b8f189",
   "metadata": {},
   "source": [
    "# Data Science Masters\n",
    "\n",
    "## Day - 5\n",
    "## Date- 2 February 2023 \n",
    "## For Loop Part - II"
   ]
  },
  {
   "cell_type": "code",
   "execution_count": 2,
   "id": "aa611cbd-b14b-4b57-baf8-3877b8f57d3a",
   "metadata": {},
   "outputs": [],
   "source": [
    "l= [1, 2, 3, 4, 5]"
   ]
  },
  {
   "cell_type": "code",
   "execution_count": 3,
   "id": "07ba484c-f9bf-4c26-87e1-ec9f944e1d39",
   "metadata": {},
   "outputs": [
    {
     "name": "stdout",
     "output_type": "stream",
     "text": [
      "1 <class 'int'>\n",
      "2 <class 'int'>\n",
      "3 <class 'int'>\n",
      "4 <class 'int'>\n",
      "5 <class 'int'>\n"
     ]
    }
   ],
   "source": [
    "for i in l:\n",
    "    print(i, type(i))"
   ]
  },
  {
   "cell_type": "code",
   "execution_count": 4,
   "id": "fc080302-7f2d-4fdc-9e9a-c4e4a202aaaa",
   "metadata": {},
   "outputs": [],
   "source": [
    "l1= [\"wasiq\", \"zainul\", \"amu\", \"joya\"]"
   ]
  },
  {
   "cell_type": "code",
   "execution_count": 5,
   "id": "acf336b8-5c4a-474d-8abc-b261ea65f24e",
   "metadata": {},
   "outputs": [
    {
     "name": "stdout",
     "output_type": "stream",
     "text": [
      "wasiq\n",
      "zainul\n",
      "amu\n",
      "joya\n"
     ]
    }
   ],
   "source": [
    "for i in l1:\n",
    "    print(i)"
   ]
  },
  {
   "cell_type": "markdown",
   "id": "494566e6-8766-4c2f-a640-f93b68a2adcb",
   "metadata": {},
   "source": [
    "## for - else"
   ]
  },
  {
   "cell_type": "code",
   "execution_count": 7,
   "id": "c1360949-9f26-4e2c-8250-8677b0bc56e3",
   "metadata": {},
   "outputs": [
    {
     "name": "stdout",
     "output_type": "stream",
     "text": [
      "wasiq\n",
      "zainul\n",
      "amu\n",
      "joya\n",
      "If `for` loop is able to complete itself then only `else` will execute.\n"
     ]
    }
   ],
   "source": [
    "for i in l1:\n",
    "    print(i)\n",
    "else:\n",
    "    print(\"If `for` loop is able to complete itself then only `else` will execute.\")"
   ]
  },
  {
   "cell_type": "code",
   "execution_count": 8,
   "id": "02fbf4af-f238-42d7-8d91-cc482f4f0376",
   "metadata": {},
   "outputs": [
    {
     "data": {
      "text/plain": [
       "['wasiq', 'zainul', 'amu', 'joya']"
      ]
     },
     "execution_count": 8,
     "metadata": {},
     "output_type": "execute_result"
    }
   ],
   "source": [
    "l1"
   ]
  },
  {
   "cell_type": "code",
   "execution_count": 10,
   "id": "58472ade-04f9-4908-8dbb-29e515e07f68",
   "metadata": {},
   "outputs": [
    {
     "name": "stdout",
     "output_type": "stream",
     "text": [
      "wasiq\n",
      "zainul\n"
     ]
    }
   ],
   "source": [
    "for i in l1:\n",
    "    if i == \"amu\":\n",
    "        break\n",
    "    print(i)"
   ]
  },
  {
   "cell_type": "code",
   "execution_count": 11,
   "id": "fc04cabe-484c-487c-9f98-d383cec58df1",
   "metadata": {},
   "outputs": [
    {
     "name": "stdout",
     "output_type": "stream",
     "text": [
      "wasiq\n",
      "zainul\n"
     ]
    }
   ],
   "source": [
    "for i in l1:\n",
    "    if i == \"amu\":\n",
    "        break\n",
    "    print(i)\n",
    "else:\n",
    "    print(\"Execute this if `for` loop is able to complete itself.\")"
   ]
  },
  {
   "cell_type": "code",
   "execution_count": 12,
   "id": "345d998c-1dc3-42f0-bf75-9738e7ad57e2",
   "metadata": {},
   "outputs": [
    {
     "name": "stdout",
     "output_type": "stream",
     "text": [
      "wasiq\n",
      "zainul\n",
      "joya\n"
     ]
    }
   ],
   "source": [
    "for i in l1:\n",
    "    if i == \"amu\":\n",
    "        continue\n",
    "    print(i)"
   ]
  },
  {
   "cell_type": "code",
   "execution_count": 13,
   "id": "f534c1a7-71ed-4d3a-bb5b-4eeaa97269c8",
   "metadata": {},
   "outputs": [
    {
     "data": {
      "text/plain": [
       "range(0, 5)"
      ]
     },
     "execution_count": 13,
     "metadata": {},
     "output_type": "execute_result"
    }
   ],
   "source": [
    "range(0, 5)"
   ]
  },
  {
   "cell_type": "code",
   "execution_count": 14,
   "id": "8512c39f-ff84-4f51-8198-48a0b98f7ac9",
   "metadata": {},
   "outputs": [
    {
     "name": "stdout",
     "output_type": "stream",
     "text": [
      "0\n",
      "1\n",
      "2\n",
      "3\n",
      "4\n"
     ]
    }
   ],
   "source": [
    "for i in range(0, 5):\n",
    "    print(i)"
   ]
  },
  {
   "cell_type": "code",
   "execution_count": 15,
   "id": "b85288b0-2f14-408c-a04c-dcb50915173c",
   "metadata": {},
   "outputs": [
    {
     "data": {
      "text/plain": [
       "[0, 1, 2, 3, 4]"
      ]
     },
     "execution_count": 15,
     "metadata": {},
     "output_type": "execute_result"
    }
   ],
   "source": [
    "list(range(0, 5))"
   ]
  },
  {
   "cell_type": "code",
   "execution_count": 16,
   "id": "efef1a9d-4fe8-4565-9d75-0f5c449dba53",
   "metadata": {},
   "outputs": [
    {
     "data": {
      "text/plain": [
       "[0, 2, 4, 6, 8, 10, 12, 14, 16, 18]"
      ]
     },
     "execution_count": 16,
     "metadata": {},
     "output_type": "execute_result"
    }
   ],
   "source": [
    "list(range(0, 20, 2))"
   ]
  },
  {
   "cell_type": "code",
   "execution_count": 17,
   "id": "72e30239-e1a6-48bc-aa0d-ce74d13a6109",
   "metadata": {},
   "outputs": [
    {
     "data": {
      "text/plain": [
       "[-10, -9, -8, -7, -6, -5, -4, -3, -2, -1]"
      ]
     },
     "execution_count": 17,
     "metadata": {},
     "output_type": "execute_result"
    }
   ],
   "source": [
    "list(range(-10, 0))"
   ]
  },
  {
   "cell_type": "code",
   "execution_count": 18,
   "id": "cb257128-b34c-43c2-9b9d-c2acb2add396",
   "metadata": {},
   "outputs": [
    {
     "data": {
      "text/plain": [
       "['wasiq', 'zainul', 'amu', 'joya']"
      ]
     },
     "execution_count": 18,
     "metadata": {},
     "output_type": "execute_result"
    }
   ],
   "source": [
    "l1"
   ]
  },
  {
   "cell_type": "code",
   "execution_count": 19,
   "id": "3ceb06a3-eaff-4e46-8f6e-05a6435a7e87",
   "metadata": {},
   "outputs": [
    {
     "name": "stdout",
     "output_type": "stream",
     "text": [
      "wasiq\n",
      "zainul\n",
      "amu\n",
      "joya\n"
     ]
    }
   ],
   "source": [
    "for i in range(len(l1)):\n",
    "    print(l1[i])"
   ]
  },
  {
   "cell_type": "code",
   "execution_count": 23,
   "id": "a9a8a7b3-ce6b-43b2-964d-b4bcf86de49b",
   "metadata": {},
   "outputs": [
    {
     "data": {
      "text/plain": [
       "[3, 2, 1, 0]"
      ]
     },
     "execution_count": 23,
     "metadata": {},
     "output_type": "execute_result"
    }
   ],
   "source": [
    "list(range(len(l1)-1, -1, -1))"
   ]
  },
  {
   "cell_type": "code",
   "execution_count": 24,
   "id": "c992b7aa-a423-45a3-a81b-940dff0ea733",
   "metadata": {},
   "outputs": [
    {
     "name": "stdout",
     "output_type": "stream",
     "text": [
      "joya\n",
      "amu\n",
      "zainul\n",
      "wasiq\n"
     ]
    }
   ],
   "source": [
    "for i in range(len(l1)-1, -1, -1):\n",
    "    print(l1[i])"
   ]
  },
  {
   "cell_type": "code",
   "execution_count": 1,
   "id": "a02bffdd-78ca-487a-9e76-f873705735ac",
   "metadata": {},
   "outputs": [],
   "source": [
    "l2= [23, 5, 45, 56, 6, 67, 67, 78, 87, 8998, 9, 9, 8]"
   ]
  },
  {
   "cell_type": "code",
   "execution_count": 3,
   "id": "3c725a11-392f-4fca-84f7-f33165404a64",
   "metadata": {},
   "outputs": [
    {
     "data": {
      "text/plain": [
       "[0, 2, 4, 6, 8, 10, 12]"
      ]
     },
     "execution_count": 3,
     "metadata": {},
     "output_type": "execute_result"
    }
   ],
   "source": [
    "list(range(0, len(l2), 2))"
   ]
  },
  {
   "cell_type": "code",
   "execution_count": 4,
   "id": "f981e469-33db-4a76-b565-a3b790c14b13",
   "metadata": {},
   "outputs": [
    {
     "name": "stdout",
     "output_type": "stream",
     "text": [
      "23\n",
      "45\n",
      "6\n",
      "67\n",
      "87\n",
      "9\n",
      "8\n"
     ]
    }
   ],
   "source": [
    "for i in range(0, len(l2), 2):\n",
    "    print(l2[i])"
   ]
  },
  {
   "cell_type": "code",
   "execution_count": 5,
   "id": "ca99644d-93c0-4b5b-a9ef-5f6f613f2ab1",
   "metadata": {},
   "outputs": [],
   "source": [
    "l= [1, 2, 3, 4, 5, 7, 8, 98]"
   ]
  },
  {
   "cell_type": "code",
   "execution_count": 6,
   "id": "423dc09a-79d7-4819-b21a-8930f076d7ec",
   "metadata": {},
   "outputs": [
    {
     "data": {
      "text/plain": [
       "128"
      ]
     },
     "execution_count": 6,
     "metadata": {},
     "output_type": "execute_result"
    }
   ],
   "source": [
    "sum(l)"
   ]
  },
  {
   "cell_type": "code",
   "execution_count": 7,
   "id": "2c69f471-9323-497a-86fd-6d571b9bcb51",
   "metadata": {},
   "outputs": [
    {
     "data": {
      "text/plain": [
       "128"
      ]
     },
     "execution_count": 7,
     "metadata": {},
     "output_type": "execute_result"
    }
   ],
   "source": [
    "result= 0\n",
    "for i in l:\n",
    "    result= result+i\n",
    "result"
   ]
  },
  {
   "cell_type": "code",
   "execution_count": 8,
   "id": "03e2f28d-bcbe-4323-8276-ffa3c8d1b646",
   "metadata": {},
   "outputs": [
    {
     "name": "stdout",
     "output_type": "stream",
     "text": [
      "1\n",
      "2\n",
      "3\n",
      "4\n",
      "4\n",
      "5\n"
     ]
    }
   ],
   "source": [
    "t= (1, 2, 3, 4, 4, 5)\n",
    "for i in t:\n",
    "    print(i)"
   ]
  },
  {
   "cell_type": "code",
   "execution_count": 9,
   "id": "9701ae40-99e5-4948-b5b5-f800ebb0422c",
   "metadata": {},
   "outputs": [
    {
     "data": {
      "text/plain": [
       "19"
      ]
     },
     "execution_count": 9,
     "metadata": {},
     "output_type": "execute_result"
    }
   ],
   "source": [
    "result= 0\n",
    "for i in t:\n",
    "    result= result+i\n",
    "result"
   ]
  },
  {
   "cell_type": "code",
   "execution_count": 10,
   "id": "dd00247d-4934-4bd2-a531-5323f223155a",
   "metadata": {},
   "outputs": [
    {
     "name": "stdout",
     "output_type": "stream",
     "text": [
      "1\n",
      "2\n",
      "3\n",
      "4\n",
      "5\n",
      "pwskills\n",
      "wasiq\n"
     ]
    }
   ],
   "source": [
    "s= {1, 2, 3, 4, 5, \"wasiq\", \"pwskills\"}\n",
    "for i in s:\n",
    "    print(i)"
   ]
  },
  {
   "cell_type": "code",
   "execution_count": 11,
   "id": "16d28650-dd3e-4435-89b7-df5c11873799",
   "metadata": {},
   "outputs": [
    {
     "name": "stdout",
     "output_type": "stream",
     "text": [
      "p\n",
      "w\n",
      "s\n",
      "k\n",
      "i\n",
      "l\n",
      "l\n",
      "s\n"
     ]
    }
   ],
   "source": [
    "s1= \"pwskills\"\n",
    "for i in s1:\n",
    "    print(i)"
   ]
  },
  {
   "cell_type": "code",
   "execution_count": 12,
   "id": "8f7c24f8-96af-465c-9b1e-e0b10c6e4944",
   "metadata": {},
   "outputs": [
    {
     "data": {
      "text/plain": [
       "{'name': 'Wasiq',\n",
       " 'class': 'Data Science Masters',\n",
       " 'topics': ['Python',\n",
       "  'Stats',\n",
       "  'Machine Learning',\n",
       "  'Deep Learning',\n",
       "  'CV',\n",
       "  'NLP',\n",
       "  'Resume',\n",
       "  'Interview']}"
      ]
     },
     "execution_count": 12,
     "metadata": {},
     "output_type": "execute_result"
    }
   ],
   "source": [
    "d= {\"name\": \"Wasiq\", \"class\": \"Data Science Masters\", \n",
    "    \"topics\": [\"Python\", \"Stats\", \"Machine Learning\", \"Deep Learning\", \"CV\", \"NLP\", \"Resume\", \"Interview\"]}\n",
    "d"
   ]
  },
  {
   "cell_type": "code",
   "execution_count": 13,
   "id": "e7a08d6b-1e43-4d95-aa7b-d84db6ab304c",
   "metadata": {},
   "outputs": [
    {
     "data": {
      "text/plain": [
       "'Wasiq'"
      ]
     },
     "execution_count": 13,
     "metadata": {},
     "output_type": "execute_result"
    }
   ],
   "source": [
    "d['name']"
   ]
  },
  {
   "cell_type": "code",
   "execution_count": 14,
   "id": "53692bda-b638-456d-accc-3ffabbfaa6cd",
   "metadata": {},
   "outputs": [
    {
     "data": {
      "text/plain": [
       "dict_keys(['name', 'class', 'topics'])"
      ]
     },
     "execution_count": 14,
     "metadata": {},
     "output_type": "execute_result"
    }
   ],
   "source": [
    "d.keys()"
   ]
  },
  {
   "cell_type": "code",
   "execution_count": 15,
   "id": "6dd15fb5-4969-458a-854d-9fd09c779f7f",
   "metadata": {},
   "outputs": [
    {
     "data": {
      "text/plain": [
       "dict_values(['Wasiq', 'Data Science Masters', ['Python', 'Stats', 'Machine Learning', 'Deep Learning', 'CV', 'NLP', 'Resume', 'Interview']])"
      ]
     },
     "execution_count": 15,
     "metadata": {},
     "output_type": "execute_result"
    }
   ],
   "source": [
    "d.values()"
   ]
  },
  {
   "cell_type": "code",
   "execution_count": 16,
   "id": "dcd338b1-4648-4a3a-a0dd-85da11924ceb",
   "metadata": {},
   "outputs": [
    {
     "name": "stdout",
     "output_type": "stream",
     "text": [
      "Wasiq\n",
      "Data Science Masters\n",
      "['Python', 'Stats', 'Machine Learning', 'Deep Learning', 'CV', 'NLP', 'Resume', 'Interview']\n"
     ]
    }
   ],
   "source": [
    "for i in d.keys():\n",
    "    print(d[i])"
   ]
  },
  {
   "cell_type": "code",
   "execution_count": 18,
   "id": "fd14cd43-e7a5-433b-8694-66c3abf16709",
   "metadata": {},
   "outputs": [
    {
     "name": "stdout",
     "output_type": "stream",
     "text": [
      "Wasiq\n",
      "Data Science Masters\n",
      "['Python', 'Stats', 'Machine Learning', 'Deep Learning', 'CV', 'NLP', 'Resume', 'Interview']\n"
     ]
    }
   ],
   "source": [
    "for i in d.values():\n",
    "    print(i)"
   ]
  },
  {
   "cell_type": "code",
   "execution_count": 19,
   "id": "df2079db-2a8b-4cb3-a610-353551cdba06",
   "metadata": {},
   "outputs": [
    {
     "data": {
      "text/plain": [
       "dict_items([('name', 'Wasiq'), ('class', 'Data Science Masters'), ('topics', ['Python', 'Stats', 'Machine Learning', 'Deep Learning', 'CV', 'NLP', 'Resume', 'Interview'])])"
      ]
     },
     "execution_count": 19,
     "metadata": {},
     "output_type": "execute_result"
    }
   ],
   "source": [
    "d.items()"
   ]
  },
  {
   "cell_type": "code",
   "execution_count": 20,
   "id": "4c8bb78f-c615-4977-894a-b9c5f303b01b",
   "metadata": {},
   "outputs": [
    {
     "name": "stdout",
     "output_type": "stream",
     "text": [
      "('name', 'Wasiq')\n",
      "('class', 'Data Science Masters')\n",
      "('topics', ['Python', 'Stats', 'Machine Learning', 'Deep Learning', 'CV', 'NLP', 'Resume', 'Interview'])\n"
     ]
    }
   ],
   "source": [
    "for i in d.items():\n",
    "    print(i)"
   ]
  }
 ],
 "metadata": {
  "kernelspec": {
   "display_name": "Python 3 (ipykernel)",
   "language": "python",
   "name": "python3"
  },
  "language_info": {
   "codemirror_mode": {
    "name": "ipython",
    "version": 3
   },
   "file_extension": ".py",
   "mimetype": "text/x-python",
   "name": "python",
   "nbconvert_exporter": "python",
   "pygments_lexer": "ipython3",
   "version": "3.10.6"
  }
 },
 "nbformat": 4,
 "nbformat_minor": 5
}
