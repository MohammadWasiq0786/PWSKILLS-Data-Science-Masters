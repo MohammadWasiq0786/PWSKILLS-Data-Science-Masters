{
 "cells": [
  {
   "cell_type": "markdown",
   "id": "e6d03f8a-1dc4-4db9-b442-dcead8547707",
   "metadata": {},
   "source": [
    "![image](https://pwskills.com/images/PWSkills-main.png)"
   ]
  },
  {
   "cell_type": "markdown",
   "id": "f28c3f38-8f8e-4098-8929-9dfed0e8e108",
   "metadata": {},
   "source": [
    "# Data Science Masters\n",
    "\n",
    "## Day - 3\n",
    "## Date- 31 January 2023 \n",
    "## Data Type"
   ]
  },
  {
   "cell_type": "markdown",
   "id": "939ddef0-ba04-4353-a7cb-7d91452e9bb4",
   "metadata": {},
   "source": [
    "# 1. List\n",
    "\n",
    "* List is mutable and store in **[ ]**"
   ]
  },
  {
   "cell_type": "code",
   "execution_count": 2,
   "id": "6d0bfb8c-24ac-4af4-a8e4-21904638f93d",
   "metadata": {},
   "outputs": [
    {
     "data": {
      "text/plain": [
       "[1, 345, 45, 'wasiq', True, (5+7j), 345.456]"
      ]
     },
     "execution_count": 2,
     "metadata": {},
     "output_type": "execute_result"
    }
   ],
   "source": [
    "l= [1, 345, 45, \"wasiq\", True, 5+7j, 345.456]\n",
    "l"
   ]
  },
  {
   "cell_type": "code",
   "execution_count": 3,
   "id": "b090ed82-ff01-4b04-91bf-f5d6e89b5baf",
   "metadata": {},
   "outputs": [
    {
     "data": {
      "text/plain": [
       "list"
      ]
     },
     "execution_count": 3,
     "metadata": {},
     "output_type": "execute_result"
    }
   ],
   "source": [
    "type(l)"
   ]
  },
  {
   "cell_type": "code",
   "execution_count": 4,
   "id": "d5e29d63-afd1-4204-a73f-4f3efed44ad2",
   "metadata": {},
   "outputs": [
    {
     "data": {
      "text/plain": [
       "1"
      ]
     },
     "execution_count": 4,
     "metadata": {},
     "output_type": "execute_result"
    }
   ],
   "source": [
    "l[0]"
   ]
  },
  {
   "cell_type": "code",
   "execution_count": 5,
   "id": "3968299f-4f2a-468b-9a74-c1a85fa9c0c9",
   "metadata": {},
   "outputs": [
    {
     "data": {
      "text/plain": [
       "345.456"
      ]
     },
     "execution_count": 5,
     "metadata": {},
     "output_type": "execute_result"
    }
   ],
   "source": [
    "l[6]"
   ]
  },
  {
   "cell_type": "code",
   "execution_count": 6,
   "id": "3e3d1e6e-7f4a-44d1-a764-61587de01bbc",
   "metadata": {},
   "outputs": [
    {
     "ename": "IndexError",
     "evalue": "list index out of range",
     "output_type": "error",
     "traceback": [
      "\u001b[0;31m---------------------------------------------------------------------------\u001b[0m",
      "\u001b[0;31mIndexError\u001b[0m                                Traceback (most recent call last)",
      "Cell \u001b[0;32mIn [6], line 1\u001b[0m\n\u001b[0;32m----> 1\u001b[0m \u001b[43ml\u001b[49m\u001b[43m[\u001b[49m\u001b[38;5;241;43m90\u001b[39;49m\u001b[43m]\u001b[49m\n",
      "\u001b[0;31mIndexError\u001b[0m: list index out of range"
     ]
    }
   ],
   "source": [
    "l[90]"
   ]
  },
  {
   "cell_type": "code",
   "execution_count": 7,
   "id": "ff928c9e-26c0-4baf-8d2d-bea72331127c",
   "metadata": {},
   "outputs": [
    {
     "data": {
      "text/plain": [
       "[1, 345, 45, 'wasiq', True, (5+7j), 345.456]"
      ]
     },
     "execution_count": 7,
     "metadata": {},
     "output_type": "execute_result"
    }
   ],
   "source": [
    "l"
   ]
  },
  {
   "cell_type": "code",
   "execution_count": 8,
   "id": "ce5155d6-bb14-4850-8694-e9dfec047c90",
   "metadata": {},
   "outputs": [
    {
     "data": {
      "text/plain": [
       "[1, 345, 45]"
      ]
     },
     "execution_count": 8,
     "metadata": {},
     "output_type": "execute_result"
    }
   ],
   "source": [
    "l[0:3]"
   ]
  },
  {
   "cell_type": "code",
   "execution_count": 9,
   "id": "61ce05db-2d93-4a94-a972-9196aaa1b37b",
   "metadata": {},
   "outputs": [
    {
     "data": {
      "text/plain": [
       "345.456"
      ]
     },
     "execution_count": 9,
     "metadata": {},
     "output_type": "execute_result"
    }
   ],
   "source": [
    "l[-1]"
   ]
  },
  {
   "cell_type": "code",
   "execution_count": 10,
   "id": "b60494af-180f-4b88-a839-b7d3e8821a5a",
   "metadata": {},
   "outputs": [
    {
     "data": {
      "text/plain": [
       "[345.456, (5+7j), True, 'wasiq', 45, 345, 1]"
      ]
     },
     "execution_count": 10,
     "metadata": {},
     "output_type": "execute_result"
    }
   ],
   "source": [
    "l[::-1]"
   ]
  },
  {
   "cell_type": "code",
   "execution_count": 11,
   "id": "9da70278-dc47-4b4e-9716-5814b7ec1516",
   "metadata": {},
   "outputs": [
    {
     "data": {
      "text/plain": [
       "[1, 45, True, 345.456]"
      ]
     },
     "execution_count": 11,
     "metadata": {},
     "output_type": "execute_result"
    }
   ],
   "source": [
    "l[::2]"
   ]
  },
  {
   "cell_type": "code",
   "execution_count": 13,
   "id": "5542259c-ca03-43c2-8437-f4ed25c86cf1",
   "metadata": {},
   "outputs": [],
   "source": [
    "s= \"pwskills\""
   ]
  },
  {
   "cell_type": "code",
   "execution_count": 14,
   "id": "5e89ba79-7f0d-42f4-a64f-580a65a22cd4",
   "metadata": {},
   "outputs": [
    {
     "ename": "TypeError",
     "evalue": "can only concatenate list (not \"str\") to list",
     "output_type": "error",
     "traceback": [
      "\u001b[0;31m---------------------------------------------------------------------------\u001b[0m",
      "\u001b[0;31mTypeError\u001b[0m                                 Traceback (most recent call last)",
      "Cell \u001b[0;32mIn [14], line 1\u001b[0m\n\u001b[0;32m----> 1\u001b[0m \u001b[43ml\u001b[49m\u001b[38;5;241;43m+\u001b[39;49m\u001b[43ms\u001b[49m\n",
      "\u001b[0;31mTypeError\u001b[0m: can only concatenate list (not \"str\") to list"
     ]
    }
   ],
   "source": [
    "l+s"
   ]
  },
  {
   "cell_type": "code",
   "execution_count": 15,
   "id": "577008e6-d9a2-43f7-9f5e-d7d11ab40998",
   "metadata": {},
   "outputs": [
    {
     "data": {
      "text/plain": [
       "['p',\n",
       " 'w',\n",
       " 's',\n",
       " 'k',\n",
       " 'i',\n",
       " 'l',\n",
       " 'l',\n",
       " 's',\n",
       " 1,\n",
       " 345,\n",
       " 45,\n",
       " 'wasiq',\n",
       " True,\n",
       " (5+7j),\n",
       " 345.456]"
      ]
     },
     "execution_count": 15,
     "metadata": {},
     "output_type": "execute_result"
    }
   ],
   "source": [
    "list(s)+l"
   ]
  },
  {
   "cell_type": "code",
   "execution_count": 16,
   "id": "27339851-3b5c-40a7-8f94-7338fc7e92f6",
   "metadata": {},
   "outputs": [
    {
     "data": {
      "text/plain": [
       "[1, 345, 45, 'wasiq', True, (5+7j), 345.456]"
      ]
     },
     "execution_count": 16,
     "metadata": {},
     "output_type": "execute_result"
    }
   ],
   "source": [
    "l"
   ]
  },
  {
   "cell_type": "code",
   "execution_count": 17,
   "id": "abb10905-a000-47ff-ba0c-662c738c56e5",
   "metadata": {},
   "outputs": [
    {
     "data": {
      "text/plain": [
       "'wasiq'"
      ]
     },
     "execution_count": 17,
     "metadata": {},
     "output_type": "execute_result"
    }
   ],
   "source": [
    "l[3]"
   ]
  },
  {
   "cell_type": "code",
   "execution_count": 18,
   "id": "ca18c465-d514-4c10-b764-c633de58883b",
   "metadata": {},
   "outputs": [
    {
     "data": {
      "text/plain": [
       "'wa'"
      ]
     },
     "execution_count": 18,
     "metadata": {},
     "output_type": "execute_result"
    }
   ],
   "source": [
    "l[3][0:2]"
   ]
  },
  {
   "cell_type": "code",
   "execution_count": 19,
   "id": "f14e2ebd-0c0a-415c-9cd1-33f6dfc69474",
   "metadata": {},
   "outputs": [
    {
     "data": {
      "text/plain": [
       "True"
      ]
     },
     "execution_count": 19,
     "metadata": {},
     "output_type": "execute_result"
    }
   ],
   "source": [
    "l[4]"
   ]
  },
  {
   "cell_type": "code",
   "execution_count": 20,
   "id": "851517af-954e-4c0f-ba3a-b3a2c935cbb5",
   "metadata": {},
   "outputs": [
    {
     "data": {
      "text/plain": [
       "'Tr'"
      ]
     },
     "execution_count": 20,
     "metadata": {},
     "output_type": "execute_result"
    }
   ],
   "source": [
    "str(l[4])[0:2]"
   ]
  },
  {
   "cell_type": "code",
   "execution_count": 21,
   "id": "23b1ab34-ea98-4b86-b176-4d75ead69090",
   "metadata": {},
   "outputs": [
    {
     "ename": "TypeError",
     "evalue": "can only concatenate list (not \"int\") to list",
     "output_type": "error",
     "traceback": [
      "\u001b[0;31m---------------------------------------------------------------------------\u001b[0m",
      "\u001b[0;31mTypeError\u001b[0m                                 Traceback (most recent call last)",
      "Cell \u001b[0;32mIn [21], line 1\u001b[0m\n\u001b[0;32m----> 1\u001b[0m \u001b[43ml\u001b[49m\u001b[38;5;241;43m+\u001b[39;49m\u001b[38;5;241;43m5\u001b[39;49m\n",
      "\u001b[0;31mTypeError\u001b[0m: can only concatenate list (not \"int\") to list"
     ]
    }
   ],
   "source": [
    "l+5"
   ]
  },
  {
   "cell_type": "code",
   "execution_count": 22,
   "id": "f734466f-b0e8-484c-849a-b3e6afb2d60e",
   "metadata": {},
   "outputs": [
    {
     "data": {
      "text/plain": [
       "[3, 4, 5]"
      ]
     },
     "execution_count": 22,
     "metadata": {},
     "output_type": "execute_result"
    }
   ],
   "source": [
    "l1= [3, 4, 5]\n",
    "l1"
   ]
  },
  {
   "cell_type": "code",
   "execution_count": 23,
   "id": "d1e0f69f-3a31-4bec-8c4d-500da4632945",
   "metadata": {},
   "outputs": [
    {
     "data": {
      "text/plain": [
       "[1, 345, 45, 'wasiq', True, (5+7j), 345.456, 3, 4, 5]"
      ]
     },
     "execution_count": 23,
     "metadata": {},
     "output_type": "execute_result"
    }
   ],
   "source": [
    "l+ l1"
   ]
  },
  {
   "cell_type": "code",
   "execution_count": 24,
   "id": "d639d007-9317-47bd-abe9-5c6caf17585c",
   "metadata": {},
   "outputs": [
    {
     "data": {
      "text/plain": [
       "[3, 4, 5, 3, 4, 5, 3, 4, 5]"
      ]
     },
     "execution_count": 24,
     "metadata": {},
     "output_type": "execute_result"
    }
   ],
   "source": [
    "l1*3"
   ]
  },
  {
   "cell_type": "code",
   "execution_count": 25,
   "id": "fe0a9875-436e-450a-96f0-0bb302dba6db",
   "metadata": {},
   "outputs": [
    {
     "data": {
      "text/plain": [
       "7"
      ]
     },
     "execution_count": 25,
     "metadata": {},
     "output_type": "execute_result"
    }
   ],
   "source": [
    "len(l)"
   ]
  },
  {
   "cell_type": "code",
   "execution_count": 26,
   "id": "e250d29c-d526-448b-95a5-6f95f837c4ef",
   "metadata": {},
   "outputs": [
    {
     "data": {
      "text/plain": [
       "[1, 345, 45, 'wasiq', True, (5+7j), 345.456]"
      ]
     },
     "execution_count": 26,
     "metadata": {},
     "output_type": "execute_result"
    }
   ],
   "source": [
    "l"
   ]
  },
  {
   "cell_type": "code",
   "execution_count": 28,
   "id": "02d5e746-51a4-4706-9b77-39fd0a3194f7",
   "metadata": {},
   "outputs": [],
   "source": [
    "l.append(5)"
   ]
  },
  {
   "cell_type": "code",
   "execution_count": 29,
   "id": "4a6d2a03-9adf-4bc7-8bd1-c355e68569b1",
   "metadata": {},
   "outputs": [
    {
     "data": {
      "text/plain": [
       "[1, 345, 45, 'wasiq', True, (5+7j), 345.456, 5]"
      ]
     },
     "execution_count": 29,
     "metadata": {},
     "output_type": "execute_result"
    }
   ],
   "source": [
    "l"
   ]
  },
  {
   "cell_type": "code",
   "execution_count": 30,
   "id": "d1168de7-ba03-4801-b40f-50729999c61c",
   "metadata": {},
   "outputs": [
    {
     "data": {
      "text/plain": [
       "[1, 345, 45, 'wasiq', True, (5+7j), 345.456, 5, 'zainul']"
      ]
     },
     "execution_count": 30,
     "metadata": {},
     "output_type": "execute_result"
    }
   ],
   "source": [
    "l.append(\"zainul\")\n",
    "l"
   ]
  },
  {
   "cell_type": "code",
   "execution_count": 31,
   "id": "1fbe5072-8af8-444b-bd7b-fad5ede055cc",
   "metadata": {},
   "outputs": [
    {
     "data": {
      "text/plain": [
       "[1, 345, 45, 'wasiq', True, (5+7j), 345.456, 5, 'zainul']"
      ]
     },
     "execution_count": 31,
     "metadata": {},
     "output_type": "execute_result"
    }
   ],
   "source": [
    "l"
   ]
  },
  {
   "cell_type": "code",
   "execution_count": 32,
   "id": "bf9fe7cf-8f4a-41c8-a8d0-5a24ecaee7e1",
   "metadata": {},
   "outputs": [
    {
     "data": {
      "text/plain": [
       "[3, 4, 5]"
      ]
     },
     "execution_count": 32,
     "metadata": {},
     "output_type": "execute_result"
    }
   ],
   "source": [
    "l1"
   ]
  },
  {
   "cell_type": "code",
   "execution_count": 33,
   "id": "8e712c5f-6840-47ab-9d60-7335753e84ff",
   "metadata": {},
   "outputs": [],
   "source": [
    "l.append(l1)"
   ]
  },
  {
   "cell_type": "code",
   "execution_count": 34,
   "id": "8e019fa5-cc7a-4ee1-98c9-2d320bf38829",
   "metadata": {},
   "outputs": [
    {
     "data": {
      "text/plain": [
       "[1, 345, 45, 'wasiq', True, (5+7j), 345.456, 5, 'zainul', [3, 4, 5]]"
      ]
     },
     "execution_count": 34,
     "metadata": {},
     "output_type": "execute_result"
    }
   ],
   "source": [
    "l"
   ]
  },
  {
   "cell_type": "code",
   "execution_count": 36,
   "id": "cea6cbc2-406d-4b18-b83a-1196904f7f61",
   "metadata": {},
   "outputs": [
    {
     "data": {
      "text/plain": [
       "4"
      ]
     },
     "execution_count": 36,
     "metadata": {},
     "output_type": "execute_result"
    }
   ],
   "source": [
    "l[-1][1]"
   ]
  },
  {
   "cell_type": "code",
   "execution_count": 37,
   "id": "94c7194a-e272-4883-a21e-f54337da5568",
   "metadata": {},
   "outputs": [
    {
     "ename": "TypeError",
     "evalue": "'int' object is not iterable",
     "output_type": "error",
     "traceback": [
      "\u001b[0;31m---------------------------------------------------------------------------\u001b[0m",
      "\u001b[0;31mTypeError\u001b[0m                                 Traceback (most recent call last)",
      "Cell \u001b[0;32mIn [37], line 1\u001b[0m\n\u001b[0;32m----> 1\u001b[0m \u001b[43ml\u001b[49m\u001b[38;5;241;43m.\u001b[39;49m\u001b[43mextend\u001b[49m\u001b[43m(\u001b[49m\u001b[38;5;241;43m4\u001b[39;49m\u001b[43m)\u001b[49m\n",
      "\u001b[0;31mTypeError\u001b[0m: 'int' object is not iterable"
     ]
    }
   ],
   "source": [
    "l.extend(4)"
   ]
  },
  {
   "cell_type": "code",
   "execution_count": 38,
   "id": "51b4ce73-15e7-4fd4-9c9a-f9fb20276b69",
   "metadata": {},
   "outputs": [
    {
     "data": {
      "text/plain": [
       "[1,\n",
       " 345,\n",
       " 45,\n",
       " 'wasiq',\n",
       " True,\n",
       " (5+7j),\n",
       " 345.456,\n",
       " 5,\n",
       " 'zainul',\n",
       " [3, 4, 5],\n",
       " 'p',\n",
       " 'w',\n",
       " 's',\n",
       " 'k',\n",
       " 'i',\n",
       " 'l',\n",
       " 'l',\n",
       " 's']"
      ]
     },
     "execution_count": 38,
     "metadata": {},
     "output_type": "execute_result"
    }
   ],
   "source": [
    "l.extend(\"pwskills\")\n",
    "l"
   ]
  },
  {
   "cell_type": "code",
   "execution_count": 39,
   "id": "364d6119-60ed-4e68-a2c8-df1492f57dc3",
   "metadata": {},
   "outputs": [
    {
     "data": {
      "text/plain": [
       "[1,\n",
       " 345,\n",
       " 45,\n",
       " 'wasiq',\n",
       " True,\n",
       " (5+7j),\n",
       " 345.456,\n",
       " 5,\n",
       " 'zainul',\n",
       " [3, 4, 5],\n",
       " 'p',\n",
       " 'w',\n",
       " 's',\n",
       " 'k',\n",
       " 'i',\n",
       " 'l',\n",
       " 'l',\n",
       " 's',\n",
       " 3,\n",
       " 4,\n",
       " 5]"
      ]
     },
     "execution_count": 39,
     "metadata": {},
     "output_type": "execute_result"
    }
   ],
   "source": [
    "l.extend([3, 4, 5])\n",
    "l"
   ]
  },
  {
   "cell_type": "code",
   "execution_count": 40,
   "id": "6ed052ce-225e-4ae9-80df-4b60d2c97e16",
   "metadata": {},
   "outputs": [
    {
     "data": {
      "text/plain": [
       "[3, 4, 5]"
      ]
     },
     "execution_count": 40,
     "metadata": {},
     "output_type": "execute_result"
    }
   ],
   "source": [
    "l1"
   ]
  },
  {
   "cell_type": "code",
   "execution_count": 41,
   "id": "2f7a6167-85a7-4dff-bd05-4c0f87a2a586",
   "metadata": {},
   "outputs": [
    {
     "data": {
      "text/plain": [
       "[3, 'wasiq', 4, 5]"
      ]
     },
     "execution_count": 41,
     "metadata": {},
     "output_type": "execute_result"
    }
   ],
   "source": [
    "l1.insert(1, \"wasiq\")\n",
    "l1"
   ]
  },
  {
   "cell_type": "code",
   "execution_count": 43,
   "id": "7be5d195-cbcb-4950-a3ab-6772d4a19d0e",
   "metadata": {},
   "outputs": [
    {
     "data": {
      "text/plain": [
       "[3, 'wasiq', [2, 3, 4], 4, 5]"
      ]
     },
     "execution_count": 43,
     "metadata": {},
     "output_type": "execute_result"
    }
   ],
   "source": [
    "l1.insert(2, [2, 3, 4])\n",
    "l1"
   ]
  },
  {
   "cell_type": "code",
   "execution_count": 44,
   "id": "04bb8f56-57c6-4bbf-a462-27f64ed6df52",
   "metadata": {},
   "outputs": [],
   "source": [
    "l1.insert(-1, 45)"
   ]
  },
  {
   "cell_type": "code",
   "execution_count": 45,
   "id": "6c31ef97-0a71-4d27-8c8e-2e9de955dfaf",
   "metadata": {},
   "outputs": [
    {
     "data": {
      "text/plain": [
       "[3, 'wasiq', [2, 3, 4], 4, 45, 5]"
      ]
     },
     "execution_count": 45,
     "metadata": {},
     "output_type": "execute_result"
    }
   ],
   "source": [
    "l1"
   ]
  },
  {
   "cell_type": "code",
   "execution_count": 46,
   "id": "b05218d6-38ac-4a71-ab86-4f2d4cba8e28",
   "metadata": {},
   "outputs": [
    {
     "data": {
      "text/plain": [
       "[45, 3, 'wasiq', [2, 3, 4], 4, 45, 5]"
      ]
     },
     "execution_count": 46,
     "metadata": {},
     "output_type": "execute_result"
    }
   ],
   "source": [
    "l1.insert(0, 45)\n",
    "l1"
   ]
  },
  {
   "cell_type": "code",
   "execution_count": 47,
   "id": "05939645-6421-4780-81cf-d8cdc27164c5",
   "metadata": {},
   "outputs": [
    {
     "data": {
      "text/plain": [
       "[45, 3, 'wasiq', [2, 3, 4], 4, 45]"
      ]
     },
     "execution_count": 47,
     "metadata": {},
     "output_type": "execute_result"
    }
   ],
   "source": [
    "l1.pop()\n",
    "l1"
   ]
  },
  {
   "cell_type": "code",
   "execution_count": 48,
   "id": "55bde42a-1edd-475e-a3bd-71bf3353184e",
   "metadata": {},
   "outputs": [
    {
     "data": {
      "text/plain": [
       "[45, 3, 'wasiq', 4, 45]"
      ]
     },
     "execution_count": 48,
     "metadata": {},
     "output_type": "execute_result"
    }
   ],
   "source": [
    "l1.pop(3)\n",
    "l1"
   ]
  },
  {
   "cell_type": "code",
   "execution_count": 49,
   "id": "db6860f7-ff67-4e80-b064-d826826d6e19",
   "metadata": {},
   "outputs": [],
   "source": [
    "l1.remove(3)"
   ]
  },
  {
   "cell_type": "code",
   "execution_count": 50,
   "id": "6dfb2bac-1bac-4348-8510-ec73bb448f51",
   "metadata": {},
   "outputs": [
    {
     "data": {
      "text/plain": [
       "[45, 'wasiq', 4, 45]"
      ]
     },
     "execution_count": 50,
     "metadata": {},
     "output_type": "execute_result"
    }
   ],
   "source": [
    "l1"
   ]
  },
  {
   "cell_type": "code",
   "execution_count": 51,
   "id": "3286cdfa-559a-4111-810d-696a34bfe5d4",
   "metadata": {},
   "outputs": [
    {
     "ename": "ValueError",
     "evalue": "list.remove(x): x not in list",
     "output_type": "error",
     "traceback": [
      "\u001b[0;31m---------------------------------------------------------------------------\u001b[0m",
      "\u001b[0;31mValueError\u001b[0m                                Traceback (most recent call last)",
      "Cell \u001b[0;32mIn [51], line 1\u001b[0m\n\u001b[0;32m----> 1\u001b[0m \u001b[43ml1\u001b[49m\u001b[38;5;241;43m.\u001b[39;49m\u001b[43mremove\u001b[49m\u001b[43m(\u001b[49m\u001b[38;5;241;43m123\u001b[39;49m\u001b[43m)\u001b[49m\n",
      "\u001b[0;31mValueError\u001b[0m: list.remove(x): x not in list"
     ]
    }
   ],
   "source": [
    "l1.remove(123)"
   ]
  },
  {
   "cell_type": "code",
   "execution_count": 52,
   "id": "c5310f8b-c199-4915-9634-9a4d9e30fcfb",
   "metadata": {},
   "outputs": [
    {
     "data": {
      "text/plain": [
       "[45, 'wasiq', 4, 45, [1, 2, 3]]"
      ]
     },
     "execution_count": 52,
     "metadata": {},
     "output_type": "execute_result"
    }
   ],
   "source": [
    "l1.append([1,2,3])\n",
    "l1"
   ]
  },
  {
   "cell_type": "code",
   "execution_count": 53,
   "id": "32cec87d-9bb7-4cdd-a33c-020c88a39558",
   "metadata": {},
   "outputs": [
    {
     "data": {
      "text/plain": [
       "[1, 2, 3]"
      ]
     },
     "execution_count": 53,
     "metadata": {},
     "output_type": "execute_result"
    }
   ],
   "source": [
    "l1[4]"
   ]
  },
  {
   "cell_type": "code",
   "execution_count": 54,
   "id": "2c75fe8f-5ad0-44a1-afc0-093be3b8b8e6",
   "metadata": {},
   "outputs": [],
   "source": [
    "l1[4].remove(3)"
   ]
  },
  {
   "cell_type": "code",
   "execution_count": 55,
   "id": "f1ba6129-8311-45db-ad57-1ec6055c21a0",
   "metadata": {},
   "outputs": [
    {
     "data": {
      "text/plain": [
       "[45, 'wasiq', 4, 45, [1, 2]]"
      ]
     },
     "execution_count": 55,
     "metadata": {},
     "output_type": "execute_result"
    }
   ],
   "source": [
    "l1"
   ]
  },
  {
   "cell_type": "code",
   "execution_count": 56,
   "id": "24520311-b352-4269-99ff-190934a475d0",
   "metadata": {},
   "outputs": [
    {
     "data": {
      "text/plain": [
       "[45, 'wasiq', 4, 45, [1, 2], 4, 4]"
      ]
     },
     "execution_count": 56,
     "metadata": {},
     "output_type": "execute_result"
    }
   ],
   "source": [
    "l1.append(4)\n",
    "l1.append(4)\n",
    "l1"
   ]
  },
  {
   "cell_type": "code",
   "execution_count": 57,
   "id": "9018e24e-6dea-4792-85f3-f302d4e1359e",
   "metadata": {},
   "outputs": [],
   "source": [
    "l1.remove(4)"
   ]
  },
  {
   "cell_type": "code",
   "execution_count": 58,
   "id": "5764fc0b-7fd4-44bc-8ca0-05e4028daae4",
   "metadata": {},
   "outputs": [
    {
     "data": {
      "text/plain": [
       "[45, 'wasiq', 45, [1, 2], 4, 4]"
      ]
     },
     "execution_count": 58,
     "metadata": {},
     "output_type": "execute_result"
    }
   ],
   "source": [
    "l1"
   ]
  },
  {
   "cell_type": "code",
   "execution_count": 59,
   "id": "fb717470-c2b4-449f-9bb0-9a1a56d67456",
   "metadata": {},
   "outputs": [
    {
     "data": {
      "text/plain": [
       "[45, 'wasiq', 45, [1, 2], 4]"
      ]
     },
     "execution_count": 59,
     "metadata": {},
     "output_type": "execute_result"
    }
   ],
   "source": [
    "l1.remove(4)\n",
    "l1"
   ]
  },
  {
   "cell_type": "code",
   "execution_count": 60,
   "id": "e465140a-cfbf-4afd-8511-e3ad39415d1f",
   "metadata": {},
   "outputs": [
    {
     "data": {
      "text/plain": [
       "[4, [1, 2], 45, 'wasiq', 45]"
      ]
     },
     "execution_count": 60,
     "metadata": {},
     "output_type": "execute_result"
    }
   ],
   "source": [
    "l1[::-1]   # It reverse temporary"
   ]
  },
  {
   "cell_type": "code",
   "execution_count": 61,
   "id": "d6cc2844-0956-424a-b521-1e40261a7881",
   "metadata": {},
   "outputs": [],
   "source": [
    "l1.reverse() # It reverse permanently"
   ]
  },
  {
   "cell_type": "code",
   "execution_count": 62,
   "id": "e5783c81-2fa3-4a5c-8fd1-72ac3d1a6fe0",
   "metadata": {},
   "outputs": [
    {
     "data": {
      "text/plain": [
       "[4, [1, 2], 45, 'wasiq', 45]"
      ]
     },
     "execution_count": 62,
     "metadata": {},
     "output_type": "execute_result"
    }
   ],
   "source": [
    "l1"
   ]
  },
  {
   "cell_type": "code",
   "execution_count": 63,
   "id": "4128d21d-fd1a-4b7a-a71b-69f10901778e",
   "metadata": {},
   "outputs": [
    {
     "data": {
      "text/plain": [
       "[4, [1, 2], 45, 'wasiq', 45]"
      ]
     },
     "execution_count": 63,
     "metadata": {},
     "output_type": "execute_result"
    }
   ],
   "source": [
    "l1"
   ]
  },
  {
   "cell_type": "code",
   "execution_count": 64,
   "id": "d3a699db-6e35-41e8-9230-35bcdc6f7573",
   "metadata": {},
   "outputs": [
    {
     "ename": "TypeError",
     "evalue": "'<' not supported between instances of 'list' and 'int'",
     "output_type": "error",
     "traceback": [
      "\u001b[0;31m---------------------------------------------------------------------------\u001b[0m",
      "\u001b[0;31mTypeError\u001b[0m                                 Traceback (most recent call last)",
      "Cell \u001b[0;32mIn [64], line 1\u001b[0m\n\u001b[0;32m----> 1\u001b[0m \u001b[43ml1\u001b[49m\u001b[38;5;241;43m.\u001b[39;49m\u001b[43msort\u001b[49m\u001b[43m(\u001b[49m\u001b[43m)\u001b[49m\n",
      "\u001b[0;31mTypeError\u001b[0m: '<' not supported between instances of 'list' and 'int'"
     ]
    }
   ],
   "source": [
    "l1.sort()"
   ]
  },
  {
   "cell_type": "code",
   "execution_count": 65,
   "id": "a52b6a40-52a9-4875-bd8a-1bd206da4e98",
   "metadata": {},
   "outputs": [],
   "source": [
    "l2= [2,3, 8, 7, 5, 45, 0, 90]\n",
    "l2.sort()"
   ]
  },
  {
   "cell_type": "code",
   "execution_count": 66,
   "id": "322d44f3-815d-4803-8402-9892d072fcdd",
   "metadata": {},
   "outputs": [
    {
     "data": {
      "text/plain": [
       "[0, 2, 3, 5, 7, 8, 45, 90]"
      ]
     },
     "execution_count": 66,
     "metadata": {},
     "output_type": "execute_result"
    }
   ],
   "source": [
    "l2"
   ]
  },
  {
   "cell_type": "code",
   "execution_count": 67,
   "id": "d93508ca-00b5-4075-a464-833c81dac506",
   "metadata": {},
   "outputs": [
    {
     "ename": "TypeError",
     "evalue": "'<' not supported between instances of 'str' and 'int'",
     "output_type": "error",
     "traceback": [
      "\u001b[0;31m---------------------------------------------------------------------------\u001b[0m",
      "\u001b[0;31mTypeError\u001b[0m                                 Traceback (most recent call last)",
      "Cell \u001b[0;32mIn [67], line 2\u001b[0m\n\u001b[1;32m      1\u001b[0m l3\u001b[38;5;241m=\u001b[39m [\u001b[38;5;241m34\u001b[39m, \u001b[38;5;124m\"\u001b[39m\u001b[38;5;124mwasiq\u001b[39m\u001b[38;5;124m\"\u001b[39m, \u001b[38;5;241m45\u001b[39m, \u001b[38;5;241m12\u001b[39m, \u001b[38;5;124m\"\u001b[39m\u001b[38;5;124mpwskills\u001b[39m\u001b[38;5;124m\"\u001b[39m]\n\u001b[0;32m----> 2\u001b[0m \u001b[43ml3\u001b[49m\u001b[38;5;241;43m.\u001b[39;49m\u001b[43msort\u001b[49m\u001b[43m(\u001b[49m\u001b[43m)\u001b[49m\n\u001b[1;32m      3\u001b[0m l3\n",
      "\u001b[0;31mTypeError\u001b[0m: '<' not supported between instances of 'str' and 'int'"
     ]
    }
   ],
   "source": [
    "l3= [34, \"wasiq\", 45, 12, \"pwskills\"]\n",
    "l3.sort()\n",
    "l3"
   ]
  },
  {
   "cell_type": "code",
   "execution_count": 68,
   "id": "f6075609-cd12-40bd-93bd-87c751a94878",
   "metadata": {},
   "outputs": [],
   "source": [
    "l4= [\"wasiq\", \"zainul\", \"pwskills\", \"data science\"]\n",
    "l4.sort()"
   ]
  },
  {
   "cell_type": "code",
   "execution_count": 69,
   "id": "fc4cbdcd-0a42-4cc1-80a9-c7ccfbcf270f",
   "metadata": {},
   "outputs": [
    {
     "data": {
      "text/plain": [
       "['data science', 'pwskills', 'wasiq', 'zainul']"
      ]
     },
     "execution_count": 69,
     "metadata": {},
     "output_type": "execute_result"
    }
   ],
   "source": [
    "l4"
   ]
  },
  {
   "cell_type": "code",
   "execution_count": 70,
   "id": "740aa321-2455-4fe9-b64a-32c02beaa06c",
   "metadata": {},
   "outputs": [
    {
     "data": {
      "text/plain": [
       "['zainul', 'wasiq', 'pwskills', 'data science']"
      ]
     },
     "execution_count": 70,
     "metadata": {},
     "output_type": "execute_result"
    }
   ],
   "source": [
    "l4.sort(reverse=True)\n",
    "l4"
   ]
  },
  {
   "cell_type": "code",
   "execution_count": 72,
   "id": "6a372e6e-8ade-406b-bd1a-73760444e2e2",
   "metadata": {},
   "outputs": [
    {
     "data": {
      "text/plain": [
       "1"
      ]
     },
     "execution_count": 72,
     "metadata": {},
     "output_type": "execute_result"
    }
   ],
   "source": [
    "l4.index(\"wasiq\")"
   ]
  },
  {
   "cell_type": "code",
   "execution_count": 73,
   "id": "e96d55d6-72e5-4115-8d49-8251d2d91bb5",
   "metadata": {},
   "outputs": [
    {
     "data": {
      "text/plain": [
       "1"
      ]
     },
     "execution_count": 73,
     "metadata": {},
     "output_type": "execute_result"
    }
   ],
   "source": [
    "l4.count(\"wasiq\")"
   ]
  },
  {
   "cell_type": "code",
   "execution_count": 74,
   "id": "5547b371-878d-44c3-bab6-085fed78df44",
   "metadata": {},
   "outputs": [],
   "source": [
    "s= \"wasiq\""
   ]
  },
  {
   "cell_type": "code",
   "execution_count": 75,
   "id": "de892cfb-b077-4965-b52d-7a0b549f4b9e",
   "metadata": {},
   "outputs": [],
   "source": [
    "l5= [3,4,5,6]"
   ]
  },
  {
   "cell_type": "code",
   "execution_count": 76,
   "id": "5f46c1aa-5d2c-4a46-81d8-2c3ce73ba640",
   "metadata": {},
   "outputs": [
    {
     "ename": "TypeError",
     "evalue": "'str' object does not support item assignment",
     "output_type": "error",
     "traceback": [
      "\u001b[0;31m---------------------------------------------------------------------------\u001b[0m",
      "\u001b[0;31mTypeError\u001b[0m                                 Traceback (most recent call last)",
      "Cell \u001b[0;32mIn [76], line 1\u001b[0m\n\u001b[0;32m----> 1\u001b[0m \u001b[43ms\u001b[49m\u001b[43m[\u001b[49m\u001b[38;5;241;43m0\u001b[39;49m\u001b[43m]\u001b[49m\u001b[38;5;241m=\u001b[39m \u001b[38;5;124m'\u001b[39m\u001b[38;5;124ma\u001b[39m\u001b[38;5;124m'\u001b[39m\n",
      "\u001b[0;31mTypeError\u001b[0m: 'str' object does not support item assignment"
     ]
    }
   ],
   "source": [
    "s[0]= 'a'"
   ]
  },
  {
   "cell_type": "code",
   "execution_count": 77,
   "id": "57654759-997f-4914-a608-3a5564890115",
   "metadata": {},
   "outputs": [
    {
     "data": {
      "text/plain": [
       "3"
      ]
     },
     "execution_count": 77,
     "metadata": {},
     "output_type": "execute_result"
    }
   ],
   "source": [
    "l5[0]"
   ]
  },
  {
   "cell_type": "code",
   "execution_count": 78,
   "id": "b0b6e7ad-8f3c-4db4-b16b-c000b49b446a",
   "metadata": {},
   "outputs": [],
   "source": [
    "l5[0]= 30"
   ]
  },
  {
   "cell_type": "code",
   "execution_count": 79,
   "id": "a863e5b7-4a63-4b26-a3bc-9391710a87a6",
   "metadata": {},
   "outputs": [
    {
     "data": {
      "text/plain": [
       "[30, 4, 5, 6]"
      ]
     },
     "execution_count": 79,
     "metadata": {},
     "output_type": "execute_result"
    }
   ],
   "source": [
    "l5"
   ]
  },
  {
   "cell_type": "code",
   "execution_count": 80,
   "id": "f6e1caed-be30-4e59-9fde-0624c444b2a9",
   "metadata": {},
   "outputs": [
    {
     "data": {
      "text/plain": [
       "'aasiq'"
      ]
     },
     "execution_count": 80,
     "metadata": {},
     "output_type": "execute_result"
    }
   ],
   "source": [
    "s.replace('w', 'a')"
   ]
  },
  {
   "cell_type": "code",
   "execution_count": 81,
   "id": "79c14b57-73d8-4bf7-9f9f-bdfbb3c83c6a",
   "metadata": {},
   "outputs": [
    {
     "data": {
      "text/plain": [
       "'wasiq'"
      ]
     },
     "execution_count": 81,
     "metadata": {},
     "output_type": "execute_result"
    }
   ],
   "source": [
    "s"
   ]
  },
  {
   "cell_type": "markdown",
   "id": "0800305c-9cb6-411f-8198-2441257c0581",
   "metadata": {},
   "source": [
    "# 2. Tuple\n",
    "\n",
    "* Tuple is immutable and store in **( )**"
   ]
  },
  {
   "cell_type": "code",
   "execution_count": 82,
   "id": "d7278478-d0c3-44a0-83c5-44a55fc73426",
   "metadata": {},
   "outputs": [
    {
     "data": {
      "text/plain": [
       "(2, 3, 4, 5, 'wasiq', 45.56, False, (45+457j))"
      ]
     },
     "execution_count": 82,
     "metadata": {},
     "output_type": "execute_result"
    }
   ],
   "source": [
    "t= (2, 3, 4, 5, \"wasiq\", 45.56, False, 45+457j)\n",
    "t"
   ]
  },
  {
   "cell_type": "code",
   "execution_count": 83,
   "id": "606b6ad5-5081-48f9-be23-585d27152fa4",
   "metadata": {},
   "outputs": [
    {
     "data": {
      "text/plain": [
       "8"
      ]
     },
     "execution_count": 83,
     "metadata": {},
     "output_type": "execute_result"
    }
   ],
   "source": [
    "len(t)"
   ]
  },
  {
   "cell_type": "code",
   "execution_count": 84,
   "id": "4b58ac25-012a-49e7-a42e-1b106ba46845",
   "metadata": {},
   "outputs": [
    {
     "data": {
      "text/plain": [
       "tuple"
      ]
     },
     "execution_count": 84,
     "metadata": {},
     "output_type": "execute_result"
    }
   ],
   "source": [
    "type(t)"
   ]
  },
  {
   "cell_type": "code",
   "execution_count": 85,
   "id": "58ac5194-eeef-405b-b333-3c69662b9d58",
   "metadata": {},
   "outputs": [
    {
     "data": {
      "text/plain": [
       "2"
      ]
     },
     "execution_count": 85,
     "metadata": {},
     "output_type": "execute_result"
    }
   ],
   "source": [
    "t[0]"
   ]
  },
  {
   "cell_type": "code",
   "execution_count": 86,
   "id": "c420e516-736f-4c7a-85a4-73107a08b64c",
   "metadata": {},
   "outputs": [
    {
     "data": {
      "text/plain": [
       "(45+457j)"
      ]
     },
     "execution_count": 86,
     "metadata": {},
     "output_type": "execute_result"
    }
   ],
   "source": [
    "t[-1]"
   ]
  },
  {
   "cell_type": "code",
   "execution_count": 87,
   "id": "bdd62917-9dc0-4f6b-b4f8-e2c578c37c6c",
   "metadata": {},
   "outputs": [
    {
     "data": {
      "text/plain": [
       "((45+457j), False, 45.56, 'wasiq', 5, 4, 3, 2)"
      ]
     },
     "execution_count": 87,
     "metadata": {},
     "output_type": "execute_result"
    }
   ],
   "source": [
    "t[::-1]"
   ]
  },
  {
   "cell_type": "code",
   "execution_count": 88,
   "id": "ea7588e7-f165-45d4-a78f-cf76e39b80cc",
   "metadata": {},
   "outputs": [
    {
     "data": {
      "text/plain": [
       "['zainul', 'wasiq', 'pwskills', 'data science']"
      ]
     },
     "execution_count": 88,
     "metadata": {},
     "output_type": "execute_result"
    }
   ],
   "source": [
    "l4"
   ]
  },
  {
   "cell_type": "code",
   "execution_count": 89,
   "id": "404307bb-ffc6-4785-84a7-ae816c8db1b1",
   "metadata": {},
   "outputs": [
    {
     "data": {
      "text/plain": [
       "[12345, 'wasiq', 'pwskills', 'data science']"
      ]
     },
     "execution_count": 89,
     "metadata": {},
     "output_type": "execute_result"
    }
   ],
   "source": [
    "l4[0]= 12345\n",
    "l4"
   ]
  },
  {
   "cell_type": "code",
   "execution_count": 90,
   "id": "704b238d-fab4-45eb-9aa2-9b06b778ac3f",
   "metadata": {},
   "outputs": [
    {
     "data": {
      "text/plain": [
       "(2, 3, 4, 5, 'wasiq', 45.56, False, (45+457j))"
      ]
     },
     "execution_count": 90,
     "metadata": {},
     "output_type": "execute_result"
    }
   ],
   "source": [
    "t"
   ]
  },
  {
   "cell_type": "code",
   "execution_count": 91,
   "id": "8cc81cbd-6a0d-47fa-9415-4dd9c7e963fd",
   "metadata": {},
   "outputs": [
    {
     "ename": "TypeError",
     "evalue": "'tuple' object does not support item assignment",
     "output_type": "error",
     "traceback": [
      "\u001b[0;31m---------------------------------------------------------------------------\u001b[0m",
      "\u001b[0;31mTypeError\u001b[0m                                 Traceback (most recent call last)",
      "Cell \u001b[0;32mIn [91], line 1\u001b[0m\n\u001b[0;32m----> 1\u001b[0m \u001b[43mt\u001b[49m\u001b[43m[\u001b[49m\u001b[38;5;241;43m0\u001b[39;49m\u001b[43m]\u001b[49m\u001b[38;5;241m=\u001b[39m \u001b[38;5;124m\"\u001b[39m\u001b[38;5;124mzainul\u001b[39m\u001b[38;5;124m\"\u001b[39m\n",
      "\u001b[0;31mTypeError\u001b[0m: 'tuple' object does not support item assignment"
     ]
    }
   ],
   "source": [
    "t[0]= \"zainul\""
   ]
  },
  {
   "cell_type": "code",
   "execution_count": 92,
   "id": "f840154f-245c-410f-b475-cc0b436a1432",
   "metadata": {},
   "outputs": [
    {
     "data": {
      "text/plain": [
       "((45+457j), False, 45.56, 'wasiq', 5, 4, 3, 2)"
      ]
     },
     "execution_count": 92,
     "metadata": {},
     "output_type": "execute_result"
    }
   ],
   "source": [
    "t[::-1]"
   ]
  },
  {
   "cell_type": "code",
   "execution_count": 93,
   "id": "faa4abb4-0d20-4094-8711-cf0b7a581996",
   "metadata": {},
   "outputs": [
    {
     "data": {
      "text/plain": [
       "0"
      ]
     },
     "execution_count": 93,
     "metadata": {},
     "output_type": "execute_result"
    }
   ],
   "source": [
    "t.count(50)"
   ]
  },
  {
   "cell_type": "code",
   "execution_count": 94,
   "id": "58a3057b-003b-4618-9099-e76b69d5b205",
   "metadata": {},
   "outputs": [
    {
     "data": {
      "text/plain": [
       "6"
      ]
     },
     "execution_count": 94,
     "metadata": {},
     "output_type": "execute_result"
    }
   ],
   "source": [
    "t.index(False)"
   ]
  },
  {
   "cell_type": "code",
   "execution_count": 95,
   "id": "d97a8cb1-1e41-454d-9cbd-98cab53faabe",
   "metadata": {},
   "outputs": [
    {
     "data": {
      "text/plain": [
       "(2, 3, 4, 5, 'wasiq', 45.56, False, (45+457j))"
      ]
     },
     "execution_count": 95,
     "metadata": {},
     "output_type": "execute_result"
    }
   ],
   "source": [
    "t"
   ]
  },
  {
   "cell_type": "code",
   "execution_count": 96,
   "id": "15afab03-424c-4c04-8659-5044a3c420ba",
   "metadata": {},
   "outputs": [],
   "source": [
    "s1= {}"
   ]
  },
  {
   "cell_type": "code",
   "execution_count": 97,
   "id": "bd498da6-42ef-4bfa-a75f-e7ce6213c9b3",
   "metadata": {},
   "outputs": [
    {
     "data": {
      "text/plain": [
       "dict"
      ]
     },
     "execution_count": 97,
     "metadata": {},
     "output_type": "execute_result"
    }
   ],
   "source": [
    "type(s1)"
   ]
  },
  {
   "cell_type": "markdown",
   "id": "09e569cc-0f24-4591-bbda-2cee990e145a",
   "metadata": {},
   "source": [
    "# 3. Set\n",
    "\n",
    "* Set is immutable and store in **{ }**.\n",
    "* Set removes the duplicate values."
   ]
  },
  {
   "cell_type": "code",
   "execution_count": 98,
   "id": "ce2f5dfd-56bc-484d-801d-88bd8327d98c",
   "metadata": {},
   "outputs": [
    {
     "data": {
      "text/plain": [
       "set"
      ]
     },
     "execution_count": 98,
     "metadata": {},
     "output_type": "execute_result"
    }
   ],
   "source": [
    "s2= {2, 3, 4, 55, 6}\n",
    "type(s2)"
   ]
  },
  {
   "cell_type": "code",
   "execution_count": 99,
   "id": "a2a015d6-2559-4c56-afac-22a308ee8eb9",
   "metadata": {},
   "outputs": [
    {
     "data": {
      "text/plain": [
       "{(45+56j), 24, 34.456, 456, 'wasiq'}"
      ]
     },
     "execution_count": 99,
     "metadata": {},
     "output_type": "execute_result"
    }
   ],
   "source": [
    "s3= {24, 456, 456, \"wasiq\", 45+56j, 34.456}\n",
    "s3"
   ]
  },
  {
   "cell_type": "code",
   "execution_count": 100,
   "id": "6e6b74d5-8a6d-42ab-bc0b-abf3bd42df5e",
   "metadata": {},
   "outputs": [
    {
     "ename": "TypeError",
     "evalue": "unhashable type: 'list'",
     "output_type": "error",
     "traceback": [
      "\u001b[0;31m---------------------------------------------------------------------------\u001b[0m",
      "\u001b[0;31mTypeError\u001b[0m                                 Traceback (most recent call last)",
      "Cell \u001b[0;32mIn [100], line 1\u001b[0m\n\u001b[0;32m----> 1\u001b[0m {\u001b[38;5;241m24\u001b[39m, \u001b[38;5;241m456\u001b[39m, \u001b[38;5;241m456\u001b[39m, \u001b[38;5;124m\"\u001b[39m\u001b[38;5;124mwasiq\u001b[39m\u001b[38;5;124m\"\u001b[39m, \u001b[38;5;241m45\u001b[39m\u001b[38;5;241m+\u001b[39m\u001b[38;5;241m56\u001b[39mj, \u001b[38;5;241m34.456\u001b[39m, [\u001b[38;5;241m3\u001b[39m, \u001b[38;5;241m4\u001b[39m, \u001b[38;5;241m5\u001b[39m]}\n",
      "\u001b[0;31mTypeError\u001b[0m: unhashable type: 'list'"
     ]
    }
   ],
   "source": [
    "{24, 456, 456, \"wasiq\", 45+56j, 34.456, [3, 4, 5]}"
   ]
  },
  {
   "cell_type": "code",
   "execution_count": 102,
   "id": "8b000aaf-2978-471c-8b15-47325fd43473",
   "metadata": {},
   "outputs": [],
   "source": [
    "s3= {24, 456, 456, \"wasiq\", 45+56j, 34.456, (3, 4, 5)}"
   ]
  },
  {
   "cell_type": "code",
   "execution_count": 103,
   "id": "27f5a442-00bc-4b79-a655-21222de2903b",
   "metadata": {},
   "outputs": [
    {
     "data": {
      "text/plain": [
       "{(3, 4, 5), (45+56j), 24, 34.456, 456, 'wasiq'}"
      ]
     },
     "execution_count": 103,
     "metadata": {},
     "output_type": "execute_result"
    }
   ],
   "source": [
    "s3"
   ]
  },
  {
   "cell_type": "code",
   "execution_count": 105,
   "id": "8b65015a-99d8-4db6-9fc9-8377316afeb2",
   "metadata": {},
   "outputs": [],
   "source": [
    "s4= {2,3,4,5,6,5,4,3,4,5,6,8,3,4,5,6,2,2,3,4,5,2,3}"
   ]
  },
  {
   "cell_type": "code",
   "execution_count": 106,
   "id": "1993700f-0d98-412a-8b60-fd10a0e4385e",
   "metadata": {},
   "outputs": [
    {
     "data": {
      "text/plain": [
       "{2, 3, 4, 5, 6, 8}"
      ]
     },
     "execution_count": 106,
     "metadata": {},
     "output_type": "execute_result"
    }
   ],
   "source": [
    "s4"
   ]
  },
  {
   "cell_type": "code",
   "execution_count": 107,
   "id": "cf704662-5222-4bf2-a2f5-3d71dba57534",
   "metadata": {},
   "outputs": [],
   "source": [
    "l6 = [2,3,4,5,6,2,2,3,4,5,2,3,1,2,3,4,5,6,1,2,2,3, 'wasiq', 'wasiq']"
   ]
  },
  {
   "cell_type": "code",
   "execution_count": 108,
   "id": "8607fe61-1f9b-46a5-9b35-32465fc722eb",
   "metadata": {},
   "outputs": [
    {
     "data": {
      "text/plain": [
       "[1, 2, 3, 4, 5, 6, 'wasiq']"
      ]
     },
     "execution_count": 108,
     "metadata": {},
     "output_type": "execute_result"
    }
   ],
   "source": [
    "l6 = list(set(l6))\n",
    "l6"
   ]
  },
  {
   "cell_type": "code",
   "execution_count": 109,
   "id": "e2d51ac6-62cf-4f98-a6df-e4149693d981",
   "metadata": {},
   "outputs": [
    {
     "data": {
      "text/plain": [
       "{12, 2, 23, 234, 342, 45, 456, 567, 789, 'abc'}"
      ]
     },
     "execution_count": 109,
     "metadata": {},
     "output_type": "execute_result"
    }
   ],
   "source": [
    "s5 = {234,45,23,12,567,45,2,789,234,\"abc\", 456,342,23}\n",
    "s5"
   ]
  },
  {
   "cell_type": "code",
   "execution_count": 110,
   "id": "c72c9395-3bb0-43f2-9ffe-e999509d4766",
   "metadata": {},
   "outputs": [
    {
     "ename": "TypeError",
     "evalue": "'set' object is not subscriptable",
     "output_type": "error",
     "traceback": [
      "\u001b[0;31m---------------------------------------------------------------------------\u001b[0m",
      "\u001b[0;31mTypeError\u001b[0m                                 Traceback (most recent call last)",
      "Cell \u001b[0;32mIn [110], line 1\u001b[0m\n\u001b[0;32m----> 1\u001b[0m \u001b[43ms5\u001b[49m\u001b[43m[\u001b[49m\u001b[38;5;241;43m0\u001b[39;49m\u001b[43m]\u001b[49m\n",
      "\u001b[0;31mTypeError\u001b[0m: 'set' object is not subscriptable"
     ]
    }
   ],
   "source": [
    "s5[0]"
   ]
  },
  {
   "cell_type": "code",
   "execution_count": 111,
   "id": "7ea3091a-e44f-496e-a52b-fbd7ee7b46de",
   "metadata": {},
   "outputs": [
    {
     "ename": "TypeError",
     "evalue": "'set' object is not subscriptable",
     "output_type": "error",
     "traceback": [
      "\u001b[0;31m---------------------------------------------------------------------------\u001b[0m",
      "\u001b[0;31mTypeError\u001b[0m                                 Traceback (most recent call last)",
      "Cell \u001b[0;32mIn [111], line 1\u001b[0m\n\u001b[0;32m----> 1\u001b[0m \u001b[43ms5\u001b[49m\u001b[43m[\u001b[49m\u001b[43m:\u001b[49m\u001b[43m:\u001b[49m\u001b[38;5;241;43m-\u001b[39;49m\u001b[38;5;241;43m1\u001b[39;49m\u001b[43m]\u001b[49m\n",
      "\u001b[0;31mTypeError\u001b[0m: 'set' object is not subscriptable"
     ]
    }
   ],
   "source": [
    "s5[::-1]"
   ]
  },
  {
   "cell_type": "code",
   "execution_count": 112,
   "id": "626abd47-a2ee-4db6-877c-049185f6c2f2",
   "metadata": {},
   "outputs": [
    {
     "data": {
      "text/plain": [
       "{12, 2, 23, 234, 342, 45, 456, 567, 789, 'abc'}"
      ]
     },
     "execution_count": 112,
     "metadata": {},
     "output_type": "execute_result"
    }
   ],
   "source": [
    "s5"
   ]
  },
  {
   "cell_type": "code",
   "execution_count": 113,
   "id": "ada16401-e698-48a0-ac10-b0d0ad03fb0c",
   "metadata": {},
   "outputs": [],
   "source": [
    "s5.add(4)"
   ]
  },
  {
   "cell_type": "code",
   "execution_count": 114,
   "id": "0563246d-a79d-4399-92eb-502c8155cfa7",
   "metadata": {},
   "outputs": [
    {
     "data": {
      "text/plain": [
       "{12, 2, 23, 234, 342, 4, 45, 456, 567, 789, 'abc'}"
      ]
     },
     "execution_count": 114,
     "metadata": {},
     "output_type": "execute_result"
    }
   ],
   "source": [
    "s5"
   ]
  },
  {
   "cell_type": "markdown",
   "id": "96526a68-6115-4cf2-a3e1-dbc071a57498",
   "metadata": {},
   "source": [
    "# 4. Dictionary\n",
    "\n",
    "* Dictionary is mutable and store in **{key : value}**\n",
    "* Key always be unique."
   ]
  },
  {
   "cell_type": "code",
   "execution_count": 115,
   "id": "1de6e5e6-b757-4117-99a0-5adc2130cccd",
   "metadata": {},
   "outputs": [
    {
     "data": {
      "text/plain": [
       "dict"
      ]
     },
     "execution_count": 115,
     "metadata": {},
     "output_type": "execute_result"
    }
   ],
   "source": [
    "d= {}\n",
    "type(d)"
   ]
  },
  {
   "cell_type": "code",
   "execution_count": 116,
   "id": "d7f6286b-4dea-4099-acbf-513f4e2584ad",
   "metadata": {},
   "outputs": [
    {
     "data": {
      "text/plain": [
       "{'key': 'wasiq'}"
      ]
     },
     "execution_count": 116,
     "metadata": {},
     "output_type": "execute_result"
    }
   ],
   "source": [
    "d1= {'key': \"wasiq\"}\n",
    "d1"
   ]
  },
  {
   "cell_type": "code",
   "execution_count": 117,
   "id": "cf5a5ef9-037b-431a-88d9-83ab85e89b33",
   "metadata": {},
   "outputs": [
    {
     "data": {
      "text/plain": [
       "{'name': 'wasiq', 'email': 'mohammadwasiq0786@gmail.com', 'number': 1234567890}"
      ]
     },
     "execution_count": 117,
     "metadata": {},
     "output_type": "execute_result"
    }
   ],
   "source": [
    "d2= {'name': 'wasiq', 'email': 'mohammadwasiq0786@gmail.com', 'number': 1234567890}\n",
    "d2"
   ]
  },
  {
   "cell_type": "code",
   "execution_count": 118,
   "id": "0f012773-114c-45b8-828f-4a3727ba10d5",
   "metadata": {},
   "outputs": [
    {
     "data": {
      "text/plain": [
       "{123: 'wasiq'}"
      ]
     },
     "execution_count": 118,
     "metadata": {},
     "output_type": "execute_result"
    }
   ],
   "source": [
    "d3= {123: \"wasiq\"}\n",
    "d3"
   ]
  },
  {
   "cell_type": "code",
   "execution_count": 120,
   "id": "5c5a4804-d483-4920-ab95-8c465f52cf3f",
   "metadata": {},
   "outputs": [
    {
     "ename": "NameError",
     "evalue": "name '_name' is not defined",
     "output_type": "error",
     "traceback": [
      "\u001b[0;31m---------------------------------------------------------------------------\u001b[0m",
      "\u001b[0;31mNameError\u001b[0m                                 Traceback (most recent call last)",
      "Cell \u001b[0;32mIn [120], line 1\u001b[0m\n\u001b[0;32m----> 1\u001b[0m d4\u001b[38;5;241m=\u001b[39m {\u001b[38;5;241m123\u001b[39m: \u001b[38;5;124m\"\u001b[39m\u001b[38;5;124mwasiq\u001b[39m\u001b[38;5;124m\"\u001b[39m, \u001b[43m_name\u001b[49m: \u001b[38;5;124m'\u001b[39m\u001b[38;5;124mzainul\u001b[39m\u001b[38;5;124m'\u001b[39m}\n\u001b[1;32m      2\u001b[0m d4\n",
      "\u001b[0;31mNameError\u001b[0m: name '_name' is not defined"
     ]
    }
   ],
   "source": [
    "d4= {123: \"wasiq\", _name: 'zainul'}\n",
    "d4"
   ]
  },
  {
   "cell_type": "code",
   "execution_count": 121,
   "id": "1b26f022-204a-40e5-9f85-fc8c4dc6f32e",
   "metadata": {},
   "outputs": [
    {
     "data": {
      "text/plain": [
       "{123: 'wasiq', '_name': 'zainul'}"
      ]
     },
     "execution_count": 121,
     "metadata": {},
     "output_type": "execute_result"
    }
   ],
   "source": [
    "d4= {123: \"wasiq\", '_name': 'zainul'}\n",
    "d4"
   ]
  },
  {
   "cell_type": "code",
   "execution_count": 122,
   "id": "81d93ca9-c390-4b22-8539-3f5e7aa63804",
   "metadata": {},
   "outputs": [
    {
     "data": {
      "text/plain": [
       "{123: 'wasiq', '_name': 'zainul', True: 12345}"
      ]
     },
     "execution_count": 122,
     "metadata": {},
     "output_type": "execute_result"
    }
   ],
   "source": [
    "d5= {123: \"wasiq\", '_name': 'zainul', True: 12345}\n",
    "d5"
   ]
  },
  {
   "cell_type": "code",
   "execution_count": 125,
   "id": "229630f8-4ff3-4988-b9e2-f35af8534805",
   "metadata": {},
   "outputs": [
    {
     "data": {
      "text/plain": [
       "'wasiq'"
      ]
     },
     "execution_count": 125,
     "metadata": {},
     "output_type": "execute_result"
    }
   ],
   "source": [
    "d5[123]"
   ]
  },
  {
   "cell_type": "code",
   "execution_count": 126,
   "id": "68e9873a-cc88-4ff4-93b6-955f8d93ade5",
   "metadata": {},
   "outputs": [
    {
     "data": {
      "text/plain": [
       "12345"
      ]
     },
     "execution_count": 126,
     "metadata": {},
     "output_type": "execute_result"
    }
   ],
   "source": [
    "d5[True]"
   ]
  },
  {
   "cell_type": "code",
   "execution_count": 127,
   "id": "e14ce6e4-89e3-4a01-9aa3-8cecd05721ef",
   "metadata": {},
   "outputs": [
    {
     "data": {
      "text/plain": [
       "12345"
      ]
     },
     "execution_count": 127,
     "metadata": {},
     "output_type": "execute_result"
    }
   ],
   "source": [
    "d5[1]"
   ]
  },
  {
   "cell_type": "code",
   "execution_count": 129,
   "id": "9f561407-f9bf-4ce8-9691-8b97f62a2cca",
   "metadata": {},
   "outputs": [
    {
     "ename": "KeyError",
     "evalue": "0",
     "output_type": "error",
     "traceback": [
      "\u001b[0;31m---------------------------------------------------------------------------\u001b[0m",
      "\u001b[0;31mKeyError\u001b[0m                                  Traceback (most recent call last)",
      "Cell \u001b[0;32mIn [129], line 1\u001b[0m\n\u001b[0;32m----> 1\u001b[0m \u001b[43md5\u001b[49m\u001b[43m[\u001b[49m\u001b[38;5;241;43m0\u001b[39;49m\u001b[43m]\u001b[49m\n",
      "\u001b[0;31mKeyError\u001b[0m: 0"
     ]
    }
   ],
   "source": [
    "d5[0]"
   ]
  },
  {
   "cell_type": "code",
   "execution_count": 131,
   "id": "acfb4404-9823-41a9-a2f3-e822b3e9bbed",
   "metadata": {},
   "outputs": [],
   "source": [
    "d6= {'name': 'wasiq', 'mail_id': 'mohammadwasiq0786@gmail.com', 'name': 'zainul'}"
   ]
  },
  {
   "cell_type": "code",
   "execution_count": 132,
   "id": "aca1ede0-2864-48d6-a367-86f8cecf77e0",
   "metadata": {},
   "outputs": [
    {
     "data": {
      "text/plain": [
       "'zainul'"
      ]
     },
     "execution_count": 132,
     "metadata": {},
     "output_type": "execute_result"
    }
   ],
   "source": [
    "d6['name']"
   ]
  },
  {
   "cell_type": "code",
   "execution_count": 133,
   "id": "159b253d-2ae3-489b-8d60-f4eea9723dce",
   "metadata": {},
   "outputs": [
    {
     "data": {
      "text/plain": [
       "{'company': 'pwskills',\n",
       " 'course': ['web dev', 'data science', 'java with dsa system design']}"
      ]
     },
     "execution_count": 133,
     "metadata": {},
     "output_type": "execute_result"
    }
   ],
   "source": [
    "d7= {'company': 'pwskills', 'course': ['web dev', 'data science', 'java with dsa system design']}\n",
    "d7"
   ]
  },
  {
   "cell_type": "code",
   "execution_count": 134,
   "id": "5746da28-1603-4a39-bdc2-4637e501e652",
   "metadata": {},
   "outputs": [
    {
     "data": {
      "text/plain": [
       "['web dev', 'data science', 'java with dsa system design']"
      ]
     },
     "execution_count": 134,
     "metadata": {},
     "output_type": "execute_result"
    }
   ],
   "source": [
    "d7['course']"
   ]
  },
  {
   "cell_type": "code",
   "execution_count": 135,
   "id": "84f9fbee-f693-4b1d-901f-27fd8c87ddcb",
   "metadata": {},
   "outputs": [
    {
     "data": {
      "text/plain": [
       "'java with dsa system design'"
      ]
     },
     "execution_count": 135,
     "metadata": {},
     "output_type": "execute_result"
    }
   ],
   "source": [
    "d7['course'][2]"
   ]
  },
  {
   "cell_type": "code",
   "execution_count": 136,
   "id": "95585200-73dd-4099-836e-126861e5f90f",
   "metadata": {},
   "outputs": [
    {
     "data": {
      "text/plain": [
       "{'number': [2, 34, 3, 34, 34],\n",
       " 'assignment': (1, 2, 3, 4, 5, 6),\n",
       " 'launch_daate': {12, 14, 28},\n",
       " 'class_time': {'web_dev': 8,\n",
       "  'Data Science Masters': 8,\n",
       "  'java with dsa and system design': 7}}"
      ]
     },
     "execution_count": 136,
     "metadata": {},
     "output_type": "execute_result"
    }
   ],
   "source": [
    "d8= {\"number\": [2, 34, 3, 34, 34], \"assignment\": (1,2,3,4,5,6), \"launch_daate\": {28, 12, 14}, \"class_time\": {\"web_dev\":8, \"Data Science Masters\":8, \"java with dsa and system design\":7} }\n",
    "d8"
   ]
  },
  {
   "cell_type": "code",
   "execution_count": 137,
   "id": "03a5a5e4-2fc1-434a-a236-7487d2d08207",
   "metadata": {},
   "outputs": [
    {
     "data": {
      "text/plain": [
       "{'web_dev': 8, 'Data Science Masters': 8, 'java with dsa and system design': 7}"
      ]
     },
     "execution_count": 137,
     "metadata": {},
     "output_type": "execute_result"
    }
   ],
   "source": [
    "d8['class_time']"
   ]
  },
  {
   "cell_type": "code",
   "execution_count": 138,
   "id": "633e2117-c48b-4d75-be73-78d5c6915cc5",
   "metadata": {},
   "outputs": [
    {
     "data": {
      "text/plain": [
       "7"
      ]
     },
     "execution_count": 138,
     "metadata": {},
     "output_type": "execute_result"
    }
   ],
   "source": [
    "d8['class_time']['java with dsa and system design']"
   ]
  },
  {
   "cell_type": "code",
   "execution_count": 139,
   "id": "02f7a9e7-6957-46e8-aaa5-949b0cfcbc40",
   "metadata": {},
   "outputs": [],
   "source": [
    "d8['mentor']= [\"sudhanshu\", \"Krish\", \"anurag\", \"hayder\"]"
   ]
  },
  {
   "cell_type": "code",
   "execution_count": 140,
   "id": "36ff6508-d8b7-434f-b1b2-5a19de2582a5",
   "metadata": {},
   "outputs": [
    {
     "data": {
      "text/plain": [
       "{'number': [2, 34, 3, 34, 34],\n",
       " 'assignment': (1, 2, 3, 4, 5, 6),\n",
       " 'launch_daate': {12, 14, 28},\n",
       " 'class_time': {'web_dev': 8,\n",
       "  'Data Science Masters': 8,\n",
       "  'java with dsa and system design': 7},\n",
       " 'mentor': ['sudhanshu', 'Krish', 'anurag', 'hayder']}"
      ]
     },
     "execution_count": 140,
     "metadata": {},
     "output_type": "execute_result"
    }
   ],
   "source": [
    "d8"
   ]
  },
  {
   "cell_type": "code",
   "execution_count": 141,
   "id": "4d6d94fa-a506-4046-987e-675fe61e2504",
   "metadata": {},
   "outputs": [],
   "source": [
    "del d8['number']"
   ]
  },
  {
   "cell_type": "code",
   "execution_count": 142,
   "id": "d4eb7302-5fad-4ed7-89a3-9196d31fabd6",
   "metadata": {},
   "outputs": [
    {
     "data": {
      "text/plain": [
       "{'assignment': (1, 2, 3, 4, 5, 6),\n",
       " 'launch_daate': {12, 14, 28},\n",
       " 'class_time': {'web_dev': 8,\n",
       "  'Data Science Masters': 8,\n",
       "  'java with dsa and system design': 7},\n",
       " 'mentor': ['sudhanshu', 'Krish', 'anurag', 'hayder']}"
      ]
     },
     "execution_count": 142,
     "metadata": {},
     "output_type": "execute_result"
    }
   ],
   "source": [
    "d8"
   ]
  },
  {
   "cell_type": "code",
   "execution_count": 143,
   "id": "386f236b-f1ae-4a48-83ce-bd96fdeb35f4",
   "metadata": {},
   "outputs": [
    {
     "data": {
      "text/plain": [
       "dict_keys(['assignment', 'launch_daate', 'class_time', 'mentor'])"
      ]
     },
     "execution_count": 143,
     "metadata": {},
     "output_type": "execute_result"
    }
   ],
   "source": [
    "d8.keys()"
   ]
  },
  {
   "cell_type": "code",
   "execution_count": 145,
   "id": "d058744f-cba1-4f8b-9eed-594cc8c08972",
   "metadata": {},
   "outputs": [
    {
     "data": {
      "text/plain": [
       "['assignment', 'launch_daate', 'class_time', 'mentor']"
      ]
     },
     "execution_count": 145,
     "metadata": {},
     "output_type": "execute_result"
    }
   ],
   "source": [
    "list(d8.keys())"
   ]
  },
  {
   "cell_type": "code",
   "execution_count": 146,
   "id": "94ac0c51-221c-4d30-a456-33d7355480c2",
   "metadata": {},
   "outputs": [
    {
     "data": {
      "text/plain": [
       "[(1, 2, 3, 4, 5, 6),\n",
       " {12, 14, 28},\n",
       " {'web_dev': 8,\n",
       "  'Data Science Masters': 8,\n",
       "  'java with dsa and system design': 7},\n",
       " ['sudhanshu', 'Krish', 'anurag', 'hayder']]"
      ]
     },
     "execution_count": 146,
     "metadata": {},
     "output_type": "execute_result"
    }
   ],
   "source": [
    "list(d8.values())"
   ]
  },
  {
   "cell_type": "code",
   "execution_count": 148,
   "id": "ca01826b-caf4-4d6a-82c6-499344c9cae2",
   "metadata": {},
   "outputs": [
    {
     "data": {
      "text/plain": [
       "[('assignment', (1, 2, 3, 4, 5, 6)),\n",
       " ('launch_daate', {12, 14, 28}),\n",
       " ('class_time',\n",
       "  {'web_dev': 8,\n",
       "   'Data Science Masters': 8,\n",
       "   'java with dsa and system design': 7}),\n",
       " ('mentor', ['sudhanshu', 'Krish', 'anurag', 'hayder'])]"
      ]
     },
     "execution_count": 148,
     "metadata": {},
     "output_type": "execute_result"
    }
   ],
   "source": [
    "list(d8.items())"
   ]
  },
  {
   "cell_type": "code",
   "execution_count": 149,
   "id": "39069fbc-aae4-416e-8ff6-d5e8bce43d21",
   "metadata": {},
   "outputs": [
    {
     "data": {
      "text/plain": [
       "(1, 2, 3, 4, 5, 6)"
      ]
     },
     "execution_count": 149,
     "metadata": {},
     "output_type": "execute_result"
    }
   ],
   "source": [
    "d8.pop('assignment')"
   ]
  },
  {
   "cell_type": "code",
   "execution_count": 150,
   "id": "390d1ff6-0cb2-45a5-9c3e-895eb5c85ba4",
   "metadata": {},
   "outputs": [
    {
     "data": {
      "text/plain": [
       "{'launch_daate': {12, 14, 28},\n",
       " 'class_time': {'web_dev': 8,\n",
       "  'Data Science Masters': 8,\n",
       "  'java with dsa and system design': 7},\n",
       " 'mentor': ['sudhanshu', 'Krish', 'anurag', 'hayder']}"
      ]
     },
     "execution_count": 150,
     "metadata": {},
     "output_type": "execute_result"
    }
   ],
   "source": [
    "d8"
   ]
  },
  {
   "cell_type": "code",
   "execution_count": 151,
   "id": "922f2d07-31ac-4ee6-9425-e8623ad2d382",
   "metadata": {},
   "outputs": [
    {
     "ename": "TypeError",
     "evalue": "pop expected at least 1 argument, got 0",
     "output_type": "error",
     "traceback": [
      "\u001b[0;31m---------------------------------------------------------------------------\u001b[0m",
      "\u001b[0;31mTypeError\u001b[0m                                 Traceback (most recent call last)",
      "Cell \u001b[0;32mIn [151], line 1\u001b[0m\n\u001b[0;32m----> 1\u001b[0m \u001b[43md8\u001b[49m\u001b[38;5;241;43m.\u001b[39;49m\u001b[43mpop\u001b[49m\u001b[43m(\u001b[49m\u001b[43m)\u001b[49m\n",
      "\u001b[0;31mTypeError\u001b[0m: pop expected at least 1 argument, got 0"
     ]
    }
   ],
   "source": [
    "d8.pop()"
   ]
  }
 ],
 "metadata": {
  "kernelspec": {
   "display_name": "Python 3 (ipykernel)",
   "language": "python",
   "name": "python3"
  },
  "language_info": {
   "codemirror_mode": {
    "name": "ipython",
    "version": 3
   },
   "file_extension": ".py",
   "mimetype": "text/x-python",
   "name": "python",
   "nbconvert_exporter": "python",
   "pygments_lexer": "ipython3",
   "version": "3.10.6"
  }
 },
 "nbformat": 4,
 "nbformat_minor": 5
}
