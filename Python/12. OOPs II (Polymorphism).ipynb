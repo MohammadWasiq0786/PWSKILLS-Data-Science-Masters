{
 "cells": [
  {
   "cell_type": "markdown",
   "id": "81688b03-7bd7-4258-9786-c5974078214a",
   "metadata": {},
   "source": [
    "![image](https://pwskills.com/images/PWSkills-main.png)\n",
    "\n",
    "# Data Science Masters\n",
    "\n",
    "## Day - 8\n",
    "## Date- 8 February 2023 \n",
    "## OOPs Part - II (Polymorphism)\n",
    "\n",
    "# OOPs stands for **`Object Oriented Programming  System`**"
   ]
  },
  {
   "cell_type": "code",
   "execution_count": 2,
   "id": "b2ccaf91-115e-4ffa-91f5-4a17954153d1",
   "metadata": {},
   "outputs": [],
   "source": [
    "def test(a, b):\n",
    "    return a+b"
   ]
  },
  {
   "cell_type": "code",
   "execution_count": 3,
   "id": "aadcdad1-f6f1-4421-b6fc-e529319f107a",
   "metadata": {},
   "outputs": [
    {
     "data": {
      "text/plain": [
       "7"
      ]
     },
     "execution_count": 3,
     "metadata": {},
     "output_type": "execute_result"
    }
   ],
   "source": [
    "test(3, 4)"
   ]
  },
  {
   "cell_type": "code",
   "execution_count": 5,
   "id": "4f48f3b3-4551-4246-a54d-55f7adcb017f",
   "metadata": {},
   "outputs": [
    {
     "data": {
      "text/plain": [
       "'Mohammad Wasiq'"
      ]
     },
     "execution_count": 5,
     "metadata": {},
     "output_type": "execute_result"
    }
   ],
   "source": [
    "test(\"Mohammad \", \"Wasiq\")"
   ]
  },
  {
   "cell_type": "code",
   "execution_count": 6,
   "id": "289c1d3a-6e21-40af-aae0-f0f77b8c5aae",
   "metadata": {},
   "outputs": [],
   "source": [
    "class data_science:\n",
    "    \n",
    "    def syllabus(self):\n",
    "        print(\"This  is my syllabus for Data Science Masters \")"
   ]
  },
  {
   "cell_type": "code",
   "execution_count": 7,
   "id": "4c159a10-959d-4638-b955-5a057c8472ff",
   "metadata": {},
   "outputs": [],
   "source": [
    "class web_dev:\n",
    "    \n",
    "    def syllabus(self):\n",
    "        print(\"This is my Syllabus for Web Dev.\")"
   ]
  },
  {
   "cell_type": "code",
   "execution_count": 8,
   "id": "b02a90d5-1c98-4d2a-82bc-39ce1f4a36a3",
   "metadata": {},
   "outputs": [],
   "source": [
    "def class_parcer(class_obj):\n",
    "    for i in class_obj:\n",
    "        i.syllabus()"
   ]
  },
  {
   "cell_type": "code",
   "execution_count": 9,
   "id": "df83f301-c730-4a29-98ad-7b7b78f97e43",
   "metadata": {},
   "outputs": [],
   "source": [
    "data_science= data_science()"
   ]
  },
  {
   "cell_type": "code",
   "execution_count": 10,
   "id": "408311e1-2d10-4a78-98f6-bef346fe1b7a",
   "metadata": {},
   "outputs": [],
   "source": [
    "web_de= web_dev()"
   ]
  },
  {
   "cell_type": "code",
   "execution_count": 11,
   "id": "1e263782-32b5-4619-8b2f-9c9c8319aeee",
   "metadata": {},
   "outputs": [],
   "source": [
    "class_obj= [data_science, web_de]"
   ]
  },
  {
   "cell_type": "code",
   "execution_count": 12,
   "id": "05ae2a5c-71ee-4d49-8634-fa813b82de90",
   "metadata": {},
   "outputs": [
    {
     "name": "stdout",
     "output_type": "stream",
     "text": [
      "This  is my syllabus for Data Science Masters \n",
      "This is my Syllabus for Web Dev.\n"
     ]
    }
   ],
   "source": [
    "class_parcer(class_obj)"
   ]
  }
 ],
 "metadata": {
  "kernelspec": {
   "display_name": "Python 3 (ipykernel)",
   "language": "python",
   "name": "python3"
  },
  "language_info": {
   "codemirror_mode": {
    "name": "ipython",
    "version": 3
   },
   "file_extension": ".py",
   "mimetype": "text/x-python",
   "name": "python",
   "nbconvert_exporter": "python",
   "pygments_lexer": "ipython3",
   "version": "3.10.6"
  }
 },
 "nbformat": 4,
 "nbformat_minor": 5
}
