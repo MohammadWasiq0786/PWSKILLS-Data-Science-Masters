{
 "cells": [
  {
   "cell_type": "markdown",
   "id": "84f76aa5-b952-4c3c-94ee-14e60521e8ed",
   "metadata": {},
   "source": [
    "![image](https://pwskills.com/images/PWSkills-main.png)"
   ]
  },
  {
   "cell_type": "markdown",
   "id": "1145bb59-1d1f-481b-a750-9c05fb0b5a31",
   "metadata": {},
   "source": [
    "# Data Science Masters\n",
    "\n",
    "## Day - 4\n",
    "## Date- 1 February 2023 \n",
    "## Conditional Statement"
   ]
  },
  {
   "cell_type": "markdown",
   "id": "1365a86a-739d-4d39-84f9-ec210418d3dd",
   "metadata": {},
   "source": [
    "# 1. if"
   ]
  },
  {
   "cell_type": "code",
   "execution_count": 2,
   "id": "f81e256e-907a-48cd-8efe-400f6a855778",
   "metadata": {},
   "outputs": [
    {
     "name": "stdout",
     "output_type": "stream",
     "text": [
      "You will be a part of A1 batch\n"
     ]
    }
   ],
   "source": [
    "marks= 65\n",
    "if marks >= 80:\n",
    "    print(\"You will be a part of A0 batch\")\n",
    "elif marks >= 60 and marks < 80:\n",
    "    print(\"You will be a part of A1 batch\")\n",
    "elif marks >= 40 and marks < 60:\n",
    "    print(\"You will be a part of A2 batch\")\n",
    "else:\n",
    "    print(\"You will be a part of A3 batch\")"
   ]
  },
  {
   "cell_type": "code",
   "execution_count": 3,
   "id": "0e7c16da-3c00-4ec7-af13-e9c21c4c8558",
   "metadata": {},
   "outputs": [
    {
     "name": "stdout",
     "output_type": "stream",
     "text": [
      "You will be a part of A3 batch\n"
     ]
    }
   ],
   "source": [
    "marks= -65\n",
    "if marks >= 80:\n",
    "    print(\"You will be a part of A0 batch\")\n",
    "elif marks >= 60 and marks < 80:\n",
    "    print(\"You will be a part of A1 batch\")\n",
    "elif marks >= 40 and marks < 60:\n",
    "    print(\"You will be a part of A2 batch\")\n",
    "else:\n",
    "    print(\"You will be a part of A3 batch\")"
   ]
  },
  {
   "cell_type": "code",
   "execution_count": 4,
   "id": "942c80d3-f523-46ea-bb66-fc16026f75b8",
   "metadata": {},
   "outputs": [
    {
     "data": {
      "text/plain": [
       "False"
      ]
     },
     "execution_count": 4,
     "metadata": {},
     "output_type": "execute_result"
    }
   ],
   "source": [
    "10>80"
   ]
  },
  {
   "cell_type": "code",
   "execution_count": 5,
   "id": "0c6ee82c-ebfb-42bf-b007-1c911b32f41d",
   "metadata": {},
   "outputs": [
    {
     "name": "stdin",
     "output_type": "stream",
     "text": [
      "Enter Your Marks  85\n"
     ]
    },
    {
     "name": "stdout",
     "output_type": "stream",
     "text": [
      "You will be a part of A0 batch\n"
     ]
    }
   ],
   "source": [
    "marks= int(input(\"Enter Your Marks \"))\n",
    "if marks >= 80:\n",
    "    print(\"You will be a part of A0 batch\")\n",
    "elif marks >= 60 and marks < 80:\n",
    "    print(\"You will be a part of A1 batch\")\n",
    "elif marks >= 40 and marks < 60:\n",
    "    print(\"You will be a part of A2 batch\")\n",
    "else:\n",
    "    print(\"You will be a part of A3 batch\")"
   ]
  },
  {
   "cell_type": "code",
   "execution_count": 6,
   "id": "b13364da-24d6-45ed-94bf-7e5da2063842",
   "metadata": {},
   "outputs": [
    {
     "name": "stdin",
     "output_type": "stream",
     "text": [
      "Enter price  500\n"
     ]
    },
    {
     "name": "stdout",
     "output_type": "stream",
     "text": [
      "I will purchase\n"
     ]
    }
   ],
   "source": [
    "price= int(input(\"Enter price \"))\n",
    "if price > 1000:\n",
    "    print(\"I will not purchase\")\n",
    "else:\n",
    "    print(\"I will purchase\")"
   ]
  },
  {
   "cell_type": "code",
   "execution_count": 7,
   "id": "626300cc-3881-4ac9-9d57-b3b3d0eab0ce",
   "metadata": {},
   "outputs": [
    {
     "name": "stdin",
     "output_type": "stream",
     "text": [
      "Enter price  200\n"
     ]
    }
   ],
   "source": [
    "price= int(input(\"Enter price \"))\n",
    "if price > 1000:\n",
    "    print(\"I will not purchase\")"
   ]
  },
  {
   "cell_type": "code",
   "execution_count": 8,
   "id": "6c330073-6840-4960-822a-e9e1e105a912",
   "metadata": {},
   "outputs": [
    {
     "name": "stdin",
     "output_type": "stream",
     "text": [
      "Enter price  7000\n"
     ]
    },
    {
     "name": "stdout",
     "output_type": "stream",
     "text": [
      "I will not purchase\n",
      "This is too much\n"
     ]
    }
   ],
   "source": [
    "price= int(input(\"Enter price \"))\n",
    "if price > 1000:\n",
    "    print(\"I will not purchase\")\n",
    "    if price > 5000:\n",
    "        print(\"This is too much\")"
   ]
  },
  {
   "cell_type": "code",
   "execution_count": 2,
   "id": "79cfbf77-3a74-4381-8909-019797d9ec53",
   "metadata": {},
   "outputs": [
    {
     "name": "stdin",
     "output_type": "stream",
     "text": [
      "Enter price  1500\n"
     ]
    },
    {
     "name": "stdout",
     "output_type": "stream",
     "text": [
      "I will not purchase\n",
      "It's Ok\n"
     ]
    }
   ],
   "source": [
    "price= int(input(\"Enter price \"))\n",
    "if price > 1000:\n",
    "    print(\"I will not purchase\")\n",
    "    if price > 5000:\n",
    "        print(\"This is too much\")\n",
    "    elif price < 2000:\n",
    "        print(\"It's Ok\")\n",
    "elif price < 1000:\n",
    "    price(\"I will purchase\")\n",
    "else:\n",
    "    print(\"Not Interested\")"
   ]
  },
  {
   "cell_type": "code",
   "execution_count": 1,
   "id": "8d212b21-9824-461e-9e1e-8ee846c486a3",
   "metadata": {},
   "outputs": [
    {
     "name": "stdin",
     "output_type": "stream",
     "text": [
      "enter price  600\n"
     ]
    },
    {
     "name": "stdout",
     "output_type": "stream",
     "text": [
      "i will purchase\n"
     ]
    }
   ],
   "source": [
    "price = int(input(\"enter price \" ))\n",
    "if price > 1000:\n",
    "    print(\"i will not purchase\")\n",
    "    if price >5000:\n",
    "        print(\"this is too much \")\n",
    "    elif price < 2000 : \n",
    "        print(\"its ok\")\n",
    "elif price < 1000 or price > 500 :\n",
    "    print(\"i will purchase\")\n",
    "else :\n",
    "    print(\"not interested \")"
   ]
  }
 ],
 "metadata": {
  "kernelspec": {
   "display_name": "Python 3 (ipykernel)",
   "language": "python",
   "name": "python3"
  },
  "language_info": {
   "codemirror_mode": {
    "name": "ipython",
    "version": 3
   },
   "file_extension": ".py",
   "mimetype": "text/x-python",
   "name": "python",
   "nbconvert_exporter": "python",
   "pygments_lexer": "ipython3",
   "version": "3.10.6"
  }
 },
 "nbformat": 4,
 "nbformat_minor": 5
}
