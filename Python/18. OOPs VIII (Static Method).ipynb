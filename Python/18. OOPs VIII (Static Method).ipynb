{
 "cells": [
  {
   "cell_type": "markdown",
   "id": "b93bec18-a4ea-4885-967c-d76dea6c5b36",
   "metadata": {},
   "source": [
    "![image](https://pwskills.com/images/PWSkills-main.png)\n",
    "\n",
    "# Data Science Masters\n",
    "\n",
    "## Day - 10\n",
    "## Date- 10 February 2023 \n",
    "## OOPs Part - VIII (Static Method)\n",
    "\n",
    "# OOPs stands for **`Object Oriented Programming  System`**"
   ]
  },
  {
   "cell_type": "code",
   "execution_count": 1,
   "id": "6aa78adb-c7e0-4f45-a1f6-22e6d0afb722",
   "metadata": {},
   "outputs": [],
   "source": [
    "class pwskills :\n",
    "    \n",
    "    def student_details(self, name, mail_id, number) :\n",
    "        print(name, mail_id, number)"
   ]
  },
  {
   "cell_type": "code",
   "execution_count": 2,
   "id": "78e36bd8-15d2-4786-90f7-1452b5d8244c",
   "metadata": {},
   "outputs": [],
   "source": [
    "pw = pwskills()"
   ]
  },
  {
   "cell_type": "code",
   "execution_count": 3,
   "id": "9fd55f3c-affa-4c8c-ba41-ddad24eebf2e",
   "metadata": {},
   "outputs": [
    {
     "name": "stdout",
     "output_type": "stream",
     "text": [
      "wasiq wasiq@gmail.com 912342342\n"
     ]
    }
   ],
   "source": [
    "pw.student_details(\"wasiq\", \"wasiq@gmail.com\", 912342342)"
   ]
  },
  {
   "cell_type": "code",
   "execution_count": 4,
   "id": "0d81e62c-d084-4ba8-9336-5cb405bb300a",
   "metadata": {},
   "outputs": [],
   "source": [
    "class pwskills1 :\n",
    "    \n",
    "    def student_details(self, name, mail_id, number) :\n",
    "        print(name, mail_id, number)\n",
    "        \n",
    "    @staticmethod\n",
    "    def mentor_class(list_mentor) :\n",
    "        print(list_mentor)\n",
    "        \n",
    "    def mentor(self, mentor_list):\n",
    "        print(mentor_list)"
   ]
  },
  {
   "cell_type": "code",
   "execution_count": 5,
   "id": "636099d7-03de-4ee1-bf14-ed5983b6171b",
   "metadata": {},
   "outputs": [
    {
     "name": "stdout",
     "output_type": "stream",
     "text": [
      "['Wasiq', 'Zainul']\n"
     ]
    }
   ],
   "source": [
    "pwskills1.mentor_class([\"Wasiq\", \"Zainul\"])"
   ]
  },
  {
   "cell_type": "code",
   "execution_count": 6,
   "id": "4725df0c-7693-4a6d-bce5-4b59d4ad77cf",
   "metadata": {},
   "outputs": [],
   "source": [
    "stu1 = pwskills1()"
   ]
  },
  {
   "cell_type": "code",
   "execution_count": 7,
   "id": "96f6c701-dafd-4b6b-a3e1-4797f695e99f",
   "metadata": {},
   "outputs": [],
   "source": [
    "stu2 = pwskills1()"
   ]
  },
  {
   "cell_type": "code",
   "execution_count": 8,
   "id": "420f7d0a-f3dd-4657-b29b-c74c486ae58c",
   "metadata": {},
   "outputs": [],
   "source": [
    "stu3 = pwskills1()"
   ]
  },
  {
   "cell_type": "code",
   "execution_count": 9,
   "id": "337825de-146d-4eba-bb53-e7f2485cee75",
   "metadata": {},
   "outputs": [
    {
     "name": "stdout",
     "output_type": "stream",
     "text": [
      "['Wasiq', 'Zainul']\n"
     ]
    }
   ],
   "source": [
    "stu1.mentor([\"Wasiq\", \"Zainul\"])"
   ]
  },
  {
   "cell_type": "code",
   "execution_count": 10,
   "id": "89f3d78e-fc36-4b11-a4e5-e1168ba3b170",
   "metadata": {},
   "outputs": [],
   "source": [
    "class pwskills2 :\n",
    "    \n",
    "    def student_details(self, name, mail_id, number) :\n",
    "        print(name, mail_id, number)\n",
    "        \n",
    "    @staticmethod\n",
    "    def mentor_mail_id(maild_id_mentor) :\n",
    "        print(maild_id_mentor)    \n",
    "        \n",
    "    @staticmethod\n",
    "    def mentor_class(list_mentor) :\n",
    "        pwskills2.mentor_mail_id([\"wasiq@gmail.com\", \"zainul@gmail.com\"])\n",
    "        print(list_mentor)\n",
    "        \n",
    "    @classmethod\n",
    "    def class_name(cls):\n",
    "        cls.mentor_class([\"Wasiq\", \"Zainul\"])\n",
    "                        \n",
    "    def mentor(self, mentor_list):\n",
    "        print(mentor_list)\n",
    "        self.mentor_class([\"Zainul\", \"Wasiq\"])"
   ]
  },
  {
   "cell_type": "code",
   "execution_count": 11,
   "id": "c6dc0ef4-c3ec-468a-a375-a0675a201c71",
   "metadata": {},
   "outputs": [
    {
     "name": "stdout",
     "output_type": "stream",
     "text": [
      "['wasiq@gmail.com', 'zainul@gmail.com']\n",
      "['Wasiq', 'Zainul']\n"
     ]
    }
   ],
   "source": [
    "pwskills2.mentor_class([\"Wasiq\", \"Zainul\"])"
   ]
  },
  {
   "cell_type": "code",
   "execution_count": 12,
   "id": "a791d684-15f9-451d-b304-bfdf504bb177",
   "metadata": {},
   "outputs": [
    {
     "name": "stdout",
     "output_type": "stream",
     "text": [
      "['wasiq@gmail.com', 'zainul@gmail.com']\n",
      "['Wasiq', 'Zainul']\n"
     ]
    }
   ],
   "source": [
    "pwskills2.class_name()"
   ]
  },
  {
   "cell_type": "code",
   "execution_count": 13,
   "id": "8d0b3093-7572-49b1-b110-05b832ec2610",
   "metadata": {},
   "outputs": [],
   "source": [
    "pw = pwskills2()"
   ]
  },
  {
   "cell_type": "code",
   "execution_count": 14,
   "id": "954194f4-0272-4235-95d4-94c66b9b4e76",
   "metadata": {},
   "outputs": [
    {
     "name": "stdout",
     "output_type": "stream",
     "text": [
      "['Zainul', 'Wasiq']\n",
      "['wasiq@gmail.com', 'zainul@gmail.com']\n",
      "['Zainul', 'Wasiq']\n"
     ]
    }
   ],
   "source": [
    "pw.mentor([\"Zainul\", \"Wasiq\"])"
   ]
  }
 ],
 "metadata": {
  "kernelspec": {
   "display_name": "Python 3 (ipykernel)",
   "language": "python",
   "name": "python3"
  },
  "language_info": {
   "codemirror_mode": {
    "name": "ipython",
    "version": 3
   },
   "file_extension": ".py",
   "mimetype": "text/x-python",
   "name": "python",
   "nbconvert_exporter": "python",
   "pygments_lexer": "ipython3",
   "version": "3.10.6"
  }
 },
 "nbformat": 4,
 "nbformat_minor": 5
}
