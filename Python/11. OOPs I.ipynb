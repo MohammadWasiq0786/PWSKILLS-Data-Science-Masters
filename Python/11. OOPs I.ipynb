{
 "cells": [
  {
   "cell_type": "markdown",
   "id": "85e703b1-82bf-4069-94aa-6535c352bfbc",
   "metadata": {},
   "source": [
    "![image](https://pwskills.com/images/PWSkills-main.png)\n",
    "\n",
    "# Data Science Masters\n",
    "\n",
    "## Day - 8\n",
    "## Date- 5 February 2023 \n",
    "## OOPs Part - I\n",
    "\n",
    "# OOPs stands for **`Object Oriented Programming  System`**"
   ]
  },
  {
   "cell_type": "markdown",
   "id": "e514689e-09df-44e0-ab28-3982a3f131a5",
   "metadata": {},
   "source": [
    "Here are some of the fundamental OOP concepts in Python:\n",
    "\n",
    "**Class:** A blueprint or template for creating objects. It defines the attributes and methods that an object can have.\n",
    "\n",
    "**Object:** An instance of a class. It has its own set of attributes and methods.\n",
    "\n",
    "**Encapsulation:** The practice of hiding implementation details of an object from the user, and only exposing a simple interface for interacting with the object. In Python, this is often achieved through the use of private and protected class attributes.\n",
    "\n",
    "**Inheritance:** The ability of a class to inherit attributes and methods from a parent class. In Python, a subclass can inherit from a single parent class, but can inherit from multiple parent classes using multiple inheritance.\n",
    "\n",
    "**Polymorphism:** The ability of different objects to respond to the same message or method call in different ways. In Python, polymorphism is achieved through method overriding and duck typing.\n",
    "\n",
    "**Abstraction:** The ability to focus on the essential features of an object and ignore the irrelevant details. In Python, this is often achieved through the use of abstract classes and interfaces."
   ]
  },
  {
   "cell_type": "markdown",
   "id": "f42c1c7b-0ac3-4c45-b222-77feef77b937",
   "metadata": {},
   "source": [
    "**Class:** Ek blueprint ya template object banane ke liye. Yeh define karta hai ki object mein kya attributes aur methods honge.\n",
    "\n",
    "**Object:** Ek class ka instance. Iske paas apne aap ke attributes aur methods hote hain.\n",
    "\n",
    "**Encapsulation:** Object ke implementation details ko user se chhupana aur sirf object se interaction ke liye ek simple interface dikhana. Python mein, yeh private aur protected class attributes ke upyog se aksar prapt kiya jaata hai.\n",
    "\n",
    "**Inheritance:** Ek class ki ability ke attributes aur methods ko ek parent class se inherit karne ki. Python mein, ek subclass ek parent class se inherit kar sakti hai, lekin multiple inheritance ke upyog se ek se adhik parent classes se inherit kar sakti hai.\n",
    "\n",
    "**Polymorphism:** Alag-alag objects ke liye ek hi message ya method call par alag-alag tarikon se respond karne ki ability. Python mein, method overriding aur duck typing ke madhyam se polymorphism prapt kiya jaata hai.\n",
    "\n",
    "**Abstraction:** Ek object ke essential features par dhyaan kendrit karke anivarya details ko ignore karne ki ability. Python mein, abstract classes aur interfaces ke upyog se yeh aksar prapt kiya jaata hai.\n",
    "\n",
    "Ek class ko Python mein banane ke liye, aap class naam ke peechhe \"class\" keyword ka upyog karte hain. Yahan ek udaharan hai:\n",
    "\n",
    "```python\n",
    "class Car:\n",
    "    def __init__(self, make, model, year):\n",
    "        self.make = make\n",
    "        self.model = model\n",
    "        self.year = year\n",
    "        \n",
    "    def drive(self):\n",
    "        print(f\"The {self.year} {self.make} {self.model} is driving.\")\n",
    "```\n",
    "\n",
    "Is udaharan mein, Car class ke paas ek constructor (__init__) hai jo teen parameters (make, model, aur year) ko leta hai aur unhein object ke attributes ke roop mein set karta hai. Car class ke paas ek drive method bhi hai jo car chalane ka message print karta hai.\n",
    "\n",
    "Car class ke object ko banane ke liye, aap bas class constructor ko call karte hain:\n",
    "```python\n",
    "my_car = Car(\"Honda\", \"Civic\", 2021)\n",
    "```\n",
    "Is udaharan mein, my_car Car class ka ek instance hai jiska make attribute \"Honda\", model attribute \"Civic\", aur year attribute 2021 set hai.\n",
    "\n",
    "Aap object ke methods ko dot notation ke sahaare call kar sakte hain:\n",
    "```python\n",
    "my_car.drive()\n",
    "```\n",
    "Isse `\"The 2021 Honda Civic is driving.\"` message print hoga."
   ]
  },
  {
   "cell_type": "code",
   "execution_count": 1,
   "id": "dc886622-c5c8-4bdf-b625-fc0bb51f87ca",
   "metadata": {},
   "outputs": [
    {
     "name": "stdout",
     "output_type": "stream",
     "text": [
      "<class 'int'>\n"
     ]
    }
   ],
   "source": [
    "a= 1\n",
    "print(type(a))"
   ]
  },
  {
   "cell_type": "code",
   "execution_count": 2,
   "id": "f16bf092-9ff5-47b8-a1ae-99ae871e6b4d",
   "metadata": {},
   "outputs": [
    {
     "name": "stdout",
     "output_type": "stream",
     "text": [
      "<class 'str'>\n"
     ]
    }
   ],
   "source": [
    "print(type(\"pwskills\"))"
   ]
  },
  {
   "cell_type": "code",
   "execution_count": 3,
   "id": "afd24ee1-dc95-4dfb-8828-9500e6aff726",
   "metadata": {},
   "outputs": [
    {
     "ename": "SyntaxError",
     "evalue": "incomplete input (1236307212.py, line 2)",
     "output_type": "error",
     "traceback": [
      "\u001b[0;36m  Cell \u001b[0;32mIn [3], line 2\u001b[0;36m\u001b[0m\n\u001b[0;31m    \u001b[0m\n\u001b[0m    ^\u001b[0m\n\u001b[0;31mSyntaxError\u001b[0m\u001b[0;31m:\u001b[0m incomplete input\n"
     ]
    }
   ],
   "source": [
    "class test:\n",
    "    "
   ]
  },
  {
   "cell_type": "code",
   "execution_count": 4,
   "id": "034c18e4-e866-4613-bb83-c49b7f0703c2",
   "metadata": {},
   "outputs": [],
   "source": [
    "class test:\n",
    "    pass"
   ]
  },
  {
   "cell_type": "code",
   "execution_count": 5,
   "id": "9b8e96f4-590b-442f-9576-1e01dc8d4d42",
   "metadata": {},
   "outputs": [],
   "source": [
    "a= test()"
   ]
  },
  {
   "cell_type": "code",
   "execution_count": 6,
   "id": "33f737b1-459c-47af-87a8-b5dc8510eeef",
   "metadata": {},
   "outputs": [
    {
     "data": {
      "text/plain": [
       "__main__.test"
      ]
     },
     "execution_count": 6,
     "metadata": {},
     "output_type": "execute_result"
    }
   ],
   "source": [
    "type(a)"
   ]
  },
  {
   "cell_type": "code",
   "execution_count": 7,
   "id": "22559285-0524-456b-adcc-7d2828cf3bf5",
   "metadata": {},
   "outputs": [
    {
     "name": "stdout",
     "output_type": "stream",
     "text": [
      "<class '__main__.test'>\n"
     ]
    }
   ],
   "source": [
    "print(type(a))"
   ]
  },
  {
   "cell_type": "code",
   "execution_count": 8,
   "id": "d8c3ab5d-1930-4d94-a209-37d8dcd83ca4",
   "metadata": {},
   "outputs": [],
   "source": [
    "class pwskills:\n",
    "    \n",
    "    def welcome_msg():\n",
    "        print(\"Welcome to pwskills\")"
   ]
  },
  {
   "cell_type": "code",
   "execution_count": 9,
   "id": "8394f97d-bee3-4c9d-9b35-b1f55f7f850b",
   "metadata": {},
   "outputs": [],
   "source": [
    "wasiq= pwskills()"
   ]
  },
  {
   "cell_type": "code",
   "execution_count": 10,
   "id": "54b28bbb-657b-4981-a5eb-9dc166d3c153",
   "metadata": {},
   "outputs": [
    {
     "name": "stdout",
     "output_type": "stream",
     "text": [
      "<class '__main__.pwskills'>\n"
     ]
    }
   ],
   "source": [
    "print(type(wasiq))"
   ]
  },
  {
   "cell_type": "code",
   "execution_count": 11,
   "id": "98c95e82-85ba-4d70-a5df-29bc4978c958",
   "metadata": {},
   "outputs": [
    {
     "ename": "TypeError",
     "evalue": "pwskills.welcome_msg() takes 0 positional arguments but 1 was given",
     "output_type": "error",
     "traceback": [
      "\u001b[0;31m---------------------------------------------------------------------------\u001b[0m",
      "\u001b[0;31mTypeError\u001b[0m                                 Traceback (most recent call last)",
      "Cell \u001b[0;32mIn [11], line 1\u001b[0m\n\u001b[0;32m----> 1\u001b[0m \u001b[43mwasiq\u001b[49m\u001b[38;5;241;43m.\u001b[39;49m\u001b[43mwelcome_msg\u001b[49m\u001b[43m(\u001b[49m\u001b[43m)\u001b[49m\n",
      "\u001b[0;31mTypeError\u001b[0m: pwskills.welcome_msg() takes 0 positional arguments but 1 was given"
     ]
    }
   ],
   "source": [
    "wasiq.welcome_msg()"
   ]
  },
  {
   "cell_type": "code",
   "execution_count": 12,
   "id": "068a54cc-531f-4fa6-9cef-8dc00898c452",
   "metadata": {},
   "outputs": [],
   "source": [
    "class pwskills:\n",
    "    \n",
    "    def welcome_msg(self):\n",
    "        print(\"Welcome to pwskills\")"
   ]
  },
  {
   "cell_type": "code",
   "execution_count": 15,
   "id": "6512e490-08e1-4023-ad9c-ce2d80647ff3",
   "metadata": {},
   "outputs": [],
   "source": [
    "wasiq = pwskills()"
   ]
  },
  {
   "cell_type": "code",
   "execution_count": 18,
   "id": "4c79fd28-9fe7-43a3-bc90-2c90b62ff1e2",
   "metadata": {},
   "outputs": [
    {
     "name": "stdout",
     "output_type": "stream",
     "text": [
      "Welcome to pwskills\n"
     ]
    }
   ],
   "source": [
    "wasiq.welcome_msg()"
   ]
  },
  {
   "cell_type": "code",
   "execution_count": 19,
   "id": "46bcf7be-18e4-4d7d-8dd3-546101c9bcb8",
   "metadata": {},
   "outputs": [
    {
     "name": "stdout",
     "output_type": "stream",
     "text": [
      "Welcome to pwskills\n"
     ]
    }
   ],
   "source": [
    "zainul= pwskills()\n",
    "\n",
    "zainul.welcome_msg()"
   ]
  },
  {
   "cell_type": "code",
   "execution_count": 20,
   "id": "7ded9927-f510-4196-b512-3f5dc57aca09",
   "metadata": {},
   "outputs": [],
   "source": [
    "class pwskills1:\n",
    "    \n",
    "    def __init__(self, phone_number, email_id, student_id):\n",
    "        self.phone_number = phone_number\n",
    "        self.email_id = email_id\n",
    "        self.student_id = student_id\n",
    "        \n",
    "    def return_student_details(self):\n",
    "        return self.student_id, self.phone_number, self.email_id"
   ]
  },
  {
   "cell_type": "code",
   "execution_count": 22,
   "id": "c65f761f-97a9-4d22-b362-ffd5737b405e",
   "metadata": {},
   "outputs": [
    {
     "ename": "TypeError",
     "evalue": "pwskills1.__init__() missing 3 required positional arguments: 'phone_number', 'email_id', and 'student_id'",
     "output_type": "error",
     "traceback": [
      "\u001b[0;31m---------------------------------------------------------------------------\u001b[0m",
      "\u001b[0;31mTypeError\u001b[0m                                 Traceback (most recent call last)",
      "Cell \u001b[0;32mIn [22], line 1\u001b[0m\n\u001b[0;32m----> 1\u001b[0m wasiq\u001b[38;5;241m=\u001b[39m \u001b[43mpwskills1\u001b[49m\u001b[43m(\u001b[49m\u001b[43m)\u001b[49m\n",
      "\u001b[0;31mTypeError\u001b[0m: pwskills1.__init__() missing 3 required positional arguments: 'phone_number', 'email_id', and 'student_id'"
     ]
    }
   ],
   "source": [
    "wasiq= pwskills1()"
   ]
  },
  {
   "cell_type": "code",
   "execution_count": 23,
   "id": "27601341-e643-4ba2-a95b-760f052619d2",
   "metadata": {},
   "outputs": [],
   "source": [
    "wasiq= pwskills1(123456, \"wamu@123.com\", 16)"
   ]
  },
  {
   "cell_type": "code",
   "execution_count": 24,
   "id": "875358e4-7cbc-4698-af10-c7ea24bfeebc",
   "metadata": {},
   "outputs": [
    {
     "data": {
      "text/plain": [
       "(16, 123456, 'wamu@123.com')"
      ]
     },
     "execution_count": 24,
     "metadata": {},
     "output_type": "execute_result"
    }
   ],
   "source": [
    "wasiq.return_student_details()"
   ]
  },
  {
   "cell_type": "code",
   "execution_count": 25,
   "id": "c64b04fa-de6d-4304-808f-aa6b578f5b5b",
   "metadata": {},
   "outputs": [
    {
     "data": {
      "text/plain": [
       "(12, 554766533, 'zainul@gmail.com')"
      ]
     },
     "execution_count": 25,
     "metadata": {},
     "output_type": "execute_result"
    }
   ],
   "source": [
    "zainul= pwskills1(554766533, \"zainul@gmail.com\", 12)\n",
    "zainul.return_student_details()"
   ]
  },
  {
   "cell_type": "code",
   "execution_count": 30,
   "id": "d1a59795-2f87-4965-b3dd-692ecf398e78",
   "metadata": {},
   "outputs": [],
   "source": [
    "class pwskills2:\n",
    "    \n",
    "    def __init__(self, phone_number, email_id, student_id):\n",
    "        self.phone_number1 = phone_number\n",
    "        self.email_id1 = email_id\n",
    "        self.student_id1 = student_id\n",
    "        \n",
    "    def return_student_details(self):\n",
    "        return self.student_id, self.phone_number, self.email_id"
   ]
  },
  {
   "cell_type": "code",
   "execution_count": 31,
   "id": "531962ea-d5c8-4869-981d-04567bb306f8",
   "metadata": {},
   "outputs": [],
   "source": [
    "sudh= pwskills2(99297973, \"sudh@gmail.com\", 103)"
   ]
  },
  {
   "cell_type": "code",
   "execution_count": 32,
   "id": "a5951e37-0314-4583-9ee0-0fa6854f5b47",
   "metadata": {},
   "outputs": [
    {
     "data": {
      "text/plain": [
       "<__main__.pwskills2 at 0x7f46fbf6a620>"
      ]
     },
     "execution_count": 32,
     "metadata": {},
     "output_type": "execute_result"
    }
   ],
   "source": [
    "sudh"
   ]
  },
  {
   "cell_type": "code",
   "execution_count": 33,
   "id": "b6cb2ac2-1bd2-4f3a-8f9b-4f309ba83837",
   "metadata": {},
   "outputs": [
    {
     "ename": "AttributeError",
     "evalue": "'pwskills2' object has no attribute 'phone_number'",
     "output_type": "error",
     "traceback": [
      "\u001b[0;31m---------------------------------------------------------------------------\u001b[0m",
      "\u001b[0;31mAttributeError\u001b[0m                            Traceback (most recent call last)",
      "Cell \u001b[0;32mIn [33], line 1\u001b[0m\n\u001b[0;32m----> 1\u001b[0m \u001b[43msudh\u001b[49m\u001b[38;5;241;43m.\u001b[39;49m\u001b[43mphone_number\u001b[49m\n",
      "\u001b[0;31mAttributeError\u001b[0m: 'pwskills2' object has no attribute 'phone_number'"
     ]
    }
   ],
   "source": [
    "sudh.phone_number"
   ]
  },
  {
   "cell_type": "code",
   "execution_count": 34,
   "id": "2c4cf295-c314-4291-b4fa-da5f0b0aa98b",
   "metadata": {},
   "outputs": [
    {
     "data": {
      "text/plain": [
       "99297973"
      ]
     },
     "execution_count": 34,
     "metadata": {},
     "output_type": "execute_result"
    }
   ],
   "source": [
    "sudh.phone_number1"
   ]
  },
  {
   "cell_type": "code",
   "execution_count": 37,
   "id": "7cc62642-78c2-4e9d-84e7-026f956a9e1e",
   "metadata": {},
   "outputs": [
    {
     "ename": "AttributeError",
     "evalue": "'pwskills2' object has no attribute 'student_id'",
     "output_type": "error",
     "traceback": [
      "\u001b[0;31m---------------------------------------------------------------------------\u001b[0m",
      "\u001b[0;31mAttributeError\u001b[0m                            Traceback (most recent call last)",
      "Cell \u001b[0;32mIn [37], line 1\u001b[0m\n\u001b[0;32m----> 1\u001b[0m \u001b[43msudh\u001b[49m\u001b[38;5;241;43m.\u001b[39;49m\u001b[43mreturn_student_details\u001b[49m\u001b[43m(\u001b[49m\u001b[43m)\u001b[49m\n",
      "Cell \u001b[0;32mIn [30], line 9\u001b[0m, in \u001b[0;36mpwskills2.return_student_details\u001b[0;34m(self)\u001b[0m\n\u001b[1;32m      8\u001b[0m \u001b[38;5;28;01mdef\u001b[39;00m \u001b[38;5;21mreturn_student_details\u001b[39m(\u001b[38;5;28mself\u001b[39m):\n\u001b[0;32m----> 9\u001b[0m     \u001b[38;5;28;01mreturn\u001b[39;00m \u001b[38;5;28;43mself\u001b[39;49m\u001b[38;5;241;43m.\u001b[39;49m\u001b[43mstudent_id\u001b[49m, \u001b[38;5;28mself\u001b[39m\u001b[38;5;241m.\u001b[39mphone_number, \u001b[38;5;28mself\u001b[39m\u001b[38;5;241m.\u001b[39memail_id\n",
      "\u001b[0;31mAttributeError\u001b[0m: 'pwskills2' object has no attribute 'student_id'"
     ]
    }
   ],
   "source": [
    "sudh.return_student_details()"
   ]
  },
  {
   "cell_type": "code",
   "execution_count": 38,
   "id": "41956927-e2f1-4f67-b278-1b5bd7aa3059",
   "metadata": {},
   "outputs": [],
   "source": [
    "class pwskills2:\n",
    "    \n",
    "    def __init__(self, phone_number, email_id, student_id):\n",
    "        self.phone_number1 = phone_number\n",
    "        self.email_id1 = email_id\n",
    "        self.student_id1 = student_id\n",
    "        \n",
    "    def return_student_details(self):\n",
    "        return self.student_id1, self.phone_number1, self.email_id1"
   ]
  },
  {
   "cell_type": "code",
   "execution_count": 39,
   "id": "4e642a63-5ca0-40be-b846-518ea7087fde",
   "metadata": {},
   "outputs": [],
   "source": [
    "wasiq= pwskills2(34243565, \"wasiq@gmail.com\", 102)"
   ]
  },
  {
   "cell_type": "code",
   "execution_count": 40,
   "id": "d51cacf4-f90b-44e1-9a9b-3f7aaaa2c3a6",
   "metadata": {},
   "outputs": [
    {
     "data": {
      "text/plain": [
       "34243565"
      ]
     },
     "execution_count": 40,
     "metadata": {},
     "output_type": "execute_result"
    }
   ],
   "source": [
    "wasiq.phone_number1"
   ]
  },
  {
   "cell_type": "code",
   "execution_count": 41,
   "id": "c29ba4be-6f75-4510-a949-798a887a6e70",
   "metadata": {},
   "outputs": [
    {
     "data": {
      "text/plain": [
       "(102, 34243565, 'wasiq@gmail.com')"
      ]
     },
     "execution_count": 41,
     "metadata": {},
     "output_type": "execute_result"
    }
   ],
   "source": [
    "wasiq.return_student_details()"
   ]
  }
 ],
 "metadata": {
  "kernelspec": {
   "display_name": "Python 3 (ipykernel)",
   "language": "python",
   "name": "python3"
  },
  "language_info": {
   "codemirror_mode": {
    "name": "ipython",
    "version": 3
   },
   "file_extension": ".py",
   "mimetype": "text/x-python",
   "name": "python",
   "nbconvert_exporter": "python",
   "pygments_lexer": "ipython3",
   "version": "3.10.6"
  }
 },
 "nbformat": 4,
 "nbformat_minor": 5
}
