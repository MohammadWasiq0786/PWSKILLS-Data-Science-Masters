{
 "cells": [
  {
   "cell_type": "markdown",
   "id": "026694f7-a147-4908-b588-b1ceb9c405a0",
   "metadata": {},
   "source": [
    "![image](https://pwskills.com/images/PWSkills-main.png)\n",
    "\n",
    "# Data Science Masters\n",
    "\n",
    "## Day - 9\n",
    "## Date- 8 February 2023 \n",
    "## OOPs Part - IV (Inheritance)\n",
    "\n",
    "# OOPs stands for **`Object Oriented Programming  System`**"
   ]
  },
  {
   "cell_type": "code",
   "execution_count": 1,
   "id": "877cd7c7-2ca8-4ba5-8cc6-28746a249b5e",
   "metadata": {},
   "outputs": [],
   "source": [
    "class test:\n",
    "    \n",
    "    def test_meth(self):  # meth= method\n",
    "        return \"This is my first class\""
   ]
  },
  {
   "cell_type": "code",
   "execution_count": 2,
   "id": "bedbde52-97be-414b-a84b-3c751b1e2d99",
   "metadata": {},
   "outputs": [],
   "source": [
    "class child_test(test):\n",
    "    pass"
   ]
  },
  {
   "cell_type": "code",
   "execution_count": 3,
   "id": "d7daa574-17d3-45ef-8cd6-61f976c8f18f",
   "metadata": {},
   "outputs": [],
   "source": [
    "child_test_obj= child_test()"
   ]
  },
  {
   "cell_type": "code",
   "execution_count": 4,
   "id": "252b5e7b-54ae-425d-987e-0bc660f1e1cf",
   "metadata": {},
   "outputs": [
    {
     "data": {
      "text/plain": [
       "'This is my first class'"
      ]
     },
     "execution_count": 4,
     "metadata": {},
     "output_type": "execute_result"
    }
   ],
   "source": [
    "child_test_obj.test_meth()"
   ]
  },
  {
   "cell_type": "code",
   "execution_count": 5,
   "id": "6196afe5-c7fd-41a2-827e-ac0b47128091",
   "metadata": {},
   "outputs": [],
   "source": [
    "class class1:\n",
    "    \n",
    "    def test_class1(self):\n",
    "        return \"This is a Method from class1\""
   ]
  },
  {
   "cell_type": "code",
   "execution_count": 6,
   "id": "a826792e-6409-4762-8f6e-18a747c0396d",
   "metadata": {},
   "outputs": [],
   "source": [
    "class class2(class1):\n",
    "    \n",
    "    def test_class2(self):\n",
    "        return \"This is a Method from class2\""
   ]
  },
  {
   "cell_type": "code",
   "execution_count": 7,
   "id": "68195bac-d026-4bce-838a-8af0011fad4b",
   "metadata": {},
   "outputs": [],
   "source": [
    "class class3(class2):\n",
    "    pass"
   ]
  },
  {
   "cell_type": "code",
   "execution_count": 8,
   "id": "a103929b-a955-47a5-8166-326839c13976",
   "metadata": {},
   "outputs": [],
   "source": [
    "obj_class3= class3()"
   ]
  },
  {
   "cell_type": "code",
   "execution_count": 9,
   "id": "7d00cd8c-e24a-4116-82c1-d726c07e3113",
   "metadata": {},
   "outputs": [
    {
     "data": {
      "text/plain": [
       "'This is a Method from class1'"
      ]
     },
     "execution_count": 9,
     "metadata": {},
     "output_type": "execute_result"
    }
   ],
   "source": [
    "obj_class3.test_class1()"
   ]
  },
  {
   "cell_type": "code",
   "execution_count": 10,
   "id": "38608932-f8b6-41ba-aaf0-3155017cb9d7",
   "metadata": {},
   "outputs": [
    {
     "data": {
      "text/plain": [
       "'This is a Method from class2'"
      ]
     },
     "execution_count": 10,
     "metadata": {},
     "output_type": "execute_result"
    }
   ],
   "source": [
    "obj_class3.test_class2()"
   ]
  },
  {
   "cell_type": "code",
   "execution_count": 18,
   "id": "55c37a25-afe2-4377-a23e-ba44f11dbd95",
   "metadata": {},
   "outputs": [],
   "source": [
    "class class11:\n",
    "    \n",
    "    def test_class11(self):\n",
    "        return \" This is a class1\""
   ]
  },
  {
   "cell_type": "code",
   "execution_count": 19,
   "id": "aef5c4c5-1674-4b17-bd05-52e4b50b9b50",
   "metadata": {},
   "outputs": [],
   "source": [
    "class class12:\n",
    "    \n",
    "    def test_class12(self):\n",
    "        return \" This is a class2\""
   ]
  },
  {
   "cell_type": "code",
   "execution_count": 20,
   "id": "94f532c1-c4f8-46e4-a6c5-dbb421c89fb5",
   "metadata": {},
   "outputs": [],
   "source": [
    "class class13(class11, class12):\n",
    "    pass"
   ]
  },
  {
   "cell_type": "code",
   "execution_count": 21,
   "id": "a6f2338d-09c6-4342-991b-4914c0b79801",
   "metadata": {},
   "outputs": [],
   "source": [
    "boj_class13= class13()"
   ]
  },
  {
   "cell_type": "code",
   "execution_count": 22,
   "id": "5080a1eb-09af-4857-a836-1f4c0d7f1712",
   "metadata": {},
   "outputs": [
    {
     "data": {
      "text/plain": [
       "' This is a class1'"
      ]
     },
     "execution_count": 22,
     "metadata": {},
     "output_type": "execute_result"
    }
   ],
   "source": [
    "boj_class13.test_class11()"
   ]
  },
  {
   "cell_type": "code",
   "execution_count": 23,
   "id": "36bbf701-e52e-4046-84e0-ca9145572eb2",
   "metadata": {},
   "outputs": [
    {
     "data": {
      "text/plain": [
       "' This is a class2'"
      ]
     },
     "execution_count": 23,
     "metadata": {},
     "output_type": "execute_result"
    }
   ],
   "source": [
    "boj_class13.test_class12()"
   ]
  }
 ],
 "metadata": {
  "kernelspec": {
   "display_name": "Python 3 (ipykernel)",
   "language": "python",
   "name": "python3"
  },
  "language_info": {
   "codemirror_mode": {
    "name": "ipython",
    "version": 3
   },
   "file_extension": ".py",
   "mimetype": "text/x-python",
   "name": "python",
   "nbconvert_exporter": "python",
   "pygments_lexer": "ipython3",
   "version": "3.10.6"
  }
 },
 "nbformat": 4,
 "nbformat_minor": 5
}
