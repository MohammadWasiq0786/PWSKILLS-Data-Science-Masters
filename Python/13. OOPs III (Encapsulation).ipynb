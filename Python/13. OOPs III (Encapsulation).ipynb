{
 "cells": [
  {
   "cell_type": "markdown",
   "id": "e551e8da-1b48-4918-a3c7-2ff190a60ed8",
   "metadata": {},
   "source": [
    "![image](https://pwskills.com/images/PWSkills-main.png)\n",
    "\n",
    "# Data Science Masters\n",
    "\n",
    "## Day - 9\n",
    "## Date- 8 February 2023 \n",
    "## OOPs Part - III (Encapsulation)\n",
    "\n",
    "# OOPs stands for **`Object Oriented Programming  System`**"
   ]
  },
  {
   "cell_type": "code",
   "execution_count": 1,
   "id": "aa3e0550-0e11-41be-85f8-f4d9368479d3",
   "metadata": {},
   "outputs": [],
   "source": [
    "class test:\n",
    "    \n",
    "    def __init__(self, a, b):\n",
    "        self.a= a\n",
    "        self.b= b"
   ]
  },
  {
   "cell_type": "code",
   "execution_count": 2,
   "id": "e187836c-12cd-4235-8741-12b95997fef6",
   "metadata": {},
   "outputs": [],
   "source": [
    "t= test(23, 34)"
   ]
  },
  {
   "cell_type": "code",
   "execution_count": 3,
   "id": "ce1b0434-f2a0-4c56-9664-d453daf44a54",
   "metadata": {},
   "outputs": [],
   "source": [
    "t.a= 2345345"
   ]
  },
  {
   "cell_type": "code",
   "execution_count": 4,
   "id": "5cc639ee-577c-4f1a-954d-610417be4428",
   "metadata": {},
   "outputs": [
    {
     "data": {
      "text/plain": [
       "2345345"
      ]
     },
     "execution_count": 4,
     "metadata": {},
     "output_type": "execute_result"
    }
   ],
   "source": [
    "t.a"
   ]
  },
  {
   "cell_type": "code",
   "execution_count": 5,
   "id": "e4dbfa81-e4ff-46f4-993e-a010fe378f99",
   "metadata": {},
   "outputs": [],
   "source": [
    "class car:\n",
    "    \n",
    "    def __init__(self, year, make, model, speed):\n",
    "        \n",
    "        self.__year= year\n",
    "        self.__make= make\n",
    "        self.__model= model\n",
    "        self.__speed= 0"
   ]
  },
  {
   "cell_type": "code",
   "execution_count": 6,
   "id": "77a4751b-fd2d-465a-a445-3c5e74f2cdf9",
   "metadata": {},
   "outputs": [],
   "source": [
    "c= car(2021, \"toyota\", \"innova\", 12)"
   ]
  },
  {
   "cell_type": "code",
   "execution_count": 7,
   "id": "65b2eadf-42b5-441a-ba1f-6413c79484da",
   "metadata": {},
   "outputs": [
    {
     "ename": "AttributeError",
     "evalue": "'car' object has no attribute '__year'",
     "output_type": "error",
     "traceback": [
      "\u001b[0;31m---------------------------------------------------------------------------\u001b[0m",
      "\u001b[0;31mAttributeError\u001b[0m                            Traceback (most recent call last)",
      "Cell \u001b[0;32mIn [7], line 1\u001b[0m\n\u001b[0;32m----> 1\u001b[0m \u001b[43mc\u001b[49m\u001b[38;5;241;43m.\u001b[39;49m\u001b[43m__year\u001b[49m\n",
      "\u001b[0;31mAttributeError\u001b[0m: 'car' object has no attribute '__year'"
     ]
    }
   ],
   "source": [
    "c.__year"
   ]
  },
  {
   "cell_type": "code",
   "execution_count": 8,
   "id": "ffbd1c74-3b97-4160-bf98-a4aaa233af10",
   "metadata": {},
   "outputs": [
    {
     "data": {
      "text/plain": [
       "2021"
      ]
     },
     "execution_count": 8,
     "metadata": {},
     "output_type": "execute_result"
    }
   ],
   "source": [
    "c._car__year"
   ]
  },
  {
   "cell_type": "code",
   "execution_count": 9,
   "id": "9723cefa-c529-4063-9f1e-a4513c4f7cb3",
   "metadata": {},
   "outputs": [],
   "source": [
    "class car:\n",
    "    \n",
    "    def __init__(self, year, make, model, speed):\n",
    "        \n",
    "        self.__year= year\n",
    "        self.__make= make\n",
    "        self.__model= model\n",
    "        self.__speed= 0\n",
    "        \n",
    "    def set_speed(self, speed):\n",
    "        self.__speed= 0 if speed < 0 else speed\n",
    "        \n",
    "    def get_speed(self):\n",
    "        return self.__speed"
   ]
  },
  {
   "cell_type": "code",
   "execution_count": 10,
   "id": "f07ded13-810b-43d9-b446-e52585aed702",
   "metadata": {},
   "outputs": [],
   "source": [
    "c= car(2021, \"toyota\", \"innova\", 12)"
   ]
  },
  {
   "cell_type": "code",
   "execution_count": 11,
   "id": "5fe442b1-16c5-453d-8848-1fa3b6029b42",
   "metadata": {},
   "outputs": [
    {
     "data": {
      "text/plain": [
       "2021"
      ]
     },
     "execution_count": 11,
     "metadata": {},
     "output_type": "execute_result"
    }
   ],
   "source": [
    "c._car__year"
   ]
  },
  {
   "cell_type": "code",
   "execution_count": 12,
   "id": "32dfc081-1798-4d89-a143-b93bbaf52607",
   "metadata": {},
   "outputs": [],
   "source": [
    "c.set_speed(-3245)"
   ]
  },
  {
   "cell_type": "code",
   "execution_count": 13,
   "id": "243e3fb6-2b39-4f72-824c-2be956e6f827",
   "metadata": {},
   "outputs": [
    {
     "data": {
      "text/plain": [
       "0"
      ]
     },
     "execution_count": 13,
     "metadata": {},
     "output_type": "execute_result"
    }
   ],
   "source": [
    "c.get_speed()"
   ]
  },
  {
   "cell_type": "code",
   "execution_count": 14,
   "id": "ebb27582-e866-444c-842d-ee313aaddc11",
   "metadata": {},
   "outputs": [],
   "source": [
    "c.set_speed(3245)"
   ]
  },
  {
   "cell_type": "code",
   "execution_count": 15,
   "id": "68734f66-d17a-4b33-b5de-0d9c6ea8f8f6",
   "metadata": {},
   "outputs": [
    {
     "data": {
      "text/plain": [
       "3245"
      ]
     },
     "execution_count": 15,
     "metadata": {},
     "output_type": "execute_result"
    }
   ],
   "source": [
    "c.get_speed()"
   ]
  },
  {
   "cell_type": "code",
   "execution_count": 26,
   "id": "3bd752d6-4adf-4c0d-8bba-76b294982471",
   "metadata": {},
   "outputs": [],
   "source": [
    "class bank_account:\n",
    "    \n",
    "    def __init__(self, balance):\n",
    "        self.__balance= balance\n",
    "        \n",
    "    def deposite(self, amount):\n",
    "        self.__balance= self.__balance + amount\n",
    "        \n",
    "    def withdraw(self, amount):\n",
    "        if self.__balance >= amount:\n",
    "            self.__balance= self.__balance - amount\n",
    "            return True\n",
    "        else:\n",
    "            return False\n",
    "        \n",
    "    def get_balance(self):\n",
    "        return self.__balance"
   ]
  },
  {
   "cell_type": "code",
   "execution_count": 27,
   "id": "6bfafe2e-49f3-4d12-a0d3-6eaeae260270",
   "metadata": {},
   "outputs": [
    {
     "ename": "TypeError",
     "evalue": "bank_account.__init__() missing 1 required positional argument: 'balance'",
     "output_type": "error",
     "traceback": [
      "\u001b[0;31m---------------------------------------------------------------------------\u001b[0m",
      "\u001b[0;31mTypeError\u001b[0m                                 Traceback (most recent call last)",
      "Cell \u001b[0;32mIn [27], line 1\u001b[0m\n\u001b[0;32m----> 1\u001b[0m wasiq \u001b[38;5;241m=\u001b[39m \u001b[43mbank_account\u001b[49m\u001b[43m(\u001b[49m\u001b[43m)\u001b[49m\n",
      "\u001b[0;31mTypeError\u001b[0m: bank_account.__init__() missing 1 required positional argument: 'balance'"
     ]
    }
   ],
   "source": [
    "wasiq = bank_account()"
   ]
  },
  {
   "cell_type": "code",
   "execution_count": 28,
   "id": "16e65c52-4432-4913-9476-d08fe1d13187",
   "metadata": {},
   "outputs": [],
   "source": [
    "wasiq = bank_account(1000)"
   ]
  },
  {
   "cell_type": "code",
   "execution_count": 29,
   "id": "03a87c54-113d-47b3-9bd9-bc98f9f00f89",
   "metadata": {},
   "outputs": [
    {
     "data": {
      "text/plain": [
       "1000"
      ]
     },
     "execution_count": 29,
     "metadata": {},
     "output_type": "execute_result"
    }
   ],
   "source": [
    "wasiq.get_balance()"
   ]
  },
  {
   "cell_type": "code",
   "execution_count": 30,
   "id": "164affaf-8cc9-4cc5-9bec-c3376034417d",
   "metadata": {},
   "outputs": [],
   "source": [
    "wasiq.deposite(5000)"
   ]
  },
  {
   "cell_type": "code",
   "execution_count": 31,
   "id": "03ba7d18-7976-4015-8fda-9f60a6152fe7",
   "metadata": {},
   "outputs": [
    {
     "data": {
      "text/plain": [
       "6000"
      ]
     },
     "execution_count": 31,
     "metadata": {},
     "output_type": "execute_result"
    }
   ],
   "source": [
    "wasiq.get_balance()"
   ]
  },
  {
   "cell_type": "code",
   "execution_count": 32,
   "id": "c19c106c-632b-453f-bfc0-c1419a70328d",
   "metadata": {},
   "outputs": [
    {
     "data": {
      "text/plain": [
       "11000"
      ]
     },
     "execution_count": 32,
     "metadata": {},
     "output_type": "execute_result"
    }
   ],
   "source": [
    "wasiq.deposite(5000)\n",
    "wasiq.get_balance()"
   ]
  },
  {
   "cell_type": "code",
   "execution_count": 33,
   "id": "3a556039-55ba-4750-a3a9-cf8544f756a8",
   "metadata": {},
   "outputs": [
    {
     "data": {
      "text/plain": [
       "False"
      ]
     },
     "execution_count": 33,
     "metadata": {},
     "output_type": "execute_result"
    }
   ],
   "source": [
    "wasiq.withdraw(15000)"
   ]
  },
  {
   "cell_type": "code",
   "execution_count": 34,
   "id": "0520f2fa-2806-45d3-9f45-9561c2e538b1",
   "metadata": {},
   "outputs": [
    {
     "data": {
      "text/plain": [
       "True"
      ]
     },
     "execution_count": 34,
     "metadata": {},
     "output_type": "execute_result"
    }
   ],
   "source": [
    "wasiq.withdraw(2000)"
   ]
  },
  {
   "cell_type": "code",
   "execution_count": 35,
   "id": "659351ce-1b48-4c64-b053-3714b9e9d666",
   "metadata": {},
   "outputs": [
    {
     "data": {
      "text/plain": [
       "9000"
      ]
     },
     "execution_count": 35,
     "metadata": {},
     "output_type": "execute_result"
    }
   ],
   "source": [
    "wasiq.get_balance()"
   ]
  },
  {
   "cell_type": "code",
   "execution_count": null,
   "id": "67793731-b2e9-4b85-bb27-302881d2bbef",
   "metadata": {},
   "outputs": [],
   "source": []
  }
 ],
 "metadata": {
  "kernelspec": {
   "display_name": "Python 3 (ipykernel)",
   "language": "python",
   "name": "python3"
  },
  "language_info": {
   "codemirror_mode": {
    "name": "ipython",
    "version": 3
   },
   "file_extension": ".py",
   "mimetype": "text/x-python",
   "name": "python",
   "nbconvert_exporter": "python",
   "pygments_lexer": "ipython3",
   "version": "3.10.6"
  }
 },
 "nbformat": 4,
 "nbformat_minor": 5
}
