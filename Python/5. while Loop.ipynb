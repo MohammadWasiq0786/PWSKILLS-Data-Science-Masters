{
 "cells": [
  {
   "cell_type": "markdown",
   "id": "e76a2626-e688-4915-b197-0d224bc64171",
   "metadata": {},
   "source": [
    "![image](https://pwskills.com/images/PWSkills-main.png)"
   ]
  },
  {
   "cell_type": "markdown",
   "id": "fe7f3603-8554-4cb7-9d64-c874abc248ff",
   "metadata": {},
   "source": [
    "# Data Science Masters\n",
    "\n",
    "## Day - 6\n",
    "## Date- 3 February 2023 \n",
    "## while Loops"
   ]
  },
  {
   "cell_type": "code",
   "execution_count": 1,
   "id": "6daa3ea4-5f28-49b9-94a7-6cdd906b249a",
   "metadata": {},
   "outputs": [
    {
     "name": "stdout",
     "output_type": "stream",
     "text": [
      "1\n",
      "2\n",
      "3\n",
      "4\n",
      "5\n",
      "6\n",
      "7\n",
      "8\n",
      "9\n",
      "10\n"
     ]
    }
   ],
   "source": [
    "a= 1\n",
    "\n",
    "while a<= 10:\n",
    "    print(a)\n",
    "    a= a+1"
   ]
  },
  {
   "cell_type": "code",
   "execution_count": 2,
   "id": "e46c385a-8549-41d8-9bd1-3f3762890dda",
   "metadata": {},
   "outputs": [
    {
     "name": "stdin",
     "output_type": "stream",
     "text": [
      "Enter your limit : 5\n"
     ]
    },
    {
     "data": {
      "text/plain": [
       "15"
      ]
     },
     "execution_count": 2,
     "metadata": {},
     "output_type": "execute_result"
    }
   ],
   "source": [
    "# Sum up the number till some point\n",
    "\n",
    "n= int(input(\"Enter your limit :\"))\n",
    "starting_point= 0\n",
    "counter= 1\n",
    "\n",
    "while counter <= n:\n",
    "    starting_point= starting_point+ counter\n",
    "    counter= counter + 1\n",
    "    \n",
    "starting_point"
   ]
  },
  {
   "cell_type": "code",
   "execution_count": 3,
   "id": "a6a7a1f8-794d-4fa7-9a64-5f75302d59c5",
   "metadata": {},
   "outputs": [
    {
     "data": {
      "text/plain": [
       "15"
      ]
     },
     "execution_count": 3,
     "metadata": {},
     "output_type": "execute_result"
    }
   ],
   "source": [
    "1+2+3+4+5"
   ]
  },
  {
   "cell_type": "code",
   "execution_count": 5,
   "id": "23e16653-fc26-4851-b9b8-744340fe3704",
   "metadata": {},
   "outputs": [
    {
     "name": "stdin",
     "output_type": "stream",
     "text": [
      "Enter your number : 5\n"
     ]
    },
    {
     "data": {
      "text/plain": [
       "120"
      ]
     },
     "execution_count": 5,
     "metadata": {},
     "output_type": "execute_result"
    }
   ],
   "source": [
    "number= int(input(\"Enter your number :\"))\n",
    "factorial= 1\n",
    "\n",
    "while number > 0:\n",
    "    factorial= factorial*number\n",
    "    number= number-1\n",
    "    \n",
    "factorial"
   ]
  },
  {
   "cell_type": "code",
   "execution_count": 8,
   "id": "2c46a66a-c5f1-4424-87fe-24ab17eb91ad",
   "metadata": {},
   "outputs": [
    {
     "name": "stdin",
     "output_type": "stream",
     "text": [
      "Enter the number of element you are looking for  10\n"
     ]
    },
    {
     "name": "stdout",
     "output_type": "stream",
     "text": [
      "0 1 1 2 3 5 8 13 21 34 "
     ]
    }
   ],
   "source": [
    "# Finonacci Series\n",
    "\n",
    "number= int(input(\"Enter the number of element you are looking for \"))\n",
    "a, b= 0, 1\n",
    "counter= 0\n",
    "\n",
    "while counter<number:\n",
    "    print(a, end= \" \")\n",
    "    c= a+b\n",
    "    a= b\n",
    "    b= c\n",
    "    counter= counter+1"
   ]
  },
  {
   "cell_type": "code",
   "execution_count": 9,
   "id": "f568733c-58f8-4a97-8d80-78771efc1bff",
   "metadata": {},
   "outputs": [
    {
     "name": "stdout",
     "output_type": "stream",
     "text": [
      "0 1 1 2 3 5 8 13 21 34 "
     ]
    }
   ],
   "source": [
    "a, b= 0, 1\n",
    "\n",
    "for i in range(10):\n",
    "    print(a, end= \" \")\n",
    "    c= a + b\n",
    "    a= b\n",
    "    b= c"
   ]
  },
  {
   "cell_type": "code",
   "execution_count": 10,
   "id": "f03829b7-b32d-497c-b9ae-788aba04f264",
   "metadata": {},
   "outputs": [
    {
     "data": {
      "text/plain": [
       "'qisaw'"
      ]
     },
     "execution_count": 10,
     "metadata": {},
     "output_type": "execute_result"
    }
   ],
   "source": [
    "s= \"wasiq\"\n",
    "s[::-1]"
   ]
  },
  {
   "cell_type": "code",
   "execution_count": 12,
   "id": "01a6ee9f-c3d3-458d-a2f7-dd99bface8fa",
   "metadata": {},
   "outputs": [
    {
     "name": "stdin",
     "output_type": "stream",
     "text": [
      "Enter your String for Reversal : wasiq\n"
     ]
    },
    {
     "name": "stdout",
     "output_type": "stream",
     "text": [
      "qisaw\n"
     ]
    }
   ],
   "source": [
    "word= input(\"Enter your String for Reversal :\")\n",
    "\n",
    "reverse= \"\"\n",
    "length= len(word)\n",
    "\n",
    "while length > 0:\n",
    "    reverse = reverse + word[length -1]\n",
    "    length= length -1\n",
    "\n",
    "print(reverse)"
   ]
  },
  {
   "cell_type": "code",
   "execution_count": 13,
   "id": "44076f43-193e-4e77-9947-c5593e28747b",
   "metadata": {},
   "outputs": [
    {
     "name": "stdin",
     "output_type": "stream",
     "text": [
      "Enter the number : 12\n"
     ]
    },
    {
     "name": "stdout",
     "output_type": "stream",
     "text": [
      "12 *  1 =  12\n",
      "12 *  2 =  24\n",
      "12 *  3 =  36\n",
      "12 *  4 =  48\n",
      "12 *  5 =  60\n",
      "12 *  6 =  72\n",
      "12 *  7 =  84\n",
      "12 *  8 =  96\n",
      "12 *  9 =  108\n",
      "12 *  10 =  120\n"
     ]
    }
   ],
   "source": [
    "# Table of number\n",
    "n= int(input(\"Enter the number :\"))\n",
    "i= 1\n",
    "\n",
    "while i <= 10:\n",
    "    result= n * i\n",
    "    print(n, \"* \", i, \"= \", result)\n",
    "    i= i+1"
   ]
  },
  {
   "cell_type": "markdown",
   "id": "aaaf7fc2-167a-490c-9171-40c6021d6c77",
   "metadata": {},
   "source": [
    "## while else"
   ]
  },
  {
   "cell_type": "code",
   "execution_count": 1,
   "id": "eb31edd3-a9ea-494e-9c65-21b42a3e5c6b",
   "metadata": {},
   "outputs": [
    {
     "name": "stdout",
     "output_type": "stream",
     "text": [
      "1\n",
      "2\n",
      "3\n",
      "4\n",
      "This will be execute once while will complete it success\n"
     ]
    }
   ],
   "source": [
    "n= 5\n",
    "i= 1\n",
    "\n",
    "while i < n:\n",
    "    print(i)\n",
    "    i= i + 1\n",
    "else:\n",
    "    print(\"This will be execute once while will complete it success\")"
   ]
  },
  {
   "cell_type": "code",
   "execution_count": 2,
   "id": "c7647676-a896-408f-afc8-5a4dfe9497ad",
   "metadata": {},
   "outputs": [
    {
     "name": "stdout",
     "output_type": "stream",
     "text": [
      "1\n",
      "2\n",
      "3\n"
     ]
    }
   ],
   "source": [
    "n= 5\n",
    "i= 1\n",
    "\n",
    "while i < n:\n",
    "    print(i)\n",
    "    if i == 3:\n",
    "        break\n",
    "    i= i + 1\n",
    "else:\n",
    "    print(\"This will be execute once while will complete it success\")"
   ]
  }
 ],
 "metadata": {
  "kernelspec": {
   "display_name": "Python 3 (ipykernel)",
   "language": "python",
   "name": "python3"
  },
  "language_info": {
   "codemirror_mode": {
    "name": "ipython",
    "version": 3
   },
   "file_extension": ".py",
   "mimetype": "text/x-python",
   "name": "python",
   "nbconvert_exporter": "python",
   "pygments_lexer": "ipython3",
   "version": "3.10.6"
  }
 },
 "nbformat": 4,
 "nbformat_minor": 5
}
