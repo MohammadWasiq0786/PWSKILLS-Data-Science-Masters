{
 "cells": [
  {
   "cell_type": "markdown",
   "id": "08ead489",
   "metadata": {},
   "source": [
    "![image](https://pwskills.com/images/PWSkills-main.png)\n",
    "\n",
    "# Data Science Masters\n",
    "\n",
    "## Machine Learning Assignments - 1\n",
    "\n",
    "### Date : 15 - Mar - 2023"
   ]
  },
  {
   "cell_type": "markdown",
   "id": "6ec8a809",
   "metadata": {},
   "source": [
    "**Q1 :** Explain the following with an example :\n",
    "\n",
    "I. Artificial Intelligence<br>\n",
    "II. Machine Learning<br>\n",
    "III. Deep Learning**\n",
    "\n",
    "**Ans :**\n",
    "1. **Artificial Intelligence (AI) :** Artificial Intelligence (AI) is the simulation of human intelligence processes by computer systems. AI can perform tasks that typically require human intelligence, such as understanding natural language, recognizing speech and images, and making decisions. AI can be divided into two main categories:\n",
    "\n",
    "i) Narrow or Weak AI <br>\n",
    "ii) General or Strong AI\n",
    "\n",
    "> *Example :* One example of AI is self-driving cars. These cars use computer vision and machine learning algorithms to analyze their surroundings and make decisions based on that analysis. They can navigate traffic, avoid obstacles, and make decisions based on traffic laws and road conditions.\n",
    "\n",
    "2. **Machine Learning (ML) :** Machine Learning (ML) is a subset of AI that uses statistical techniques to enable computer systems to improve their performance on a specific task by learning from data without being explicitly programmed. Machine learning algorithms can recognize patterns in data and use those patterns to make predictions or decisions. Machine learning algorithms can be classified into three main categories:\n",
    "\n",
    "i) Supervised Learning <br>\n",
    "ii) Unsupervised Learning <br>\n",
    "iii) Reinforcement Learning\n",
    "\n",
    "> *Example :* An example of machine learning is email filtering. Email providers like Gmail use machine learning algorithms to classify incoming emails as spam or not spam. The algorithm learns from patterns in the text and other features of the email to make a prediction about whether the email is spam or not.\n",
    "\n",
    "3. **Deep Learning (DL) :** Deep Learning (DL) is a subset of machine learning that uses neural networks to model and solve complex problems. Deep learning algorithms use multiple layers of interconnected nodes to process and learn from data. Deep learning is capable of learning from unstructured data such as images, videos, and audio.\n",
    "\n",
    "> *Example :* An example of deep learning is image recognition. Deep learning models can be trained to identify objects within images, such as cars or people. These models use convolutional neural networks (CNNs) to analyze the features of an image and classify it into different categories based on those features. For example, a deep learning model could be trained to identify different breeds of dogs within a photo."
   ]
  },
  {
   "cell_type": "markdown",
   "id": "4e0e9f23",
   "metadata": {},
   "source": [
    "**Q2 :** What is supervised learning? List some examples of supervised learning.\n",
    "\n",
    "**Ans :** **Supervised learning** is a type of machine learning in which a model is trained on a labeled dataset. In supervised learning, the model learns to map input features to the correct output by using the labeled examples provided in the training set. The objective of the model is to predict the correct output for new, unseen input examples.\n",
    "\n",
    "*Examples of supervised learning :*\n",
    "1. **Image classification:** The task of identifying the content of an image, such as distinguishing between images of cats and dogs.\n",
    "2. **Spam detection:** The task of classifying emails as either spam or not spam based on their content.\n",
    "3. **Sentiment analysis:** The task of classifying text as either positive, negative, or neutral based on the sentiment expressed in the text.\n",
    "4. **Fraud detection:** The task of identifying fraudulent transactions based on historical data."
   ]
  },
  {
   "cell_type": "markdown",
   "id": "1ce5a5b8",
   "metadata": {},
   "source": [
    "**Q3 :** What is unsupervised learning? List some examples of unsupervised learning.\n",
    "\n",
    "**Ans :**  **Unsupervised learning** is a type of machine learning in which a model is trained on an unlabeled dataset. In unsupervised learning, the model is not provided with any specific output or label to predict, but rather learns to identify patterns and relationships in the input data. The objective of unsupervised learning is often to discover the underlying structure or clusters in the data.\n",
    "\n",
    "*Examples of unsupervised learning :*\n",
    "1. **Clustering:** The task of grouping similar examples together based on their characteristics. This can be used for customer segmentation, image segmentation, or anomaly detection.\n",
    "2. **Dimensionality reduction:** The task of reducing the number of features in a dataset while retaining as much of the relevant information as possible. This can be used for visualizing high-dimensional data, speeding up training of supervised learning models, or data compression.\n",
    "3. **Association rule mining:** The task of discovering interesting relationships between items in a dataset. This can be used for market basket analysis or recommendation systems.\n",
    "4. **Generative modeling:** The task of learning the underlying distribution of a dataset and generating new examples that are similar to the original data. This can be used for generating realistic images or music."
   ]
  },
  {
   "cell_type": "markdown",
   "id": "7ef5af6f",
   "metadata": {},
   "source": [
    "**Q4 :** What is the difference between AI, ML, DL, and DS?\n",
    "\n",
    "**Ans :** \n",
    "1. **Artificial Intelligence (AI)** refers to the development of computer systems that can perform tasks that typically require human intelligence, such as natural language processing, computer vision, and decision making. AI can be achieved through various approaches, including rule-based systems, expert systems, and machine learning.\n",
    "2. **Machine Learning (ML)** is a subset of AI that involves the development of algorithms and statistical models that enable computer systems to improve their performance on a specific task by learning from data without being explicitly programmed. ML can be supervised, unsupervised, or semi-supervised.\n",
    "3. **Deep Learning (DL)** is a subfield of ML that involves the use of artificial neural networks, which are modeled after the structure and function of the human brain. DL is particularly suited for tasks such as image and speech recognition, natural language processing, and autonomous driving.\n",
    "4. **Data Science (DS)** is a multidisciplinary field that involves the use of statistical and computational methods to extract insights and knowledge from data. DS combines elements of statistics, mathematics, computer science, and domain expertise to address complex data-driven problems and make data-driven decisions."
   ]
  },
  {
   "cell_type": "markdown",
   "id": "bb402688",
   "metadata": {},
   "source": [
    "\n",
    "**Q5 :** What are the main differences between supervised learning, unsupervised learning, and semi-supervised learning?\n",
    "\n",
    "**Ans :** \n",
    "1. **Supervised learning :** In supervised learning, the model is trained on labeled data, where the input and output pairs are known. The objective of the model is to learn a mapping between input features and the corresponding output. The labeled data is used to train the model, and the model is then tested on new, unseen data. The goal of supervised learning is to make accurate predictions on new, unseen data.\n",
    "2. **Unsupervised learning :** In unsupervised learning, the model is trained on unlabeled data, where the input data has no corresponding output. The objective of the model is to identify patterns or structure in the input data. Unsupervised learning can be used for tasks such as clustering, dimensionality reduction, and anomaly detection. The goal of unsupervised learning is to gain insights into the data and discover interesting relationships or anomalies that can be further explored or used for decision-making.\n",
    "3. **Semi-supervised learning :** In semi-supervised learning, the model is trained on a combination of labeled and unlabeled data. The labeled data is used to guide the learning process, while the unlabeled data is used to improve the generalization performance of the model. Semi-supervised learning can be useful when labeled data is scarce or expensive to obtain. The goal of semi-supervised learning is to make accurate predictions on new, unseen data while using as much of the available data as possible."
   ]
  },
  {
   "cell_type": "markdown",
   "id": "8449a96a",
   "metadata": {},
   "source": [
    "**Q6 :** What is train, test and validation split? Explain the importance of each term.\n",
    "\n",
    "**Ans :** \n",
    "1. **Train set** : This is the part of the dataset used to train the model. The model learns the patterns and relationships in the data through this set. Typically, the train set consists of 60-80% of the entire dataset. The train set is important because it is used to teach the model how to make accurate predictions on new, unseen data. The model learns the patterns and relationships in the data through this set.\n",
    "\n",
    "2. **Test set :** This is the part of the dataset used to evaluate the performance of the trained model on unseen data. The model is applied to the test set, and the resulting predictions are compared to the true values to evaluate the accuracy of the model. Typically, the test set consists of 20-40% of the entire dataset. The test set is important because it is used to evaluate the performance of the trained model on unseen data. This helps to ensure that the model can make accurate predictions on new data and is not overfitting the training data.\n",
    "\n",
    "3. **Validation set :** This is an optional part of the dataset used to fine-tune the model hyperparameters and prevent overfitting. The validation set is used to evaluate the performance of the model on data that is not used for training or testing. This helps to prevent the model from becoming too complex and overfitting the training data. Typically, the validation set consists of 10-20% of the entire dataset. The validation set is important because it is used to fine-tune the model hyperparameters and prevent overfitting. By evaluating the performance of the model on data that is not used for training or testing, we can ensure that the model is not becoming too complex and overfitting the training data."
   ]
  },
  {
   "cell_type": "markdown",
   "id": "91de46fc",
   "metadata": {},
   "source": [
    "**Q7 :** How can unsupervised learning be used for anomaly detection?\n",
    "\n",
    "**Ans :** \n",
    "\n",
    "Unsupervised learning can be used for anomaly detection by identifying patterns and structures in the data that deviate from the norm. Anomaly detection is the process of identifying data points that are significantly different from the majority of the data, and it is an important problem in many fields, including finance, healthcare, and cybersecurity.\n",
    "\n",
    "Unsupervised learning algorithms do not rely on labeled data, so they can be used to detect anomalies in datasets where there are no pre-defined classes or labels for the anomalies. Clustering, density estimation, dimensionality reduction, and one-class classification are common unsupervised learning techniques used for anomaly detection. By identifying anomalies in the data, we can detect abnormal behavior or events that require further investigation.\n",
    "\n",
    "> *Example :* Clustering algorithms can be used to group similar data points together and identify anomalies as data points that do not belong to any cluster or belong to a very small cluster. Density estimation algorithms can be used to estimate the probability distribution of the data and identify anomalies as data points with low probability. Dimensionality reduction algorithms can be used to reduce the number of features in the data while preserving the most important information, and identify anomalies as data points that are far away from the majority of the data in the reduced space. By detecting anomalies in the data, we can identify abnormal behavior or events that require further investigation."
   ]
  },
  {
   "cell_type": "markdown",
   "id": "70fe1e2c",
   "metadata": {},
   "source": [
    "**Q8 :** List down some commonly used supervised learning algorithms and unsupervised learning algorithms.\n",
    "\n",
    "**Ans :** \n",
    "\n",
    "**Supervised Learning Algorithms:**\n",
    "\n",
    "> 1. Linear Regression\n",
    "2. Logistic Regression\n",
    "3. Decision Trees \n",
    "4. Random Forest \n",
    "5. Support Vector Machines (SVM) \n",
    "6. K-Nearest Neighbors (KNN)\n",
    "7. Naive Bayes \n",
    "8. Artificial Neural Networks (ANN) \n",
    "9. Gradient Boosting Machines (GBM) \n",
    "10. XGBoost\n",
    "\n",
    "**Unsupervised Learning Algorithms:**\n",
    "\n",
    "> 1. K-Means Clustering\n",
    "2. Hierarchical Clustering\n",
    "3. Density-Based Spatial Clustering of Applications with Noise (DBSCAN)\n",
    "4. Principal Component Analysis (PCA)\n",
    "5. Independent Component Analysis (ICA)\n",
    "6. t-Distributed Stochastic Neighbor Embedding (t-SNE)\n",
    "7. Self-Organizing Maps (SOM)\n",
    "8. Apriori Algorithm for Association Rule Mining\n",
    "9. Isolation Forest for Anomaly Detection\n",
    "10. Gaussian Mixture Models (GMM)"
   ]
  }
 ],
 "metadata": {
  "kernelspec": {
   "display_name": "Python 3 (ipykernel)",
   "language": "python",
   "name": "python3"
  },
  "language_info": {
   "codemirror_mode": {
    "name": "ipython",
    "version": 3
   },
   "file_extension": ".py",
   "mimetype": "text/x-python",
   "name": "python",
   "nbconvert_exporter": "python",
   "pygments_lexer": "ipython3",
   "version": "3.9.12"
  },
  "latex_envs": {
   "LaTeX_envs_menu_present": true,
   "autoclose": false,
   "autocomplete": true,
   "bibliofile": "biblio.bib",
   "cite_by": "apalike",
   "current_citInitial": 1,
   "eqLabelWithNumbers": true,
   "eqNumInitial": 1,
   "hotkeys": {
    "equation": "Ctrl-E",
    "itemize": "Ctrl-I"
   },
   "labels_anchors": false,
   "latex_user_defs": false,
   "report_style_numbering": false,
   "user_envs_cfg": false
  },
  "nbTranslate": {
   "displayLangs": [
    "*"
   ],
   "hotkey": "alt-t",
   "langInMainMenu": true,
   "sourceLang": "en",
   "targetLang": "fr",
   "useGoogleTranslate": true
  },
  "toc": {
   "base_numbering": 1,
   "nav_menu": {},
   "number_sections": true,
   "sideBar": true,
   "skip_h1_title": false,
   "title_cell": "Table of Contents",
   "title_sidebar": "Contents",
   "toc_cell": false,
   "toc_position": {},
   "toc_section_display": true,
   "toc_window_display": false
  },
  "varInspector": {
   "cols": {
    "lenName": 16,
    "lenType": 16,
    "lenVar": 40
   },
   "kernels_config": {
    "python": {
     "delete_cmd_postfix": "",
     "delete_cmd_prefix": "del ",
     "library": "var_list.py",
     "varRefreshCmd": "print(var_dic_list())"
    },
    "r": {
     "delete_cmd_postfix": ") ",
     "delete_cmd_prefix": "rm(",
     "library": "var_list.r",
     "varRefreshCmd": "cat(var_dic_list()) "
    }
   },
   "types_to_exclude": [
    "module",
    "function",
    "builtin_function_or_method",
    "instance",
    "_Feature"
   ],
   "window_display": false
  }
 },
 "nbformat": 4,
 "nbformat_minor": 5
}
