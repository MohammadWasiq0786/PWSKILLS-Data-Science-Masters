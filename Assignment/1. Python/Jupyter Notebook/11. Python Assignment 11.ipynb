{
 "cells": [
  {
   "cell_type": "markdown",
   "id": "e9fb18a4",
   "metadata": {},
   "source": [
    "![image](https://pwskills.com/images/PWSkills-main.png)\n",
    "\n",
    "# Data Science Masters\n",
    "\n",
    "## Python Assignments - 11\n",
    "\n",
    "### Date : 10 - Feb - 2023"
   ]
  },
  {
   "cell_type": "markdown",
   "id": "a7ae422e-1250-405f-9232-b324dd821230",
   "metadata": {},
   "source": [
    "**Q1 :** Which function is used to open a file? What are the different modes of opening a file? Explain each mode of file opening.\n",
    "\n",
    "**Ans :** The `open()` function is used to open a file in Python. When you open a file, you can specify the mode in which you want to open it. The different modes of opening a file in Python are:\n",
    "\n",
    "* **`'r'`** (Read Mode) : This mode is used when you only want to read the contents of a file. When you open a file in read mode, you cannot write to it or make any changes to it. If the file does not exist, a FileNotFoundError will be raised.\n",
    "\n",
    "* **`'w'`** (Write Mode) : This mode is used when you want to write to a file. If the file already exists, its contents will be overwritten. If the file does not exist, a new file will be created.\n",
    "\n",
    "* **`'a'`** Append Mode) : This mode is used when you want to add new content to the end of an existing file. If the file does not exist, a new file will be created. In append mode, you can only write to the end of the file, and not anywhere else.\n",
    "\n",
    "* **`'x'`** (Exclusive Creation Mode) : This mode is used when you want to create a new file and write to it, but only if the file does not already exist. If the file already exists, a FileExistsError will be raised.\n",
    "\n",
    "* **`'b'`** (Binary Mode) : This mode is used when you want to read or write binary data to a file. When opening a file in binary mode, you should use 'rb' to read binary data and 'wb' to write binary data.\n",
    "\n",
    "* **`'t'`** (Text Mode) : This mode is used when you want to read or write text data to a file. When opening a file in text mode, you should use 'rt' to read text data and 'wt' to write text data.\n",
    "\n",
    "* **`+`** : Open a file for updating (reading and writing)\n",
    "\n",
    "You can combine these modes when opening a file, for example: `'rb'` to open a binary file in read mode, `'wt'` to open a text file in write mode, etc. The default mode is `'rt'` (read text mode) if no mode is specified."
   ]
  },
  {
   "cell_type": "markdown",
   "id": "81f7d3d9-2c3d-4210-85bc-ccec6b7896ee",
   "metadata": {},
   "source": [
    "**Q2 :** Why `close()` function is used? Why is it important to close a file?\n",
    "\n",
    "**Ans :** The `close()` function is used to close an open file. When a file is opened in Python using the open function, the operating system reserves some resources to handle the file. This can include memory, disk space, file handles, etc. When you are done with a file and no longer need to read from or write to it, it is important to close it so that these resources can be released and made available for other applications.\n",
    "\n",
    "In addition to freeing up resources, closing a file also ensures that any changes you made to the file are saved and written to disk. This makes it a good practice to close a file after you have finished using it.\n",
    "\n",
    "If you forget to close a file, the operating system will eventually release the resources that were reserved for it when the Python process ends. However, it's still a good idea to close files explicitly, as it makes the intent of your code more clear and reduces the chance of resource leaks or other unintended consequences."
   ]
  },
  {
   "cell_type": "markdown",
   "id": "0f0888d1-55f5-44d3-bae9-ec5a01f0f10e",
   "metadata": {},
   "source": [
    "**Q3 :** Write a python program to create a text file. Write `'I want to become a Data Scientist'` in that file. Then close the file. Open this file and read the content of the file.\n",
    "\n",
    "**Ans :**"
   ]
  },
  {
   "cell_type": "code",
   "execution_count": 1,
   "id": "5cc23e6a-e570-4c85-9cb9-5b56402034c1",
   "metadata": {},
   "outputs": [
    {
     "name": "stdout",
     "output_type": "stream",
     "text": [
      "I want to become a Data Scientist\n"
     ]
    }
   ],
   "source": [
    "# create a text file\n",
    "file = open(\"textfile.txt\", \"w\")\n",
    "\n",
    "# write to the file\n",
    "file.write(\"I want to become a Data Scientist\")\n",
    "\n",
    "# close the file\n",
    "file.close()\n",
    "\n",
    "# open the file in read mode\n",
    "file = open(\"textfile.txt\", \"r\")\n",
    "\n",
    "# read the contents of the file\n",
    "contents = file.read()\n",
    "\n",
    "# print the contents of the file\n",
    "print(contents)\n",
    "\n",
    "# close the file\n",
    "file.close()"
   ]
  },
  {
   "cell_type": "markdown",
   "id": "3c326c4f-8bae-4ec8-b9d5-66d52394b2d7",
   "metadata": {},
   "source": []
  },
  {
   "cell_type": "markdown",
   "id": "1f4bfd37-b2c2-43e9-b094-0d62978558c2",
   "metadata": {},
   "source": [
    "**Q4 :** Explain the following with python code : `read()`, `readline()` and `readlines()`.\n",
    "\n",
    "**Ans :**\n",
    "\n",
    "* `read()` : The `read()` method reads the entire contents of a file and returns it as a single string\n",
    "\n",
    "* `readline()` : The `readline()` method reads one line of the file at a time and returns it as a string.\n",
    "\n",
    "* `readlines()` : The `readlines()` method reads all the lines of the file and returns them as a list of strings, where each string is a line of the file"
   ]
  },
  {
   "cell_type": "markdown",
   "id": "a9841100-4994-46d2-9290-a59fa15556ac",
   "metadata": {},
   "source": [
    "**Q5 :** Explain why with statement is used with `open()`. What is the advantage of using with statement and `open()` together?\n",
    "\n",
    "**Ans :** In Python, the with statement is often used with the open function to handle files. The with statement provides a convenient way to manage the resources that a program uses, including files.\n",
    "\n",
    "When you open a file with the open function, you need to close the file after you're done with it. If you forget to close the file, it can cause problems, such as data corruption or resource leaks.\n",
    "\n",
    "The with statement provides a convenient way to ensure that resources are properly managed. When you use the with statement with the open function, you don't have to worry about manually closing the file. The with statement automatically closes the file for you, even if an exception is raised within the with block."
   ]
  },
  {
   "cell_type": "markdown",
   "id": "234b1e16-4cee-4b76-a61e-9ae8ed7408a7",
   "metadata": {},
   "source": [
    "**Q6 :** Explain the `write()` and `writelines()` functions. Give a suitable example.\n",
    "\n",
    "**Ans :**\n",
    "\n",
    "The `write()` and `writelines()` functions in Python are used to write text data to a file.\n",
    "\n",
    "* `write()` : The `write()` function is used to write a string to a file. It takes a single string argument and returns the number of characters written to the file.\n",
    "\n",
    "* `writelines()` : The `writelines()` function is used to write a list of strings to a file. It takes a list of strings as an argument and writes each string to a separate line in the file."
   ]
  },
  {
   "cell_type": "code",
   "execution_count": 1,
   "id": "acdf1bb9-2a72-4a8d-9673-66aba46a5ff6",
   "metadata": {
    "ExecuteTime": {
     "end_time": "2023-06-17T05:04:15.748690Z",
     "start_time": "2023-06-17T05:04:15.737723Z"
    }
   },
   "outputs": [],
   "source": [
    "# write()\n",
    "\n",
    "with open('example_file.txt', 'w') as file:\n",
    "    file.write('This is the line i wrote to the file using write function\\n')\n",
    "\n",
    "file.close()"
   ]
  },
  {
   "cell_type": "code",
   "execution_count": 2,
   "id": "b7005376",
   "metadata": {
    "ExecuteTime": {
     "end_time": "2023-06-17T05:04:45.280869Z",
     "start_time": "2023-06-17T05:04:45.271894Z"
    }
   },
   "outputs": [],
   "source": [
    "lines = ['Line 1\\n','Line 2\\n', 'Line 3\\n']\n",
    "\n",
    "with open('example_file.txt', 'a') as file:\n",
    "    file.writelines(lines)\n",
    "    \n",
    "file.close()"
   ]
  },
  {
   "cell_type": "code",
   "execution_count": 3,
   "id": "9ebf1a82",
   "metadata": {
    "ExecuteTime": {
     "end_time": "2023-06-17T05:04:53.111707Z",
     "start_time": "2023-06-17T05:04:53.094731Z"
    }
   },
   "outputs": [
    {
     "name": "stdout",
     "output_type": "stream",
     "text": [
      "This is the line i wrote to the file using write function\n",
      "Line 1\n",
      "Line 2\n",
      "Line 3\n",
      "\n"
     ]
    }
   ],
   "source": [
    "with open('example_file.txt', 'r') as file:\n",
    "    contents = file.read()\n",
    "    print(contents)\n",
    "file.close()"
   ]
  }
 ],
 "metadata": {
  "kernelspec": {
   "display_name": "Python 3 (ipykernel)",
   "language": "python",
   "name": "python3"
  },
  "language_info": {
   "codemirror_mode": {
    "name": "ipython",
    "version": 3
   },
   "file_extension": ".py",
   "mimetype": "text/x-python",
   "name": "python",
   "nbconvert_exporter": "python",
   "pygments_lexer": "ipython3",
   "version": "3.9.12"
  },
  "latex_envs": {
   "LaTeX_envs_menu_present": true,
   "autoclose": false,
   "autocomplete": true,
   "bibliofile": "biblio.bib",
   "cite_by": "apalike",
   "current_citInitial": 1,
   "eqLabelWithNumbers": true,
   "eqNumInitial": 1,
   "hotkeys": {
    "equation": "Ctrl-E",
    "itemize": "Ctrl-I"
   },
   "labels_anchors": false,
   "latex_user_defs": false,
   "report_style_numbering": false,
   "user_envs_cfg": false
  },
  "nbTranslate": {
   "displayLangs": [
    "*"
   ],
   "hotkey": "alt-t",
   "langInMainMenu": true,
   "sourceLang": "en",
   "targetLang": "fr",
   "useGoogleTranslate": true
  },
  "toc": {
   "base_numbering": 1,
   "nav_menu": {},
   "number_sections": true,
   "sideBar": true,
   "skip_h1_title": false,
   "title_cell": "Table of Contents",
   "title_sidebar": "Contents",
   "toc_cell": false,
   "toc_position": {},
   "toc_section_display": true,
   "toc_window_display": false
  },
  "varInspector": {
   "cols": {
    "lenName": 16,
    "lenType": 16,
    "lenVar": 40
   },
   "kernels_config": {
    "python": {
     "delete_cmd_postfix": "",
     "delete_cmd_prefix": "del ",
     "library": "var_list.py",
     "varRefreshCmd": "print(var_dic_list())"
    },
    "r": {
     "delete_cmd_postfix": ") ",
     "delete_cmd_prefix": "rm(",
     "library": "var_list.r",
     "varRefreshCmd": "cat(var_dic_list()) "
    }
   },
   "types_to_exclude": [
    "module",
    "function",
    "builtin_function_or_method",
    "instance",
    "_Feature"
   ],
   "window_display": false
  }
 },
 "nbformat": 4,
 "nbformat_minor": 5
}
