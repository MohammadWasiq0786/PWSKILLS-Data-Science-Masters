{
 "cells": [
  {
   "cell_type": "markdown",
   "id": "212cf34b",
   "metadata": {},
   "source": [
    "![image](https://pwskills.com/images/PWSkills-main.png)\n",
    "\n",
    "# Data Science Masters\n",
    "\n",
    "## Python Assignments - 1\n",
    "\n",
    "### Date : 29 - Jan - 2023"
   ]
  },
  {
   "cell_type": "markdown",
   "id": "227e7162-633f-4c14-af36-19da10cba39a",
   "metadata": {},
   "source": [
    "**Q1 :** Who Developed the python programming language?\n",
    "\n",
    "**Ans :** Guido Van Rossum"
   ]
  },
  {
   "cell_type": "markdown",
   "id": "f7b04844-d6e0-4fc4-8bee-3b0762751cbd",
   "metadata": {},
   "source": [
    "**Q2 :** Which type of programming does python support?\n",
    "\n",
    "**Ans :** Object oriented programing and structured programing"
   ]
  },
  {
   "cell_type": "markdown",
   "id": "cf5e55df-3eea-44c9-b996-0b788e8803bc",
   "metadata": {},
   "source": [
    "**Q3 :** Is python case sensitive when dealing with identifier?\n",
    "\n",
    "**Ans :** Yes python is case sensitive when dealing with identifier."
   ]
  },
  {
   "cell_type": "markdown",
   "id": "6595b591-a4a1-4703-ba85-021ed0a9576c",
   "metadata": {},
   "source": [
    "**Q4 :** what is the correct extension of python file?\n",
    "\n",
    "**Ans :** The correct extension of python file is **`.py`** and for jupyter nootebook is **`.ipynb`**"
   ]
  },
  {
   "cell_type": "markdown",
   "id": "b460391a-51dc-4c76-8d02-f5cc3d039d3a",
   "metadata": {},
   "source": [
    "**Q5 :** Is python code compiled or interpreted ?\n",
    "\n",
    "**Ans :** Python is an interpreted language, which means the source code of a Python program is converted into bytecode that is then executed by the Python virtual machine"
   ]
  },
  {
   "cell_type": "markdown",
   "id": "c1662339-672e-44f9-9abb-23d15141e64c",
   "metadata": {},
   "source": [
    "**Q6 :** Name a few blocks of code used to define in Python language?\n",
    "\n",
    "\n",
    "**Ans :** Python uses indentation to define blocks of code. Indentations are simply spaces or tabs used as an indicator that is part of the indent code child.\n",
    "\n",
    "```python\n",
    "if (condition):\n",
    "    \n",
    "    Statement 1\n",
    "    \n",
    "else:\n",
    "    Statement 2\n",
    "```\n",
    "\n",
    "You will find that statements 1 will have the same indentation and therefore is of the same block. And similarly, statements 2 is of a another block."
   ]
  },
  {
   "cell_type": "markdown",
   "id": "5b09914f-e4d1-4ede-8758-abf1f2e7ccd7",
   "metadata": {},
   "source": [
    "**Q7 :** State a character used to give single-line comments in Python?\n",
    "\n",
    "\n",
    "**Ans :** **`#`** symbol to write a single-line comment."
   ]
  },
  {
   "cell_type": "markdown",
   "id": "10682e0c-ba73-4ec4-bb26-1e8ea1e967ea",
   "metadata": {},
   "source": [
    "**Q8 :** Mention functions which can help us to find the version of python that we are currently working on?\n",
    "\n",
    "**Ans :** The function sys.version can help us to find the version of python that we are currently working on."
   ]
  },
  {
   "cell_type": "markdown",
   "id": "34ff26c5-b007-4925-b96d-3408d48167fd",
   "metadata": {},
   "source": [
    "**Q9 :** Python supports the creation of anonymous functions at runtime, using a construct called\n",
    "\n",
    "**Ans :** Lambda"
   ]
  },
  {
   "cell_type": "markdown",
   "id": "d459ae30-0fcb-4f0c-b572-4250effcbd11",
   "metadata": {},
   "source": [
    "**Q10 :** What does pip stand for python?\n",
    "\n",
    "**Ans :** Preferred Installer Program"
   ]
  },
  {
   "cell_type": "markdown",
   "id": "7586843c-ccac-4e73-85ef-15bed53ef936",
   "metadata": {},
   "source": [
    "**Q11 :** Mention a few built- in functions in python?\n",
    "\n",
    "**Ans :** \n",
    "\n",
    "1. **`bool()`** :This function takes a value as an argument and returns either True or False. It gives True if the value is not empty/zero/False. Or else it returns False. \n",
    "\n",
    "2. **`chr()`** : This function takes the Unicode value as an input and returns the respective character.\n",
    "\n",
    "3. **`dict()`** : This function converts the input into the dictionary data type and returns it."
   ]
  },
  {
   "cell_type": "markdown",
   "id": "7b7b3324-4101-4b4e-922c-1652a3a09f7d",
   "metadata": {},
   "source": [
    "**Q12 :** What is the maximum possible length of an identifier in Python?\n",
    "\n",
    "**Ans :** 79 characters"
   ]
  },
  {
   "cell_type": "markdown",
   "id": "7015d702-8748-43b2-b2c9-e5423b72c335",
   "metadata": {},
   "source": [
    "**Q13 :** What are the benefits of using Python?\n",
    "\n",
    "**Ans :**\n",
    "\n",
    "1. Simple and Easy to learn\n",
    "2. Portable and Extensible\n",
    "3. Object-Oriented Programming\n",
    "4. Artificial Intelligence\n",
    "5. Data Analysis\n",
    "6. Data Science\n",
    "7. Big Data\n",
    "\n",
    "Python can handle plenty of an immense amount of data. "
   ]
  },
  {
   "cell_type": "markdown",
   "id": "fbe1545d-8ce1-48a8-81f8-5247d5ca8222",
   "metadata": {},
   "source": [
    "**Q14 :** How is memory managed in Python?\n",
    "\n",
    "**Ans :** Memory in Python is managed by Python private heap space. All Python objects and data structures are located in a private heap. This private heap is taken care of by Python Interpreter itself, and a programmer doesn’t have access to this private heap. Python memory manager takes care of the allocation of Python private heap space.\n",
    "Memory for Python private heap space is made available by Python’s in-built garbage collector, which recycles and frees up all the unused memory. The allocation of heap space for Python objects and other internal buffers is performed on demand by the Python memory manager through the Python/C API functions listed in this document.\n",
    "To avoid memory corruption, extension writers should never try to operate on Python objects with the functions exported by the C library: `malloc()`, `calloc()`, `realloc()` and `free()`."
   ]
  },
  {
   "cell_type": "markdown",
   "id": "9f3983b7-9216-4a76-8714-2f6b07176111",
   "metadata": {},
   "source": [
    "**Q15 :** How to install Python on Windows and set path variables?\n",
    "\n",
    "**Ans :** First, we need to locate where the python is being installed after downloading it. Press WINDOWS key and search for “Python”, you will get something like this:Click on open file location and you will be in a location where Python is installed, Copy the location path from the top by clicking over it.\n",
    "Now, we have to add the above-copied path as a variable so that windows can recognize. Search for “Environmental Variables”, you will see something like this:\n",
    "\n",
    "Click on that\n",
    "\n",
    "Now click the `\"Environmental Variables\"` button"
   ]
  },
  {
   "cell_type": "markdown",
   "id": "097dc72d-2e9b-48b7-89d9-212ec7735c95",
   "metadata": {},
   "source": [
    "**Q16 :** Is indentation is required for the python?\n",
    "\n",
    "**Ans: **Indentation refers to the spaces at the beginning of a code line.\n",
    "Where in other programming languages the indentation in code is for readability only, for Python is very important.\n",
    "Python uses indentation to indicate a block of code"
   ]
  }
 ],
 "metadata": {
  "kernelspec": {
   "display_name": "Python 3 (ipykernel)",
   "language": "python",
   "name": "python3"
  },
  "language_info": {
   "codemirror_mode": {
    "name": "ipython",
    "version": 3
   },
   "file_extension": ".py",
   "mimetype": "text/x-python",
   "name": "python",
   "nbconvert_exporter": "python",
   "pygments_lexer": "ipython3",
   "version": "3.9.12"
  },
  "latex_envs": {
   "LaTeX_envs_menu_present": true,
   "autoclose": false,
   "autocomplete": true,
   "bibliofile": "biblio.bib",
   "cite_by": "apalike",
   "current_citInitial": 1,
   "eqLabelWithNumbers": true,
   "eqNumInitial": 1,
   "hotkeys": {
    "equation": "Ctrl-E",
    "itemize": "Ctrl-I"
   },
   "labels_anchors": false,
   "latex_user_defs": false,
   "report_style_numbering": false,
   "user_envs_cfg": false
  },
  "nbTranslate": {
   "displayLangs": [
    "*"
   ],
   "hotkey": "alt-t",
   "langInMainMenu": true,
   "sourceLang": "en",
   "targetLang": "fr",
   "useGoogleTranslate": true
  },
  "toc": {
   "base_numbering": 1,
   "nav_menu": {},
   "number_sections": true,
   "sideBar": true,
   "skip_h1_title": false,
   "title_cell": "Table of Contents",
   "title_sidebar": "Contents",
   "toc_cell": false,
   "toc_position": {},
   "toc_section_display": true,
   "toc_window_display": false
  },
  "varInspector": {
   "cols": {
    "lenName": 16,
    "lenType": 16,
    "lenVar": 40
   },
   "kernels_config": {
    "python": {
     "delete_cmd_postfix": "",
     "delete_cmd_prefix": "del ",
     "library": "var_list.py",
     "varRefreshCmd": "print(var_dic_list())"
    },
    "r": {
     "delete_cmd_postfix": ") ",
     "delete_cmd_prefix": "rm(",
     "library": "var_list.r",
     "varRefreshCmd": "cat(var_dic_list()) "
    }
   },
   "types_to_exclude": [
    "module",
    "function",
    "builtin_function_or_method",
    "instance",
    "_Feature"
   ],
   "window_display": false
  }
 },
 "nbformat": 4,
 "nbformat_minor": 5
}
