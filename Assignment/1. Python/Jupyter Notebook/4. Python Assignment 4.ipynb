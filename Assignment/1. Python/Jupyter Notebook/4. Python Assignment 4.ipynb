{
 "cells": [
  {
   "cell_type": "markdown",
   "id": "b72b5244",
   "metadata": {},
   "source": [
    "![image](https://pwskills.com/images/PWSkills-main.png)\n",
    "\n",
    "# Data Science Masters\n",
    "\n",
    "## Python Assignments - 4\n",
    "\n",
    "### Date : 03 - Feb - 2023"
   ]
  },
  {
   "cell_type": "markdown",
   "id": "ca1cecd5-3139-4e25-88ba-d43b59d7b7b7",
   "metadata": {},
   "source": [
    "**Q1 :** Which keyword is used to create a function? Create a function to return a list of odd numbers in the range of 1 to 25.\n",
    "\n",
    "**Ans :** The keyword used to create a function in Python is `\"def\"`. Here's the code to create a function that returns a list of odd numbers in the range of 1 to 25."
   ]
  },
  {
   "cell_type": "code",
   "execution_count": 2,
   "id": "905c3e4e-90c9-4b68-9a23-98cd63e8a3dd",
   "metadata": {},
   "outputs": [
    {
     "data": {
      "text/plain": [
       "[1, 3, 5, 7, 9, 11, 13, 15, 17, 19, 21, 23, 25]"
      ]
     },
     "execution_count": 2,
     "metadata": {},
     "output_type": "execute_result"
    }
   ],
   "source": [
    "def odd_numbers():\n",
    "    odd_list = []\n",
    "    for i in range(1, 26):\n",
    "        if i % 2 != 0:\n",
    "            odd_list.append(i)\n",
    "    return odd_list\n",
    "odd_numbers()"
   ]
  },
  {
   "cell_type": "markdown",
   "id": "4a87bc3f-8683-4bef-a395-4a32ba63552d",
   "metadata": {},
   "source": [
    "**Q2 :** Why $\\text{*args}$ and $\\text{**kwargs}$ is used in some functions? Create a function each for $\\text{*args}$ and $\\text{**kwargs}$ to demonstrate their use.\n",
    "\n",
    "**Ans :** $\\text{*args}$ and $\\text{**kwargs}$ are used in functions to allow them to accept a varying number of arguments. \n",
    "\n",
    "* $\\text{*args}$ is used to send a non-keyworded variable length argument list to the function. It allows you to pass a variable number of arguments to a function, which will be received as a tuple.\n",
    "\n",
    "* $\\text{**kwargs}$ is used to pass keyworded variable length of arguments to a function, which will be received as a dictionary.\n",
    "\n",
    "**Ans :** Here's an example of how you can use $\\text{*args}$ and $\\text{**kwargs}$ in a function"
   ]
  },
  {
   "cell_type": "code",
   "execution_count": 5,
   "id": "8b829b60-5714-4685-a2c9-04f1f780331f",
   "metadata": {},
   "outputs": [],
   "source": [
    "def print_args(*args):\n",
    "    print(\"Arguments passed as *args:\", args)\n",
    "    \n",
    "def print_kwargs(**kwargs):\n",
    "    print(\"Arguments passed as **kwargs:\", kwargs)"
   ]
  },
  {
   "cell_type": "markdown",
   "id": "453373c8-c03c-4cfd-9336-20f1a1cf30fc",
   "metadata": {},
   "source": [
    "**Q3 :**  What is an iterator in python? Name the method used to initialise the iterator object and the method used for iteration. Use these methods to print the first five elements of the given list \n",
    "```py\n",
    "[2, 4, 6, 8, 10, 12, 14, 16, 18, 20]\n",
    "```\n",
    "\n",
    "**Ans :** An iterator in Python is an object that implements the iterator protocol, which consists of two methods: __iter__() and __next__(). The __iter__() method is used to initialize the iterator object, and the __next__() method is used for iteration."
   ]
  },
  {
   "cell_type": "code",
   "execution_count": 7,
   "id": "d22c0c9b-9e58-45ad-8156-91ad619566ea",
   "metadata": {},
   "outputs": [
    {
     "name": "stdout",
     "output_type": "stream",
     "text": [
      "The first 5 numbers:\n",
      "2\n",
      "4\n",
      "6\n",
      "8\n",
      "10\n"
     ]
    }
   ],
   "source": [
    "# example\n",
    "numbers = [2, 4, 6, 8, 10, 12, 14, 16, 18, 20]\n",
    "\n",
    "class TopNumbers:\n",
    "    def __init__(self, limit):\n",
    "        self.limit = limit\n",
    "        self.counter = 0\n",
    "\n",
    "    def __iter__(self):\n",
    "        return self\n",
    "\n",
    "    def __next__(self):\n",
    "        if self.counter < self.limit:\n",
    "            number = numbers[self.counter]\n",
    "            self.counter += 1\n",
    "            return number\n",
    "        else:\n",
    "            raise StopIteration\n",
    "\n",
    "print(\"The first 5 numbers:\")\n",
    "for number in TopNumbers(5):\n",
    "    print(number)\n"
   ]
  },
  {
   "cell_type": "markdown",
   "id": "7821101a-bdcf-401b-910d-8f6bb5baeb86",
   "metadata": {},
   "source": [
    "**Q4 :** What is a generator function in python? Why yield keyword is used?  Give an example of a generator function.\n",
    "\n",
    "**Ans :** A generator function in Python is a function that returns a generator iterator. The yield keyword is used to return a value from a generator function and pause the function's execution. When the generator function is called again, it resumes execution from where it left off, using the saved state from the last call to yield."
   ]
  },
  {
   "cell_type": "code",
   "execution_count": 6,
   "id": "e9b2c3f7-52b3-4423-9161-5c99e73e6dde",
   "metadata": {},
   "outputs": [
    {
     "name": "stdout",
     "output_type": "stream",
     "text": [
      "Fibonacci sequence:\n",
      "0\n",
      "1\n",
      "1\n",
      "2\n",
      "3\n",
      "5\n",
      "8\n",
      "13\n"
     ]
    }
   ],
   "source": [
    "def fibonacci_sequence(limit):\n",
    "    a, b = 0, 1\n",
    "    while a < limit:\n",
    "        yield a\n",
    "        a, b = b, a + b\n",
    "\n",
    "fib = fibonacci_sequence(20)\n",
    "\n",
    "print(\"Fibonacci sequence:\")\n",
    "for number in fib:\n",
    "    print(number)       "
   ]
  },
  {
   "cell_type": "markdown",
   "id": "f8cca7aa-f571-43fd-b584-18403b55ead1",
   "metadata": {},
   "source": [
    "**Q5 :** Create a generator function for prime numbers less than 1000. Use the `next()` method to print the first 20 prime numbers.\n",
    "\n",
    "**Ans :**"
   ]
  },
  {
   "cell_type": "code",
   "execution_count": 5,
   "id": "72945fdc-e12e-4dce-9ef6-fc046e88597a",
   "metadata": {
    "tags": []
   },
   "outputs": [
    {
     "name": "stdout",
     "output_type": "stream",
     "text": [
      "The first 20 prime numbers:\n",
      "2\n",
      "3\n",
      "5\n",
      "7\n",
      "11\n",
      "13\n",
      "17\n",
      "19\n",
      "23\n",
      "29\n",
      "31\n",
      "37\n",
      "41\n",
      "43\n",
      "47\n",
      "53\n",
      "59\n",
      "61\n",
      "67\n",
      "71\n"
     ]
    }
   ],
   "source": [
    "def prime_numbers():\n",
    "    yield 2\n",
    "    primes = [2]\n",
    "    candidate = 3\n",
    "    while candidate < 1000:\n",
    "        is_prime = True\n",
    "        for prime in primes:\n",
    "            if candidate % prime == 0:\n",
    "                is_prime = False\n",
    "                break\n",
    "        if is_prime:\n",
    "            primes.append(candidate)\n",
    "            yield candidate\n",
    "        candidate += 2\n",
    "\n",
    "primes = prime_numbers()\n",
    "\n",
    "print(\"The first 20 prime numbers:\")\n",
    "for i in range(20):\n",
    "    print(next(primes))"
   ]
  },
  {
   "cell_type": "markdown",
   "id": "2125196a-be4d-452c-8e40-aec709f95163",
   "metadata": {},
   "source": [
    "**Q6 :** Write a python program to print the first 10 Fibonacci numbers using a while loop.\n",
    "\n",
    "**Ans :**"
   ]
  },
  {
   "cell_type": "code",
   "execution_count": 4,
   "id": "97520bb4-7339-46da-bed3-d7a7ae85ff29",
   "metadata": {},
   "outputs": [
    {
     "name": "stdout",
     "output_type": "stream",
     "text": [
      "0\n",
      "1\n",
      "1\n",
      "2\n",
      "3\n",
      "5\n",
      "8\n",
      "13\n",
      "21\n",
      "34\n"
     ]
    }
   ],
   "source": [
    "\n",
    "a, b = 0, 1\n",
    "count = 0\n",
    "\n",
    "while count < 10:\n",
    "    print(a)\n",
    "    a, b = b, a + b\n",
    "    count += 1\n"
   ]
  },
  {
   "cell_type": "markdown",
   "id": "6bf52f5b-9bd2-4d6f-8dac-3b5c6fb42f9e",
   "metadata": {},
   "source": [
    "**Q7 :** Write a List Comprehension to iterate through the given string: 'pwskills'.\n",
    "\n",
    "Expected output: ['p', 'w', 's', 'k', 'i', 'l', 'l', 's'] \n",
    "\n",
    "**Ans :**"
   ]
  },
  {
   "cell_type": "code",
   "execution_count": 11,
   "id": "52e97cb1-11c4-4493-a261-19fd77023046",
   "metadata": {},
   "outputs": [
    {
     "name": "stdout",
     "output_type": "stream",
     "text": [
      "['p', 'w', 's', 'k', 'i', 'l', 'l', 's']\n"
     ]
    }
   ],
   "source": [
    "string = 'pwskills'\n",
    "characters = [char for char in string]\n",
    "print(characters)"
   ]
  },
  {
   "cell_type": "markdown",
   "id": "b3631819-ebb2-4d37-bc7c-e906843e4607",
   "metadata": {},
   "source": [
    "**Q8 :** Write a python program to check whether a given number is Palindrome or not using a while loop."
   ]
  },
  {
   "cell_type": "code",
   "execution_count": 3,
   "id": "c2a8b578-5e11-4e6f-a4c9-2c09fa30b365",
   "metadata": {},
   "outputs": [
    {
     "name": "stdin",
     "output_type": "stream",
     "text": [
      "Enter a number:  12321\n"
     ]
    },
    {
     "name": "stdout",
     "output_type": "stream",
     "text": [
      "12321 is a palindrome.\n"
     ]
    }
   ],
   "source": [
    "def is_palindrome(num):\n",
    "    original = num\n",
    "    reverse = 0\n",
    "    while num > 0:\n",
    "        digit = num % 10\n",
    "        reverse = reverse * 10 + digit\n",
    "        num = num // 10\n",
    "    return original == reverse\n",
    "\n",
    "number = int(input(\"Enter a number: \"))\n",
    "if is_palindrome(number):\n",
    "    print(f\"{number} is a palindrome.\")\n",
    "else:\n",
    "    print(f\"{number} is not a palindrome.\")"
   ]
  },
  {
   "cell_type": "markdown",
   "id": "df912e9d",
   "metadata": {},
   "source": [
    "**Q9 :** Write a code to print odd number from 1 to 100 using list comprehension.<br>\n",
    "\n",
    "Note: *Use a list comprehension to create a list from 1 to 100 and use another list comprehension to filter out odd numbers.*\n",
    "\n",
    "**Ans :**"
   ]
  },
  {
   "cell_type": "code",
   "execution_count": 4,
   "id": "34afa45a-1827-4180-ab09-0bd6715a7858",
   "metadata": {
    "ExecuteTime": {
     "end_time": "2023-06-16T17:37:24.240086Z",
     "start_time": "2023-06-16T17:37:24.218143Z"
    }
   },
   "outputs": [
    {
     "name": "stdout",
     "output_type": "stream",
     "text": [
      "[1, 3, 5, 7, 9, 11, 13, 15, 17, 19, 21, 23, 25, 27, 29, 31, 33, 35, 37, 39, 41, 43, 45, 47, 49, 51, 53, 55, 57, 59, 61, 63, 65, 67, 69, 71, 73, 75, 77, 79, 81, 83, 85, 87, 89, 91, 93, 95, 97, 99]\n"
     ]
    }
   ],
   "source": [
    "numbers_list = [nums for nums in range(1, 101)]\n",
    "odd_list = [each_num for each_num in numbers_list if each_num%2==1]\n",
    "print(odd_list)"
   ]
  }
 ],
 "metadata": {
  "kernelspec": {
   "display_name": "Python 3 (ipykernel)",
   "language": "python",
   "name": "python3"
  },
  "language_info": {
   "codemirror_mode": {
    "name": "ipython",
    "version": 3
   },
   "file_extension": ".py",
   "mimetype": "text/x-python",
   "name": "python",
   "nbconvert_exporter": "python",
   "pygments_lexer": "ipython3",
   "version": "3.9.12"
  },
  "latex_envs": {
   "LaTeX_envs_menu_present": true,
   "autoclose": false,
   "autocomplete": true,
   "bibliofile": "biblio.bib",
   "cite_by": "apalike",
   "current_citInitial": 1,
   "eqLabelWithNumbers": true,
   "eqNumInitial": 1,
   "hotkeys": {
    "equation": "Ctrl-E",
    "itemize": "Ctrl-I"
   },
   "labels_anchors": false,
   "latex_user_defs": false,
   "report_style_numbering": false,
   "user_envs_cfg": false
  },
  "nbTranslate": {
   "displayLangs": [
    "*"
   ],
   "hotkey": "alt-t",
   "langInMainMenu": true,
   "sourceLang": "en",
   "targetLang": "fr",
   "useGoogleTranslate": true
  },
  "toc": {
   "base_numbering": 1,
   "nav_menu": {},
   "number_sections": true,
   "sideBar": true,
   "skip_h1_title": false,
   "title_cell": "Table of Contents",
   "title_sidebar": "Contents",
   "toc_cell": false,
   "toc_position": {},
   "toc_section_display": true,
   "toc_window_display": false
  },
  "varInspector": {
   "cols": {
    "lenName": 16,
    "lenType": 16,
    "lenVar": 40
   },
   "kernels_config": {
    "python": {
     "delete_cmd_postfix": "",
     "delete_cmd_prefix": "del ",
     "library": "var_list.py",
     "varRefreshCmd": "print(var_dic_list())"
    },
    "r": {
     "delete_cmd_postfix": ") ",
     "delete_cmd_prefix": "rm(",
     "library": "var_list.r",
     "varRefreshCmd": "cat(var_dic_list()) "
    }
   },
   "types_to_exclude": [
    "module",
    "function",
    "builtin_function_or_method",
    "instance",
    "_Feature"
   ],
   "window_display": false
  }
 },
 "nbformat": 4,
 "nbformat_minor": 5
}
