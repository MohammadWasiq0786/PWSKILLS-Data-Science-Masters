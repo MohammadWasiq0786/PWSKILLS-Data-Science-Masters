{
 "cells": [
  {
   "cell_type": "markdown",
   "id": "e8c45f63",
   "metadata": {},
   "source": [
    "![image](https://pwskills.com/images/PWSkills-main.png)\n",
    "\n",
    "# Data Science Masters\n",
    "\n",
    "## Python Assignments - 10\n",
    "\n",
    "### Date : 09 - Feb - 2023"
   ]
  },
  {
   "cell_type": "markdown",
   "id": "cf5ad83c",
   "metadata": {},
   "source": [
    "**Q1 :** Create a vehicle class with an init method having instance variables as name_of_vehicle,max_speed and average_of_vehicle."
   ]
  },
  {
   "cell_type": "code",
   "execution_count": 1,
   "id": "88a7e2e0-51ef-4af8-8bc3-6600efbb6a1d",
   "metadata": {},
   "outputs": [
    {
     "name": "stdout",
     "output_type": "stream",
     "text": [
      "Car\n",
      "200\n",
      "20\n"
     ]
    }
   ],
   "source": [
    "class Vehicle:\n",
    "    def __init__(self, name_of_vehicle, max_speed, average_of_vehicle):\n",
    "        self.name_of_vehicle = name_of_vehicle\n",
    "        self.max_speed = max_speed\n",
    "        self.average_of_vehicle = average_of_vehicle\n",
    "        \n",
    "car = Vehicle(\"Car\", 200, 20)\n",
    "print(car.name_of_vehicle)  # \"Car\"\n",
    "print(car.max_speed)  # 200\n",
    "print(car.average_of_vehicle)  # 20"
   ]
  },
  {
   "cell_type": "markdown",
   "id": "5c81f96c",
   "metadata": {},
   "source": [
    "**Q2 :** Create a child class car from the vehicle class created in Que 1, which will inherit the vehicle class. Create a method named seating_capacity which takes capacity as an argument and returns the name of the vehicle and its seating capacity.\n",
    "\n",
    "**Ans :**"
   ]
  },
  {
   "cell_type": "code",
   "execution_count": 7,
   "id": "b8135b24-a6de-4fb0-828f-485199af27cc",
   "metadata": {},
   "outputs": [
    {
     "name": "stdout",
     "output_type": "stream",
     "text": [
      "The My Car has a seating capacity of 5.\n"
     ]
    }
   ],
   "source": [
    "class Car(Vehicle):\n",
    "    def seating_capacity(self, capacity):\n",
    "        return f\"The {self.name_of_vehicle} has a seating capacity of {capacity}.\"\n",
    "    \n",
    "my_car = Car(\"My Car\", 150, 15)\n",
    "print(my_car.seating_capacity(5))  # \"The My Car has a seating capacity of 5.\""
   ]
  },
  {
   "cell_type": "markdown",
   "id": "6cf6590d",
   "metadata": {},
   "source": [
    "**Q3 :** What is multiple inheritance? Write a python code to demonstrate multiple inheritance.\n",
    "\n",
    "**Ans :** Multiple inheritance is a feature of object-oriented programming that allows a class to inherit attributes and behaviors from multiple parent classes. This allows for greater flexibility and code reuse, as a single class can inherit the characteristics of multiple existing classes."
   ]
  },
  {
   "cell_type": "code",
   "execution_count": 2,
   "id": "25892f80-dce9-4992-af62-c92c98c20844",
   "metadata": {},
   "outputs": [
    {
     "name": "stdout",
     "output_type": "stream",
     "text": [
      "Engine started.\n",
      "Fuel tank filled with 50 liters.\n",
      "Car is driving.\n"
     ]
    }
   ],
   "source": [
    "class Engine:\n",
    "    def start(self):\n",
    "        return \"Engine started.\"\n",
    "\n",
    "class FuelSystem:\n",
    "    def fill_fuel(self, fuel_amount):\n",
    "        return f\"Fuel tank filled with {fuel_amount} liters.\"\n",
    "\n",
    "class Car(Engine, FuelSystem):\n",
    "    def drive(self):\n",
    "        return \"Car is driving.\"\n",
    "\n",
    "my_car = Car()\n",
    "print(my_car.start())  # \"Engine started.\"\n",
    "print(my_car.fill_fuel(50))  # \"Fuel tank filled with 50 liters.\"\n",
    "print(my_car.drive())  # \"Car is driving.\""
   ]
  },
  {
   "cell_type": "markdown",
   "id": "cae54235",
   "metadata": {},
   "source": [
    "**Q4 :** What are getter and setter in python? Create a class and create a getter and a setter method in this class.\n",
    "\n",
    "**Ans :** Getters and setters are methods in object-oriented programming that allow you to control access to the attributes of an object. A getter method is used to retrieve the value of an attribute, while a setter method is used to set the value of an attribute."
   ]
  },
  {
   "cell_type": "code",
   "execution_count": 3,
   "id": "fbaa0070-77c2-49dd-865d-b0ed56f895fa",
   "metadata": {},
   "outputs": [
    {
     "name": "stdout",
     "output_type": "stream",
     "text": [
      "John Doe\n",
      "Jane Doe\n",
      "30\n",
      "35\n"
     ]
    }
   ],
   "source": [
    "class Person:\n",
    "    def __init__(self, name, age):\n",
    "        self._name = name\n",
    "        self._age = age\n",
    "\n",
    "    @property\n",
    "    def name(self):\n",
    "        return self._name\n",
    "\n",
    "    @name.setter\n",
    "    def name(self, value):\n",
    "        if not isinstance(value, str):\n",
    "            raise TypeError(\"Name must be a string.\")\n",
    "        self._name = value\n",
    "\n",
    "    @property\n",
    "    def age(self):\n",
    "        return self._age\n",
    "\n",
    "    @age.setter\n",
    "    def age(self, value):\n",
    "        if not isinstance(value, int):\n",
    "            raise TypeError(\"Age must be an integer.\")\n",
    "        self._age = value\n",
    "\n",
    "person = Person(\"John Doe\", 30)\n",
    "print(person.name)  # \"John Doe\"\n",
    "person.name = \"Jane Doe\"\n",
    "print(person.name)  # \"Jane Doe\"\n",
    "print(person.age)  # 30\n",
    "person.age = 35\n",
    "print(person.age)  # 35"
   ]
  },
  {
   "cell_type": "markdown",
   "id": "1e2d43f2",
   "metadata": {},
   "source": [
    "**Q5 :** What is method overriding in Python? Write a Python code to demonstrate method overriding.\n",
    "\n",
    "**Ans :** Method overriding is a feature of object-oriented programming languages where the subclass or child class can provide the program with specific characteristics or a specific implementation process of data provided that are already defined in the parent class or superclass."
   ]
  },
  {
   "cell_type": "code",
   "execution_count": 1,
   "id": "ec030991",
   "metadata": {
    "ExecuteTime": {
     "end_time": "2023-06-16T18:21:54.239744Z",
     "start_time": "2023-06-16T18:21:54.222789Z"
    }
   },
   "outputs": [],
   "source": [
    "class superclass:\n",
    "    def some_method(self):\n",
    "        return 'this is some_method from superclass'\n",
    "    \n",
    "class subclass(superclass):\n",
    "    def some_method(self):\n",
    "        return 'this is some_method from subclass'"
   ]
  },
  {
   "cell_type": "code",
   "execution_count": 2,
   "id": "c7ae7f57",
   "metadata": {
    "ExecuteTime": {
     "end_time": "2023-06-16T18:21:55.670394Z",
     "start_time": "2023-06-16T18:21:55.652446Z"
    }
   },
   "outputs": [],
   "source": [
    "super_obj = superclass()\n",
    "sub_obj = subclass()"
   ]
  },
  {
   "cell_type": "code",
   "execution_count": 3,
   "id": "18ff6519",
   "metadata": {
    "ExecuteTime": {
     "end_time": "2023-06-16T18:21:56.486628Z",
     "start_time": "2023-06-16T18:21:56.469677Z"
    }
   },
   "outputs": [
    {
     "data": {
      "text/plain": [
       "'this is some_method from superclass'"
      ]
     },
     "execution_count": 3,
     "metadata": {},
     "output_type": "execute_result"
    }
   ],
   "source": [
    "super_obj.some_method()"
   ]
  },
  {
   "cell_type": "code",
   "execution_count": 4,
   "id": "72837123",
   "metadata": {
    "ExecuteTime": {
     "end_time": "2023-06-16T18:21:56.942488Z",
     "start_time": "2023-06-16T18:21:56.921544Z"
    }
   },
   "outputs": [
    {
     "data": {
      "text/plain": [
       "'this is some_method from subclass'"
      ]
     },
     "execution_count": 4,
     "metadata": {},
     "output_type": "execute_result"
    }
   ],
   "source": [
    "sub_obj.some_method()"
   ]
  }
 ],
 "metadata": {
  "kernelspec": {
   "display_name": "Python 3 (ipykernel)",
   "language": "python",
   "name": "python3"
  },
  "language_info": {
   "codemirror_mode": {
    "name": "ipython",
    "version": 3
   },
   "file_extension": ".py",
   "mimetype": "text/x-python",
   "name": "python",
   "nbconvert_exporter": "python",
   "pygments_lexer": "ipython3",
   "version": "3.9.12"
  },
  "latex_envs": {
   "LaTeX_envs_menu_present": true,
   "autoclose": false,
   "autocomplete": true,
   "bibliofile": "biblio.bib",
   "cite_by": "apalike",
   "current_citInitial": 1,
   "eqLabelWithNumbers": true,
   "eqNumInitial": 1,
   "hotkeys": {
    "equation": "Ctrl-E",
    "itemize": "Ctrl-I"
   },
   "labels_anchors": false,
   "latex_user_defs": false,
   "report_style_numbering": false,
   "user_envs_cfg": false
  },
  "nbTranslate": {
   "displayLangs": [
    "*"
   ],
   "hotkey": "alt-t",
   "langInMainMenu": true,
   "sourceLang": "en",
   "targetLang": "fr",
   "useGoogleTranslate": true
  },
  "toc": {
   "base_numbering": 1,
   "nav_menu": {},
   "number_sections": true,
   "sideBar": true,
   "skip_h1_title": false,
   "title_cell": "Table of Contents",
   "title_sidebar": "Contents",
   "toc_cell": false,
   "toc_position": {},
   "toc_section_display": true,
   "toc_window_display": false
  },
  "varInspector": {
   "cols": {
    "lenName": 16,
    "lenType": 16,
    "lenVar": 40
   },
   "kernels_config": {
    "python": {
     "delete_cmd_postfix": "",
     "delete_cmd_prefix": "del ",
     "library": "var_list.py",
     "varRefreshCmd": "print(var_dic_list())"
    },
    "r": {
     "delete_cmd_postfix": ") ",
     "delete_cmd_prefix": "rm(",
     "library": "var_list.r",
     "varRefreshCmd": "cat(var_dic_list()) "
    }
   },
   "types_to_exclude": [
    "module",
    "function",
    "builtin_function_or_method",
    "instance",
    "_Feature"
   ],
   "window_display": false
  },
  "vscode": {
   "interpreter": {
    "hash": "bf9ab843c2c44a0abbe96a3f5fa8fc8f7b5aa1503133f196762388041b9614c2"
   }
  }
 },
 "nbformat": 4,
 "nbformat_minor": 5
}
