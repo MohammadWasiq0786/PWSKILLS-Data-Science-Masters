{
 "cells": [
  {
   "cell_type": "markdown",
   "id": "08b26d30",
   "metadata": {},
   "source": [
    "![image](https://pwskills.com/images/PWSkills-main.png)\n",
    "\n",
    "# Data Science Masters\n",
    "\n",
    "## Python Assignments - 4\n",
    "\n",
    "### Date : 04 - Feb - 2023"
   ]
  },
  {
   "cell_type": "markdown",
   "id": "2b54c7cd-0edb-407c-9949-11c067de7dfa",
   "metadata": {},
   "source": [
    "**Q1 :** Create a python program to sort the given list of tuples based on integer value using a lambda function. \n",
    "```py\n",
    "[('Sachin Tendulkar', 34357), ('Ricky Ponting', 27483), ('Jack Kallis', 25534), ('Virat Kohli', 24936)]\n",
    "```\n",
    "\n",
    "**Ans :**"
   ]
  },
  {
   "cell_type": "code",
   "execution_count": 1,
   "id": "635c1963-1251-441f-bba7-4512a79fd4e6",
   "metadata": {},
   "outputs": [
    {
     "name": "stdout",
     "output_type": "stream",
     "text": [
      "[('Sachin Tendulkar', 34357), ('Ricky Ponting', 27483), ('Jack Kallis', 25534), ('Virat Kohli', 24936)]\n"
     ]
    }
   ],
   "source": [
    "players = [('Sachin Tendulkar', 34357), ('Ricky Ponting', 27483), ('Jack Kallis', 25534), ('Virat Kohli', 24936)]\n",
    "\n",
    "sorted_players = sorted(players, key=lambda x: x[1], reverse=True)\n",
    "print(sorted_players)"
   ]
  },
  {
   "cell_type": "markdown",
   "id": "9cb5d05c-8b67-45c1-a328-e4c8712b733f",
   "metadata": {},
   "source": [
    "**Q2 :** Write a Python Program to find the squares of all the numbers in the given list of integers using lambda and map functions.\n",
    "```py\n",
    "[1, 2, 3, 4, 5, 6, 7, 8, 9, 10]\n",
    "```\n",
    "**Ans :**"
   ]
  },
  {
   "cell_type": "code",
   "execution_count": 2,
   "id": "ad3b3468-b9ca-4ebb-9d56-f75e73af42e3",
   "metadata": {},
   "outputs": [
    {
     "name": "stdout",
     "output_type": "stream",
     "text": [
      "[1, 4, 9, 16, 25, 36, 49, 64, 81, 100]\n"
     ]
    }
   ],
   "source": [
    "numbers = [1, 2, 3, 4, 5, 6, 7, 8, 9, 10]\n",
    "\n",
    "squared_numbers = list(map(lambda x: x**2, numbers))\n",
    "print(squared_numbers)"
   ]
  },
  {
   "cell_type": "markdown",
   "id": "5e3b0dd0-81d4-4dd2-bdde-b3e5959f2784",
   "metadata": {},
   "source": [
    "**Q3 :** Write a python program to convert the given list of integers into a tuple of strings. Use map and lambda functions.\n",
    "\n",
    "Given String: [1, 2, 3, 4, 5, 6, 7, 8, 9, 10]\n",
    "\n",
    "Expected output: ('1', '2', '3', '4', '5', '6', '7', '8', '9', '10')\n",
    "\n",
    "**Ans :**"
   ]
  },
  {
   "cell_type": "code",
   "execution_count": 4,
   "id": "69b45d85-7961-461b-88f6-64508565a48b",
   "metadata": {},
   "outputs": [
    {
     "name": "stdout",
     "output_type": "stream",
     "text": [
      "('1', '2', '3', '4', '5', '6', '7', '8', '9', '10')\n"
     ]
    }
   ],
   "source": [
    "numbers = [1, 2, 3, 4, 5, 6, 7, 8, 9, 10]\n",
    "\n",
    "string_numbers = tuple(map(lambda x: str(x), numbers))\n",
    "print(string_numbers)"
   ]
  },
  {
   "cell_type": "markdown",
   "id": "dd73e68c-6042-4e1f-b332-9c246ebb618a",
   "metadata": {},
   "source": [
    "**Q4 :** Write a python program using reduce function to compute the product of a list containing numbers from 1 to 25.\n",
    "\n",
    "**Ans :**"
   ]
  },
  {
   "cell_type": "code",
   "execution_count": 5,
   "id": "c1d22f82-6fcb-49b9-b79a-3b7dbb1f2ff0",
   "metadata": {},
   "outputs": [
    {
     "name": "stdout",
     "output_type": "stream",
     "text": [
      "15511210043330985984000000\n"
     ]
    }
   ],
   "source": [
    "from functools import reduce\n",
    "\n",
    "numbers = range(1, 26)\n",
    "product = reduce(lambda x, y: x * y, numbers)\n",
    "print(product)"
   ]
  },
  {
   "cell_type": "markdown",
   "id": "a7864881-153f-47a7-842a-5e1e7defc137",
   "metadata": {},
   "source": [
    "**Q5 :** Write a python program to filter the numbers in a given list that are divisible by 2 and 3 using the filter function.\n",
    "```py\n",
    "[2, 3, 6, 9, 27, 60, 90, 120, 55, 46]\n",
    "```\n",
    "**Ans :**"
   ]
  },
  {
   "cell_type": "code",
   "execution_count": 6,
   "id": "e7f7c818-f5d9-4efe-abcf-72999967b4ee",
   "metadata": {},
   "outputs": [
    {
     "name": "stdout",
     "output_type": "stream",
     "text": [
      "[6, 60, 90, 120]\n"
     ]
    }
   ],
   "source": [
    "numbers = [2, 3, 6, 9, 27, 60, 90, 120, 55, 46]\n",
    "\n",
    "filtered_numbers = list(filter(lambda x: x % 2 == 0 and x % 3 == 0, numbers))\n",
    "print(filtered_numbers)"
   ]
  },
  {
   "cell_type": "markdown",
   "id": "b51a9aa6",
   "metadata": {},
   "source": [
    "**Q6 :** Write a Python program to find palindromes in the given list of strings using lambda and filter function.\n",
    "```py\n",
    "['python', 'php', 'aba', 'radar', 'level']\n",
    "```\n",
    "**Ans :**"
   ]
  },
  {
   "cell_type": "code",
   "execution_count": 7,
   "id": "8564f356-4b54-4c8f-bc32-67924248a2b5",
   "metadata": {
    "ExecuteTime": {
     "end_time": "2023-06-16T17:42:22.578389Z",
     "start_time": "2023-06-16T17:42:22.562425Z"
    }
   },
   "outputs": [
    {
     "data": {
      "text/plain": [
       "['php', 'aba', 'radar', 'level']"
      ]
     },
     "execution_count": 7,
     "metadata": {},
     "output_type": "execute_result"
    }
   ],
   "source": [
    "given_list = ['python', 'php', 'aba', 'radar', 'level']\n",
    "\n",
    "list(filter(lambda input_list: input_list[::-1] == input_list, given_list))"
   ]
  }
 ],
 "metadata": {
  "kernelspec": {
   "display_name": "Python 3 (ipykernel)",
   "language": "python",
   "name": "python3"
  },
  "language_info": {
   "codemirror_mode": {
    "name": "ipython",
    "version": 3
   },
   "file_extension": ".py",
   "mimetype": "text/x-python",
   "name": "python",
   "nbconvert_exporter": "python",
   "pygments_lexer": "ipython3",
   "version": "3.9.12"
  },
  "latex_envs": {
   "LaTeX_envs_menu_present": true,
   "autoclose": false,
   "autocomplete": true,
   "bibliofile": "biblio.bib",
   "cite_by": "apalike",
   "current_citInitial": 1,
   "eqLabelWithNumbers": true,
   "eqNumInitial": 1,
   "hotkeys": {
    "equation": "Ctrl-E",
    "itemize": "Ctrl-I"
   },
   "labels_anchors": false,
   "latex_user_defs": false,
   "report_style_numbering": false,
   "user_envs_cfg": false
  },
  "nbTranslate": {
   "displayLangs": [
    "*"
   ],
   "hotkey": "alt-t",
   "langInMainMenu": true,
   "sourceLang": "en",
   "targetLang": "fr",
   "useGoogleTranslate": true
  },
  "toc": {
   "base_numbering": 1,
   "nav_menu": {},
   "number_sections": true,
   "sideBar": true,
   "skip_h1_title": false,
   "title_cell": "Table of Contents",
   "title_sidebar": "Contents",
   "toc_cell": false,
   "toc_position": {},
   "toc_section_display": true,
   "toc_window_display": false
  },
  "varInspector": {
   "cols": {
    "lenName": 16,
    "lenType": 16,
    "lenVar": 40
   },
   "kernels_config": {
    "python": {
     "delete_cmd_postfix": "",
     "delete_cmd_prefix": "del ",
     "library": "var_list.py",
     "varRefreshCmd": "print(var_dic_list())"
    },
    "r": {
     "delete_cmd_postfix": ") ",
     "delete_cmd_prefix": "rm(",
     "library": "var_list.r",
     "varRefreshCmd": "cat(var_dic_list()) "
    }
   },
   "types_to_exclude": [
    "module",
    "function",
    "builtin_function_or_method",
    "instance",
    "_Feature"
   ],
   "window_display": false
  }
 },
 "nbformat": 4,
 "nbformat_minor": 5
}
