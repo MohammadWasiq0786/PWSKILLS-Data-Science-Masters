{
 "cells": [
  {
   "cell_type": "markdown",
   "id": "1b6c7c3c",
   "metadata": {},
   "source": [
    "![image](https://pwskills.com/images/PWSkills-main.png)\n",
    "\n",
    "# Data Science Masters\n",
    "\n",
    "## Python Assignments - 2\n",
    "\n",
    "### Date : 30 - Jan - 2023"
   ]
  },
  {
   "cell_type": "markdown",
   "id": "3cb41ea8",
   "metadata": {},
   "source": [
    "**Q1 :** Write a program to accept percentage from the user and display the grade according to the following criteria.\n",
    "\n",
    "| **Marks**            | **Grade** |\n",
    "| -------------------- | --------- |\n",
    "| > 90                 |   A       |\n",
    "| > 80 and <= 90       |   B       |\n",
    "| >= 60 and <= 80      |   C       |\n",
    "| Below 60             |   D       |\n",
    "\n",
    "**Ans :**"
   ]
  },
  {
   "cell_type": "code",
   "execution_count": 2,
   "id": "07a187c9-4c51-4684-a689-60762f8b449d",
   "metadata": {},
   "outputs": [
    {
     "name": "stdin",
     "output_type": "stream",
     "text": [
      "Enter your marks:  52\n"
     ]
    },
    {
     "name": "stdout",
     "output_type": "stream",
     "text": [
      "Grade: D\n"
     ]
    }
   ],
   "source": [
    "marks = int(input('Enter your marks: '))\n",
    "\n",
    "if marks>90:\n",
    "    print('Grade: A')\n",
    "elif marks>80 and marks<=90:\n",
    "    print('Grade: B')\n",
    "elif marks>=60 and marks<=80:\n",
    "    print('Grade: C')\n",
    "elif marks<60:\n",
    "    print('Grade: D')\n",
    "else:\n",
    "    print('Enter marks in the range 1-100')"
   ]
  },
  {
   "cell_type": "markdown",
   "id": "83372869",
   "metadata": {},
   "source": [
    "**Q2 :** Write a program to accept the cost price of a bike and display the road tax to be paid according to the following criteria.\n",
    "\n",
    "| **Tax** | **Cost Price (in Rs)**  |\n",
    "| ------- | ----------------------- |\n",
    "| 15%     |   > 100000              |\n",
    "| 10%     |   > 50000 and <= 100000 |\n",
    "| 5%      |   <= 50000              |\n",
    "\n",
    "**Ans :**"
   ]
  },
  {
   "cell_type": "code",
   "execution_count": 4,
   "id": "dab2ea74-6f4e-4ea6-ae0a-6ef8da050ba2",
   "metadata": {},
   "outputs": [
    {
     "name": "stdin",
     "output_type": "stream",
     "text": [
      "Enter cost of the bike:  100001\n"
     ]
    },
    {
     "name": "stdout",
     "output_type": "stream",
     "text": [
      "Tax: 15%\n"
     ]
    }
   ],
   "source": [
    "cost = int(input('Enter cost of the bike: '))\n",
    "\n",
    "if cost>100000:\n",
    "    print('Tax: 15%')\n",
    "elif cost>50000 and cost<100000:\n",
    "    print('Tax: 10%')\n",
    "elif cost<=50000:\n",
    "    print('Tax: 5%')\n",
    "else:\n",
    "    print('Enter valid cost input')"
   ]
  },
  {
   "cell_type": "markdown",
   "id": "f98eeb87",
   "metadata": {},
   "source": [
    "**Q3 :** Accept any city from the user and display monuments of that city.\n",
    "\n",
    "| **City** | **Monument**  |\n",
    "| -------- | ------------- |\n",
    "| Delhi    | Red Fort      |\n",
    "| Agra     | Taj Mahal     |\n",
    "| Jaipur   | Jal Mahal     |\n",
    "\n",
    "**Ans :**"
   ]
  },
  {
   "cell_type": "code",
   "execution_count": 5,
   "id": "c03bda26-a817-4452-9dcb-cc3c8d09e085",
   "metadata": {},
   "outputs": [
    {
     "name": "stdin",
     "output_type": "stream",
     "text": [
      "Enter city name:  Agra\n"
     ]
    },
    {
     "name": "stdout",
     "output_type": "stream",
     "text": [
      "Monument: Taj Mahal\n"
     ]
    }
   ],
   "source": [
    "city = input('Enter city name: ')\n",
    "\n",
    "if city == 'Delhi':\n",
    "    print('Monument: Red Fort')\n",
    "elif city == 'Agra':\n",
    "    print('Monument: Taj Mahal')\n",
    "elif city == 'Jaipur':\n",
    "    print('Monument: Jal Mahal')\n",
    "else:\n",
    "    print('Invalid city name/ City not in our list')"
   ]
  },
  {
   "cell_type": "markdown",
   "id": "790458c6",
   "metadata": {},
   "source": [
    "**Q4 :** Check how many times a given number can be divided by 3 before it is less than or equal to 10.\n",
    "\n",
    "**Ans :**"
   ]
  },
  {
   "cell_type": "code",
   "execution_count": 10,
   "id": "6eb8b4e7-76f5-41f7-80ae-90dabe8bce25",
   "metadata": {},
   "outputs": [
    {
     "name": "stdin",
     "output_type": "stream",
     "text": [
      "Enter Number:  100\n"
     ]
    },
    {
     "name": "stdout",
     "output_type": "stream",
     "text": [
      "Times the number can be divided by 3:  31\n"
     ]
    }
   ],
   "source": [
    "number = int(input('Enter Number: '))\n",
    "count = 0\n",
    "iterr=number\n",
    "\n",
    "for i in range(0,iterr):\n",
    "    if number%3==0:\n",
    "        count+=1\n",
    "    elif number%3==1:\n",
    "        pass\n",
    "    elif number<=10:\n",
    "        break\n",
    "    number-=1\n",
    "\n",
    "print('Times the number can be divided by 3 (and is >10): ', count)"
   ]
  },
  {
   "cell_type": "markdown",
   "id": "37a99e54",
   "metadata": {},
   "source": [
    "**Q5 :** Why and when to use while loop in python give a detailed description with example.\n",
    "\n",
    "**Ans :** In Python, a while loop is used to repeatedly execute a block of code as long as a given condition is true. It provides a way to create a loop that continues iterating until the condition becomes false. The general syntax of a while loop in Python is as follows:\n",
    "\n",
    "```python\n",
    "while condition:\n",
    "    # Code to be executed while the condition is true\n",
    "```\n",
    "\n",
    "Here's a detailed description of why and when to use a while loop, along with an example:\n",
    "\n",
    "1. Repetition until a condition is met: While loops are useful when you want to repeat a block of code until a certain condition is met. This condition can be based on any expression that evaluates to either True or False.\n",
    "2. Unknown number of iterations: While loops are especially handy when you don't know the exact number of iterations required beforehand. Instead, you rely on a condition to determine when to exit the loop.\n",
    "3. Dynamic conditions: While loops allow you to dynamically change the condition during execution. This flexibility enables you to control the loop based on changing circumstances or user input.\n",
    "\n",
    "**Example :**\n",
    "\n",
    "Let's consider an example where we use a while loop to calculate the sum of numbers from 1 to 10. We'll initialize a variable total as 0 and use a while loop to keep adding numbers to the total until we reach 10."
   ]
  },
  {
   "cell_type": "code",
   "execution_count": 1,
   "id": "0c4c28f9",
   "metadata": {
    "ExecuteTime": {
     "end_time": "2023-06-16T17:09:58.653242Z",
     "start_time": "2023-06-16T17:09:58.644266Z"
    }
   },
   "outputs": [
    {
     "name": "stdout",
     "output_type": "stream",
     "text": [
      "The sum is: 55\n"
     ]
    }
   ],
   "source": [
    "total = 0\n",
    "num = 1\n",
    "\n",
    "while num <= 10:\n",
    "    total += num\n",
    "    num += 1\n",
    "\n",
    "print(\"The sum is:\", total)"
   ]
  },
  {
   "cell_type": "markdown",
   "id": "8cc42f2d-3243-4518-a6fb-2b971b418ef7",
   "metadata": {},
   "source": [
    "**Q6 :** Use nested while loop to print 3 different pattern.\n",
    "\n",
    "**Ans :**\n",
    "\n",
    "1. **Triangular Pattern**"
   ]
  },
  {
   "cell_type": "code",
   "execution_count": 2,
   "id": "91f39f47-240f-4920-8c26-076a8f632ea7",
   "metadata": {
    "ExecuteTime": {
     "end_time": "2023-06-16T17:13:01.228522Z",
     "start_time": "2023-06-16T17:13:01.206577Z"
    }
   },
   "outputs": [
    {
     "name": "stdout",
     "output_type": "stream",
     "text": [
      "*\n",
      "**\n",
      "***\n",
      "****\n",
      "*****\n"
     ]
    }
   ],
   "source": [
    "i = 1\n",
    "while i <= 5:\n",
    "    j = 1\n",
    "    while j <= i:\n",
    "        print(\"*\", end=\"\")\n",
    "        j = j + 1\n",
    "    print()\n",
    "    i = i + 1"
   ]
  },
  {
   "cell_type": "markdown",
   "id": "f153917b-5dc3-440d-ad3f-59389c133fc2",
   "metadata": {},
   "source": [
    "2. **Rectangular Pattern**"
   ]
  },
  {
   "cell_type": "code",
   "execution_count": 3,
   "id": "8fdbbe2e-ef13-46ac-8ef1-85e92402daa9",
   "metadata": {
    "ExecuteTime": {
     "end_time": "2023-06-16T17:13:03.781441Z",
     "start_time": "2023-06-16T17:13:03.770469Z"
    }
   },
   "outputs": [
    {
     "name": "stdout",
     "output_type": "stream",
     "text": [
      "*******\n",
      "*******\n",
      "*******\n",
      "*******\n",
      "*******\n"
     ]
    }
   ],
   "source": [
    "i = 1\n",
    "while i <= 5:\n",
    "    j = 1\n",
    "    while j <= 7:\n",
    "        print(\"*\", end=\"\")\n",
    "        j = j + 1\n",
    "    print()\n",
    "    i = i + 1"
   ]
  },
  {
   "cell_type": "markdown",
   "id": "40ad45f6-9dd8-4c08-b5c1-b908366d2def",
   "metadata": {},
   "source": [
    "3. **Pyramid Pattern**"
   ]
  },
  {
   "cell_type": "code",
   "execution_count": 4,
   "id": "7c2178fb-21f6-4f63-a639-2409e98363f6",
   "metadata": {
    "ExecuteTime": {
     "end_time": "2023-06-16T17:13:05.662209Z",
     "start_time": "2023-06-16T17:13:05.641266Z"
    }
   },
   "outputs": [
    {
     "name": "stdout",
     "output_type": "stream",
     "text": [
      "    *\n",
      "   ***\n",
      "  *****\n",
      " *******\n",
      "*********\n"
     ]
    }
   ],
   "source": [
    "n = 5\n",
    "for i in range(1, n + 1):\n",
    "    for j in range(n - i):\n",
    "        print(\" \", end=\"\")\n",
    "    for k in range(2 * i - 1):\n",
    "        print(\"*\", end=\"\")\n",
    "    print()"
   ]
  },
  {
   "cell_type": "markdown",
   "id": "a976181a",
   "metadata": {},
   "source": [
    "**Q7 :** Reverse a while loop to display numbers from 10 to 1.\n",
    "\n",
    "**Ans :**"
   ]
  },
  {
   "cell_type": "code",
   "execution_count": 5,
   "id": "cdc675b4-7064-4735-91c7-39ace5439e8c",
   "metadata": {
    "ExecuteTime": {
     "end_time": "2023-06-16T17:14:23.251230Z",
     "start_time": "2023-06-16T17:14:23.243251Z"
    }
   },
   "outputs": [
    {
     "name": "stdout",
     "output_type": "stream",
     "text": [
      "10\n",
      "9\n",
      "8\n",
      "7\n",
      "6\n",
      "5\n",
      "4\n",
      "3\n",
      "2\n",
      "1\n"
     ]
    }
   ],
   "source": [
    "i=10\n",
    "while i>=1:\n",
    "    print(i)\n",
    "    i-=1"
   ]
  },
  {
   "cell_type": "markdown",
   "id": "2d7456d7",
   "metadata": {},
   "source": [
    "**Q8 :** Reverse a while loop to display numbers from 10 to 1.\n",
    "\n",
    "**Ans :**"
   ]
  },
  {
   "cell_type": "code",
   "execution_count": 6,
   "id": "2999d31f",
   "metadata": {
    "ExecuteTime": {
     "end_time": "2023-06-16T17:14:44.982062Z",
     "start_time": "2023-06-16T17:14:44.974087Z"
    }
   },
   "outputs": [
    {
     "name": "stdout",
     "output_type": "stream",
     "text": [
      "10\n",
      "9\n",
      "8\n",
      "7\n",
      "6\n",
      "5\n",
      "4\n",
      "3\n",
      "2\n",
      "1\n"
     ]
    }
   ],
   "source": [
    "i=10\n",
    "while i>=1:\n",
    "    print(i)\n",
    "    i-=1"
   ]
  }
 ],
 "metadata": {
  "kernelspec": {
   "display_name": "Python 3 (ipykernel)",
   "language": "python",
   "name": "python3"
  },
  "language_info": {
   "codemirror_mode": {
    "name": "ipython",
    "version": 3
   },
   "file_extension": ".py",
   "mimetype": "text/x-python",
   "name": "python",
   "nbconvert_exporter": "python",
   "pygments_lexer": "ipython3",
   "version": "3.9.12"
  },
  "latex_envs": {
   "LaTeX_envs_menu_present": true,
   "autoclose": false,
   "autocomplete": true,
   "bibliofile": "biblio.bib",
   "cite_by": "apalike",
   "current_citInitial": 1,
   "eqLabelWithNumbers": true,
   "eqNumInitial": 1,
   "hotkeys": {
    "equation": "Ctrl-E",
    "itemize": "Ctrl-I"
   },
   "labels_anchors": false,
   "latex_user_defs": false,
   "report_style_numbering": false,
   "user_envs_cfg": false
  },
  "nbTranslate": {
   "displayLangs": [
    "*"
   ],
   "hotkey": "alt-t",
   "langInMainMenu": true,
   "sourceLang": "en",
   "targetLang": "fr",
   "useGoogleTranslate": true
  },
  "toc": {
   "base_numbering": 1,
   "nav_menu": {},
   "number_sections": true,
   "sideBar": true,
   "skip_h1_title": false,
   "title_cell": "Table of Contents",
   "title_sidebar": "Contents",
   "toc_cell": false,
   "toc_position": {},
   "toc_section_display": true,
   "toc_window_display": false
  },
  "varInspector": {
   "cols": {
    "lenName": 16,
    "lenType": 16,
    "lenVar": 40
   },
   "kernels_config": {
    "python": {
     "delete_cmd_postfix": "",
     "delete_cmd_prefix": "del ",
     "library": "var_list.py",
     "varRefreshCmd": "print(var_dic_list())"
    },
    "r": {
     "delete_cmd_postfix": ") ",
     "delete_cmd_prefix": "rm(",
     "library": "var_list.r",
     "varRefreshCmd": "cat(var_dic_list()) "
    }
   },
   "types_to_exclude": [
    "module",
    "function",
    "builtin_function_or_method",
    "instance",
    "_Feature"
   ],
   "window_display": false
  }
 },
 "nbformat": 4,
 "nbformat_minor": 5
}
