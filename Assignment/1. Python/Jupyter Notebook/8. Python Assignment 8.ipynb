{
 "cells": [
  {
   "cell_type": "markdown",
   "id": "e70baa61",
   "metadata": {},
   "source": [
    "![image](https://pwskills.com/images/PWSkills-main.png)\n",
    "\n",
    "# Data Science Masters\n",
    "\n",
    "## Python Assignments - 8\n",
    "\n",
    "### Date : 07 - Feb - 2023"
   ]
  },
  {
   "cell_type": "markdown",
   "id": "16530b13",
   "metadata": {},
   "source": [
    "**Q1 :** You are writing code for a company. The requirement of the company is that you create a python function that will check whether the password entered by the user is correct or not. The function should take the password as input and return the string “Valid Password” if the entered password follows the below-given password guidelines else it should return “Invalid Password”.\n",
    "\n",
    "*Note :* \n",
    "1. The Password should contain at least two uppercase letters and at least two lowercase letters.\n",
    "2. The Password should contain at least a number and three special characters.\n",
    "3. The length of the password should be 10 characters long.\n",
    "\n",
    "**Ans :**"
   ]
  },
  {
   "cell_type": "code",
   "execution_count": 3,
   "id": "777ae581-6803-4340-8c75-84d2b46f31d5",
   "metadata": {},
   "outputs": [
    {
     "name": "stdout",
     "output_type": "stream",
     "text": [
      "Valid Password\n"
     ]
    }
   ],
   "source": [
    "import re\n",
    "password = \"R@m@_f0rtu9e$\"\n",
    "flag = 0\n",
    "while True:\n",
    "    if (len(password)<=8):\n",
    "        flag = -1\n",
    "        break\n",
    "    elif not re.search(\"[a-z]\", password):\n",
    "        flag = -1\n",
    "        break\n",
    "    elif not re.search(\"[A-Z]\", password):\n",
    "        flag = -1\n",
    "        break\n",
    "    elif not re.search(\"[0-9]\", password):\n",
    "        flag = -1\n",
    "        break\n",
    "    elif not re.search(\"[_@$]\" , password):\n",
    "        flag = -1\n",
    "        break\n",
    "    elif re.search(\"\\s\" , password):\n",
    "        flag = -1\n",
    "        break\n",
    "    else:\n",
    "        flag = 0\n",
    "        print(\"Valid Password\")\n",
    "        break\n",
    " \n",
    "if flag == -1:\n",
    "    print(\"Not a Valid Password \")"
   ]
  },
  {
   "cell_type": "markdown",
   "id": "7b986184",
   "metadata": {},
   "source": [
    "**Q2 :** Solve the below-given questions using at least one of the following:\n",
    "* Lambda functioJ\n",
    "* Filter functioJ\n",
    "* Zap functioJ\n",
    "* List ComprehensioI\n",
    "\n",
    "1. Check if the string starts with a particular letterY\n",
    "2. Check if the string is numeric\n",
    "\n",
    "3. Sort a list of tuples having fruit names and their quantity. \n",
    "```py\n",
    "[(\"mango\",99),(\"orange\",80), (\"grapes\", 1000)]\n",
    "```\n",
    "4. Find the squares of numbers from 1 to 10Y\n",
    "5. Find the cube root of numbers from 1 to 10Y\n",
    "6. Check if a given number is evenY\n",
    "7. Filter odd numbers from the given list.\n",
    "```py\n",
    "[1,2,3,4,5,6,7,8,9,10]\n",
    "```\n",
    "8. Sort a list of integers into positive and negative integers lists.\n",
    "```py\n",
    "[1,2,3,4,5,6,-1,-2,-3,-4,-5,0]\n",
    "```\n",
    "\n",
    "**Ans :**"
   ]
  },
  {
   "cell_type": "code",
   "execution_count": 2,
   "id": "2ab00749-5b04-4b7a-8176-76d9c79e95b1",
   "metadata": {},
   "outputs": [
    {
     "name": "stdout",
     "output_type": "stream",
     "text": [
      "True\n",
      "False\n",
      "True\n",
      "False\n",
      "[('orange', 80), ('mango', 99), ('grapes', 1000)]\n",
      "[1, 4, 9, 16, 25, 36, 49, 64, 81, 100]\n",
      "[1.0, 1.2599210498948732, 1.4422495703074083, 1.5874010519681994, 1.7099759466766968, 1.8171205928321397, 1.912931182772389, 2.0, 2.080083823051904, 2.154434690031884]\n",
      "True\n",
      "False\n",
      "[1, 3, 5, 7, 9]\n",
      "[1, 2, 3, 4, 5, 6]\n"
     ]
    }
   ],
   "source": [
    "# 1. Check if the string starts with a particular letter:\n",
    "starts_with = lambda string, letter: string[0] == letter\n",
    "\n",
    "print(starts_with(\"Hello\", \"H\")) # True\n",
    "print(starts_with(\"Hello\", \"h\")) # False\n",
    "\n",
    "# 2. Check if the string is numeric:\n",
    "def is_numeric(string):\n",
    "    return string.isdigit()\n",
    "\n",
    "print(is_numeric(\"123\")) # True\n",
    "print(is_numeric(\"abc\")) # False\n",
    "\n",
    "# 3. Sort a list of tuples having fruit names and their quantity:\n",
    "fruits = [(\"mango\", 99), (\"orange\", 80), (\"grapes\", 1000)]\n",
    "\n",
    "sorted_fruits = sorted(fruits, key=lambda x: x[1])\n",
    "\n",
    "print(sorted_fruits) # [(\"mango\", 99), (\"orange\", 80), (\"grapes\", 1000)]\n",
    "\n",
    "# 4. Find the squares of numbers from 1 to 10:\n",
    "squared_numbers = [x**2 for x in range(1, 11)]\n",
    "\n",
    "print(squared_numbers) # [1, 4, 9, 16, 25, 36, 49, 64, 81, 100]\n",
    "\n",
    "# 5. Find the cube root of numbers from 1 to 10:\n",
    "import math\n",
    "\n",
    "cuberoot_numbers = [math.pow(x, 1/3) for x in range(1, 11)]\n",
    "\n",
    "print(cuberoot_numbers)\n",
    "\n",
    "# 6.Check if a given number is even:\n",
    "\n",
    "def is_even(number):\n",
    "    return number % 2 == 0\n",
    "\n",
    "print(is_even(2)) # True\n",
    "print(is_even(3)) # False\n",
    "\n",
    "# 7. Filter odd numbers from the given list:\n",
    "\n",
    "numbers = [1, 2, 3, 4, 5, 6, 7, 8, 9, 10]\n",
    "\n",
    "odd_numbers = [x for x in numbers if x % 2 != 0]\n",
    "\n",
    "print(odd_numbers) # [1, 3, 5, 7, 9]\n",
    " # 8. Sort a list of integers into positive and negative integers lists:\n",
    "\n",
    "numbers = [1, 2, 3, 4, 5, 6, -1, -2, -3, -4, -5, 0]\n",
    "\n",
    "positive_numbers = [x for x in numbers if x > 0]\n",
    "negative_numbers = [x for x in numbers if x < 0]\n",
    "\n",
    "print(positive_numbers) # [1, 2, 3, 4, 5, 6]"
   ]
  }
 ],
 "metadata": {
  "kernelspec": {
   "display_name": "Python 3 (ipykernel)",
   "language": "python",
   "name": "python3"
  },
  "language_info": {
   "codemirror_mode": {
    "name": "ipython",
    "version": 3
   },
   "file_extension": ".py",
   "mimetype": "text/x-python",
   "name": "python",
   "nbconvert_exporter": "python",
   "pygments_lexer": "ipython3",
   "version": "3.9.12"
  },
  "latex_envs": {
   "LaTeX_envs_menu_present": true,
   "autoclose": false,
   "autocomplete": true,
   "bibliofile": "biblio.bib",
   "cite_by": "apalike",
   "current_citInitial": 1,
   "eqLabelWithNumbers": true,
   "eqNumInitial": 1,
   "hotkeys": {
    "equation": "Ctrl-E",
    "itemize": "Ctrl-I"
   },
   "labels_anchors": false,
   "latex_user_defs": false,
   "report_style_numbering": false,
   "user_envs_cfg": false
  },
  "nbTranslate": {
   "displayLangs": [
    "*"
   ],
   "hotkey": "alt-t",
   "langInMainMenu": true,
   "sourceLang": "en",
   "targetLang": "fr",
   "useGoogleTranslate": true
  },
  "toc": {
   "base_numbering": 1,
   "nav_menu": {},
   "number_sections": true,
   "sideBar": true,
   "skip_h1_title": false,
   "title_cell": "Table of Contents",
   "title_sidebar": "Contents",
   "toc_cell": false,
   "toc_position": {},
   "toc_section_display": true,
   "toc_window_display": false
  },
  "varInspector": {
   "cols": {
    "lenName": 16,
    "lenType": 16,
    "lenVar": 40
   },
   "kernels_config": {
    "python": {
     "delete_cmd_postfix": "",
     "delete_cmd_prefix": "del ",
     "library": "var_list.py",
     "varRefreshCmd": "print(var_dic_list())"
    },
    "r": {
     "delete_cmd_postfix": ") ",
     "delete_cmd_prefix": "rm(",
     "library": "var_list.r",
     "varRefreshCmd": "cat(var_dic_list()) "
    }
   },
   "types_to_exclude": [
    "module",
    "function",
    "builtin_function_or_method",
    "instance",
    "_Feature"
   ],
   "window_display": false
  },
  "vscode": {
   "interpreter": {
    "hash": "bf9ab843c2c44a0abbe96a3f5fa8fc8f7b5aa1503133f196762388041b9614c2"
   }
  }
 },
 "nbformat": 4,
 "nbformat_minor": 5
}
