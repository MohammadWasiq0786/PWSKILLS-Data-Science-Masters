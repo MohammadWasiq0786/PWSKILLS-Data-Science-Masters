{
 "cells": [
  {
   "cell_type": "markdown",
   "id": "493abb64",
   "metadata": {},
   "source": [
    "![image](https://pwskills.com/images/PWSkills-main.png)\n",
    "\n",
    "# Data Science Masters\n",
    "\n",
    "## Python Assignments - 9\n",
    "\n",
    "### Date : 08 - Feb - 2023"
   ]
  },
  {
   "cell_type": "markdown",
   "id": "8d2e2dba-7af7-43c5-8c85-13cd65336ea8",
   "metadata": {},
   "source": [
    "**Q1 :** What is Abstraction in OOps?\n",
    "\n",
    "**Ans :** Abstraction in python is defined as a process of handling complexity by hiding unnecessary information from the user. This is one of the core concepts of object-oriented programming (OOP) languages. That enables the user to implement even more complex logic on top of the provided abstraction without understanding or even thinking about all the hidden background/back-end complexity.\n",
    "\n",
    "*Example :*"
   ]
  },
  {
   "cell_type": "code",
   "execution_count": 1,
   "id": "4fa288b3-8261-412f-b6bd-22804db42a2a",
   "metadata": {},
   "outputs": [
    {
     "name": "stdout",
     "output_type": "stream",
     "text": [
      "The mileage is 30kmph\n",
      "The mileage is 27kmph \n",
      "The mileage is 25kmph \n",
      "The mileage is 24kmph \n"
     ]
    }
   ],
   "source": [
    "from abc import ABC, abstractmethod   \n",
    "class Car(ABC):   \n",
    "    def mileage(self):   \n",
    "        pass  \n",
    "  \n",
    "class Tesla(Car):   \n",
    "    def mileage(self):   \n",
    "        print(\"The mileage is 30kmph\")   \n",
    "class Suzuki(Car):   \n",
    "    def mileage(self):   \n",
    "        print(\"The mileage is 25kmph \")   \n",
    "class Duster(Car):   \n",
    "     def mileage(self):   \n",
    "          print(\"The mileage is 24kmph \")   \n",
    "  \n",
    "class Renault(Car):   \n",
    "    def mileage(self):   \n",
    "            print(\"The mileage is 27kmph \")   \n",
    "          \n",
    "# Driver code   \n",
    "t= Tesla ()   \n",
    "t.mileage()   \n",
    "  \n",
    "r = Renault()   \n",
    "r.mileage()   \n",
    "  \n",
    "s = Suzuki()   \n",
    "s.mileage()   \n",
    "d = Duster()   \n",
    "d.mileage()  "
   ]
  },
  {
   "cell_type": "markdown",
   "id": "091486d9-6154-45bf-8155-62c15090fa46",
   "metadata": {},
   "source": [
    "**Q2 :** Differentiate between Abstraction and Encapsulation. Explain with an example.\n",
    "\n",
    "**Ans :** Abstraction is the process or method of gaining the information.\tWhile encapsulation is the process or method to contain the information. In abstraction, problems are solved at the design or interface level.\tWhile in encapsulation, problems are solved at the implementation level."
   ]
  },
  {
   "cell_type": "markdown",
   "id": "e920c7a4-3dc9-456b-8656-95a7ac436468",
   "metadata": {},
   "source": [
    "**Q3 :** What is abc module in python? Why is it used?\n",
    "\n",
    "**Ans :** The abc module in Python is the Abstract Base Class module. It is used to define abstract base classes, which provide a way to define interfaces in Python. An abstract base class is a class that cannot be instantiated, but can be subclassed. The purpose of an abstract base class is to specify the interface that its subclasses must implement, without specifying how that implementation should be done.\n",
    "\n",
    "The abc module provides a way to create abstract base classes in Python by using the ABC class, as well as several decorators and methods to define abstract methods and properties."
   ]
  },
  {
   "cell_type": "markdown",
   "id": "147f2ec2-e987-4ea7-b593-1c77652727d3",
   "metadata": {},
   "source": [
    "**Q4 :** How can we achieve data abstraction?\n",
    "\n",
    "**Ans :** Data abstraction is a programming concept that allows you to define the interface of an object without revealing the underlying implementation details. In other words, it provides a way to separate the implementation details of an object from the way it is used by other objects.\n",
    "\n",
    "There are several ways to achieve data abstraction in programming:\n",
    "\n",
    "1. *Abstraction through classes :* One of the most common ways to achieve data abstraction is through the use of classes. In object-oriented programming, classes provide a way to define objects with certain properties and methods, but hide the underlying implementation details from the rest of the code. For example, you can define a class with public methods that expose its behavior, but keep the implementation details private.\n",
    "\n",
    "2. *Interfaces :* An interface is a collection of abstract methods that must be implemented by any class that implements the interface. Interfaces are used to define a common set of behaviors that can be implemented by different classes, without specifying the implementation details. For example, in Java, you can define an interface that specifies the methods that must be implemented by a class that implements the interface.\n",
    "\n",
    "3. *Modules :* In some programming languages, like Python, you can use modules to define a set of related functions and variables, and hide the implementation details behind a well-defined interface. Modules provide a way to encapsulate the implementation details of a set of functions, and expose them to the rest of the code through a simple API.\n",
    "\n",
    "Information hiding: Information hiding is a programming concept that involves hiding the implementation details of an object or function behind a well-defined interface. Information hiding is used to protect the internal state of an object from being modified by external code, and to provide a clear and well-defined way for other objects to interact with the object."
   ]
  },
  {
   "cell_type": "markdown",
   "id": "6f19a55f-7343-4c78-810a-8e17b03371e6",
   "metadata": {},
   "source": [
    "**Q5 :** Can we create an instance of an abstract class? Explain your answer.\n",
    "\n",
    "**Ans :** No, you cannot create an instance of an abstract class. An abstract class is a class that cannot be instantiated on its own, but is intended to be subclassed and have its abstract methods implemented by the subclasses. The purpose of an abstract class is to provide a common interface for a set of related classes, but not to be used as a standalone object."
   ]
  }
 ],
 "metadata": {
  "kernelspec": {
   "display_name": "Python 3 (ipykernel)",
   "language": "python",
   "name": "python3"
  },
  "language_info": {
   "codemirror_mode": {
    "name": "ipython",
    "version": 3
   },
   "file_extension": ".py",
   "mimetype": "text/x-python",
   "name": "python",
   "nbconvert_exporter": "python",
   "pygments_lexer": "ipython3",
   "version": "3.9.12"
  },
  "latex_envs": {
   "LaTeX_envs_menu_present": true,
   "autoclose": false,
   "autocomplete": true,
   "bibliofile": "biblio.bib",
   "cite_by": "apalike",
   "current_citInitial": 1,
   "eqLabelWithNumbers": true,
   "eqNumInitial": 1,
   "hotkeys": {
    "equation": "Ctrl-E",
    "itemize": "Ctrl-I"
   },
   "labels_anchors": false,
   "latex_user_defs": false,
   "report_style_numbering": false,
   "user_envs_cfg": false
  },
  "nbTranslate": {
   "displayLangs": [
    "*"
   ],
   "hotkey": "alt-t",
   "langInMainMenu": true,
   "sourceLang": "en",
   "targetLang": "fr",
   "useGoogleTranslate": true
  },
  "toc": {
   "base_numbering": 1,
   "nav_menu": {},
   "number_sections": true,
   "sideBar": true,
   "skip_h1_title": false,
   "title_cell": "Table of Contents",
   "title_sidebar": "Contents",
   "toc_cell": false,
   "toc_position": {},
   "toc_section_display": true,
   "toc_window_display": false
  },
  "varInspector": {
   "cols": {
    "lenName": 16,
    "lenType": 16,
    "lenVar": 40
   },
   "kernels_config": {
    "python": {
     "delete_cmd_postfix": "",
     "delete_cmd_prefix": "del ",
     "library": "var_list.py",
     "varRefreshCmd": "print(var_dic_list())"
    },
    "r": {
     "delete_cmd_postfix": ") ",
     "delete_cmd_prefix": "rm(",
     "library": "var_list.r",
     "varRefreshCmd": "cat(var_dic_list()) "
    }
   },
   "types_to_exclude": [
    "module",
    "function",
    "builtin_function_or_method",
    "instance",
    "_Feature"
   ],
   "window_display": false
  }
 },
 "nbformat": 4,
 "nbformat_minor": 5
}
