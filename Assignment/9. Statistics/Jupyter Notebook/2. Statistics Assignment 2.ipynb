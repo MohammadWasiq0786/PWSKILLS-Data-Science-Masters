{
 "cells": [
  {
   "cell_type": "markdown",
   "id": "3f4a920a",
   "metadata": {},
   "source": [
    "![image](https://pwskills.com/images/PWSkills-main.png)\n",
    "\n",
    "# Data Science Masters\n",
    "\n",
    "## Statistics Assignments - 2\n",
    "\n",
    "### Date : 07 - Mar - 2023"
   ]
  },
  {
   "cell_type": "markdown",
   "id": "316e1f4d-16ee-43f2-85ac-5fbcd9587c49",
   "metadata": {},
   "source": [
    "**Q1 :** What are the three measures of central tendency?\n",
    "\n",
    "**Ans :** The three central tendency measures are :\n",
    "\n",
    "1. **Mean :** The mean is the average of a set of values. It is calculated by summing all the    values in a dataset and then dividing the sum by the total number of values.\n",
    "2. **Median :** The median is the middle value in a dataset when the values are arranged in ascending or descending order. If the dataset has an even number of values, the median is calculated by taking the average of the two middle values.\n",
    "3. **Mode :** The mode is the value that appears most frequently in a dataset. If there are multiple values that appear with the same frequency, then the dataset is said to have multiple modes."
   ]
  },
  {
   "cell_type": "markdown",
   "id": "8d0340e6-f24a-406b-b3a7-ce63afa1d5a9",
   "metadata": {},
   "source": [
    "**Q2 :** What is the difference between the mean, median, and mode ? How they used to measure the central tendency of a dataset?\n",
    "\n",
    "**Ans :** The mean, median, and mode are all measures of central tendency, but they differ in how they represent the center of a dataset.\n",
    "\n",
    "The **mean** is the arithmetic average of a set of values. It is calculated by adding up all the values in the dataset and dividing by the total number of values. The mean is sensitive to extreme values, which means that a few unusually high or low values can significantly impact the mean.\n",
    "\n",
    "The **median** is the middle value in a dataset when the values are arranged in order from smallest to largest. If there is an even number of values, the median is the average of the two middle values. The median is a good measure of central tendency when the dataset contains extreme values or outliers, as it is not affected by these values.\n",
    "\n",
    "The **mode** is the value that appears most frequently in a dataset. A dataset can have more than one mode if there are multiple values that appear with the same frequency. The mode is a good measure of central tendency for categorical data or discrete variables.\n",
    "\n",
    "To measure the central tendency of a dataset, you can use any of these measures depending on the nature of the data and the research question you are trying to answer. The mean is commonly used for continuous variables that are normally distributed, while the median is often used for skewed data or when outliers are present. The mode is useful for categorical data or when you want to know the most common value in a dataset."
   ]
  },
  {
   "cell_type": "markdown",
   "id": "42bfcc05-8d30-416d-a9b8-a3f428f49e1d",
   "metadata": {},
   "source": [
    "**Q3 :** Measure the three measures of central tendency for the given height data :\n",
    "```py\n",
    "[178,177,176,177,178.2,178,175,179,180,175,178.9,176.2,177,172.5,178,176.5]\n",
    "```\n",
    "\n",
    "**Ans :**"
   ]
  },
  {
   "cell_type": "code",
   "execution_count": 1,
   "id": "6f47e9fe-6c9a-4e7b-963b-601b6bc4be51",
   "metadata": {
    "ExecuteTime": {
     "end_time": "2023-06-17T10:02:58.746962Z",
     "start_time": "2023-06-17T10:02:58.717046Z"
    }
   },
   "outputs": [
    {
     "name": "stdout",
     "output_type": "stream",
     "text": [
      "Mean height is: 177.01875\n",
      "Median height is: 177.0\n",
      "Mode height is: 178\n"
     ]
    }
   ],
   "source": [
    "# importing statistics module\n",
    "import statistics \n",
    "\n",
    "# creating the height data list\n",
    "height_data = [178,177,176,177,178.2,178,175,179,180,175,178.9,176.2,177,172.5,178,176.5]\n",
    "\n",
    "# calculating the mean\n",
    "mean_height = statistics.mean(height_data)\n",
    "print(\"Mean height is:\", mean_height)\n",
    "\n",
    "# calculating the median\n",
    "median_height = statistics.median(height_data)\n",
    "print(\"Median height is:\", median_height)\n",
    "\n",
    "# calculating the mode\n",
    "mode_height = statistics.mode(height_data)\n",
    "print(\"Mode height is:\", mode_height)"
   ]
  },
  {
   "cell_type": "markdown",
   "id": "756b3f97-fb3e-4f8d-b5ae-b7524435b9f4",
   "metadata": {},
   "source": [
    "**Q4 :** Find the standard deviation for the given data:\n",
    "```py\n",
    "[178,177,176,177,178.2,178,175,179,180,175,178.9,176.2,177,172.5,178,176.5]\n",
    "```\n",
    "**Ans :**"
   ]
  },
  {
   "cell_type": "code",
   "execution_count": 2,
   "id": "c22b69c0-7337-4b95-b194-a3f9232a451a",
   "metadata": {
    "ExecuteTime": {
     "end_time": "2023-06-17T10:03:31.526117Z",
     "start_time": "2023-06-17T10:03:31.511158Z"
    }
   },
   "outputs": [
    {
     "name": "stdout",
     "output_type": "stream",
     "text": [
      "Standard deviation of height data is: 1.8472389305844188\n"
     ]
    }
   ],
   "source": [
    "# importing statistics module\n",
    "import statistics\n",
    "\n",
    "# creating the height data list\n",
    "height_data = [178,177,176,177,178.2,178,175,179,180,175,178.9,176.2,177,172.5,178,176.5]\n",
    "\n",
    "# calculating the standard deviation\n",
    "std_height = statistics.stdev(height_data)\n",
    "print(\"Standard deviation of height data is:\", std_height)"
   ]
  },
  {
   "cell_type": "markdown",
   "id": "90d81f65-1a01-42bf-b64b-524b002cccde",
   "metadata": {},
   "source": [
    "**Q5 :** How are measures of dispersion such as range, variance, and standard deviation used to describe the spread of a dataset? Provide an example.\n",
    "\n",
    "**Ans :** Measures of dispersion such as range, variance, and standard deviation are used to describe the spread or variability of a dataset. They give an idea of how spread out the data points are from the central tendency.\n",
    "\n",
    "1. **Range :** The range is the difference between the maximum and minimum values in a dataset. It gives a rough estimate of the spread of the data. For example, if we have a dataset of test scores with a range of 40, we can say that the scores are spread out over a range of 40 points.\n",
    "2. **Variance :** The variance is the average of the squared differences from the mean. It measures how much the data points deviate from the mean. A higher variance indicates a greater spread of the data. For example, if we have a dataset of the heights of students in a class with a variance of 4, we can say that the heights of the students are spread out over a range of 2 cm on either side of the mean.\n",
    "3. **Standard deviation :** The standard deviation is the square root of the variance. It measures the spread of the data in the same units as the original data. A higher standard deviation indicates a greater spread of the data. For example, if we have a dataset of the weights of apples in a basket with a standard deviation of 2 kg, we can say that the weights of the apples are spread out over a range of 4 kg on either side of the mean.\n",
    "\n",
    "As an example, consider the following dataset of test scores:\n",
    "\n",
    "```py\n",
    "[85, 90, 75, 80, 95, 70, 85, 90, 80, 75]\n",
    "```"
   ]
  },
  {
   "cell_type": "markdown",
   "id": "29cc2bd8-7685-4c79-829e-ac5ee766f3eb",
   "metadata": {},
   "source": [
    "**Q6 :** What is a Venn diagram?\n",
    "\n",
    "**Ans :** A Venn diagram is a visual representation of the relationships between sets of data. It is a diagram that shows all possible logical relations between a finite collection of sets, often represented as circles that overlap or are disjoint. Venn diagrams are commonly used to illustrate simple set relationships in logic, statistics, probability, and computer science.\n",
    "\n",
    "In a Venn diagram, each circle represents a set, and the region where the circles overlap represents the intersection of those sets. The areas outside the circles represent the complement of those sets."
   ]
  },
  {
   "cell_type": "markdown",
   "id": "8369c76e-adc7-447a-93a0-b9ccd3bb9953",
   "metadata": {},
   "source": [
    "**Q7 :** For the two given sets A = (2,3,4,5,6,7) & B = (0,2,6,8,10). Find : \n",
    "<br> (i) A ⋂ B \n",
    "<br> (ii) A ⋃ B\n",
    "\n",
    "**Ans :**"
   ]
  },
  {
   "cell_type": "code",
   "execution_count": 3,
   "id": "b7634464-b1d5-403b-9a86-fca881a68372",
   "metadata": {
    "ExecuteTime": {
     "end_time": "2023-06-17T10:05:54.604802Z",
     "start_time": "2023-06-17T10:05:54.588850Z"
    }
   },
   "outputs": [
    {
     "name": "stdout",
     "output_type": "stream",
     "text": [
      "Intersection of A and B: {2, 6}\n",
      "Union of A and B: {0, 2, 3, 4, 5, 6, 7, 8, 10}\n"
     ]
    }
   ],
   "source": [
    "# define the sets A and B\n",
    "A = {2, 3, 4, 5, 6, 7}\n",
    "B = {0, 2, 6, 8, 10}\n",
    "\n",
    "# find the intersection of A and B\n",
    "intersection = A.intersection(B)\n",
    "print(\"Intersection of A and B:\", intersection)\n",
    "\n",
    "# find the union of A and B\n",
    "union = A.union(B)\n",
    "print(\"Union of A and B:\", union)"
   ]
  },
  {
   "cell_type": "markdown",
   "id": "66f861fb-2ca5-4bce-8fa6-035225bf123e",
   "metadata": {},
   "source": [
    "**Q8 :** What do you understand about skewness in data?\n",
    "\n",
    "**Ans :** In statistics, skewness is a measure of the asymmetry of a probability distribution. Skewness refers to the degree to which the data is not symmetrically distributed around the mean. It indicates whether the data is skewed to the left or to the right of the mean.\n",
    "\n",
    "If a distribution is symmetrical, then it has zero skewness. If the tail of the distribution is longer on the right side than on the left side, then the distribution is said to be positively skewed, and it has a positive skewness. On the other hand, if the tail of the distribution is longer on the left side than on the right side, then the distribution is said to be negatively skewed, and it has a negative skewness."
   ]
  },
  {
   "cell_type": "markdown",
   "id": "b8a49122-da5a-4f1d-b805-29d8cbe295c6",
   "metadata": {},
   "source": [
    "**Q9 :** If a data is right skewed then what will be the position of median with respect to mean?\n",
    "\n",
    "**Ans :** If a data set is right-skewed, it means that the tail of the distribution is longer on the right side, and the data is concentrated on the left side of the distribution. In this case, the mean is greater than the median.\n",
    "\n",
    "To understand why this is the case, consider a right-skewed distribution like income. In this distribution, there are a small number of individuals who earn very high incomes, which pull the mean to the right. However, most people earn lower incomes, so the median is not as affected by the high earners and remains closer to the center of the distribution.\n",
    "\n",
    "Therefore, the median will be to the left of the mean in a right-skewed distribution."
   ]
  },
  {
   "cell_type": "markdown",
   "id": "6692faaa-801e-4b28-897d-0f7ad63da75d",
   "metadata": {},
   "source": [
    "**Q10 :** Explain the difference between covariance and correlation. How are these measures used in statistical analysis?\n",
    "\n",
    "**Ans :** Covariance and correlation are two statistical measures that are used to quantify the relationship between two variables.\n",
    "\n",
    "**`Covariance`** is a measure of how two variables vary together. It measures the degree to which two variables are linearly related. A positive covariance indicates that the two variables move in the same direction, while a negative covariance indicates that they move in opposite directions. However, the magnitude of covariance does not have a standardized scale and it can be affected by the scale of the variables being measured.\n",
    "\n",
    "**`Correlation`** is a measure of the strength and direction of the linear relationship between two variables. Correlation ranges from -1 to +1, where -1 indicates a perfect negative correlation, 0 indicates no correlation, and +1 indicates a perfect positive correlation. Correlation is standardized, which means that it is not affected by the scale of the variables being measured.\n",
    "\n",
    "In statistical analysis, covariance and correlation are used to assess the relationship between two variables. They help to identify patterns and trends in the data, and to determine the strength and direction of the relationship between the variables. They are also used to test hypotheses and to make predictions about the behavior of the variables."
   ]
  },
  {
   "cell_type": "markdown",
   "id": "a6ee5131-a22e-48ab-af4a-fc9ea7b16b5a",
   "metadata": {},
   "source": [
    "**Q11 :** What is the formula for calculating the sample mean? Provide an example calculation for a dataset.\n",
    "\n",
    "**Ans :** The formula for calculating the sample mean is:\n",
    "\n",
    "$$Mean= \\frac{\\sum_{i=1}^n X_i}{n}$$\n",
    "\n",
    "Sample Mean = (Sum of all observations) / (Number of observations)\n",
    "\n",
    "In other words, the sample mean is calculated by adding up all the values in a sample and dividing by the number of observations in the sample.\n",
    "\n",
    "Here is an example calculation:\n",
    "\n",
    "Suppose we have the following dataset: [4, 7, 9, 12, 15]\n",
    "\n",
    "To calculate the sample mean, we add up all the values and divide by the number of observations:\n",
    "\n",
    "Sample Mean = (4 + 7 + 9 + 12 + 15) / 5 = 47 / 5 = 9.4\n",
    "\n",
    "Therefore, the sample mean for this dataset is 9.4."
   ]
  },
  {
   "cell_type": "code",
   "execution_count": 4,
   "id": "b8793af4",
   "metadata": {
    "ExecuteTime": {
     "end_time": "2023-06-17T10:10:32.996396Z",
     "start_time": "2023-06-17T10:10:25.462682Z"
    }
   },
   "outputs": [
    {
     "data": {
      "text/html": [
       "<div>\n",
       "<style scoped>\n",
       "    .dataframe tbody tr th:only-of-type {\n",
       "        vertical-align: middle;\n",
       "    }\n",
       "\n",
       "    .dataframe tbody tr th {\n",
       "        vertical-align: top;\n",
       "    }\n",
       "\n",
       "    .dataframe thead th {\n",
       "        text-align: right;\n",
       "    }\n",
       "</style>\n",
       "<table border=\"1\" class=\"dataframe\">\n",
       "  <thead>\n",
       "    <tr style=\"text-align: right;\">\n",
       "      <th></th>\n",
       "      <th>total_bill</th>\n",
       "      <th>tip</th>\n",
       "      <th>sex</th>\n",
       "      <th>smoker</th>\n",
       "      <th>day</th>\n",
       "      <th>time</th>\n",
       "      <th>size</th>\n",
       "    </tr>\n",
       "  </thead>\n",
       "  <tbody>\n",
       "    <tr>\n",
       "      <th>0</th>\n",
       "      <td>16.99</td>\n",
       "      <td>1.01</td>\n",
       "      <td>Female</td>\n",
       "      <td>No</td>\n",
       "      <td>Sun</td>\n",
       "      <td>Dinner</td>\n",
       "      <td>2</td>\n",
       "    </tr>\n",
       "    <tr>\n",
       "      <th>1</th>\n",
       "      <td>10.34</td>\n",
       "      <td>1.66</td>\n",
       "      <td>Male</td>\n",
       "      <td>No</td>\n",
       "      <td>Sun</td>\n",
       "      <td>Dinner</td>\n",
       "      <td>3</td>\n",
       "    </tr>\n",
       "    <tr>\n",
       "      <th>2</th>\n",
       "      <td>21.01</td>\n",
       "      <td>3.50</td>\n",
       "      <td>Male</td>\n",
       "      <td>No</td>\n",
       "      <td>Sun</td>\n",
       "      <td>Dinner</td>\n",
       "      <td>3</td>\n",
       "    </tr>\n",
       "    <tr>\n",
       "      <th>3</th>\n",
       "      <td>23.68</td>\n",
       "      <td>3.31</td>\n",
       "      <td>Male</td>\n",
       "      <td>No</td>\n",
       "      <td>Sun</td>\n",
       "      <td>Dinner</td>\n",
       "      <td>2</td>\n",
       "    </tr>\n",
       "    <tr>\n",
       "      <th>4</th>\n",
       "      <td>24.59</td>\n",
       "      <td>3.61</td>\n",
       "      <td>Female</td>\n",
       "      <td>No</td>\n",
       "      <td>Sun</td>\n",
       "      <td>Dinner</td>\n",
       "      <td>4</td>\n",
       "    </tr>\n",
       "  </tbody>\n",
       "</table>\n",
       "</div>"
      ],
      "text/plain": [
       "   total_bill   tip     sex smoker  day    time  size\n",
       "0       16.99  1.01  Female     No  Sun  Dinner     2\n",
       "1       10.34  1.66    Male     No  Sun  Dinner     3\n",
       "2       21.01  3.50    Male     No  Sun  Dinner     3\n",
       "3       23.68  3.31    Male     No  Sun  Dinner     2\n",
       "4       24.59  3.61  Female     No  Sun  Dinner     4"
      ]
     },
     "execution_count": 4,
     "metadata": {},
     "output_type": "execute_result"
    }
   ],
   "source": [
    "import seaborn as sns\n",
    "\n",
    "tips=sns.load_dataset('tips')\n",
    "tips.head()"
   ]
  },
  {
   "cell_type": "code",
   "execution_count": 5,
   "id": "0b2c1f0c",
   "metadata": {
    "ExecuteTime": {
     "end_time": "2023-06-17T10:10:33.262073Z",
     "start_time": "2023-06-17T10:10:33.251101Z"
    }
   },
   "outputs": [
    {
     "name": "stdout",
     "output_type": "stream",
     "text": [
      "Mean total bill paid by customers is: 19.78594262295082\n"
     ]
    }
   ],
   "source": [
    "mean_total_bill= tips['total_bill'].mean()\n",
    "\n",
    "print(f\"Mean total bill paid by customers is: {mean_total_bill}\")"
   ]
  },
  {
   "cell_type": "markdown",
   "id": "177a5c1a-9c24-409c-bcfd-e52822f1573a",
   "metadata": {},
   "source": [
    "**Q12 :** For a normal distribution data what is the relationship between its measure of central tendency?\n",
    "\n",
    "**Ans :** For a normal distribution, the measures of central tendency, namely the mean, median, and mode, are all equal. In other words, they have the same value.\n",
    "\n",
    "This is because a normal distribution is a symmetric distribution, with equal amounts of data on both sides of the mean. The median, which is the middle value of the dataset, is also the same as the mean in a normal distribution.\n",
    "\n",
    "Additionally, the mode, which is the value that occurs most frequently in the dataset, is also equal to the mean and median in a normal distribution.\n",
    "\n",
    "Therefore, for a normal distribution, the mean, median, and mode are all the same value, and they all represent the center or midpoint of the distribution."
   ]
  },
  {
   "cell_type": "markdown",
   "id": "7f5fa8f5-aad2-477c-9db2-e08d0d40ef84",
   "metadata": {},
   "source": [
    "**Q13. :** How is covariance different from correlation?\n",
    "\n",
    "**Ans :** Covariance and correlation are both statistical measures that describe the relationship between two variables, but they differ in several important ways.\n",
    "\n",
    "**Range :** The range of covariance is unbounded, which means it can take on any value. In contrast, the range of correlation is between -1 and +1.\n",
    "\n",
    "**Standardization :** Covariance is not standardized, which means it is affected by the scale of the variables being measured. Correlation, on the other hand, is standardized, which means it is not affected by the scale of the variables.\n",
    "\n",
    "**Interpretation :** Covariance measures the direction and strength of the linear relationship between two variables. A positive covariance indicates a positive relationship between the variables, while a negative covariance indicates a negative relationship. However, it does not provide any information about the strength of the relationship. Correlation, on the other hand, provides information about both the direction and strength of the linear relationship between two variables.\n",
    "\n",
    "**Units :** Covariance is measured in units that are the product of the units of the two variables being measured. Correlation is unitless."
   ]
  },
  {
   "cell_type": "markdown",
   "id": "59bf952c-4b92-4bdd-b503-426d9ee0e592",
   "metadata": {},
   "source": [
    "**Q14 :** How do outliers affect measures of central tendency and dispersion? Provide an example.\n",
    "\n",
    "**Ans :** Outliers are data points that are significantly different from other observations in a dataset. Outliers can have a significant impact on measures of central tendency and dispersion.\n",
    "\n",
    "Measures of central tendency, such as the mean, are affected by outliers because they are calculated using all the data points in the dataset. If there are outliers present, they can significantly pull the mean in one direction or another, causing it to be an inaccurate representation of the center of the dataset.\n",
    "\n",
    "For example, suppose we have the following dataset: [2, 3, 4, 5, 6, 7, 100]. The mean of this dataset is (2+3+4+5+6+7+100) / 7 = 18.43. However, the outlier value of 100 is significantly larger than all the other values in the dataset, which makes the mean an inaccurate representation of the center of the dataset.\n",
    "\n",
    "Outliers can also affect measures of dispersion, such as the range, variance, and standard deviation. Outliers can increase the range of the dataset, which makes it difficult to interpret the spread of the data. Outliers can also increase the variance and standard deviation, which makes the spread of the data appear larger than it actually is.\n",
    "\n",
    "For example, suppose we have the following dataset: [2, 3, 4, 5, 6, 7, 100]. The range of this dataset is 98, which makes the spread of the data appear much larger than it actually is. The variance of this dataset is 1372.8, which is also significantly larger than it would be if the outlier were not present."
   ]
  },
  {
   "cell_type": "code",
   "execution_count": 6,
   "id": "5e3cc281-6562-4cb2-acaf-d03773101044",
   "metadata": {
    "ExecuteTime": {
     "end_time": "2023-06-17T10:12:25.586122Z",
     "start_time": "2023-06-17T10:12:25.561190Z"
    }
   },
   "outputs": [
    {
     "name": "stdout",
     "output_type": "stream",
     "text": [
      "Mean: 15.0\n",
      "Median: 15.0\n"
     ]
    }
   ],
   "source": [
    "# Measures of Central Tendency Without Outliers\n",
    "\n",
    "data=[10, 12, 15, 18, 20]\n",
    "\n",
    "print(f'Mean: {np.mean(data)}')\n",
    "print(f'Median: {np.median(data)}')"
   ]
  },
  {
   "cell_type": "code",
   "execution_count": 7,
   "id": "812589e8",
   "metadata": {
    "ExecuteTime": {
     "end_time": "2023-06-17T10:12:28.677144Z",
     "start_time": "2023-06-17T10:12:28.667170Z"
    }
   },
   "outputs": [
    {
     "name": "stdout",
     "output_type": "stream",
     "text": [
      "Mean: 179.16666666666666\n",
      "Median: 16.5\n"
     ]
    }
   ],
   "source": [
    "# Measures of Central Tendency With Outliers\n",
    "\n",
    "data=[10, 12, 15, 18, 20, 1000]\n",
    "\n",
    "print(f'Mean: {np.mean(data)}')\n",
    "print(f'Median: {np.median(data)}')"
   ]
  },
  {
   "cell_type": "markdown",
   "id": "dcc5aa19",
   "metadata": {},
   "source": [
    "> Note that the mean of the data that contains outlier is not an accurate representation of the mean of that data"
   ]
  },
  {
   "cell_type": "code",
   "execution_count": 8,
   "id": "24b8d249",
   "metadata": {
    "ExecuteTime": {
     "end_time": "2023-06-17T10:12:35.460478Z",
     "start_time": "2023-06-17T10:12:35.444522Z"
    }
   },
   "outputs": [
    {
     "name": "stdout",
     "output_type": "stream",
     "text": [
      "Variance: 13.6\n",
      "Standard Deviation: 3.687817782917155\n"
     ]
    }
   ],
   "source": [
    "# Measures of Dispersion Without Outliers\n",
    "\n",
    "data=[10, 12, 15, 18, 20]\n",
    "\n",
    "print(f'Variance: {np.var(data)}')\n",
    "print(f'Standard Deviation: {np.std(data)}')"
   ]
  },
  {
   "cell_type": "code",
   "execution_count": 9,
   "id": "134b2099",
   "metadata": {
    "ExecuteTime": {
     "end_time": "2023-06-17T10:12:37.316633Z",
     "start_time": "2023-06-17T10:12:37.305662Z"
    }
   },
   "outputs": [
    {
     "name": "stdout",
     "output_type": "stream",
     "text": [
      "Variance: 134764.80555555553\n",
      "Standard Deviation: 367.1032627961178\n"
     ]
    }
   ],
   "source": [
    "# Measures of Dispersion With Outliers\n",
    "\n",
    "data=[10, 12, 15, 18, 20, 1000]\n",
    "\n",
    "print(f'Variance: {np.var(data)}')\n",
    "print(f'Standard Deviation: {np.std(data)}')"
   ]
  },
  {
   "cell_type": "markdown",
   "id": "ddad6538",
   "metadata": {},
   "source": [
    "> Notice the drastic change in the variance and standard deviation of the data with outliers. These measures are not the accurate representation of the actual measures of dispersion."
   ]
  }
 ],
 "metadata": {
  "kernelspec": {
   "display_name": "Python 3 (ipykernel)",
   "language": "python",
   "name": "python3"
  },
  "language_info": {
   "codemirror_mode": {
    "name": "ipython",
    "version": 3
   },
   "file_extension": ".py",
   "mimetype": "text/x-python",
   "name": "python",
   "nbconvert_exporter": "python",
   "pygments_lexer": "ipython3",
   "version": "3.9.12"
  },
  "latex_envs": {
   "LaTeX_envs_menu_present": true,
   "autoclose": false,
   "autocomplete": true,
   "bibliofile": "biblio.bib",
   "cite_by": "apalike",
   "current_citInitial": 1,
   "eqLabelWithNumbers": true,
   "eqNumInitial": 1,
   "hotkeys": {
    "equation": "Ctrl-E",
    "itemize": "Ctrl-I"
   },
   "labels_anchors": false,
   "latex_user_defs": false,
   "report_style_numbering": false,
   "user_envs_cfg": false
  },
  "nbTranslate": {
   "displayLangs": [
    "*"
   ],
   "hotkey": "alt-t",
   "langInMainMenu": true,
   "sourceLang": "en",
   "targetLang": "fr",
   "useGoogleTranslate": true
  },
  "toc": {
   "base_numbering": 1,
   "nav_menu": {},
   "number_sections": true,
   "sideBar": true,
   "skip_h1_title": false,
   "title_cell": "Table of Contents",
   "title_sidebar": "Contents",
   "toc_cell": false,
   "toc_position": {},
   "toc_section_display": true,
   "toc_window_display": false
  },
  "varInspector": {
   "cols": {
    "lenName": 16,
    "lenType": 16,
    "lenVar": 40
   },
   "kernels_config": {
    "python": {
     "delete_cmd_postfix": "",
     "delete_cmd_prefix": "del ",
     "library": "var_list.py",
     "varRefreshCmd": "print(var_dic_list())"
    },
    "r": {
     "delete_cmd_postfix": ") ",
     "delete_cmd_prefix": "rm(",
     "library": "var_list.r",
     "varRefreshCmd": "cat(var_dic_list()) "
    }
   },
   "types_to_exclude": [
    "module",
    "function",
    "builtin_function_or_method",
    "instance",
    "_Feature"
   ],
   "window_display": false
  }
 },
 "nbformat": 4,
 "nbformat_minor": 5
}
