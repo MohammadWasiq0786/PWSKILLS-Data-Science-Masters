{
 "cells": [
  {
   "cell_type": "markdown",
   "metadata": {},
   "source": [
    "![image](https://pwskills.com/images/PWSkills-main.png)\n",
    "\n",
    "# Data Science Masters\n",
    "\n",
    "## Visualization Assignments - 4\n",
    "\n",
    "### Bokeh\n",
    "\n",
    "### Date : 05 - Mar - 2023"
   ]
  },
  {
   "cell_type": "markdown",
   "metadata": {
    "id": "Fk8HdkoK6grM"
   },
   "source": [
    "**Q1 :** How can you create a Bokeh plot using Python code?\n",
    "\n",
    "**Ans :** **Bokeh** is a Python library for creating interactive visualizations in web browsers. Here are the basic steps for creating a Bokeh plot using Python code:\n",
    "\n",
    "Import the necessary Bokeh modules: `bokeh.plotting` and `bokeh.io`.\n",
    "\n",
    "Define the data you want to plot. This can be done using a Pandas DataFrame or a Python list, for example.\n",
    "* Create a figure object using the figure() function from bokeh.plotting. This function takes various arguments to customize the plot, such as the plot width and height, x and y axis labels, etc.\n",
    "* Add the desired glyphs (markers, lines, etc.) to the plot using one of the glyph methods such as circle(), line(), or rect() from the figure object. These methods take the data and the properties of the glyph as arguments.\n",
    "* Add any desired interactive features to the plot such as tooltips, hover effects, and legends.\n",
    "* Call the `show()` function from `bokeh.io` to display the plot in a web browser."
   ]
  },
  {
   "cell_type": "code",
   "execution_count": 2,
   "metadata": {
    "id": "QzergPje6TQt"
   },
   "outputs": [],
   "source": [
    "import bokeh.plotting as bp\n",
    "import bokeh.io as bi\n",
    "import pandas as pd\n",
    "\n",
    "# Define some data to plot\n",
    "x = [1, 2, 3, 4, 5]\n",
    "y = [1, 4, 9, 16, 25]\n",
    "\n",
    "# Create a figure object\n",
    "fig = bp.figure(title='My Plot', x_axis_label='X', y_axis_label='Y')\n",
    "\n",
    "# Add a circle glyph to the plot\n",
    "fig.circle(x, y, size=10, color='navy', alpha=0.5)\n",
    "\n",
    "# Display the plot\n",
    "bi.show(fig)"
   ]
  },
  {
   "cell_type": "markdown",
   "metadata": {
    "id": "TqW9vUhH69Ig"
   },
   "source": [
    "**Q2 :** What are glyphs in Bokeh, and how can you add them to a Bokeh plot? Explain with an example.\n",
    "\n",
    "**Ans :** Glyphs in Bokeh are the visual building blocks used to create plots. Glyphs represent the different shapes and markers used to display data points, such as circles, squares, lines, etc. Each glyph is defined by a set of properties, such as position, size, color, and transparency, which are used to customize its appearance.\n",
    "\n",
    "To add glyphs to a Bokeh plot, you need to create a figure object using the figure() function from bokeh.plotting, and then call one of the glyph methods such as `circle()`, `line()`, or `rect()` from the figure object. These methods take the data and the properties of the glyph as arguments."
   ]
  },
  {
   "cell_type": "code",
   "execution_count": 3,
   "metadata": {
    "id": "j4HZZZCc67om"
   },
   "outputs": [],
   "source": [
    "import bokeh.plotting as bp\n",
    "import bokeh.io as bi\n",
    "import pandas as pd\n",
    "\n",
    "# Load the iris dataset from Bokeh\n",
    "from bokeh.sampledata.iris import flowers as iris_data\n",
    "\n",
    "# Create a figure object\n",
    "fig = bp.figure(title='Iris Scatter Plot', x_axis_label='Petal Length',\n",
    "                y_axis_label='Petal Width')\n",
    "\n",
    "# Add a circle glyph to the plot\n",
    "fig.circle(x=iris_data[\"petal_length\"], y=iris_data[\"petal_width\"],\n",
    "           size=10, color='blue', alpha=0.5)\n",
    "\n",
    "# Display the plot\n",
    "bi.show(fig)"
   ]
  },
  {
   "cell_type": "markdown",
   "metadata": {
    "id": "UmvotVXT7Ykx"
   },
   "source": [
    "**Q3 :** How can you customize the appearance of a Bokeh plot, including the axes, title, and legend?\n",
    "\n",
    "**Ans :** Bokeh provides a wide range of options to customize the appearance of a plot. Here are some of the ways to customize the appearance of a Bokeh plot. Title and Axis Labels: You can add a title and axis labels to your plot using the title, x_axis_label, and y_axis_label attributes of the figure object."
   ]
  },
  {
   "cell_type": "code",
   "execution_count": 4,
   "metadata": {
    "id": "JowTKMZ67HwZ"
   },
   "outputs": [],
   "source": [
    "fig = bp.figure(title='My Plot', x_axis_label='X Axis', y_axis_label='Y Axis'"
   ]
  },
  {
   "cell_type": "markdown",
   "metadata": {
    "id": "roIM1QDJ7efo"
   },
   "source": [
    "2. Axis Ticks and Labels: You can customize the axis ticks and labels using the major_label_text_font_size, axis_label_text_font_size, and major_tick_line_color attributes of the Axis class."
   ]
  },
  {
   "cell_type": "code",
   "execution_count": 5,
   "metadata": {
    "id": "ptn6Yo1h7bfa"
   },
   "outputs": [],
   "source": [
    "fig.xaxis.major_label_text_font_size = '14pt'\n",
    "fig.yaxis.major_label_text_font_size = '14pt'\n",
    "fig.xaxis.axis_label_text_font_size = '16pt'\n",
    "fig.yaxis.axis_label_text_font_size = '16pt'\n",
    "fig.xaxis.major_tick_line_color = 'red'\n",
    "fig.yaxis.major_tick_line_color = 'red'"
   ]
  },
  {
   "cell_type": "markdown",
   "metadata": {
    "id": "48whCFoo7rwK"
   },
   "source": [
    "3. Legend: You can add a legend to your plot using the legend attribute of the glyph methods. You can customize the location and title of the legend using the location and title attributes."
   ]
  },
  {
   "cell_type": "code",
   "execution_count": 6,
   "metadata": {
    "id": "F5Q7nNuC7l_O"
   },
   "outputs": [],
   "source": [
    "fig.circle(x='x', y='y1', size=10, color='blue', legend_label='Series 1')\n",
    "fig.line(x='x', y='y2', line_width=2, color='red', legend_label='Series 2')\n",
    "fig.legend.location = 'top_left'\n",
    "fig.legend.title = 'Legend Title'"
   ]
  },
  {
   "cell_type": "markdown",
   "metadata": {
    "id": "b1B6Jwqz70r3"
   },
   "source": [
    "4. Background: You can set the background color of your plot using the background_fill_color attribute of the figure object."
   ]
  },
  {
   "cell_type": "code",
   "execution_count": 7,
   "metadata": {
    "id": "lggOHMWr7ut9"
   },
   "outputs": [],
   "source": [
    "fig.background_fill_color = '#f2f2f2'"
   ]
  },
  {
   "cell_type": "markdown",
   "metadata": {
    "id": "CMdCTXka79IL"
   },
   "source": [
    "5. Gridlines: You can customize the appearance of the gridlines using the grid_line_color and grid_line_alpha attributes of the figure object."
   ]
  },
  {
   "cell_type": "code",
   "execution_count": 8,
   "metadata": {
    "id": "t9kmkiDU76Qi"
   },
   "outputs": [],
   "source": [
    "fig.grid.grid_line_color = 'white'\n",
    "fig.grid.grid_line_alpha = 0.5"
   ]
  },
  {
   "cell_type": "markdown",
   "metadata": {
    "id": "EEMc9mpr8Pt3"
   },
   "source": [
    "**Q4 :** What is a Bokeh server, and how can you use it to create interactive plots that can be updated in real time?\n",
    "\n",
    "**Ans :** Bokeh server is a Python library that allows you to create interactive Bokeh plots that can be updated in real-time. Bokeh server is built on top of Tornado, a scalable web framework for Python.\n",
    "\n",
    "To create an interactive plot using Bokeh server, you need to define your plot as a Bokeh Document object. The Document object contains all the Bokeh objects that make up your plot, such as figures, glyphs, and layouts. You can then add interactive widgets to your plot, such as sliders, buttons, and dropdown menus. The widgets are defined using Bokeh's models API and added to the Document.\n",
    "\n",
    "Once you have defined your plot and added interactive widgets, you can run the Bokeh server using the bokeh serve command. The Bokeh server creates a web application that serves your plot and widgets. When a user interacts with the widgets, the server updates the plot in real-time based on the user's input.\n",
    "\n",
    "Here is an example of how to create an  interactive Bokeh plot using Bokeh server:"
   ]
  },
  {
   "cell_type": "code",
   "execution_count": 9,
   "metadata": {
    "id": "He7OiEw28A0n"
   },
   "outputs": [],
   "source": [
    "from bokeh.io import curdoc\n",
    "from bokeh.layouts import column\n",
    "from bokeh.models import ColumnDataSource, Slider\n",
    "from bokeh.plotting import figure\n",
    "\n",
    "# Define the data source\n",
    "source = ColumnDataSource(data=dict(x=[1, 2, 3], y=[1, 4, 9]))\n",
    "\n",
    "# Define the plot\n",
    "plot = figure(title='Interactive Plot', x_axis_label='X', y_axis_label='Y')\n",
    "plot.line('x', 'y', source=source, line_width=2)\n",
    "\n",
    "# Define the slider widget\n",
    "slider = Slider(title='Power', value=1, start=0.1, end=5, step=0.1)\n",
    "\n",
    "# Define the callback function\n",
    "def update_data(attrname, old, new):\n",
    "    new_y = [x**slider.value for x in source.data['x']]\n",
    "    source.data = dict(x=source.data['x'], y=new_y)\n",
    "\n",
    "slider.on_change('value', update_data)\n",
    "\n",
    "# Combine the plot and slider into a layout\n",
    "layout = column(plot, slider)\n",
    "\n",
    "# Add the layout to the current document\n",
    "curdoc().add_root(layout)"
   ]
  },
  {
   "cell_type": "markdown",
   "metadata": {
    "id": "difRLG128i7a"
   },
   "source": [
    "**Q5 :** How can you embed a Bokeh plot into a web page or dashboard using Flask or Django?\n",
    "\n",
    "**Ans :**"
   ]
  },
  {
   "cell_type": "code",
   "execution_count": 10,
   "metadata": {
    "colab": {
     "base_uri": "https://localhost:8080/"
    },
    "id": "eJLyQtAr8cn6",
    "outputId": "3a08e761-133b-43c4-ba9b-fbcfc62f50f7"
   },
   "outputs": [
    {
     "name": "stdout",
     "output_type": "stream",
     "text": [
      " * Serving Flask app '__main__'\n",
      " * Debug mode: off\n"
     ]
    },
    {
     "name": "stderr",
     "output_type": "stream",
     "text": [
      "INFO:werkzeug:\u001b[31m\u001b[1mWARNING: This is a development server. Do not use it in a production deployment. Use a production WSGI server instead.\u001b[0m\n",
      " * Running on http://127.0.0.1:5000\n",
      "INFO:werkzeug:\u001b[33mPress CTRL+C to quit\u001b[0m\n"
     ]
    }
   ],
   "source": [
    "from flask import Flask, render_template\n",
    "from bokeh.embed import components\n",
    "from bokeh.plotting import figure\n",
    "from bokeh.resources import CDN\n",
    "\n",
    "app = Flask(__name__)\n",
    "\n",
    "@app.route('/')\n",
    "def index():\n",
    "    # Create the plot\n",
    "    plot = figure(title='My Plot', x_axis_label='X', y_axis_label='Y')\n",
    "    plot.line([1, 2, 3], [1, 4, 9])\n",
    "\n",
    "    # Generate the HTML components\n",
    "    script, div = components(plot)\n",
    "\n",
    "    # Render the template with the plot components\n",
    "    return render_template('index.html', script=script, div=div, cdn_js=CDN.js_files[0], cdn_css=CDN.css_files[0])\n",
    "\n",
    "if __name__ == '__main__':\n",
    "    app.run()"
   ]
  }
 ],
 "metadata": {
  "colab": {
   "provenance": [],
   "toc_visible": true
  },
  "kernelspec": {
   "display_name": "Python 3 (ipykernel)",
   "language": "python",
   "name": "python3"
  },
  "language_info": {
   "codemirror_mode": {
    "name": "ipython",
    "version": 3
   },
   "file_extension": ".py",
   "mimetype": "text/x-python",
   "name": "python",
   "nbconvert_exporter": "python",
   "pygments_lexer": "ipython3",
   "version": "3.9.12"
  },
  "latex_envs": {
   "LaTeX_envs_menu_present": true,
   "autoclose": false,
   "autocomplete": true,
   "bibliofile": "biblio.bib",
   "cite_by": "apalike",
   "current_citInitial": 1,
   "eqLabelWithNumbers": true,
   "eqNumInitial": 1,
   "hotkeys": {
    "equation": "Ctrl-E",
    "itemize": "Ctrl-I"
   },
   "labels_anchors": false,
   "latex_user_defs": false,
   "report_style_numbering": false,
   "user_envs_cfg": false
  },
  "nbTranslate": {
   "displayLangs": [
    "*"
   ],
   "hotkey": "alt-t",
   "langInMainMenu": true,
   "sourceLang": "en",
   "targetLang": "fr",
   "useGoogleTranslate": true
  },
  "toc": {
   "base_numbering": 1,
   "nav_menu": {},
   "number_sections": true,
   "sideBar": true,
   "skip_h1_title": false,
   "title_cell": "Table of Contents",
   "title_sidebar": "Contents",
   "toc_cell": false,
   "toc_position": {},
   "toc_section_display": true,
   "toc_window_display": false
  },
  "varInspector": {
   "cols": {
    "lenName": 16,
    "lenType": 16,
    "lenVar": 40
   },
   "kernels_config": {
    "python": {
     "delete_cmd_postfix": "",
     "delete_cmd_prefix": "del ",
     "library": "var_list.py",
     "varRefreshCmd": "print(var_dic_list())"
    },
    "r": {
     "delete_cmd_postfix": ") ",
     "delete_cmd_prefix": "rm(",
     "library": "var_list.r",
     "varRefreshCmd": "cat(var_dic_list()) "
    }
   },
   "types_to_exclude": [
    "module",
    "function",
    "builtin_function_or_method",
    "instance",
    "_Feature"
   ],
   "window_display": false
  }
 },
 "nbformat": 4,
 "nbformat_minor": 1
}
