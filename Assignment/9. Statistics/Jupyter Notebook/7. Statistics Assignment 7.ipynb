{
 "cells": [
  {
   "cell_type": "markdown",
   "id": "990205fd-addd-4acb-aef4-9b4bfb9e3cf8",
   "metadata": {},
   "source": [
    "![image](https://pwskills.com/images/PWSkills-main.png)\n",
    "\n",
    "# Data Science Masters\n",
    "\n",
    "## Statistics Assignments - 7\n",
    "\n",
    "### Date : 12 - Mar - 2023"
   ]
  },
  {
   "cell_type": "markdown",
   "id": "fe4fb26f-d132-49e5-85da-92f0990e4a55",
   "metadata": {},
   "source": [
    "**Q1 :** Calculate the 95% confidence interval for a sample of data with a mean of 50 and a standard deviation of 5 using Python. Interpret the results.\n",
    "\n",
    "**Ans :** To calculate the 95% confidence interval for a sample of data with a mean of 50 and a standard deviation of 5 using Python, we can use the scipy.stats module. Specifically, we can use the t.interval() function from this module, which calculates the confidence interval for a given sample mean, sample size, and confidence level, assuming that the underlying population follows a normal distribution.\n",
    "\n",
    "Here's the Python code to calculate the 95% confidence interval for the given sample data:"
   ]
  },
  {
   "cell_type": "code",
   "execution_count": 2,
   "id": "d7c2bdf7-a47e-4010-95ec-758831c8b3fd",
   "metadata": {},
   "outputs": [
    {
     "name": "stdout",
     "output_type": "stream",
     "text": [
      "The 95% confidence interval is (49.00789152424566, 50.99210847575434)\n"
     ]
    }
   ],
   "source": [
    "import scipy.stats as stats\n",
    "import numpy as np\n",
    "sample_mean = 50\n",
    "sample_std = 5\n",
    "sample_size = 100 # assuming a sample size of 100 for illustration purposes\n",
    "\n",
    "# Calculate the 95% confidence interval using the t-distribution\n",
    "ci = stats.t.interval(0.95, df=sample_size-1, loc=sample_mean, scale=sample_std/np.sqrt(sample_size))\n",
    "\n",
    "# Print the results\n",
    "print(f\"The 95% confidence interval is {ci}\")"
   ]
  },
  {
   "cell_type": "markdown",
   "id": "8d9206bc-686b-4aa4-b6f5-bb25b558af69",
   "metadata": {},
   "source": []
  },
  {
   "cell_type": "markdown",
   "id": "7f06e6bf-a6cc-4afc-835f-8ab91e768f68",
   "metadata": {},
   "source": [
    "**Q2 :** Conduct a chi-square goodness of fit test to determine if the distribution of colors of M&Ms in a bag matches the expected distribution of 20% blue, 20% orange, 20% green, 10% yellow, 10% red, and 20% brown. Use Python to perform the test with a significance level of 0.05.\n",
    "\n",
    "**Ans :** To conduct a chi-square goodness of fit test in Python, we can use the scipy.stats module. Specifically, we can use the chisquare() function from this module, which calculates the chi-square test statistic and p-value for a given set of observed and expected frequencies.\n",
    "\n",
    "Here's the Python code to conduct a chi-square goodness of fit test for the distribution of colors of M&Ms in a bag:"
   ]
  },
  {
   "cell_type": "code",
   "execution_count": 4,
   "id": "f9289f2a-ba64-4641-a182-e9feb9994726",
   "metadata": {},
   "outputs": [
    {
     "name": "stdout",
     "output_type": "stream",
     "text": [
      "The chi-square test statistic is 21.250\n",
      "The p-value is 0.001\n",
      "We reject the null hypothesis that the observed distribution of colors matches the expected distribution.\n"
     ]
    }
   ],
   "source": [
    "import numpy as np\n",
    "import scipy.stats as stats\n",
    "\n",
    "# Observed frequencies\n",
    "obs = np.array([48, 27, 24, 15, 10, 16])\n",
    "\n",
    "# Expected frequencies (assuming equal distribution of colors)\n",
    "exp = np.array([0.2, 0.2, 0.2, 0.1, 0.1, 0.2]) * np.sum(obs)\n",
    "\n",
    "# Calculate the chi-square test statistic and p-value\n",
    "stat, pval = stats.chisquare(obs, f_exp=exp)\n",
    "\n",
    "# Print the results\n",
    "print(f\"The chi-square test statistic is {stat:.3f}\")\n",
    "print(f\"The p-value is {pval:.3f}\")\n",
    "\n",
    "if pval < 0.05:\n",
    "    print(\"We reject the null hypothesis that the observed distribution of colors matches the expected distribution.\")\n",
    "else:\n",
    "    print(\"We fail to reject the null hypothesis that the observed distribution of colors matches the expected distribution.\")\n"
   ]
  },
  {
   "attachments": {},
   "cell_type": "markdown",
   "id": "9af173d1-ae56-4107-be5b-237bbffdda4b",
   "metadata": {},
   "source": [
    "**Q3 :**  Use Python to calculate the chi-square statistic and p-value for a contingency table with the following data:\n",
    "\n",
    "|           | **Group A** | **Group B** |\n",
    "| --------- | ----------- | ----------- |\n",
    "| Outcome 1 |    20       |      15     |\n",
    "| Outcome 2 |    10       |      25     |\n",
    "| Outcome 3 |    15       |      20     |\n",
    "\n",
    "Interpret the results of the test.\n",
    "\n",
    "**Ans :**"
   ]
  },
  {
   "cell_type": "code",
   "execution_count": 15,
   "id": "8146e1dc-7ed3-4266-b2fe-f81ecdebd8a7",
   "metadata": {},
   "outputs": [
    {
     "name": "stdout",
     "output_type": "stream",
     "text": [
      "Chi-square statistic: 5.833333333333334\n",
      "P-value: 0.05411376622282158\n",
      "Degrees of freedom: 2\n",
      "Expected frequencies:\n",
      " [[15. 20.]\n",
      " [15. 20.]\n",
      " [15. 20.]]\n"
     ]
    }
   ],
   "source": [
    "import numpy as np\n",
    "from scipy.stats import chi2_contingency\n",
    "\n",
    "# Define the contingency table\n",
    "observed = np.array([[20, 15], [10, 25], [15, 20]])\n",
    "\n",
    "# Calculate the chi-square statistic, p-value, degrees of freedom, and expected frequencies\n",
    "chi2, p, dof, expected = chi2_contingency(observed)\n",
    "\n",
    "# Print the results\n",
    "print(f\"Chi-square statistic: {chi2}\")\n",
    "print(f\"P-value: {p}\")\n",
    "print(f\"Degrees of freedom: {dof}\")\n",
    "print(\"Expected frequencies:\\n\", expected)\n"
   ]
  },
  {
   "cell_type": "markdown",
   "id": "32bb0616-6955-4c8a-aa28-df0cabee97bd",
   "metadata": {},
   "source": []
  },
  {
   "cell_type": "markdown",
   "id": "d9d1a6c1-5f7e-4e57-95c1-6e06251ffdbb",
   "metadata": {},
   "source": [
    "**Q4 :** A study of the prevalence of smoking in a population of 500 individuals found that 60 individuals smoked. Use Python to calculate the 95% confidence interval for the true proportion of individuals in the population who smoke.\n",
    "\n",
    "**Ans :** To calculate the 95% confidence interval for the true proportion of individuals in the population who smoke, we can use the formula:\n",
    "\n",
    "CI = p ± z*(sqrt(p*(1-p)/n))\n",
    "\n",
    "Where:\n",
    "\n",
    "p is the sample proportion (number of individuals who smoke divided by the total sample size)\n",
    "z is the critical value from the standard normal distribution for the desired confidence level (95% confidence level corresponds to z=1.96)\n",
    "n is the sample size\n",
    "Using Python, we can calculate this as follows:"
   ]
  },
  {
   "cell_type": "code",
   "execution_count": 3,
   "id": "697fd375-c010-411f-b773-88a47e1c176b",
   "metadata": {},
   "outputs": [
    {
     "name": "stdout",
     "output_type": "stream",
     "text": [
      "95% Confidence Interval: (0.0915, 0.1485)\n"
     ]
    }
   ],
   "source": [
    "import math\n",
    "\n",
    "# sample size\n",
    "n = 500\n",
    "\n",
    "# number of individuals who smoke\n",
    "x = 60\n",
    "\n",
    "# sample proportion\n",
    "p = x/n\n",
    "\n",
    "# critical value for 95% confidence level\n",
    "z = 1.96\n",
    "\n",
    "# calculate standard error\n",
    "se = math.sqrt(p*(1-p)/n)\n",
    "\n",
    "# calculate confidence interval\n",
    "lower = p - z*se\n",
    "upper = p + z*se\n",
    "\n",
    "print(\"95% Confidence Interval: ({:.4f}, {:.4f})\".format(lower, upper))\n"
   ]
  },
  {
   "cell_type": "markdown",
   "id": "4bb71af1-4463-4ca5-b177-ecb2f9a12784",
   "metadata": {},
   "source": []
  },
  {
   "cell_type": "markdown",
   "id": "8008090f-225d-4f9c-b308-d6ea11bfbced",
   "metadata": {},
   "source": [
    "**Q5 :** Calculate the 90% confidence interval for a sample of data with a mean of 75 and a standard deviation of 12 using Python. Interpret the results.\n",
    "\n",
    "**Ans :** To calculate the 90% confidence interval for a sample of data with a mean of 75 and a standard deviation of 12, we can use the formula:\n",
    "\n",
    "CI = x̄ ± z*(s/√n)\n",
    "\n",
    "Where:\n",
    "\n",
    "x̄ is the sample mean\n",
    "<br> s is the sample standard deviation\n",
    "<br> n is the sample size\n",
    "<br> z is the critical value from the standard normal distribution for the desired confidence level (90% confidence level corresponds to z=1.645)\n",
    "\n",
    "Using Python, we can calculate this as follows:"
   ]
  },
  {
   "cell_type": "code",
   "execution_count": 5,
   "id": "65927bf1-e078-42d7-ac3a-d6feafbf59a2",
   "metadata": {},
   "outputs": [
    {
     "name": "stdout",
     "output_type": "stream",
     "text": [
      "90% Confidence Interval: (73.0260, 76.9740)\n"
     ]
    }
   ],
   "source": [
    "import math\n",
    "\n",
    "# sample mean\n",
    "x_bar = 75\n",
    "\n",
    "# sample standard deviation\n",
    "s = 12\n",
    "\n",
    "# sample size\n",
    "n = 100\n",
    "\n",
    "# critical value for 90% confidence level\n",
    "z = 1.645\n",
    "\n",
    "# calculate standard error\n",
    "se = s/math.sqrt(n)\n",
    "\n",
    "# calculate confidence interval\n",
    "lower = x_bar - z*se\n",
    "upper = x_bar + z*se\n",
    "\n",
    "print(\"90% Confidence Interval: ({:.4f}, {:.4f})\".format(lower, upper))\n"
   ]
  },
  {
   "cell_type": "markdown",
   "id": "5a9b465d-94f1-4a2a-bab8-1c3e00760a61",
   "metadata": {},
   "source": [
    "**Q6 :** Use Python to plot the chi-square distribution with 10 degrees of freedom. Label the axes and shade the area corresponding to a chi-square statistic of 15.\n",
    "\n",
    "**Ans :**"
   ]
  },
  {
   "cell_type": "code",
   "execution_count": 6,
   "id": "5cee7ec1-c067-424a-b65f-12effa394779",
   "metadata": {},
   "outputs": [
    {
     "data": {
      "image/png": "[encoded data removed]",
      "text/plain": [
       "<Figure size 800x400 with 1 Axes>"
      ]
     },
     "metadata": {},
     "output_type": "display_data"
    }
   ],
   "source": [
    "import numpy as np\n",
    "import matplotlib.pyplot as plt\n",
    "from scipy.stats import chi2\n",
    "\n",
    "# degrees of freedom\n",
    "df = 10\n",
    "\n",
    "# x-values for the plot\n",
    "x = np.linspace(0, 30, 500)\n",
    "\n",
    "# probability density function values\n",
    "pdf = chi2.pdf(x, df)\n",
    "\n",
    "# create the plot\n",
    "fig, ax = plt.subplots(figsize=(8, 4))\n",
    "ax.plot(x, pdf, color='black', linewidth=2)\n",
    "\n",
    "# shade the area corresponding to a chi-square statistic of 15\n",
    "x_shade = np.linspace(15, 30, 500)\n",
    "ax.fill_between(x_shade, chi2.pdf(x_shade, df), color='blue', alpha=0.3)\n",
    "\n",
    "# add labels and a title\n",
    "ax.set_xlabel('Chi-Square Statistic')\n",
    "ax.set_ylabel('Probability Density')\n",
    "ax.set_title('Chi-Square Distribution with 10 Degrees of Freedom')\n",
    "\n",
    "# show the plot\n",
    "plt.show()\n"
   ]
  },
  {
   "cell_type": "markdown",
   "id": "cd0af1c0-44e7-45f8-93eb-b646ba20d99c",
   "metadata": {},
   "source": [
    "**Q7 :** A random sample of 1000 people was asked if they preferred Coke or Pepsi. Of the sample, 520 preferred Coke. Calculate a 99% confidence interval for the true proportion of people in the population who prefer Coke.\n",
    "\n",
    "**Ans :**"
   ]
  },
  {
   "cell_type": "code",
   "execution_count": 7,
   "id": "49f70af7-e7a6-4bc7-bbee-70e25958e182",
   "metadata": {},
   "outputs": [
    {
     "name": "stdout",
     "output_type": "stream",
     "text": [
      "99% Confidence Interval: (0.4793, 0.5607)\n"
     ]
    }
   ],
   "source": [
    "import math\n",
    "\n",
    "# sample size\n",
    "n = 1000\n",
    "\n",
    "# number of individuals who prefer Coke\n",
    "x = 520\n",
    "\n",
    "# sample proportion\n",
    "p = x/n\n",
    "\n",
    "# critical value for 99% confidence level\n",
    "z = 2.576\n",
    "\n",
    "# calculate standard error\n",
    "se = math.sqrt(p*(1-p)/n)\n",
    "\n",
    "# calculate confidence interval\n",
    "lower = p - z*se\n",
    "upper = p + z*se\n",
    "\n",
    "print(\"99% Confidence Interval: ({:.4f}, {:.4f})\".format(lower, upper))\n"
   ]
  },
  {
   "cell_type": "markdown",
   "id": "38fbabe1-c70a-4f2d-ba34-53d9ee8a73c8",
   "metadata": {},
   "source": [
    "**Q8 :** A researcher hypothesizes that a coin is biased towards tails. They flip the coin 100 times and observe 45 tails. Conduct a chi-square goodness of fit test to determine if the observed frequencies match the expected frequencies of a fair coin. Use a significance level of 0.05.\n",
    "\n",
    "**Ans :**"
   ]
  },
  {
   "cell_type": "code",
   "execution_count": 9,
   "id": "dbf11277-0376-4f85-b462-dad3784c44c4",
   "metadata": {},
   "outputs": [
    {
     "name": "stdout",
     "output_type": "stream",
     "text": [
      "Fail to reject the null hypothesis. The coin is fair.\n"
     ]
    }
   ],
   "source": [
    "import scipy.stats as stats\n",
    "\n",
    "# Define null hypothesis, alternative hypothesis, and significance level\n",
    "null_hypothesis = \"The coin is fair.\"\n",
    "alternative_hypothesis = \"The coin is biased towards tails.\"\n",
    "significance_level = 0.05\n",
    "\n",
    "# Define observed values and expected values\n",
    "observed_values = [45, 55]  # 45 tails, 55 heads\n",
    "expected_values = [50, 50]  # assuming a fair coin\n",
    "\n",
    "# Calculate the chi-square statistic and p-value\n",
    "chi_square_statistic, p_value = stats.chisquare(observed_values, expected_values)\n",
    "\n",
    "# Compare p-value to significance level to determine whether to reject null hypothesis\n",
    "if p_value < significance_level:\n",
    "    print(f\"Reject the null hypothesis. {alternative_hypothesis}\")\n",
    "else:\n",
    "    print(f\"Fail to reject the null hypothesis. {null_hypothesis}\")\n"
   ]
  },
  {
   "attachments": {},
   "cell_type": "markdown",
   "id": "b5c60266-612c-4849-92d0-36d3eb8e1c30",
   "metadata": {},
   "source": [
    "**Q9 :** A study was conducted to determine if there is an association between smoking status (smoker or non-smoker) and lung cancer diagnosis (yes or no). The results are shown in the contingency table below. Conduct a chi-square test for independence to determine if there is a significant association between smoking status and lung cancer diagnosis.\n",
    "\n",
    "|            | **Lung Cancer : `Yes`** | **Lung Cancer : `No`** |\n",
    "| ---------- | ----------------------- | ---------------------- |\n",
    "| Smoker     |    60                   |       140              |\n",
    "| Non-Smoker |    30                   |      170               |\n",
    "\n",
    "**Ans :**"
   ]
  },
  {
   "cell_type": "code",
   "execution_count": 8,
   "id": "9f5dcadb-70a4-4742-8cbf-4f6799887274",
   "metadata": {},
   "outputs": [
    {
     "name": "stdout",
     "output_type": "stream",
     "text": [
      "Chi-square test statistic:  12.057347670250895\n",
      "Degrees of freedom:  1\n",
      "P-value:  0.0005158863863703744\n",
      "Expected frequencies: \n",
      " [[ 45. 155.]\n",
      " [ 45. 155.]]\n"
     ]
    }
   ],
   "source": [
    "import scipy.stats as stats\n",
    "import numpy as np\n",
    "\n",
    "# Create the contingency table\n",
    "obs = np.array([[60, 140], [30, 170]])\n",
    "\n",
    "# Calculate the chi-square test statistic, p-value, degrees of freedom and expected frequencies\n",
    "chi2_stat, p_val, dof, expected_freq = stats.chi2_contingency(obs)\n",
    "\n",
    "# Print the results\n",
    "print(\"Chi-square test statistic: \", chi2_stat)\n",
    "print(\"Degrees of freedom: \", dof)\n",
    "print(\"P-value: \", p_val)\n",
    "print(\"Expected frequencies: \\n\", expected_freq)\n"
   ]
  },
  {
   "attachments": {},
   "cell_type": "markdown",
   "id": "468f7126-3802-4458-96d6-eeae161a400c",
   "metadata": {},
   "source": [
    "**Q10 :** A study was conducted to determine if the proportion of people who prefer milk chocolate, dark chocolate, or white chocolate is different in the U.S. versus the U.K. A random sample of 500 people from the U.S. and a random sample of 500 people from the U.K. were surveyed. The results are shown in the contingency table below. Conduct a chi-square test for independence to determine if there is a significant association between chocolate preference and country of origin.\n",
    "\n",
    "|                  | **Milk Chocolate** | **Dark Chocolate** |\n",
    "| ---------------- | ------------------ | ------------------ |\n",
    "| U.S. (n=500)     |    200             |       150          |\n",
    "| U.K. (n=500)     |    225             |       175          |\n",
    "\n",
    "**Ans :**"
   ]
  },
  {
   "cell_type": "code",
   "execution_count": 10,
   "id": "a73c5dd9-9957-4428-88f9-53794bcb8ed0",
   "metadata": {},
   "outputs": [
    {
     "name": "stdout",
     "output_type": "stream",
     "text": [
      "Reject the null hypothesis. There is an association between chocolate preference and country of origin.\n",
      "Observed values:\n",
      "[[200 150 150]\n",
      " [225 175 100]]\n",
      "Expected values:\n",
      "[[212.5 162.5 125. ]\n",
      " [212.5 162.5 125. ]]\n",
      "Chi-square statistic: 13.393665158371041\n",
      "P-value: 0.0012348168997745918\n"
     ]
    }
   ],
   "source": [
    "import numpy as np\n",
    "import scipy.stats as stats\n",
    "\n",
    "# Define null hypothesis, alternative hypothesis, and significance level\n",
    "null_hypothesis = \"There is no association between chocolate preference and country of origin.\"\n",
    "alternative_hypothesis = \"There is an association between chocolate preference and country of origin.\"\n",
    "significance_level = 0.01\n",
    "\n",
    "# Define observed values\n",
    "observed_values = np.array([[200, 150, 150], [225, 175, 100]])\n",
    "\n",
    "# Calculate expected values\n",
    "row_totals = observed_values.sum(axis=1)\n",
    "column_totals = observed_values.sum(axis=0)\n",
    "sample_size = observed_values.sum()\n",
    "expected_values = np.outer(row_totals, column_totals) / sample_size\n",
    "\n",
    "# Calculate the chi-square statistic and p-value\n",
    "chi_square_statistic, p_value, _, _ = stats.chi2_contingency(observed_values)\n",
    "\n",
    "# Compare p-value to significance level to determine whether to reject null hypothesis\n",
    "if p_value < significance_level:\n",
    "    print(f\"Reject the null hypothesis. {alternative_hypothesis}\")\n",
    "else:\n",
    "    print(f\"Fail to reject the null hypothesis. {null_hypothesis}\")\n",
    "\n",
    "# Print the observed and expected values, and the chi-square statistic and p-value\n",
    "print(\"Observed values:\")\n",
    "print(observed_values)\n",
    "print(\"Expected values:\")\n",
    "print(expected_values)\n",
    "print(f\"Chi-square statistic: {chi_square_statistic}\")\n",
    "print(f\"P-value: {p_value}\")"
   ]
  },
  {
   "cell_type": "markdown",
   "id": "025e8e57-5503-4bbe-9c49-5abedd53a043",
   "metadata": {},
   "source": [
    "**Q11 :** A random sample of 30 people was selected from a population with an unknown mean and standard deviation. The sample mean was found to be 72 and the sample standard deviation was found to be 10. Conduct a hypothesis test to determine if the population mean is significantly different from 70. Use a significance level of 0.05.\n",
    "\n",
    "**Ans :**"
   ]
  },
  {
   "cell_type": "code",
   "execution_count": 14,
   "id": "7bd07a40-ba2b-4099-ace0-d8913353213f",
   "metadata": {},
   "outputs": [
    {
     "name": "stdout",
     "output_type": "stream",
     "text": [
      "Fail to reject the null hypothesis. The population mean is equal to 70.\n",
      "t-statistic: nan\n",
      "p-value: nan\n",
      "95% confidence interval for population mean: (68.265938632419, 75.734061367581)\n"
     ]
    },
    {
     "name": "stderr",
     "output_type": "stream",
     "text": [
      "/tmp/ipykernel_77/2784087827.py:15: RuntimeWarning: Precision loss occurred in moment calculation due to catastrophic cancellation. This occurs when the data are nearly identical. Results may be unreliable.\n",
      "  t_statistic, p_value = stats.ttest_1samp([sample_mean], hypothesized_mean)\n",
      "/opt/conda/lib/python3.10/site-packages/scipy/stats/_stats_py.py:1253: RuntimeWarning: divide by zero encountered in divide\n",
      "  var *= np.divide(n, n-ddof)  # to avoid error on division by zero\n",
      "/opt/conda/lib/python3.10/site-packages/scipy/stats/_stats_py.py:1253: RuntimeWarning: invalid value encountered in double_scalars\n",
      "  var *= np.divide(n, n-ddof)  # to avoid error on division by zero\n"
     ]
    }
   ],
   "source": [
    "import scipy.stats as stats\n",
    "\n",
    "# Define null hypothesis, alternative hypothesis, and significance level\n",
    "null_hypothesis = \"The population mean is equal to 70.\"\n",
    "alternative_hypothesis = \"The population mean is not equal to 70.\"\n",
    "significance_level = 0.05\n",
    "\n",
    "# Define sample mean, sample standard deviation, sample size, and hypothesized population mean\n",
    "sample_mean = 72\n",
    "sample_std_dev = 10\n",
    "sample_size = 30\n",
    "hypothesized_mean = 70\n",
    "\n",
    "# Calculate the t-statistic and p-value\n",
    "t_statistic, p_value = stats.ttest_1samp([sample_mean], hypothesized_mean)\n",
    "\n",
    "# Compare p-value to significance level to determine whether to reject null hypothesis\n",
    "if p_value < significance_level:\n",
    "    print(f\"Reject the null hypothesis. {alternative_hypothesis}\")\n",
    "else:\n",
    "    print(f\"Fail to reject the null hypothesis. {null_hypothesis}\")\n",
    "\n",
    "# Print the t-statistic, p-value, and 95% confidence interval for the population mean\n",
    "print(f\"t-statistic: {t_statistic}\")\n",
    "print(f\"p-value: {p_value}\")\n",
    "print(f\"95% confidence interval for population mean: {stats.t.interval(0.95, sample_size-1, loc=sample_mean, scale=sample_std_dev/np.sqrt(sample_size))}\")"
   ]
  }
 ],
 "metadata": {
  "kernelspec": {
   "display_name": "Python 3 (ipykernel)",
   "language": "python",
   "name": "python3"
  },
  "language_info": {
   "codemirror_mode": {
    "name": "ipython",
    "version": 3
   },
   "file_extension": ".py",
   "mimetype": "text/x-python",
   "name": "python",
   "nbconvert_exporter": "python",
   "pygments_lexer": "ipython3",
   "version": "3.9.12"
  },
  "latex_envs": {
   "LaTeX_envs_menu_present": true,
   "autoclose": false,
   "autocomplete": true,
   "bibliofile": "biblio.bib",
   "cite_by": "apalike",
   "current_citInitial": 1,
   "eqLabelWithNumbers": true,
   "eqNumInitial": 1,
   "hotkeys": {
    "equation": "Ctrl-E",
    "itemize": "Ctrl-I"
   },
   "labels_anchors": false,
   "latex_user_defs": false,
   "report_style_numbering": false,
   "user_envs_cfg": false
  },
  "nbTranslate": {
   "displayLangs": [
    "*"
   ],
   "hotkey": "alt-t",
   "langInMainMenu": true,
   "sourceLang": "en",
   "targetLang": "fr",
   "useGoogleTranslate": true
  },
  "toc": {
   "base_numbering": 1,
   "nav_menu": {},
   "number_sections": true,
   "sideBar": true,
   "skip_h1_title": false,
   "title_cell": "Table of Contents",
   "title_sidebar": "Contents",
   "toc_cell": false,
   "toc_position": {},
   "toc_section_display": true,
   "toc_window_display": false
  },
  "varInspector": {
   "cols": {
    "lenName": 16,
    "lenType": 16,
    "lenVar": 40
   },
   "kernels_config": {
    "python": {
     "delete_cmd_postfix": "",
     "delete_cmd_prefix": "del ",
     "library": "var_list.py",
     "varRefreshCmd": "print(var_dic_list())"
    },
    "r": {
     "delete_cmd_postfix": ") ",
     "delete_cmd_prefix": "rm(",
     "library": "var_list.r",
     "varRefreshCmd": "cat(var_dic_list()) "
    }
   },
   "types_to_exclude": [
    "module",
    "function",
    "builtin_function_or_method",
    "instance",
    "_Feature"
   ],
   "window_display": false
  }
 },
 "nbformat": 4,
 "nbformat_minor": 5
}
