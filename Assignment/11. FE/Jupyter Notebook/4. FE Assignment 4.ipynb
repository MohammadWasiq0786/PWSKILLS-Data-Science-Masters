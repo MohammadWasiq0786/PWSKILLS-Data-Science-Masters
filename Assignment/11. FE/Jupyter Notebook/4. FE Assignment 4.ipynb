{
 "cells": [
  {
   "cell_type": "markdown",
   "id": "c41947e9",
   "metadata": {},
   "source": [
    "![image](https://pwskills.com/images/PWSkills-main.png)\n",
    "\n",
    "# Data Science Masters\n",
    "\n",
    "## Feature Engineering Assignments - 4\n",
    "\n",
    "### Date : 21 - Mar - 2023"
   ]
  },
  {
   "cell_type": "markdown",
   "id": "5b0d3786-fce4-426a-91ec-9e7f1a8ac0b0",
   "metadata": {},
   "source": [
    "**Q1. What is the difference between Ordinal Encoding and Label Encoding? Provide an example of when you might choose one over the other.**\n",
    "\n",
    "**Ans :** Ordinal encoding and label encoding are both techniques used to convert categorical variables into numerical representations, but they differ in how they assign these numerical values.\n",
    "\n",
    "**Ordinal encoding** assigns a unique integer value to each category in a categorical variable based on its order or rank. For example, if we have a variable called \"education level\" with categories \"high school,\" \"college,\" and \"graduate school,\" we might assign the values 1, 2, and 3 respectively, based on the order of the categories.\n",
    "\n",
    "**Label encoding**, on the other hand, assigns a unique integer value to each category in a categorical variable without considering any order or rank. For example, if we have a variable called \"color\" with categories \"red,\" \"green,\" and \"blue,\" we might assign the values 1, 2, and 3 respectively, without considering any inherent order to the categories.\n",
    "\n",
    "In general, ordinal encoding is used when there is an inherent order or ranking to the categories, such as in the example of \"education level.\" Label encoding, on the other hand, is used when there is no inherent order to the categories, such as in the example of \"color.\"\n",
    "\n",
    "An example of when we might choose one over the other is when working with data that has an ordinal categorical variable, such as \"education level.\" In this case, we would want to use ordinal encoding to preserve the order of the categories. On the other hand, if we were working with a categorical variable such as \"color,\" we would want to use label encoding because there is no inherent order to the categories."
   ]
  },
  {
   "cell_type": "markdown",
   "id": "9b09eefe-025e-4c2f-b193-cbb1a38cc52a",
   "metadata": {},
   "source": [
    "**Q2. Explain how Target Guided Ordinal Encoding works and provide an example of when you might use it in a machine learning project.**\n",
    "\n",
    "**Ans :** **Target Guided Ordinal Encoding** is a technique used to encode categorical variables based on the target variable in a supervised machine learning problem. This technique is particularly useful when there is a strong relationship between the target variable and the categorical variable. The steps involved in Target Guided Ordinal Encoding are:\n",
    "1. Group the categories of the categorical variable by their target mean.\n",
    "2. Order the categories in ascending or descending order based on their target mean.\n",
    "3. Assign a numerical value to each category based on the ordered sequence.\n",
    "\n",
    "**For example**, let's say we have a categorical variable called \"occupation\" with the following categories: \"doctor,\" \"lawyer,\" \"engineer,\" \"teacher,\" \"salesperson,\" and \"clerk.\" We want to predict whether a person earns more than $50,000 per year, which is our target variable.\n",
    "\n",
    "We can group the categories of \"occupation\" by their mean target value (i.e., the proportion of people who earn more than $50,000 per year for each category) as follows:\n",
    "1. Doctor: 0.8\n",
    "2. Lawyer: 0.7\n",
    "3. Engineer: 0.6\n",
    "4. Teacher: 0.4\n",
    "5. Salesperson: 0.3\n",
    "6. Clerk: 0.2\n",
    "\n",
    "Next, we can order the categories in descending order based on their mean target value:\n",
    "1. Doctor: 1\n",
    "2. Lawyer: 2\n",
    "3. Engineer: 3\n",
    "4. Teacher: 4\n",
    "5. Salesperson: 5\n",
    "6. Clerk: 6\n",
    "\n",
    "Finally, we can assign these numerical values to each category in the original dataset. This will convert the categorical variable into an ordinal variable that preserves the relationship between the categories and the target variable.\n",
    "\n",
    "Target Guided Ordinal Encoding can be useful when there is a strong relationship between the target variable and the categorical variable, as it can help capture this relationship in the encoded variable. This can improve the predictive power of a machine learning model by providing a more informative input variable."
   ]
  },
  {
   "cell_type": "markdown",
   "id": "8975c2f3-9629-40bc-9692-5380669a8867",
   "metadata": {},
   "source": [
    "**Q3. Define covariance and explain why it is important in statistical analysis. How is covariance calculated?**\n",
    "\n",
    "**Ans :** **Covariance** is a statistical measure that describes the relationship between two random variables. Specifically, it measures how much two variables vary together, meaning how much the values of one variable change when the values of the other variable change. A positive covariance indicates that the two variables tend to increase or decrease together, while a negative covariance indicates that they tend to vary in opposite directions. A covariance of zero indicates that there is no linear relationship between the two variables.\n",
    "\n",
    "Covariance is important in statistical analysis because it provides a way to measure the strength and direction of the relationship between two variables. This relationship can be used to better understand the underlying data and can help in modeling and prediction. For example, in finance, the covariance between two stocks can be used to construct a diversified portfolio that minimizes risk. In machine learning, covariance is used in dimensionality reduction techniques such as principal component analysis (PCA) to find the most important features or variables.\n",
    "\n",
    "The formula for calculating the covariance between two variables X and Y is: **cov(X, Y) = E[(X - μX) * (Y - μY)]**\n",
    "\n",
    "**Where E[] represents the expected value or mean, μX and μY are the means of X and Y, and * represents multiplication.**\n",
    "\n",
    "In practice, the covariance is often estimated from a sample of data using the following formula: **cov(X, Y) = Σ[(xi - μX) * (yi - μY)] / (n - 1)**\n",
    "\n",
    "**Where Σ represents the sum, xi and yi are the individual observations of X and Y, μX and μY are the sample means of X and Y, and n is the sample size.**\n",
    "\n",
    "It is important to note that the magnitude of the covariance depends on the units of measurement of the two variables. Therefore, it is common to normalize the covariance by dividing it by the product of the standard deviations of X and Y. This normalized version is called the correlation coefficient, which ranges from -1 to 1 and is unitless."
   ]
  },
  {
   "cell_type": "markdown",
   "id": "f0650865-2e92-4c51-939b-d945a5c28dcd",
   "metadata": {},
   "source": [
    "**Q4. For a dataset with the following categorical variables: Color (red, green, blue), Size (small, medium, large), and Material (wood, metal, plastic), perform label encoding using Python's scikit-learn library. Show your code and explain the output.**\n",
    "\n",
    "**Ans :** Here is an example code using Python's scikit-learn library to perform label encoding on a dataset with categorical variables Color, Size, and Material:"
   ]
  },
  {
   "cell_type": "code",
   "execution_count": 1,
   "id": "fd21afab-6cd6-4c97-8e1f-5143563334ca",
   "metadata": {},
   "outputs": [
    {
     "name": "stdout",
     "output_type": "stream",
     "text": [
      "   Color    Size Material  Color_Encoded  Size_Encoded  Material_Encoded\n",
      "0    red   small     wood              2             2                 2\n",
      "1  green  medium    metal              1             1                 0\n",
      "2   blue   large  plastic              0             0                 1\n",
      "3   blue   small     wood              0             2                 2\n",
      "4  green  medium  plastic              1             1                 1\n",
      "5    red  medium    metal              2             1                 0\n"
     ]
    }
   ],
   "source": [
    "from sklearn.preprocessing import LabelEncoder\n",
    "import pandas as pd\n",
    "\n",
    "# create sample data\n",
    "data = {'Color': ['red', 'green', 'blue', 'blue', 'green', 'red'],\n",
    "        'Size': ['small', 'medium', 'large', 'small', 'medium', 'medium'],\n",
    "        'Material': ['wood', 'metal', 'plastic', 'wood', 'plastic', 'metal']}\n",
    "df = pd.DataFrame(data)\n",
    "\n",
    "# create a label encoder object\n",
    "le = LabelEncoder()\n",
    "\n",
    "# encode categorical variables\n",
    "df['Color_Encoded'] = le.fit_transform(df['Color'])\n",
    "df['Size_Encoded'] = le.fit_transform(df['Size'])\n",
    "df['Material_Encoded'] = le.fit_transform(df['Material'])\n",
    "\n",
    "# print the encoded dataset\n",
    "print(df)"
   ]
  },
  {
   "cell_type": "markdown",
   "id": "0d089ade-233e-4592-87db-3a4bd6b46d38",
   "metadata": {},
   "source": [
    "In this example, we create a sample dataset with three categorical variables: Color, Size, and Material. We then create a label encoder object using scikit-learn's **LabelEncoder** class, and use it to encode each of the categorical variables into numeric values.\n",
    "\n",
    "The **`fit_transform`** method is used to fit the label encoder to the data and transform the categorical variable into encoded numeric values. We do this separately for each categorical variable, and create new columns in the original dataset to store the encoded values.\n",
    "\n",
    "The output shows the original dataset with the three categorical variables, followed by the encoded values for each variable. The encoded values are represented by integers, with each unique category being assigned a unique integer. The encoding is arbitrary and does not imply any ordering or magnitude of the categories."
   ]
  },
  {
   "cell_type": "markdown",
   "id": "b517006a-81ca-4395-b87f-0d4253429336",
   "metadata": {},
   "source": [
    "**Q5. Calculate the covariance matrix for the following variables in a dataset: Age, Income, and Education level. Interpret the results.**\n",
    "\n",
    "**Ans :** To calculate the covariance matrix for a dataset with variables Age, Income, and Education level, we need to compute the covariance between each pair of variables. The covariance matrix is a square matrix that contains the covariances between all possible pairs of variables.\n",
    "\n",
    "Assuming we have a sample dataset with these three variables, we can use Python's NumPy library to calculate the covariance matrix as follows:"
   ]
  },
  {
   "cell_type": "code",
   "execution_count": 2,
   "id": "37fcb83b-b7bf-4753-be70-a96889d6bac3",
   "metadata": {},
   "outputs": [
    {
     "name": "stdout",
     "output_type": "stream",
     "text": [
      "[[6.25e+01 1.25e+05 3.00e+01]\n",
      " [1.25e+05 2.50e+08 6.00e+04]\n",
      " [3.00e+01 6.00e+04 1.48e+01]]\n"
     ]
    }
   ],
   "source": [
    "import numpy as np\n",
    "import pandas as pd\n",
    "\n",
    "# create a sample dataset with Age, Income, and Education level\n",
    "data = {'Age': [25, 30, 35, 40, 45],\n",
    "        'Income': [50000, 60000, 70000, 80000, 90000],\n",
    "        'Education': [12, 16, 18, 20, 22]}\n",
    "df = pd.DataFrame(data)\n",
    "\n",
    "# calculate the covariance matrix using NumPy\n",
    "cov_matrix = np.cov(df.T)\n",
    "\n",
    "# print the covariance matrix\n",
    "print(cov_matrix)"
   ]
  },
  {
   "cell_type": "markdown",
   "id": "e01d585a-52af-46b7-a562-5e27422892d7",
   "metadata": {},
   "source": [
    "In this covariance matrix, the diagonal elements represent the variances of each variable (Age, Income, and Education level), while the off-diagonal elements represent the covariances between pairs of variables. For example, the covariance between Age and Income is 25000, which means that as Age increases, Income tends to increase as well.\n",
    "\n",
    "The interpretation of the results depends on the context of the dataset and the research question at hand. In general, a positive covariance between two variables indicates that they tend to move together in the same direction, while a negative covariance indicates that they tend to move in opposite directions. A covariance of zero indicates that the variables are uncorrelated.\n",
    "\n",
    "It's important to note that covariance is affected by the scale of the variables. Therefore, it's often useful to standardize the variables before calculating the covariance matrix, or to use the correlation matrix instead, which scales the covariances by the product of the standard deviations of the variables."
   ]
  },
  {
   "cell_type": "markdown",
   "id": "0ac953d9-3222-45b8-acd8-3d4a1db41138",
   "metadata": {},
   "source": [
    "**Q6. You are working on a machine learning project with a dataset containing several categorical variables, including \"Gender\" (Male/Female), \"Education Level\" (High School/Bachelor's/Master's/PhD), and \"Employment Status\" (Unemployed/Part-Time/Full-Time). Which encoding method would you use for each variable, and why?**\n",
    "\n",
    "**Ans :** For the \"Gender\" variable, I would use binary encoding or label encoding, since there are only two categories (Male and Female). Binary encoding would create a new column with binary values (0 and 1) to represent the two categories, while label encoding would replace the categories with numerical values (e.g. 0 for Male and 1 for Female).\n",
    "\n",
    "For the \"Education Level\" variable, I would use ordinal encoding, since there is an inherent order to the categories (High School < Bachelor's < Master's < PhD). Ordinal encoding assigns numerical values to the categories based on their order, such as 0 for High School, 1 for Bachelor's, 2 for Master's, and 3 for PhD.\n",
    "\n",
    "For the \"Employment Status\" variable, I would use one-hot encoding, since there is no inherent order to the categories (Unemployed, Part-Time, Full-Time) and each category is equally important. One-hot encoding creates a new column for each category and assigns a binary value (0 or 1) to indicate whether the category is present or not. For example, the \"Unemployed\" column would have a value of 1 for rows where the person is unemployed and a value of 0 for rows where the person is employed.\n",
    "\n",
    "It's important to choose the appropriate encoding method for each variable to ensure that the encoded features accurately represent the underlying data and can be effectively used by machine learning algorithms."
   ]
  },
  {
   "cell_type": "markdown",
   "id": "cee953b4-fde8-49cf-8098-bdc5f496fb47",
   "metadata": {},
   "source": [
    "**Q7. You are analyzing a dataset with two continuous variables, \"Temperature\" and \"Humidity\", and two categorical variables, \"Weather Condition\" (Sunny/Cloudy/Rainy) and \"Wind Direction\" (North/South/East/West). Calculate the covariance between each pair of variables and interpret the results.**\n",
    "\n",
    "**Ans :** To calculate the covariance between each pair of variables, we need to first calculate the mean values of the variables, and then use the covariance formula: **cov(X,Y) = E[(X - E[X])(Y - E[Y])]** Where **E[X] and E[Y]** are the **mean values of X and Y**, respectively.\n",
    "\n",
    "Assuming we have a sample dataset with these variables, we can use Python's NumPy library to calculate the covariance matrix as follows:"
   ]
  },
  {
   "cell_type": "code",
   "execution_count": 3,
   "id": "ac5faa89-6cc6-4e97-87a5-7d290dea4fe6",
   "metadata": {},
   "outputs": [
    {
     "name": "stdout",
     "output_type": "stream",
     "text": [
      "[[62.5 62.5]\n",
      " [62.5 62.5]]\n"
     ]
    }
   ],
   "source": [
    "import numpy as np\n",
    "import pandas as pd\n",
    "\n",
    "# create a sample dataset with Temperature, Humidity, Weather Condition, and Wind Direction\n",
    "data = {'Temperature': [20, 25, 30, 35, 40],\n",
    "        'Humidity': [50, 55, 60, 65, 70],\n",
    "        'Weather Condition': ['Sunny', 'Sunny', 'Cloudy', 'Rainy', 'Rainy'],\n",
    "        'Wind Direction': ['North', 'South', 'East', 'West', 'North']}\n",
    "df = pd.DataFrame(data)\n",
    "\n",
    "# calculate the covariance matrix using NumPy\n",
    "cov_matrix = np.cov(df[['Temperature', 'Humidity']].T)\n",
    "\n",
    "# print the covariance matrix\n",
    "print(cov_matrix)"
   ]
  },
  {
   "cell_type": "markdown",
   "id": "48fc000f-f9a6-4e2b-b8a1-7d6352c98254",
   "metadata": {},
   "source": [
    "Or, you can use the following formula, given below, as well:<br>**cov(X,Y) = Σ[(x - μx)(y - μy)] / (n-1)**\n",
    "\n",
    "where Σ denotes the sum of the values, x and y are the individual values of each variable, μx and μy are the means of each variable, and n is the number of observations.\n",
    "\n",
    "Assuming we have a sample dataset with n observations, we can calculate the covariance between \"Temperature\" and \"Humidity\" as follows:\n",
    "\n",
    "1. **Calculate the means:**<br>μTemperature = ΣTemperature / n<br>μHumidity = ΣHumidity / n\n",
    "2. **Calculate the deviations from the mean for each observation:**<br>devTemperature = Temperature - μTemperature<br>devHumidity = Humidity - μHumidity\n",
    "3. **Calculate the covariance:**<br>cov(Temperature, Humidity) = Σ(devTemperature * devHumidity) / (n-1)\n",
    "\n",
    "We can use the same approach to calculate the covariance between each pair of variables. However, note that the interpretation of covariance depends on the scale and units of the variables.\n",
    "\n",
    "For example, a positive covariance between \"Temperature\" and \"Humidity\" would indicate that higher temperatures are associated with higher humidity levels, and vice versa. A negative covariance would indicate that higher temperatures are associated with lower humidity levels, and vice versa.\n",
    "\n",
    "Similarly, a positive covariance between \"Temperature\" and \"Weather Condition\" would indicate that certain weather conditions are associated with higher temperatures, and a negative covariance would indicate the opposite. The interpretation of the covariance between \"Weather Condition\" and \"Humidity\" or \"Wind Direction\" would depend on the specific dataset and the units used."
   ]
  }
 ],
 "metadata": {
  "kernelspec": {
   "display_name": "Python 3 (ipykernel)",
   "language": "python",
   "name": "python3"
  },
  "language_info": {
   "codemirror_mode": {
    "name": "ipython",
    "version": 3
   },
   "file_extension": ".py",
   "mimetype": "text/x-python",
   "name": "python",
   "nbconvert_exporter": "python",
   "pygments_lexer": "ipython3",
   "version": "3.9.12"
  },
  "latex_envs": {
   "LaTeX_envs_menu_present": true,
   "autoclose": false,
   "autocomplete": true,
   "bibliofile": "biblio.bib",
   "cite_by": "apalike",
   "current_citInitial": 1,
   "eqLabelWithNumbers": true,
   "eqNumInitial": 1,
   "hotkeys": {
    "equation": "Ctrl-E",
    "itemize": "Ctrl-I"
   },
   "labels_anchors": false,
   "latex_user_defs": false,
   "report_style_numbering": false,
   "user_envs_cfg": false
  },
  "nbTranslate": {
   "displayLangs": [
    "*"
   ],
   "hotkey": "alt-t",
   "langInMainMenu": true,
   "sourceLang": "en",
   "targetLang": "fr",
   "useGoogleTranslate": true
  },
  "toc": {
   "base_numbering": 1,
   "nav_menu": {},
   "number_sections": true,
   "sideBar": true,
   "skip_h1_title": false,
   "title_cell": "Table of Contents",
   "title_sidebar": "Contents",
   "toc_cell": false,
   "toc_position": {},
   "toc_section_display": true,
   "toc_window_display": false
  },
  "varInspector": {
   "cols": {
    "lenName": 16,
    "lenType": 16,
    "lenVar": 40
   },
   "kernels_config": {
    "python": {
     "delete_cmd_postfix": "",
     "delete_cmd_prefix": "del ",
     "library": "var_list.py",
     "varRefreshCmd": "print(var_dic_list())"
    },
    "r": {
     "delete_cmd_postfix": ") ",
     "delete_cmd_prefix": "rm(",
     "library": "var_list.r",
     "varRefreshCmd": "cat(var_dic_list()) "
    }
   },
   "types_to_exclude": [
    "module",
    "function",
    "builtin_function_or_method",
    "instance",
    "_Feature"
   ],
   "window_display": false
  }
 },
 "nbformat": 4,
 "nbformat_minor": 5
}
