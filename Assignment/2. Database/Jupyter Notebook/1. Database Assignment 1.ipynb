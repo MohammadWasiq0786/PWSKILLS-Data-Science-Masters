{
 "cells": [
  {
   "cell_type": "markdown",
   "id": "9efd7423",
   "metadata": {},
   "source": [
    "![image](https://pwskills.com/images/PWSkills-main.png)\n",
    "\n",
    "# Data Science Masters\n",
    "\n",
    "## Database Assignments - 1\n",
    "\n",
    "### MySQL\n",
    "\n",
    "### Date : 16 - Feb - 2023"
   ]
  },
  {
   "cell_type": "markdown",
   "id": "20fccfbf-b6fa-4b5f-87c9-acca47839a94",
   "metadata": {},
   "source": [
    "**Q1 :** What is a database? Differentiate between SQL and NoSQL databases.\n",
    "\n",
    "**Ans :** A database is an organized collection of structured or unstructured data that can be accessed, managed, and updated in a systematic way. Databases are used to store and manage data for various applications, ranging from small-scale personal applications to large-scale enterprise systems.\n",
    "\n",
    "SQL and NoSQL are two different types of databases that differ in their structure, data model, and query language:\n",
    "\n",
    "**`SQL databases :`**\n",
    "\n",
    "SQL stands for Structured Query Language, which is a language used to manage and manipulate relational databases. SQL databases store data in a structured manner, using tables with predefined columns and data types. Each table has a unique key, and the data is stored in rows that correspond to records in the table. SQL databases are highly structured and provide a high level of data integrity and consistency. Some examples of SQL databases include MySQL, Oracle, and PostgreSQL.\n",
    "\n",
    "**`NoSQL databases :`**\n",
    "\n",
    "NoSQL stands for \"not only SQL\", which means that NoSQL databases are not limited to SQL query language. NoSQL databases store data in a non-structured or semi-structured manner, using documents, key-value pairs, or graphs. NoSQL databases are highly scalable and can handle large volumes of data with ease. NoSQL databases provide greater flexibility and agility than SQL databases, but at the cost of reduced data integrity and consistency. Some examples of NoSQL databases include MongoDB, Cassandra, and Redis.\n",
    "\n",
    "In summary, SQL databases are highly structured, provide high data integrity and consistency, and use SQL as a query language. NoSQL databases are highly scalable, provide greater flexibility and agility, and use non-structured or semi-structured data models."
   ]
  },
  {
   "cell_type": "markdown",
   "id": "db1ea9fd-ff6c-4d89-aedc-020a8c7e4ff2",
   "metadata": {},
   "source": [
    "**Q2 :** What is DDL? Explain why CREATE, DROP, ALTER, and TRUNCATE are used with an example.\n",
    "\n",
    "**Ans :**\n",
    "\n",
    "**DDL** stands for `Data Definition Language`, which is a set of SQL commands used to create, modify, and delete database objects such as tables, indexes, and constraints. DDL is used to define the structure of a database and its objects.\n",
    "\n",
    "The following are some of the commonly used DDL commands and their usage:\n",
    "\n",
    "* **`CREATE :`** The CREATE command is used to create a new database object such as a table, index, or view. For example, to create a new table named \"users\" with columns for user ID, name, and email address, we can use the following SQL statement:\n",
    "* **`DROP :`** The DROP command is used to delete an existing database object such as a table, index, or view. For example, to delete the \"users\" table created above, we can use the following SQL statement:\n",
    "* **`ALTER :`** The ALTER command is used to modify the structure of an existing database object such as a table or index. For example, to add a new column \"age\" to the \"users\" table created above, we can use the following SQL statement:\n",
    "* **`TRUNCATE :`** The TRUNCATE command is used to delete all data from a table without deleting the table itself. "
   ]
  },
  {
   "cell_type": "markdown",
   "id": "eee89e44-baa2-4c72-a170-2e3811c3847f",
   "metadata": {},
   "source": [
    "**Q3 :** What is DML? Explain INSERT, UPDATE, and DELETE with an example.\n",
    "\n",
    "**Ans :**\n",
    "\n",
    "**DML** stands for `Data Manipulation Language`, which is a set of SQL commands used to insert, update, and delete data in a database table. DML commands are used to modify the data stored in a table.\n",
    "\n",
    "The following are some of the commonly used DML commands and their usage:\n",
    "\n",
    "* **`INSERT :`** The INSERT command is used to insert new data into a table. For example, to insert a new row into the \"users\" table with ID 1, name \"John\", and email \"john@example.com\".\n",
    "* **`UPDATE :`** The UPDATE command is used to update existing data in a table. For example, to update the email address of the user with ID 1 to \"john.doe@example.com\".\n",
    "* **`DELETE :`** The DELETE command is used to delete data from a table. For example, to delete the user with ID 1 from the \"users\" table."
   ]
  },
  {
   "cell_type": "markdown",
   "id": "b9a6eb85-592e-48d7-8de6-9c7673685e86",
   "metadata": {},
   "source": [
    "**Q4 :** What is DQL? Explain SELECT with an example.\n",
    "\n",
    "**Ans :**\n",
    "\n",
    "**DQL** stands for `Data Query Language`, which is a set of SQL commands used to retrieve data from a database table. DQL commands are used to query the data stored in a table.\n",
    "\n",
    "The most commonly used DQL command is \n",
    "* **`SELECT :`** The SELECT command is used to retrieve data from one or more tables."
   ]
  },
  {
   "cell_type": "markdown",
   "id": "d5a08caf-1a8d-4cc5-bb4c-574b8b8184ef",
   "metadata": {},
   "source": [
    "**Q5 :** Explain Primary Key and Foreign Key.\n",
    "\n",
    "**Ans :** \n",
    "1. **Primary Key :** A primary key is a unique identifier for each row in a table. It is a column or combination of columns that uniquely identifies each record in a table. The primary key constraint ensures that the values in the primary key column(s) are unique and not null. For example, in a \"users\" table, the \"id\" column can be the primary key if each user has a unique ID number.\n",
    "\n",
    "2. **Foreign Key :** A foreign key is a column or combination of columns in one table that refers to the primary key of another table. It establishes a relationship between two tables, where the values in the foreign key column(s) of one table match the values in the primary key column(s) of another table. For example, in a \"orders\" table, the \"user_id\" column can be a foreign key that refers to the \"id\" column of the \"users\" table, indicating which user placed each order."
   ]
  },
  {
   "attachments": {},
   "cell_type": "markdown",
   "id": "362eb79a-cd22-458f-9e14-19898daaa52a",
   "metadata": {},
   "source": [
    "**Q6 :** Write a python code to connect MySQL to python. Explain the cursor() and execute() method.\n",
    "\n",
    "**Ans :**\n",
    "```python\n",
    "import mysql.connector\n",
    "\n",
    "# Establish connection\n",
    "cnx = mysql.connector.connect(\n",
    "    host=\"localhost\",\n",
    "    user=\"your_username\",\n",
    "    password=\"your_password\",\n",
    "    database=\"your_database\"\n",
    ")\n",
    "\n",
    "# Create a cursor object\n",
    "cursor = cnx.cursor()\n",
    "\n",
    "# Execute a SELECT query\n",
    "query = \"SELECT * FROM your_table\"\n",
    "cursor.execute(query)\n",
    "\n",
    "# Fetch all rows from the result\n",
    "result = cursor.fetchall()\n",
    "\n",
    "# Process the result\n",
    "for row in result:\n",
    "    print(row)\n",
    "\n",
    "# Close the connection\n",
    "cnx.close()\n",
    "```\n",
    "\n",
    "The `cursor()` method in Python is used to create a cursor object, which allows us to execute SQL commands on the database. The cursor object provides methods to execute SQL commands, fetch data from the database, and handle transactions.\n",
    "\n",
    "The `execute()` method is used to execute SQL commands on the database using the cursor object. It takes an SQL query as its argument and returns the result of the query. For example, to execute a SELECT query on a MySQL database using the cursor object."
   ]
  },
  {
   "cell_type": "markdown",
   "id": "6e4ba798-3c44-484e-9a5d-a703f85bba6b",
   "metadata": {},
   "source": [
    "**Q7 :** Give the order of execution of SQL clauses in an SQL query.\n",
    "\n",
    "**Ans :**\n",
    "\n",
    "* `SELECT :` Specifies the columns to be retrieved from the database table.\n",
    "* `FROM :` Specifies the table from which to retrieve the data.\n",
    "* `JOIN :` Combines multiple tables based on a common column.\n",
    "* `WHERE :` Filters the data based on certain conditions.\n",
    "* `GROUP BY :` Groups the data based on one or more"
   ]
  }
 ],
 "metadata": {
  "kernelspec": {
   "display_name": "Python 3 (ipykernel)",
   "language": "python",
   "name": "python3"
  },
  "language_info": {
   "codemirror_mode": {
    "name": "ipython",
    "version": 3
   },
   "file_extension": ".py",
   "mimetype": "text/x-python",
   "name": "python",
   "nbconvert_exporter": "python",
   "pygments_lexer": "ipython3",
   "version": "3.9.12"
  },
  "latex_envs": {
   "LaTeX_envs_menu_present": true,
   "autoclose": false,
   "autocomplete": true,
   "bibliofile": "biblio.bib",
   "cite_by": "apalike",
   "current_citInitial": 1,
   "eqLabelWithNumbers": true,
   "eqNumInitial": 1,
   "hotkeys": {
    "equation": "Ctrl-E",
    "itemize": "Ctrl-I"
   },
   "labels_anchors": false,
   "latex_user_defs": false,
   "report_style_numbering": false,
   "user_envs_cfg": false
  },
  "nbTranslate": {
   "displayLangs": [
    "*"
   ],
   "hotkey": "alt-t",
   "langInMainMenu": true,
   "sourceLang": "en",
   "targetLang": "fr",
   "useGoogleTranslate": true
  },
  "toc": {
   "base_numbering": 1,
   "nav_menu": {},
   "number_sections": true,
   "sideBar": true,
   "skip_h1_title": false,
   "title_cell": "Table of Contents",
   "title_sidebar": "Contents",
   "toc_cell": false,
   "toc_position": {},
   "toc_section_display": true,
   "toc_window_display": false
  },
  "varInspector": {
   "cols": {
    "lenName": 16,
    "lenType": 16,
    "lenVar": 40
   },
   "kernels_config": {
    "python": {
     "delete_cmd_postfix": "",
     "delete_cmd_prefix": "del ",
     "library": "var_list.py",
     "varRefreshCmd": "print(var_dic_list())"
    },
    "r": {
     "delete_cmd_postfix": ") ",
     "delete_cmd_prefix": "rm(",
     "library": "var_list.r",
     "varRefreshCmd": "cat(var_dic_list()) "
    }
   },
   "types_to_exclude": [
    "module",
    "function",
    "builtin_function_or_method",
    "instance",
    "_Feature"
   ],
   "window_display": false
  }
 },
 "nbformat": 4,
 "nbformat_minor": 5
}
