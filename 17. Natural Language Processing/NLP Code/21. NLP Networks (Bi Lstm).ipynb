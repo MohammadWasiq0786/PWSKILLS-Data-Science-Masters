{
 "cells": [
  {
   "cell_type": "markdown",
   "metadata": {},
   "source": [
    "![image](https://pwskills.com/images/PWSkills-main.png)\n",
    "\n",
    "# Data Science Masters\n",
    "\n",
    "## Day - 158\n",
    "\n",
    "## Date- 20 August 2023\n",
    "\n",
    "## Natural Language Processing - XXI\n",
    "\n",
    "## Bi Networks Long Short Term Memory (Bi-LSTM)"
   ]
  },
  {
   "cell_type": "code",
   "execution_count": 1,
   "metadata": {},
   "outputs": [
    {
     "name": "stdout",
     "output_type": "stream",
     "text": [
      "BiLSTM Text Classification Epoch [1/10], Loss: 1.6111\n",
      "BiLSTM Text Classification Epoch [2/10], Loss: 1.5967\n",
      "BiLSTM Text Classification Epoch [3/10], Loss: 1.5821\n",
      "BiLSTM Text Classification Epoch [4/10], Loss: 1.5667\n",
      "BiLSTM Text Classification Epoch [5/10], Loss: 1.5497\n",
      "BiLSTM Text Classification Epoch [6/10], Loss: 1.5303\n",
      "BiLSTM Text Classification Epoch [7/10], Loss: 1.5080\n",
      "BiLSTM Text Classification Epoch [8/10], Loss: 1.4817\n",
      "BiLSTM Text Classification Epoch [9/10], Loss: 1.4507\n",
      "BiLSTM Text Classification Epoch [10/10], Loss: 1.4139\n",
      "BiLSTM NER Epoch [1/10], Loss: 2.0801\n",
      "BiLSTM NER Epoch [2/10], Loss: 2.0757\n",
      "BiLSTM NER Epoch [3/10], Loss: 2.0716\n",
      "BiLSTM NER Epoch [4/10], Loss: 2.0675\n",
      "BiLSTM NER Epoch [5/10], Loss: 2.0632\n",
      "BiLSTM NER Epoch [6/10], Loss: 2.0586\n",
      "BiLSTM NER Epoch [7/10], Loss: 2.0534\n",
      "BiLSTM NER Epoch [8/10], Loss: 2.0475\n",
      "BiLSTM NER Epoch [9/10], Loss: 2.0407\n",
      "BiLSTM NER Epoch [10/10], Loss: 2.0328\n"
     ]
    }
   ],
   "source": [
    "import torch\n",
    "import torch.nn as nn\n",
    "\n",
    "# Understanding Bidirectional LSTMs\n",
    "class BiLSTMModel(nn.Module):\n",
    "    def __init__(self, vocab_size, embedding_dim, hidden_size, num_layers, num_classes):\n",
    "        super(BiLSTMModel, self).__init__()\n",
    "        self.embedding = nn.Embedding(vocab_size, embedding_dim)\n",
    "        self.bilstm = nn.LSTM(embedding_dim, hidden_size, num_layers, batch_first=True, bidirectional=True)\n",
    "        self.fc = nn.Linear(hidden_size * 2, num_classes)  # Bidirectional LSTM outputs are concatenated\n",
    "\n",
    "    def forward(self, x):\n",
    "        embed = self.embedding(x)\n",
    "        output, _ = self.bilstm(embed)\n",
    "        output = self.fc(output[:, -1, :])  # Use last time step's output for classification\n",
    "        return output\n",
    "\n",
    "# Instantiate BiLSTM model and provide data for training\n",
    "vocab_size = 10000\n",
    "embedding_dim = 100\n",
    "hidden_size = 128\n",
    "num_layers = 2\n",
    "num_classes = 5  # Replace with the number of classes for classification\n",
    "bilstm_model = BiLSTMModel(vocab_size, embedding_dim, hidden_size, num_layers, num_classes)\n",
    "\n",
    "# Define training data for text classification\n",
    "train_data = torch.randint(0, vocab_size, (128, 50))  # Example data with batch size 128 and sequence length 50\n",
    "train_labels = torch.randint(0, num_classes, (128,))  # Example classification labels\n",
    "\n",
    "# Loss and optimizer\n",
    "criterion = nn.CrossEntropyLoss()\n",
    "optimizer = torch.optim.Adam(bilstm_model.parameters(), lr=0.001)\n",
    "\n",
    "# Training loop\n",
    "num_epochs = 10\n",
    "for epoch in range(num_epochs):\n",
    "    optimizer.zero_grad()\n",
    "    output = bilstm_model(train_data)\n",
    "    loss = criterion(output, train_labels)\n",
    "    loss.backward()\n",
    "    optimizer.step()\n",
    "    print(f\"BiLSTM Text Classification Epoch [{epoch+1}/{num_epochs}], Loss: {loss.item():.4f}\")\n",
    "\n",
    "# Named Entity Recognition using BiLSTM\n",
    "class BiLSTMNER(nn.Module):\n",
    "    def __init__(self, vocab_size, embedding_dim, hidden_size, num_layers, num_classes):\n",
    "        super(BiLSTMNER, self).__init__()\n",
    "        self.embedding = nn.Embedding(vocab_size, embedding_dim)\n",
    "        self.bilstm = nn.LSTM(embedding_dim, hidden_size, num_layers, batch_first=True, bidirectional=True)\n",
    "        self.fc = nn.Linear(hidden_size * 2, num_classes)  # Bidirectional LSTM outputs are concatenated\n",
    "\n",
    "    def forward(self, x):\n",
    "        embed = self.embedding(x)\n",
    "        output, _ = self.bilstm(embed)\n",
    "        output = self.fc(output)\n",
    "        return output\n",
    "\n",
    "# Instantiate BiLSTM NER model and provide data for training\n",
    "num_classes_ner = 8  # Replace with the number of NER classes\n",
    "bilstm_ner_model = BiLSTMNER(vocab_size, embedding_dim, hidden_size, num_layers, num_classes_ner)\n",
    "\n",
    "# Define training data for NER\n",
    "train_data_ner = torch.randint(0, vocab_size, (128, 30))  # Example data with batch size 128 and sequence length 30\n",
    "train_labels_ner = torch.randint(0, num_classes_ner, (128, 30))  # Example NER labels\n",
    "\n",
    "# Loss and optimizer for NER\n",
    "criterion_ner = nn.CrossEntropyLoss()\n",
    "optimizer_ner = torch.optim.Adam(bilstm_ner_model.parameters(), lr=0.001)\n",
    "\n",
    "# Training loop for NER\n",
    "for epoch in range(num_epochs):\n",
    "    optimizer_ner.zero_grad()\n",
    "    output = bilstm_ner_model(train_data_ner)\n",
    "    loss = criterion_ner(output.view(-1, num_classes_ner), train_labels_ner.view(-1))\n",
    "    loss.backward()\n",
    "    optimizer_ner.step()\n",
    "    print(f\"BiLSTM NER Epoch [{epoch+1}/{num_epochs}], Loss: {loss.item():.4f}\")"
   ]
  },
  {
   "cell_type": "code",
   "execution_count": null,
   "metadata": {},
   "outputs": [],
   "source": []
  }
 ],
 "metadata": {
  "kernelspec": {
   "display_name": "Python 3 (ipykernel)",
   "language": "python",
   "name": "python3"
  },
  "language_info": {
   "codemirror_mode": {
    "name": "ipython",
    "version": 3
   },
   "file_extension": ".py",
   "mimetype": "text/x-python",
   "name": "python",
   "nbconvert_exporter": "python",
   "pygments_lexer": "ipython3",
   "version": "3.11.4"
  },
  "nbTranslate": {
   "displayLangs": [
    "*"
   ],
   "hotkey": "alt-t",
   "langInMainMenu": true,
   "sourceLang": "en",
   "targetLang": "fr",
   "useGoogleTranslate": true
  },
  "toc": {
   "base_numbering": 1,
   "nav_menu": {},
   "number_sections": true,
   "sideBar": true,
   "skip_h1_title": false,
   "title_cell": "Table of Contents",
   "title_sidebar": "Contents",
   "toc_cell": false,
   "toc_position": {},
   "toc_section_display": true,
   "toc_window_display": false
  },
  "varInspector": {
   "cols": {
    "lenName": 16,
    "lenType": 16,
    "lenVar": 40
   },
   "kernels_config": {
    "python": {
     "delete_cmd_postfix": "",
     "delete_cmd_prefix": "del ",
     "library": "var_list.py",
     "varRefreshCmd": "print(var_dic_list())"
    },
    "r": {
     "delete_cmd_postfix": ") ",
     "delete_cmd_prefix": "rm(",
     "library": "var_list.r",
     "varRefreshCmd": "cat(var_dic_list()) "
    }
   },
   "types_to_exclude": [
    "module",
    "function",
    "builtin_function_or_method",
    "instance",
    "_Feature"
   ],
   "window_display": false
  }
 },
 "nbformat": 4,
 "nbformat_minor": 4
}
